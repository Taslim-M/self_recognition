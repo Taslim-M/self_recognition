{
 "cells": [
  {
   "cell_type": "code",
   "execution_count": null,
   "metadata": {},
   "outputs": [],
   "source": [
    "# ! pip install nltk\n",
    "# import nltk\n",
    "# nltk.download('punkt')\n",
    "# nltk.download('wordnet')\n",
    "# nltk.download('omw-1.4')\n",
    "# nltk.download('punkt_tab')"
   ]
  },
  {
   "cell_type": "code",
   "execution_count": 1,
   "metadata": {},
   "outputs": [
    {
     "data": {
      "text/plain": [
       "'c:\\\\Users\\\\G25971483\\\\Desktop\\\\Projects\\\\LLM\\\\self_recognition'"
      ]
     },
     "execution_count": 1,
     "metadata": {},
     "output_type": "execute_result"
    }
   ],
   "source": [
    "import os\n",
    "os.getcwd()"
   ]
  },
  {
   "cell_type": "code",
   "execution_count": 22,
   "metadata": {},
   "outputs": [],
   "source": [
    "import random\n",
    "import nltk\n",
    "from nltk.corpus import wordnet\n",
    "from nltk.tokenize import word_tokenize\n",
    "\n",
    "all_words = []\n",
    "all_syn = []\n",
    "\n",
    "def get_synonyms(word):\n",
    "    all_words.append(word)\n",
    "    synonyms = []\n",
    "    for syn in wordnet.synsets(word):\n",
    "        for name in syn.lemma_names():\n",
    "            # Exclude the original word to avoid replacing it with itself\n",
    "            name = name.replace('_',' ')\n",
    "            if name.lower() != word.lower():\n",
    "                synonyms.append(name)\n",
    "    all_syn.append(synonyms)\n",
    "    return synonyms\n",
    "\n",
    "def replace_with_synonyms_by_percentage(sentence, percentage):\n",
    "    # Tokenize the sentence\n",
    "    words = word_tokenize(sentence)\n",
    "    \n",
    "    \n",
    "    # Calculate the number of words to replace based on the percentage\n",
    "    num_words_to_replace = int(len(words) * (percentage / 100))\n",
    "    words_to_replace = random.sample(words, num_words_to_replace)\n",
    "    words_to_replace = [word for word in words_to_replace if word.isalpha()]\n",
    "\n",
    "    # Create a new sentence with synonyms replaced\n",
    "    new_sentence = []\n",
    "    for word in words:\n",
    "        if word in words_to_replace:\n",
    "            synonyms = get_synonyms(word)\n",
    "            if synonyms:\n",
    "                # Replace with a random synonym\n",
    "                new_word = random.choice(synonyms)\n",
    "                new_sentence.append(new_word)\n",
    "            else:\n",
    "                # If no synonym is found, keep the original word\n",
    "                new_sentence.append(word)\n",
    "        else:\n",
    "            new_sentence.append(word)\n",
    "    \n",
    "    return ' '.join(new_sentence)\n",
    "\n",
    "\n",
    "# sentence = \"The quick brown fox jumps over the lazy dog.\"\n",
    "# new_sentence = replace_with_synonyms_by_percentage(sentence, 20)  # Replace 20% of the words\n",
    "# print(new_sentence)\n"
   ]
  },
  {
   "cell_type": "code",
   "execution_count": 3,
   "metadata": {},
   "outputs": [
    {
     "name": "stderr",
     "output_type": "stream",
     "text": [
      "c:\\Users\\G25971483\\Desktop\\Projects\\LLM\\venv\\Lib\\site-packages\\tqdm\\auto.py:21: TqdmWarning: IProgress not found. Please update jupyter and ipywidgets. See https://ipywidgets.readthedocs.io/en/stable/user_install.html\n",
      "  from .autonotebook import tqdm as notebook_tqdm\n"
     ]
    }
   ],
   "source": [
    "from data import load_data, SOURCES, save_to_json, load_from_json\n",
    "responses, articles, keys = load_data(\"cnn\")"
   ]
  },
  {
   "cell_type": "code",
   "execution_count": 23,
   "metadata": {},
   "outputs": [
    {
     "name": "stdout",
     "output_type": "stream",
     "text": [
      "Former government contractor indicted for stealing nuclear materials\n",
      "Roy Lynn Oakley accused of attempting to sell restricted uranium enrichment components\n",
      "Oakley faces up to 10 years in prison and a $250,000 fine per count\n",
      "FBI sting operation prevented the materials from reaching foreign entities\n"
     ]
    }
   ],
   "source": [
    "key = keys[22]\n",
    "random_summary = responses[\"gpt4\"][key]\n",
    "print(random_summary)"
   ]
  },
  {
   "cell_type": "code",
   "execution_count": 26,
   "metadata": {},
   "outputs": [
    {
     "name": "stdout",
     "output_type": "stream",
     "text": [
      "Former regime contractor indicted for stealing nuclear textile Roy Lynn Oakley accused of assay to sell restricted uranium enrichment component part Oakley faces upward to 10 years in prison and a $ 250,000 fine per count Federal Bureau of Investigation bunko game operation prevented the stuff from reaching foreign entities\n"
     ]
    }
   ],
   "source": [
    "new_summary = replace_with_synonyms_by_percentage(random_summary, 20)  # Replace 20% of the words\n",
    "print(new_summary)\n"
   ]
  },
  {
   "cell_type": "code",
   "execution_count": 27,
   "metadata": {},
   "outputs": [
    {
     "name": "stdout",
     "output_type": "stream",
     "text": [
      "word: indicted\n",
      "['indict']\n",
      "word: of\n",
      "[]\n",
      "word: to\n",
      "[]\n",
      "word: faces\n",
      "['face', 'human face', 'expression', 'look', 'aspect', 'facial expression', 'face', 'face', 'face', 'face', 'side', 'face', 'face', 'face', 'grimace', 'face', 'font', 'fount', 'typeface', 'face', 'case', 'face', 'boldness', 'nerve', 'brass', 'face', 'cheek', 'face', 'confront', 'face up', 'face', 'confront', 'face', 'front', 'look', 'face', 'face', 'face', 'confront', 'face', 'present', 'face', 'face', 'face']\n",
      "word: to\n",
      "[]\n",
      "word: in\n",
      "['inch', 'indium', 'atomic number 49', 'Indiana', 'Hoosier State', 'inwards', 'inward']\n",
      "word: and\n",
      "[]\n",
      "word: sting\n",
      "['stinging', 'pang', 'bite', 'insect bite', 'bunco', 'bunco game', 'bunko', 'bunko game', 'con', 'confidence trick', 'confidence game', 'con game', 'gyp', 'hustle', 'flimflam', 'bite', 'burn', 'bite', 'prick', 'stick', 'prick', 'twinge']\n",
      "word: operation\n",
      "['military operation', 'surgery', 'surgical operation', 'surgical procedure', 'surgical process', 'procedure', 'functioning', 'performance', 'process', 'cognitive process', 'mental process', 'cognitive operation', 'mathematical process', 'mathematical operation']\n",
      "word: reaching\n",
      "['reach', 'stretch', 'arrival', 'reach', 'make', 'attain', 'hit', 'arrive at', 'gain', 'reach', 'hit', 'attain', 'reach', 'reach out', 'reach', 'get through', 'get hold of', 'contact', 'achieve', 'accomplish', 'attain', 'reach', 'reach', 'extend to', 'touch', 'reach', 'make', 'get to', 'progress to', 'pass', 'hand', 'reach', 'pass on', 'turn over', 'give', 'strive', 'reach', 'strain']\n",
      "word: government\n",
      "['authorities', 'regime', 'governing', 'governance', 'government activity', 'administration', 'politics', 'political science']\n",
      "word: materials\n",
      "['material', 'stuff', 'material', 'fabric', 'cloth', 'material', 'textile', 'material', 'material']\n",
      "word: attempting\n",
      "['try', 'seek', 'attempt', 'essay', 'assay', 'undertake', 'set about', 'attempt']\n",
      "word: to\n",
      "[]\n",
      "word: components\n",
      "['component', 'constituent', 'element', 'factor', 'ingredient', 'part', 'portion', 'component part', 'component', 'constituent', 'component', 'constituent', 'element']\n",
      "word: up\n",
      "['astir', 'improving', 'upward', 'upwards', 'upward', 'upwardly', 'upwards', 'upward']\n",
      "word: to\n",
      "[]\n",
      "word: FBI\n",
      "['Federal Bureau of Investigation']\n",
      "word: sting\n",
      "['stinging', 'pang', 'bite', 'insect bite', 'bunco', 'bunco game', 'bunko', 'bunko game', 'con', 'confidence trick', 'confidence game', 'con game', 'gyp', 'hustle', 'flimflam', 'bite', 'burn', 'bite', 'prick', 'stick', 'prick', 'twinge']\n",
      "word: materials\n",
      "['material', 'stuff', 'material', 'fabric', 'cloth', 'material', 'textile', 'material', 'material']\n"
     ]
    }
   ],
   "source": [
    "for i in range(len(all_words)):\n",
    "    print('word:', all_words[i])\n",
    "    print(all_syn[i])"
   ]
  },
  {
   "cell_type": "code",
   "execution_count": null,
   "metadata": {},
   "outputs": [],
   "source": []
  },
  {
   "cell_type": "code",
   "execution_count": null,
   "metadata": {},
   "outputs": [],
   "source": []
  }
 ],
 "metadata": {
  "kernelspec": {
   "display_name": "venv",
   "language": "python",
   "name": "python3"
  },
  "language_info": {
   "codemirror_mode": {
    "name": "ipython",
    "version": 3
   },
   "file_extension": ".py",
   "mimetype": "text/x-python",
   "name": "python",
   "nbconvert_exporter": "python",
   "pygments_lexer": "ipython3",
   "version": "3.11.9"
  }
 },
 "nbformat": 4,
 "nbformat_minor": 2
}
