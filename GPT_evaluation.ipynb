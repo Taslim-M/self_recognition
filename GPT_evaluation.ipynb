{
 "cells": [
  {
   "cell_type": "code",
   "execution_count": 4,
   "metadata": {},
   "outputs": [],
   "source": [
    "# ! pip install nltk\n",
    "# import nltk\n",
    "# nltk.download('punkt')\n",
    "# nltk.download('wordnet')\n",
    "# nltk.download('omw-1.4')\n",
    "# nltk.download('punkt_tab')"
   ]
  },
  {
   "cell_type": "code",
   "execution_count": 1,
   "metadata": {},
   "outputs": [
    {
     "data": {
      "text/plain": [
       "'c:\\\\Users\\\\G34371231\\\\OneDrive - The George Washington University\\\\Desktop\\\\self_recognition'"
      ]
     },
     "execution_count": 1,
     "metadata": {},
     "output_type": "execute_result"
    }
   ],
   "source": [
    "from data import load_data, SOURCES, save_to_json, load_from_json\n",
    "from models import (\n",
    "    get_gpt_recognition_logprobs,\n",
    "    get_model_choice,\n",
    "    get_logprobs_choice_with_sources,\n",
    "    get_gpt_score,\n",
    "    #get_gpt_summary_similarity_index,\n",
    ")\n",
    "\n",
    "from math import exp\n",
    "from pprint import pprint\n",
    "from random import shuffle\n",
    "\n",
    "from tqdm import tqdm\n",
    "import time\n",
    "import os\n",
    "\n",
    "import random\n",
    "import nltk\n",
    "from nltk.corpus import wordnet\n",
    "from nltk.tokenize import word_tokenize\n",
    "import openai\n",
    "\n",
    "os.getcwd()"
   ]
  },
  {
   "cell_type": "markdown",
   "metadata": {},
   "source": [
    "# Synonym Functions"
   ]
  },
  {
   "cell_type": "code",
   "execution_count": 2,
   "metadata": {},
   "outputs": [],
   "source": [
    "# Set the seed for reproducibility\n",
    "random.seed(123)\n",
    "all_words = [] #need to have different lists depending on method\n",
    "all_syn = []\n",
    "\n",
    "def ind_syn_ChatGPT(replacement_word):\n",
    "    #just returns the synonym provided by ChatGPT \n",
    "    #may wish to try system message where i describe desire behavior rather than in the prompt.\n",
    "    \n",
    "    openai.api_key = os.getenv(\"OPENAI_API_KEY\")\n",
    "\n",
    "    completion = openai.chat.completions.create(\n",
    "        model=\"gpt-4-turbo\",\n",
    "        messages=[\n",
    "            {\"role\": \"system\", \"content\": \"You are a helpful assistant.\"},\n",
    "            {\n",
    "                \"role\": \"user\",\n",
    "                \"content\": f'Provide a synonym for the word \"{replacement_word}\". Your response should strictly be the synonym, so that it may immediately replace the original word within some sentence. If you do not find a synonym just return the original word.'\n",
    "            }\n",
    "        ]\n",
    ")\n",
    "\n",
    "    #synonym = completion['choices'][0]['message']['content'].strip()\n",
    "    #synonym = completion.choices[0].message['content'].strip()\n",
    "    synonym = completion.choices[0].message.content.lower()\n",
    "    return synonym\n",
    "\n",
    "def syn_from_contxt_ChatGPT(replacement_phrase):\n",
    "    #performs synonym replacement with context. The replacement_phrase can be the entire sentence of the word to be replaced, or it can be a smaller phrase.\n",
    "    \n",
    "    openai.api_key = os.getenv(\"OPENAI_API_KEY\") # nosec\n",
    "        \n",
    "    completion = openai.chat.completions.create(\n",
    "        model=\"gpt-4-turbo\",\n",
    "        messages=[\n",
    "            {\"role\": \"system\", \"content\": \"You are a helpful assistant that rewrites phrases by replacing words surrounded by square brackets with synonyms while preserving context and meaning.\"},\n",
    "            {\n",
    "                \"role\": \"user\",\n",
    "                \"content\": f' \"There are word(s) in this phrase surrounded by square brackets []. Replace the words with their synonyms and get rid of the brackets. Your response is strictly the new phrase containing the synonyms. The phrase is: {replacement_phrase}'\n",
    "            }\n",
    "        ]\n",
    ")\n",
    "    synonym = completion.choices[0].message.content\n",
    "    return synonym\n",
    "\n",
    "def get_synonyms(word):\n",
    "    \"\"\"\n",
    "    Finds and returns synonyms for a given word using WordNet.\n",
    "    This function takes a word as input, searches for its synonyms \n",
    "    using the WordNet synsets, and returns a list of synonyms.\n",
    "\n",
    "    Args:\n",
    "        word (str): The word for which to find synonyms.\n",
    "    Returns:\n",
    "        list: A list of synonyms for the input word. Returns an \n",
    "              empty list if no synonyms are found.\n",
    "    \"\"\"\n",
    "    synonyms = []\n",
    "    for syn in wordnet.synsets(word):\n",
    "        for name in syn.lemma_names():\n",
    "            # Exclude the original word to avoid replacing it with itself\n",
    "            name = name.replace('_',' ')\n",
    "            if name.lower() != word.lower():\n",
    "                synonyms.append(name)\n",
    "    return synonyms\n",
    "\n",
    "def sample_words(words_alpha, num_words_to_replace):\n",
    "    # Randomly sample words to replace - i use 2x words just to account for words without synonym\n",
    "    idx_words = random.sample(list(enumerate(words_alpha)), min(2*num_words_to_replace, len(words_alpha)))\n",
    "    chosen_indices = []\n",
    "    words_to_replace = []\n",
    "    for pair in idx_words:\n",
    "        chosen_indices.append(pair[0])\n",
    "        words_to_replace.append(pair[1])  \n",
    "      \n",
    "    #idx_words is the list of words selected paired with their index in original sentence/phrase\n",
    "    #example: \"This is a test sentence to see which words get sampled, and what is returned by the replacement function.\"\n",
    "    #(1, 'is'), (8, 'words'), (2, 'a'), (13, 'is'), (4, 'sentence'), (18, 'function'), (0, 'This'), (6, 'see'), (17, 'replacement'), (10, 'sampled')\n",
    "    return chosen_indices, words_to_replace\n",
    "\n",
    "def replace_words_WordNet(sentence, num_words_to_replace):\n",
    "    \"\"\"\n",
    "    Replaces a specified number of words in a sentence with their synonyms using\n",
    "    the WordNet library, and then using ChatGPT. \n",
    "\n",
    "    This function takes a sentence and an integer specifying the number of words \n",
    "    to replace with synonyms. It randomly samples 2x the required number of words \n",
    "    to ensure replacements are possible even if some words do not have synonyms.\n",
    "    It uses the `get_synonyms` function to find synonyms for each sampled word,\n",
    "    and replaces words in the sentence until the specified number is reached.\n",
    "\n",
    "    Args:\n",
    "        sentence (str): The input sentence from which words will be replaced.\n",
    "        num_words_to_replace (int): The number of words in the sentence to be replaced by synonyms.\n",
    "\n",
    "    Returns:\n",
    "        str: The modified sentence with the specified number of words replaced by synonyms.\n",
    "    \"\"\"\n",
    "    \n",
    "    # Tokenize the sentence\n",
    "    words = word_tokenize(sentence)\n",
    "    # Filter out non-alphabetic tokens (like punctuation)\n",
    "    words_alpha = [word for word in words if word.isalpha()]\n",
    "    \n",
    "    # Randomly sample words to replace - i use 2x words just to account for words without synonym\n",
    "    indices, words_to_replace = sample_words(words_alpha, num_words_to_replace)\n",
    "    #print(words_to_replace)\n",
    "    #print(indices)\n",
    "    # Create a new sentence with synonyms replaced\n",
    "    words_replaced = 0\n",
    "    new_sentence = []\n",
    "    for word in words:\n",
    "        if word in words_to_replace and words_alpha.index(word) in indices:\n",
    "            synonyms = get_synonyms(word)\n",
    "            if synonyms and words_replaced < num_words_to_replace:\n",
    "                # Replace with a random synonym\n",
    "                new_word = random.choice(synonyms)\n",
    "                new_sentence.append(new_word)\n",
    "                #operational\n",
    "                all_words.append(word)\n",
    "                all_syn.append(synonyms)\n",
    "                words_replaced +=1\n",
    "            else:\n",
    "                # If no synonym is found, keep the original word\n",
    "                new_sentence.append(word)\n",
    "        else:\n",
    "            new_sentence.append(word)\n",
    "    \n",
    "    return ' '.join(new_sentence)\n",
    "    \n",
    "def replace_words_ChatGPT(sentence,num_words_to_replace):\n",
    "    #function to perform synonym replacement for individual words, without context provided\n",
    "    # Tokenize the sentence\n",
    "    words = word_tokenize(sentence)\n",
    "    # Filter out non-alphabetic tokens (like punctuation)\n",
    "    words_alpha = [word for word in words if word.isalpha()]\n",
    "\n",
    "    # Randomly sample words to replace - i use 2x words just to account for words without synonym\n",
    "    replacement_indices, words_to_replace = sample_words(words_alpha, num_words_to_replace)\n",
    "    print(replacement_indices)\n",
    "    print(words_to_replace)\n",
    "    # Create a new sentence with synonyms replaced\n",
    "    words_replaced = 0\n",
    "    new_sentence = []\n",
    "    for word in words:\n",
    "        if word in words_to_replace and words_alpha.index(word) in replacement_indices and words_replaced < num_words_to_replace:\n",
    "            #ask chatGPT for synonym\n",
    "            new_word = ind_syn_ChatGPT(word) \n",
    "            new_sentence.append(new_word)\n",
    "            #operational\n",
    "            all_words.append(word)\n",
    "            words_replaced +=1\n",
    "        else:\n",
    "            new_sentence.append(word)\n",
    "    \n",
    "    return ' '.join(new_sentence)\n",
    "\n",
    "def insert_brackets(phrase, indices):\n",
    "    for i in indices:\n",
    "        if 0 <= i < len(phrase):\n",
    "            phrase[i] = f\"[{phrase[i]}]\"\n",
    "    new_phrase = ' '.join(phrase)\n",
    "    return new_phrase\n",
    "\n",
    "def replace_words_ChatGPT_context(sentence, num_words_to_replace):\n",
    "#get indices of words randomly sampled from sentence/phrase\n",
    "#indices are passed into llm prompting function to replace words given some context. \n",
    "    # Tokenize the sentence\n",
    "    words = word_tokenize(sentence)\n",
    "    # Filter out non-alphabetic tokens (like punctuation)\n",
    "    words_alpha = [word for word in words if word.isalpha()]\n",
    "    \n",
    "    # Randomly sample words to replace - i use 2x words just to account for words without synonym\n",
    "    replacement_indices, words_to_replace = sample_words(words_alpha, num_words_to_replace)\n",
    "    print(replacement_indices)\n",
    "    print(words_to_replace)\n",
    "\n",
    "    phrase_to_replace = insert_brackets(words_alpha, replacement_indices)\n",
    "    new_phrase = syn_from_contxt_ChatGPT(phrase_to_replace)\n",
    "    return new_phrase\n"
   ]
  },
  {
   "cell_type": "markdown",
   "metadata": {},
   "source": [
    "### Examine example"
   ]
  },
  {
   "cell_type": "code",
   "execution_count": 5,
   "metadata": {},
   "outputs": [],
   "source": [
    "from data import load_data, SOURCES, save_to_json, load_from_json"
   ]
  },
  {
   "cell_type": "code",
   "execution_count": 4,
   "metadata": {},
   "outputs": [],
   "source": [
    "from data import load_data, SOURCES, save_to_json, load_from_json\n",
    "responses, articles, keys = load_data(\"cnn\")"
   ]
  },
  {
   "cell_type": "code",
   "execution_count": 5,
   "metadata": {},
   "outputs": [
    {
     "name": "stdout",
     "output_type": "stream",
     "text": [
      "Former government contractor indicted for stealing nuclear materials\n",
      "Roy Lynn Oakley accused of attempting to sell restricted uranium enrichment components\n",
      "Oakley faces up to 10 years in prison and a $250,000 fine per count\n",
      "FBI sting operation prevented the materials from reaching foreign entities\n"
     ]
    }
   ],
   "source": [
    "key = keys[22]\n",
    "random_summary = responses[\"gpt4\"][key]\n",
    "print(random_summary)"
   ]
  },
  {
   "cell_type": "code",
   "execution_count": 10,
   "metadata": {},
   "outputs": [
    {
     "name": "stdout",
     "output_type": "stream",
     "text": [
      "---------wordNET summary----------\n",
      "Former government declarer indict for thievery atomic materials Roy Lynn Oakley accused of attempting to sell restricted atomic number 92 enrichment components Oakley faces up to 10 years in prison and a $ 250,000 fine per count FBI sting operation prevented the materials from reaching foreign entities\n",
      "-----chatGPT no context summary---\n",
      "previous government contractor indicted because theft nuclear materials Roy Lynn oakley accused of attempting to market restricted uranium enrichment components Oakley faces up to 10 years in prison and a $ 250,000 fine per count FBI sting operation prevented the materials from reaching foreign entities\n",
      "-----GPT with context summary-----\n",
      "Former state employee indicted for pilfering atomic materials Roy Lynn Oakley accused of attempting to sell confidential uranium refinement components Oakley faces up to years in prison and a fine for each count FBI sting operation prevented the materials from reaching foreign entities\n"
     ]
    }
   ],
   "source": [
    "new_summary_wordNET = replace_words_WordNet(random_summary, 5)  # Replace 5of the words\n",
    "new_summary_chatGPT = replace_words_ChatGPT(random_summary, 5)\n",
    "new_summary_chatGPT_context = replace_words_ChatGPT_context(random_summary, 5)\n",
    "print(\"---------wordNET summary----------\")\n",
    "print(new_summary_wordNET)\n",
    "print(\"-----chatGPT no context summary---\")\n",
    "print(new_summary_chatGPT)\n",
    "print(\"-----GPT with context summary-----\")\n",
    "print(new_summary_chatGPT_context)"
   ]
  },
  {
   "cell_type": "code",
   "execution_count": 11,
   "metadata": {},
   "outputs": [
    {
     "name": "stdout",
     "output_type": "stream",
     "text": [
      "word: contractor\n",
      "['declarer', 'contractile organ']\n",
      "word: indicted\n",
      "['indict']\n",
      "word: stealing\n",
      "['larceny', 'theft', 'thievery', 'thieving', 'stealth', 'steal', 'steal', 'slip', 'steal']\n",
      "word: nuclear\n",
      "['atomic']\n",
      "word: uranium\n",
      "['U', 'atomic number 92']\n",
      "word: Former\n"
     ]
    },
    {
     "ename": "IndexError",
     "evalue": "list index out of range",
     "output_type": "error",
     "traceback": [
      "\u001b[1;31m---------------------------------------------------------------------------\u001b[0m",
      "\u001b[1;31mIndexError\u001b[0m                                Traceback (most recent call last)",
      "Cell \u001b[1;32mIn[11], line 3\u001b[0m\n\u001b[0;32m      1\u001b[0m \u001b[38;5;28;01mfor\u001b[39;00m i \u001b[38;5;129;01min\u001b[39;00m \u001b[38;5;28mrange\u001b[39m(\u001b[38;5;28mlen\u001b[39m(all_words)):\n\u001b[0;32m      2\u001b[0m     \u001b[38;5;28mprint\u001b[39m(\u001b[38;5;124m'\u001b[39m\u001b[38;5;124mword:\u001b[39m\u001b[38;5;124m'\u001b[39m, all_words[i])\n\u001b[1;32m----> 3\u001b[0m     \u001b[38;5;28mprint\u001b[39m(all_syn[i])\n",
      "\u001b[1;31mIndexError\u001b[0m: list index out of range"
     ]
    }
   ],
   "source": [
    "for i in range(len(all_words)):\n",
    "    print('word:', all_words[i])\n",
    "    print(all_syn[i])"
   ]
  },
  {
   "cell_type": "markdown",
   "metadata": {},
   "source": [
    "# Apply to Dataset and Check Recognition"
   ]
  },
  {
   "cell_type": "code",
   "execution_count": 6,
   "metadata": {},
   "outputs": [],
   "source": [
    "# Only suitable for GPT models\n",
    "def generate_gpt_detect_recognition_synonym(\n",
    "    dataset,\n",
    "    model,\n",
    "    starting_idx=0,\n",
    "    detection_type=\"detection\",\n",
    "    replace_synonym = False,\n",
    "    num_words_to_replace = 0\n",
    "):\n",
    "    \"\"\"\n",
    "    Generates detection scores for GPT model outputs compared to other summaries.\n",
    "\n",
    "    This function takes a dataset name, a base model for inference, a starting index \n",
    "    from which to begin enumeration of the dataset, and various options for detection \n",
    "    and synonym replacement. It makes API calls to GPT models using the OpenAI API key \n",
    "    to evaluate the similarity of each summary against all other summaries. If synonym \n",
    "    replacement is enabled, a specified number of words are replaced before comparison.\n",
    "    \n",
    "    The function performs inference using the base model, compares generated summaries \n",
    "    in forward and backward order, and returns a JSON object containing detection results.\n",
    "\n",
    "    Args:\n",
    "        dataset (str): The name of the dataset (e.g., \"cnn\") containing the articles.\n",
    "        model (str): The base model on which inference will be performed.\n",
    "        starting_idx (int, optional): The index to start processing articles from. Defaults to 0.\n",
    "        detection_type (str, optional): The type of detection to perform. Defaults to \"detection\".\n",
    "        replace_synonym (bool, optional): Whether to replace words in the summaries with synonyms. Defaults to False.\n",
    "        num_words_to_replace (int, optional): The number of words to replace with synonyms if `replace_synonym` is True. Defaults to 0.\n",
    "\n",
    "    Returns:\n",
    "        dict: A JSON object containing information about:\n",
    "            - Model compared against\n",
    "            - Key of the article\n",
    "            - Forward detection + probability\n",
    "            - Backward detection + probability\n",
    "            - Overall detection score\n",
    "\n",
    "    \"\"\"\n",
    "    # For retrieving summaries, the specific fine-tuning version isn't needed\n",
    "    exact_model = model\n",
    "    model = \"gpt35\" if model.endswith(\"gpt35\") else model\n",
    "\n",
    "    responses, articles, keys = load_data(dataset)\n",
    "    results = []  # load_from_json(f\"results/{model}_results.json\")\n",
    "\n",
    "    for key in tqdm(keys[starting_idx:], desc=\"Processing keys\"):\n",
    "        article = articles[key]\n",
    "\n",
    "        source_summary = responses[model][key]\n",
    "\n",
    "        # replace synonym\n",
    "        if replace_synonym:\n",
    "            source_summary = replace_words_ChatGPT_context(source_summary, num_words_to_replace)\n",
    "\n",
    "        for other in [s for s in SOURCES if s != model]:\n",
    "            result = {\"key\": key, \"model\": other}\n",
    "            other_summary = responses[other][key]\n",
    "\n",
    "            # Detection\n",
    "            forward_result = get_model_choice(\n",
    "                source_summary,\n",
    "                other_summary,\n",
    "                article,\n",
    "                detection_type,\n",
    "                exact_model,\n",
    "                return_logprobs=True,\n",
    "            )\n",
    "            backward_result = get_model_choice(\n",
    "                other_summary,\n",
    "                source_summary,\n",
    "                article,\n",
    "                detection_type,\n",
    "                exact_model,\n",
    "                return_logprobs=True,\n",
    "            )\n",
    "\n",
    "            forward_choice = forward_result[0].token\n",
    "            backward_choice = backward_result[0].token\n",
    "\n",
    "            result[\"forward_detection\"] = forward_choice\n",
    "            result[\"forward_detection_probability\"] = exp(forward_result[0].logprob)\n",
    "            result[\"backward_detection\"] = backward_choice\n",
    "            result[\"backward_detection_probability\"] = exp(backward_result[0].logprob)\n",
    "\n",
    "            match (forward_choice, backward_choice):\n",
    "                case (\"1\", \"2\"):\n",
    "                    result[\"detection_score\"] = 0.5 * (\n",
    "                        exp(forward_result[0].logprob) + exp(backward_result[0].logprob)\n",
    "                    )\n",
    "                case (\"2\", \"1\"):\n",
    "                    result[\"detection_score\"] = 0.5 * (\n",
    "                        exp(forward_result[1].logprob) + exp(backward_result[1].logprob)\n",
    "                    )\n",
    "                case (\"1\", \"1\"):\n",
    "                    result[\"detection_score\"] = 0.5 * (\n",
    "                        exp(forward_result[0].logprob) + exp(backward_result[1].logprob)\n",
    "                    )\n",
    "                case (\"2\", \"2\"):\n",
    "                    result[\"detection_score\"] = 0.5 * (\n",
    "                        exp(forward_result[1].logprob) + exp(backward_result[0].logprob)\n",
    "                    )\n",
    "\n",
    "            results.append(result)\n",
    "    return results\n"
   ]
  },
  {
   "cell_type": "code",
   "execution_count": null,
   "metadata": {},
   "outputs": [
    {
     "name": "stdout",
     "output_type": "stream",
     "text": [
      "['human', 'claude', 'gpt35', 'gpt4', 'llama']\n",
      "Starting gpt4\n"
     ]
    },
    {
     "name": "stderr",
     "output_type": "stream",
     "text": [
      "Processing keys:   0%|          | 0/50 [00:00<?, ?it/s]"
     ]
    },
    {
     "name": "stderr",
     "output_type": "stream",
     "text": [
      "Processing keys: 100%|██████████| 50/50 [14:40<00:00, 17.61s/it] \n"
     ]
    }
   ],
   "source": [
    "for model in [\"gpt4\"]:\n",
    "    print(SOURCES)\n",
    "    print(f\"Starting {model}\")\n",
    "    num_synonym = 5\n",
    "    results = generate_gpt_detect_recognition_synonym(\n",
    "        \"cnn\", model,replace_synonym=True, num_words_to_replace=num_synonym, starting_idx=950\n",
    "    )\n",
    "    #Save results\n",
    "    file_name = f\"{model}_results_{num_synonym}_ChatGPT_with_context_50_sentence.json\"\n",
    "    path = os.path.join(\"results\",\"cnn\",\"synonym\",file_name)\n",
    "    save_to_json(results,path)"
   ]
  },
  {
   "cell_type": "code",
   "execution_count": 7,
   "metadata": {},
   "outputs": [
    {
     "name": "stdout",
     "output_type": "stream",
     "text": [
      "['human', 'claude', 'gpt35', 'gpt4', 'llama']\n",
      "Starting claude\n"
     ]
    },
    {
     "name": "stderr",
     "output_type": "stream",
     "text": [
      "Processing keys:   0%|          | 0/1 [00:00<?, ?it/s]"
     ]
    },
    {
     "name": "stdout",
     "output_type": "stream",
     "text": [
      "[34, 35, 21, 60, 54, 3, 10, 8, 59, 61]\n",
      "['and', 'TV', 'daughter', 'Ann', 'followed', 'Davis', 'but', 'Jefferson', 'Elizabeth', 'Christian']\n"
     ]
    },
    {
     "name": "stderr",
     "output_type": "stream",
     "text": [
      "Processing keys:   0%|          | 0/1 [00:02<?, ?it/s]\n"
     ]
    },
    {
     "ename": "TypeError",
     "evalue": "get_claude_choice() got an unexpected keyword argument 'return_logprobs'",
     "output_type": "error",
     "traceback": [
      "\u001b[1;31m---------------------------------------------------------------------------\u001b[0m",
      "\u001b[1;31mTypeError\u001b[0m                                 Traceback (most recent call last)",
      "Cell \u001b[1;32mIn[7], line 7\u001b[0m\n\u001b[0;32m      5\u001b[0m \u001b[38;5;28mprint\u001b[39m(\u001b[38;5;124mf\u001b[39m\u001b[38;5;124m\"\u001b[39m\u001b[38;5;124mStarting \u001b[39m\u001b[38;5;132;01m{\u001b[39;00mmodel\u001b[38;5;132;01m}\u001b[39;00m\u001b[38;5;124m\"\u001b[39m)\n\u001b[0;32m      6\u001b[0m num_synonym \u001b[38;5;241m=\u001b[39m \u001b[38;5;241m5\u001b[39m\n\u001b[1;32m----> 7\u001b[0m results \u001b[38;5;241m=\u001b[39m generate_gpt_detect_recognition_synonym(\n\u001b[0;32m      8\u001b[0m     \u001b[38;5;124m\"\u001b[39m\u001b[38;5;124mcnn\u001b[39m\u001b[38;5;124m\"\u001b[39m, model,replace_synonym\u001b[38;5;241m=\u001b[39m\u001b[38;5;28;01mTrue\u001b[39;00m, num_words_to_replace\u001b[38;5;241m=\u001b[39mnum_synonym, starting_idx\u001b[38;5;241m=\u001b[39m\u001b[38;5;241m999\u001b[39m\n\u001b[0;32m      9\u001b[0m )\n\u001b[0;32m     10\u001b[0m \u001b[38;5;66;03m#Save results\u001b[39;00m\n\u001b[0;32m     11\u001b[0m file_name \u001b[38;5;241m=\u001b[39m \u001b[38;5;124mf\u001b[39m\u001b[38;5;124m\"\u001b[39m\u001b[38;5;132;01m{\u001b[39;00mmodel\u001b[38;5;132;01m}\u001b[39;00m\u001b[38;5;124m_results_\u001b[39m\u001b[38;5;132;01m{\u001b[39;00mnum_synonym\u001b[38;5;132;01m}\u001b[39;00m\u001b[38;5;124m_ChatGPT_with_context_1_sentence_Claude_evaluator.json\u001b[39m\u001b[38;5;124m\"\u001b[39m\n",
      "Cell \u001b[1;32mIn[6], line 60\u001b[0m, in \u001b[0;36mgenerate_gpt_detect_recognition_synonym\u001b[1;34m(dataset, model, starting_idx, detection_type, replace_synonym, num_words_to_replace)\u001b[0m\n\u001b[0;32m     57\u001b[0m other_summary \u001b[38;5;241m=\u001b[39m responses[other][key]\n\u001b[0;32m     59\u001b[0m \u001b[38;5;66;03m# Detection\u001b[39;00m\n\u001b[1;32m---> 60\u001b[0m forward_result \u001b[38;5;241m=\u001b[39m get_model_choice(\n\u001b[0;32m     61\u001b[0m     source_summary,\n\u001b[0;32m     62\u001b[0m     other_summary,\n\u001b[0;32m     63\u001b[0m     article,\n\u001b[0;32m     64\u001b[0m     detection_type,\n\u001b[0;32m     65\u001b[0m     exact_model,\n\u001b[0;32m     66\u001b[0m     return_logprobs\u001b[38;5;241m=\u001b[39m\u001b[38;5;28;01mTrue\u001b[39;00m,\n\u001b[0;32m     67\u001b[0m )\n\u001b[0;32m     68\u001b[0m backward_result \u001b[38;5;241m=\u001b[39m get_model_choice(\n\u001b[0;32m     69\u001b[0m     other_summary,\n\u001b[0;32m     70\u001b[0m     source_summary,\n\u001b[1;32m   (...)\u001b[0m\n\u001b[0;32m     74\u001b[0m     return_logprobs\u001b[38;5;241m=\u001b[39m\u001b[38;5;28;01mTrue\u001b[39;00m,\n\u001b[0;32m     75\u001b[0m )\n\u001b[0;32m     77\u001b[0m forward_choice \u001b[38;5;241m=\u001b[39m forward_result[\u001b[38;5;241m0\u001b[39m]\u001b[38;5;241m.\u001b[39mtoken\n",
      "File \u001b[1;32mc:\\Users\\G34371231\\OneDrive - The George Washington University\\Desktop\\self_recognition\\models.py:304\u001b[0m, in \u001b[0;36mget_model_choice\u001b[1;34m(summary1, summary2, article, choice_type, model, return_logprobs)\u001b[0m\n\u001b[0;32m    300\u001b[0m \u001b[38;5;28;01mdef\u001b[39;00m \u001b[38;5;21mget_model_choice\u001b[39m(\n\u001b[0;32m    301\u001b[0m     summary1, summary2, article, choice_type, model, return_logprobs\u001b[38;5;241m=\u001b[39m\u001b[38;5;28;01mFalse\u001b[39;00m\n\u001b[0;32m    302\u001b[0m ):\n\u001b[0;32m    303\u001b[0m     \u001b[38;5;28;01mif\u001b[39;00m model \u001b[38;5;241m==\u001b[39m \u001b[38;5;124m\"\u001b[39m\u001b[38;5;124mclaude\u001b[39m\u001b[38;5;124m\"\u001b[39m:\n\u001b[1;32m--> 304\u001b[0m         \u001b[38;5;28;01mreturn\u001b[39;00m get_claude_choice(\n\u001b[0;32m    305\u001b[0m             summary1,\n\u001b[0;32m    306\u001b[0m             summary2,\n\u001b[0;32m    307\u001b[0m             article,\n\u001b[0;32m    308\u001b[0m             choice_type,\n\u001b[0;32m    309\u001b[0m             return_logprobs\u001b[38;5;241m=\u001b[39mreturn_logprobs,\n\u001b[0;32m    310\u001b[0m         )\n\u001b[0;32m    311\u001b[0m     \u001b[38;5;28;01mif\u001b[39;00m model \u001b[38;5;241m==\u001b[39m \u001b[38;5;124m\"\u001b[39m\u001b[38;5;124mgpt4\u001b[39m\u001b[38;5;124m\"\u001b[39m:\n\u001b[0;32m    312\u001b[0m         \u001b[38;5;28;01mreturn\u001b[39;00m get_gpt_choice(\n\u001b[0;32m    313\u001b[0m             summary1,\n\u001b[0;32m    314\u001b[0m             summary2,\n\u001b[1;32m   (...)\u001b[0m\n\u001b[0;32m    318\u001b[0m             return_logprobs\u001b[38;5;241m=\u001b[39mreturn_logprobs,\n\u001b[0;32m    319\u001b[0m         )\n",
      "\u001b[1;31mTypeError\u001b[0m: get_claude_choice() got an unexpected keyword argument 'return_logprobs'"
     ]
    }
   ],
   "source": [
    "#Using Claude to generate self recognition score for one summary that had synonym replacement done using GPT.\n",
    "#Doing this to estimate the cost of using Claude to generate self recognition scores \n",
    "for model in [\"claude\"]:\n",
    "    print(SOURCES)\n",
    "    print(f\"Starting {model}\")\n",
    "    num_synonym = 5\n",
    "    results = generate_gpt_detect_recognition_synonym(\n",
    "        \"cnn\", model,replace_synonym=True, num_words_to_replace=num_synonym, starting_idx=999\n",
    "    )\n",
    "    #Save results\n",
    "    file_name = f\"{model}_results_{num_synonym}_ChatGPT_with_context_1_sentence_Claude_evaluator.json\"\n",
    "    path = os.path.join(\"results\",\"cnn\",\"synonym\",file_name)\n",
    "    save_to_json(results,path)"
   ]
  },
  {
   "cell_type": "code",
   "execution_count": 18,
   "metadata": {},
   "outputs": [],
   "source": [
    "# FOR THE OTHER 450 data points\n",
    "def generate_gpt_detect_recognition_synonym(\n",
    "    dataset,\n",
    "    model,\n",
    "    starting_idx=0,\n",
    "    ending_idx=1000,\n",
    "    detection_type=\"detection\",\n",
    "    replace_synonym = False,\n",
    "    num_words_to_replace = 0\n",
    "):\n",
    "\n",
    "    # For retrieving summaries, the specific fine-tuning version isn't needed\n",
    "    exact_model = model\n",
    "    model = \"gpt35\" if model.endswith(\"gpt35\") else model\n",
    "\n",
    "    responses, articles, keys = load_data(dataset)\n",
    "    results = []  # load_from_json(f\"results/{model}_results.json\")\n",
    "\n",
    "    for key in tqdm(keys[starting_idx:ending_idx], desc=\"Processing keys\"):\n",
    "        article = articles[key]\n",
    "\n",
    "        source_summary = responses[model][key]\n",
    "\n",
    "        # replace synonym\n",
    "        if replace_synonym:\n",
    "            source_summary = replace_words_ChatGPT_context(source_summary, num_words_to_replace)\n",
    "\n",
    "        for other in [s for s in SOURCES if s != model]:\n",
    "            result = {\"key\": key, \"model\": other}\n",
    "            other_summary = responses[other][key]\n",
    "\n",
    "            # Detection\n",
    "            forward_result = get_model_choice(\n",
    "                source_summary,\n",
    "                other_summary,\n",
    "                article,\n",
    "                detection_type,\n",
    "                exact_model,\n",
    "                return_logprobs=True,\n",
    "            )\n",
    "            backward_result = get_model_choice(\n",
    "                other_summary,\n",
    "                source_summary,\n",
    "                article,\n",
    "                detection_type,\n",
    "                exact_model,\n",
    "                return_logprobs=True,\n",
    "            )\n",
    "\n",
    "            forward_choice = forward_result[0].token\n",
    "            backward_choice = backward_result[0].token\n",
    "\n",
    "            result[\"forward_detection\"] = forward_choice\n",
    "            result[\"forward_detection_probability\"] = exp(forward_result[0].logprob)\n",
    "            result[\"backward_detection\"] = backward_choice\n",
    "            result[\"backward_detection_probability\"] = exp(backward_result[0].logprob)\n",
    "\n",
    "            match (forward_choice, backward_choice):\n",
    "                case (\"1\", \"2\"):\n",
    "                    result[\"detection_score\"] = 0.5 * (\n",
    "                        exp(forward_result[0].logprob) + exp(backward_result[0].logprob)\n",
    "                    )\n",
    "                case (\"2\", \"1\"):\n",
    "                    result[\"detection_score\"] = 0.5 * (\n",
    "                        exp(forward_result[1].logprob) + exp(backward_result[1].logprob)\n",
    "                    )\n",
    "                case (\"1\", \"1\"):\n",
    "                    result[\"detection_score\"] = 0.5 * (\n",
    "                        exp(forward_result[0].logprob) + exp(backward_result[1].logprob)\n",
    "                    )\n",
    "                case (\"2\", \"2\"):\n",
    "                    result[\"detection_score\"] = 0.5 * (\n",
    "                        exp(forward_result[1].logprob) + exp(backward_result[0].logprob)\n",
    "                    )\n",
    "\n",
    "            results.append(result)\n",
    "    return results\n"
   ]
  },
  {
   "cell_type": "code",
   "execution_count": 19,
   "metadata": {},
   "outputs": [
    {
     "name": "stdout",
     "output_type": "stream",
     "text": [
      "['human', 'claude', 'gpt35', 'gpt4', 'llama']\n",
      "Starting gpt4\n"
     ]
    },
    {
     "name": "stderr",
     "output_type": "stream",
     "text": [
      "Processing keys:   0%|          | 0/450 [00:00<?, ?it/s]"
     ]
    },
    {
     "name": "stdout",
     "output_type": "stream",
     "text": [
      "[6, 34, 11, 52, 17, 66, 53, 57, 55, 2]\n",
      "['a', 'percentage', 'biggest', 'best', 'five', 'vision', 'business', 'was', 'Fernandes', 'grew']\n"
     ]
    },
    {
     "name": "stderr",
     "output_type": "stream",
     "text": [
      "Processing keys:   0%|          | 1/450 [00:09<1:08:03,  9.09s/it]"
     ]
    },
    {
     "name": "stdout",
     "output_type": "stream",
     "text": [
      "[24, 34, 35, 21, 53, 3, 10, 8, 52, 54]\n",
      "['under', 'laptop', 'from', 'confession', 'new', 'Sloot', 'Natalee', 'Netherlands', 'after', 'video']\n"
     ]
    },
    {
     "name": "stderr",
     "output_type": "stream",
     "text": [
      "Processing keys:   0%|          | 1/450 [00:12<1:31:36, 12.24s/it]\n"
     ]
    },
    {
     "ename": "KeyboardInterrupt",
     "evalue": "",
     "output_type": "error",
     "traceback": [
      "\u001b[1;31m---------------------------------------------------------------------------\u001b[0m",
      "\u001b[1;31mKeyboardInterrupt\u001b[0m                         Traceback (most recent call last)",
      "Cell \u001b[1;32mIn[19], line 5\u001b[0m\n\u001b[0;32m      3\u001b[0m \u001b[38;5;28mprint\u001b[39m(\u001b[38;5;124mf\u001b[39m\u001b[38;5;124m\"\u001b[39m\u001b[38;5;124mStarting \u001b[39m\u001b[38;5;132;01m{\u001b[39;00mmodel\u001b[38;5;132;01m}\u001b[39;00m\u001b[38;5;124m\"\u001b[39m)\n\u001b[0;32m      4\u001b[0m num_synonym \u001b[38;5;241m=\u001b[39m \u001b[38;5;241m5\u001b[39m\n\u001b[1;32m----> 5\u001b[0m results \u001b[38;5;241m=\u001b[39m generate_gpt_detect_recognition_synonym(\n\u001b[0;32m      6\u001b[0m     \u001b[38;5;124m\"\u001b[39m\u001b[38;5;124mcnn\u001b[39m\u001b[38;5;124m\"\u001b[39m, model,replace_synonym\u001b[38;5;241m=\u001b[39m\u001b[38;5;28;01mTrue\u001b[39;00m, num_words_to_replace\u001b[38;5;241m=\u001b[39mnum_synonym, starting_idx\u001b[38;5;241m=\u001b[39m\u001b[38;5;241m500\u001b[39m, ending_idx\u001b[38;5;241m=\u001b[39m\u001b[38;5;241m950\u001b[39m\n\u001b[0;32m      7\u001b[0m )\n\u001b[0;32m      8\u001b[0m \u001b[38;5;66;03m#Save results\u001b[39;00m\n\u001b[0;32m      9\u001b[0m file_name \u001b[38;5;241m=\u001b[39m \u001b[38;5;124mf\u001b[39m\u001b[38;5;124m\"\u001b[39m\u001b[38;5;132;01m{\u001b[39;00mmodel\u001b[38;5;132;01m}\u001b[39;00m\u001b[38;5;124m_results_\u001b[39m\u001b[38;5;132;01m{\u001b[39;00mnum_synonym\u001b[38;5;132;01m}\u001b[39;00m\u001b[38;5;124m_ChatGPT_with_context_450_sentence.json\u001b[39m\u001b[38;5;124m\"\u001b[39m\n",
      "Cell \u001b[1;32mIn[18], line 33\u001b[0m, in \u001b[0;36mgenerate_gpt_detect_recognition_synonym\u001b[1;34m(dataset, model, starting_idx, ending_idx, detection_type, replace_synonym, num_words_to_replace)\u001b[0m\n\u001b[0;32m     30\u001b[0m other_summary \u001b[38;5;241m=\u001b[39m responses[other][key]\n\u001b[0;32m     32\u001b[0m \u001b[38;5;66;03m# Detection\u001b[39;00m\n\u001b[1;32m---> 33\u001b[0m forward_result \u001b[38;5;241m=\u001b[39m get_model_choice(\n\u001b[0;32m     34\u001b[0m     source_summary,\n\u001b[0;32m     35\u001b[0m     other_summary,\n\u001b[0;32m     36\u001b[0m     article,\n\u001b[0;32m     37\u001b[0m     detection_type,\n\u001b[0;32m     38\u001b[0m     exact_model,\n\u001b[0;32m     39\u001b[0m     return_logprobs\u001b[38;5;241m=\u001b[39m\u001b[38;5;28;01mTrue\u001b[39;00m,\n\u001b[0;32m     40\u001b[0m )\n\u001b[0;32m     41\u001b[0m backward_result \u001b[38;5;241m=\u001b[39m get_model_choice(\n\u001b[0;32m     42\u001b[0m     other_summary,\n\u001b[0;32m     43\u001b[0m     source_summary,\n\u001b[1;32m   (...)\u001b[0m\n\u001b[0;32m     47\u001b[0m     return_logprobs\u001b[38;5;241m=\u001b[39m\u001b[38;5;28;01mTrue\u001b[39;00m,\n\u001b[0;32m     48\u001b[0m )\n\u001b[0;32m     50\u001b[0m forward_choice \u001b[38;5;241m=\u001b[39m forward_result[\u001b[38;5;241m0\u001b[39m]\u001b[38;5;241m.\u001b[39mtoken\n",
      "File \u001b[1;32mc:\\Users\\G34371231\\OneDrive - The George Washington University\\Desktop\\self_recognition\\models.py:311\u001b[0m, in \u001b[0;36mget_model_choice\u001b[1;34m(summary1, summary2, article, choice_type, model, return_logprobs)\u001b[0m\n\u001b[0;32m    303\u001b[0m     \u001b[38;5;28;01mreturn\u001b[39;00m get_claude_choice(\n\u001b[0;32m    304\u001b[0m         summary1,\n\u001b[0;32m    305\u001b[0m         summary2,\n\u001b[1;32m   (...)\u001b[0m\n\u001b[0;32m    308\u001b[0m         return_logprobs\u001b[38;5;241m=\u001b[39mreturn_logprobs,\n\u001b[0;32m    309\u001b[0m     )\n\u001b[0;32m    310\u001b[0m \u001b[38;5;28;01mif\u001b[39;00m model \u001b[38;5;241m==\u001b[39m \u001b[38;5;124m\"\u001b[39m\u001b[38;5;124mgpt4\u001b[39m\u001b[38;5;124m\"\u001b[39m:\n\u001b[1;32m--> 311\u001b[0m     \u001b[38;5;28;01mreturn\u001b[39;00m get_gpt_choice(\n\u001b[0;32m    312\u001b[0m         summary1,\n\u001b[0;32m    313\u001b[0m         summary2,\n\u001b[0;32m    314\u001b[0m         article,\n\u001b[0;32m    315\u001b[0m         choice_type,\n\u001b[0;32m    316\u001b[0m         model\u001b[38;5;241m=\u001b[39m\u001b[38;5;124m\"\u001b[39m\u001b[38;5;124mgpt-4-1106-preview\u001b[39m\u001b[38;5;124m\"\u001b[39m,\n\u001b[0;32m    317\u001b[0m         return_logprobs\u001b[38;5;241m=\u001b[39mreturn_logprobs,\n\u001b[0;32m    318\u001b[0m     )\n\u001b[0;32m    319\u001b[0m \u001b[38;5;28;01mif\u001b[39;00m model\u001b[38;5;241m.\u001b[39mendswith(\u001b[38;5;124m\"\u001b[39m\u001b[38;5;124mgpt35\u001b[39m\u001b[38;5;124m\"\u001b[39m):\n\u001b[0;32m    320\u001b[0m     \u001b[38;5;28;01mreturn\u001b[39;00m get_gpt_choice(\n\u001b[0;32m    321\u001b[0m         summary1,\n\u001b[0;32m    322\u001b[0m         summary2,\n\u001b[1;32m   (...)\u001b[0m\n\u001b[0;32m    326\u001b[0m         return_logprobs\u001b[38;5;241m=\u001b[39mreturn_logprobs,\n\u001b[0;32m    327\u001b[0m     )\n",
      "File \u001b[1;32mc:\\Users\\G34371231\\OneDrive - The George Washington University\\Desktop\\self_recognition\\models.py:171\u001b[0m, in \u001b[0;36mget_gpt_choice\u001b[1;34m(summary1, summary2, article, choice_type, model, return_logprobs)\u001b[0m\n\u001b[0;32m    139\u001b[0m \u001b[38;5;28;01mmatch\u001b[39;00m choice_type:\n\u001b[0;32m    140\u001b[0m     \u001b[38;5;28;01mcase\u001b[39;00m \u001b[38;5;124m\"\u001b[39m\u001b[38;5;124mcomparison\u001b[39m\u001b[38;5;124m\"\u001b[39m:\n\u001b[0;32m    141\u001b[0m         prompt \u001b[38;5;241m=\u001b[39m COMPARISON_PROMPT_TEMPLATE\u001b[38;5;241m.\u001b[39mformat(\n\u001b[1;32m   (...)\u001b[0m\n\u001b[0;32m    163\u001b[0m             summary1\u001b[38;5;241m=\u001b[39msummary1, summary2\u001b[38;5;241m=\u001b[39msummary2, article\u001b[38;5;241m=\u001b[39marticle\n\u001b[0;32m    164\u001b[0m         )\n\u001b[0;32m    166\u001b[0m history \u001b[38;5;241m=\u001b[39m [\n\u001b[0;32m    167\u001b[0m     {\u001b[38;5;124m\"\u001b[39m\u001b[38;5;124mrole\u001b[39m\u001b[38;5;124m\"\u001b[39m: \u001b[38;5;124m\"\u001b[39m\u001b[38;5;124msystem\u001b[39m\u001b[38;5;124m\"\u001b[39m, \u001b[38;5;124m\"\u001b[39m\u001b[38;5;124mcontent\u001b[39m\u001b[38;5;124m\"\u001b[39m: system_prompt},\n\u001b[0;32m    168\u001b[0m     {\u001b[38;5;124m\"\u001b[39m\u001b[38;5;124mrole\u001b[39m\u001b[38;5;124m\"\u001b[39m: \u001b[38;5;124m\"\u001b[39m\u001b[38;5;124muser\u001b[39m\u001b[38;5;124m\"\u001b[39m, \u001b[38;5;124m\"\u001b[39m\u001b[38;5;124mcontent\u001b[39m\u001b[38;5;124m\"\u001b[39m: prompt},\n\u001b[0;32m    169\u001b[0m ]\n\u001b[1;32m--> 171\u001b[0m response \u001b[38;5;241m=\u001b[39m openai_client\u001b[38;5;241m.\u001b[39mchat\u001b[38;5;241m.\u001b[39mcompletions\u001b[38;5;241m.\u001b[39mcreate(\n\u001b[0;32m    172\u001b[0m     model\u001b[38;5;241m=\u001b[39mmodel,\n\u001b[0;32m    173\u001b[0m     messages\u001b[38;5;241m=\u001b[39mhistory,\n\u001b[0;32m    174\u001b[0m     max_tokens\u001b[38;5;241m=\u001b[39m\u001b[38;5;241m10\u001b[39m,\n\u001b[0;32m    175\u001b[0m     temperature\u001b[38;5;241m=\u001b[39m\u001b[38;5;241m0\u001b[39m,\n\u001b[0;32m    176\u001b[0m     logprobs\u001b[38;5;241m=\u001b[39m\u001b[38;5;28;01mTrue\u001b[39;00m,\n\u001b[0;32m    177\u001b[0m     top_logprobs\u001b[38;5;241m=\u001b[39m\u001b[38;5;241m2\u001b[39m,\n\u001b[0;32m    178\u001b[0m )\n\u001b[0;32m    179\u001b[0m \u001b[38;5;28;01mif\u001b[39;00m return_logprobs:\n\u001b[0;32m    180\u001b[0m     \u001b[38;5;28;01mreturn\u001b[39;00m response\u001b[38;5;241m.\u001b[39mchoices[\u001b[38;5;241m0\u001b[39m]\u001b[38;5;241m.\u001b[39mlogprobs\u001b[38;5;241m.\u001b[39mcontent[\u001b[38;5;241m0\u001b[39m]\u001b[38;5;241m.\u001b[39mtop_logprobs\n",
      "File \u001b[1;32mc:\\Users\\G34371231\\AppData\\Local\\anaconda3\\envs\\self_recog\\Lib\\site-packages\\openai\\_utils\\_utils.py:274\u001b[0m, in \u001b[0;36mrequired_args.<locals>.inner.<locals>.wrapper\u001b[1;34m(*args, **kwargs)\u001b[0m\n\u001b[0;32m    272\u001b[0m             msg \u001b[38;5;241m=\u001b[39m \u001b[38;5;124mf\u001b[39m\u001b[38;5;124m\"\u001b[39m\u001b[38;5;124mMissing required argument: \u001b[39m\u001b[38;5;132;01m{\u001b[39;00mquote(missing[\u001b[38;5;241m0\u001b[39m])\u001b[38;5;132;01m}\u001b[39;00m\u001b[38;5;124m\"\u001b[39m\n\u001b[0;32m    273\u001b[0m     \u001b[38;5;28;01mraise\u001b[39;00m \u001b[38;5;167;01mTypeError\u001b[39;00m(msg)\n\u001b[1;32m--> 274\u001b[0m \u001b[38;5;28;01mreturn\u001b[39;00m func(\u001b[38;5;241m*\u001b[39margs, \u001b[38;5;241m*\u001b[39m\u001b[38;5;241m*\u001b[39mkwargs)\n",
      "File \u001b[1;32mc:\\Users\\G34371231\\AppData\\Local\\anaconda3\\envs\\self_recog\\Lib\\site-packages\\openai\\resources\\chat\\completions.py:742\u001b[0m, in \u001b[0;36mCompletions.create\u001b[1;34m(self, messages, model, frequency_penalty, function_call, functions, logit_bias, logprobs, max_completion_tokens, max_tokens, metadata, n, parallel_tool_calls, presence_penalty, response_format, seed, service_tier, stop, store, stream, stream_options, temperature, tool_choice, tools, top_logprobs, top_p, user, extra_headers, extra_query, extra_body, timeout)\u001b[0m\n\u001b[0;32m    704\u001b[0m \u001b[38;5;129m@required_args\u001b[39m([\u001b[38;5;124m\"\u001b[39m\u001b[38;5;124mmessages\u001b[39m\u001b[38;5;124m\"\u001b[39m, \u001b[38;5;124m\"\u001b[39m\u001b[38;5;124mmodel\u001b[39m\u001b[38;5;124m\"\u001b[39m], [\u001b[38;5;124m\"\u001b[39m\u001b[38;5;124mmessages\u001b[39m\u001b[38;5;124m\"\u001b[39m, \u001b[38;5;124m\"\u001b[39m\u001b[38;5;124mmodel\u001b[39m\u001b[38;5;124m\"\u001b[39m, \u001b[38;5;124m\"\u001b[39m\u001b[38;5;124mstream\u001b[39m\u001b[38;5;124m\"\u001b[39m])\n\u001b[0;32m    705\u001b[0m \u001b[38;5;28;01mdef\u001b[39;00m \u001b[38;5;21mcreate\u001b[39m(\n\u001b[0;32m    706\u001b[0m     \u001b[38;5;28mself\u001b[39m,\n\u001b[1;32m   (...)\u001b[0m\n\u001b[0;32m    739\u001b[0m     timeout: \u001b[38;5;28mfloat\u001b[39m \u001b[38;5;241m|\u001b[39m httpx\u001b[38;5;241m.\u001b[39mTimeout \u001b[38;5;241m|\u001b[39m \u001b[38;5;28;01mNone\u001b[39;00m \u001b[38;5;241m|\u001b[39m NotGiven \u001b[38;5;241m=\u001b[39m NOT_GIVEN,\n\u001b[0;32m    740\u001b[0m ) \u001b[38;5;241m-\u001b[39m\u001b[38;5;241m>\u001b[39m ChatCompletion \u001b[38;5;241m|\u001b[39m Stream[ChatCompletionChunk]:\n\u001b[0;32m    741\u001b[0m     validate_response_format(response_format)\n\u001b[1;32m--> 742\u001b[0m     \u001b[38;5;28;01mreturn\u001b[39;00m \u001b[38;5;28mself\u001b[39m\u001b[38;5;241m.\u001b[39m_post(\n\u001b[0;32m    743\u001b[0m         \u001b[38;5;124m\"\u001b[39m\u001b[38;5;124m/chat/completions\u001b[39m\u001b[38;5;124m\"\u001b[39m,\n\u001b[0;32m    744\u001b[0m         body\u001b[38;5;241m=\u001b[39mmaybe_transform(\n\u001b[0;32m    745\u001b[0m             {\n\u001b[0;32m    746\u001b[0m                 \u001b[38;5;124m\"\u001b[39m\u001b[38;5;124mmessages\u001b[39m\u001b[38;5;124m\"\u001b[39m: messages,\n\u001b[0;32m    747\u001b[0m                 \u001b[38;5;124m\"\u001b[39m\u001b[38;5;124mmodel\u001b[39m\u001b[38;5;124m\"\u001b[39m: model,\n\u001b[0;32m    748\u001b[0m                 \u001b[38;5;124m\"\u001b[39m\u001b[38;5;124mfrequency_penalty\u001b[39m\u001b[38;5;124m\"\u001b[39m: frequency_penalty,\n\u001b[0;32m    749\u001b[0m                 \u001b[38;5;124m\"\u001b[39m\u001b[38;5;124mfunction_call\u001b[39m\u001b[38;5;124m\"\u001b[39m: function_call,\n\u001b[0;32m    750\u001b[0m                 \u001b[38;5;124m\"\u001b[39m\u001b[38;5;124mfunctions\u001b[39m\u001b[38;5;124m\"\u001b[39m: functions,\n\u001b[0;32m    751\u001b[0m                 \u001b[38;5;124m\"\u001b[39m\u001b[38;5;124mlogit_bias\u001b[39m\u001b[38;5;124m\"\u001b[39m: logit_bias,\n\u001b[0;32m    752\u001b[0m                 \u001b[38;5;124m\"\u001b[39m\u001b[38;5;124mlogprobs\u001b[39m\u001b[38;5;124m\"\u001b[39m: logprobs,\n\u001b[0;32m    753\u001b[0m                 \u001b[38;5;124m\"\u001b[39m\u001b[38;5;124mmax_completion_tokens\u001b[39m\u001b[38;5;124m\"\u001b[39m: max_completion_tokens,\n\u001b[0;32m    754\u001b[0m                 \u001b[38;5;124m\"\u001b[39m\u001b[38;5;124mmax_tokens\u001b[39m\u001b[38;5;124m\"\u001b[39m: max_tokens,\n\u001b[0;32m    755\u001b[0m                 \u001b[38;5;124m\"\u001b[39m\u001b[38;5;124mmetadata\u001b[39m\u001b[38;5;124m\"\u001b[39m: metadata,\n\u001b[0;32m    756\u001b[0m                 \u001b[38;5;124m\"\u001b[39m\u001b[38;5;124mn\u001b[39m\u001b[38;5;124m\"\u001b[39m: n,\n\u001b[0;32m    757\u001b[0m                 \u001b[38;5;124m\"\u001b[39m\u001b[38;5;124mparallel_tool_calls\u001b[39m\u001b[38;5;124m\"\u001b[39m: parallel_tool_calls,\n\u001b[0;32m    758\u001b[0m                 \u001b[38;5;124m\"\u001b[39m\u001b[38;5;124mpresence_penalty\u001b[39m\u001b[38;5;124m\"\u001b[39m: presence_penalty,\n\u001b[0;32m    759\u001b[0m                 \u001b[38;5;124m\"\u001b[39m\u001b[38;5;124mresponse_format\u001b[39m\u001b[38;5;124m\"\u001b[39m: response_format,\n\u001b[0;32m    760\u001b[0m                 \u001b[38;5;124m\"\u001b[39m\u001b[38;5;124mseed\u001b[39m\u001b[38;5;124m\"\u001b[39m: seed,\n\u001b[0;32m    761\u001b[0m                 \u001b[38;5;124m\"\u001b[39m\u001b[38;5;124mservice_tier\u001b[39m\u001b[38;5;124m\"\u001b[39m: service_tier,\n\u001b[0;32m    762\u001b[0m                 \u001b[38;5;124m\"\u001b[39m\u001b[38;5;124mstop\u001b[39m\u001b[38;5;124m\"\u001b[39m: stop,\n\u001b[0;32m    763\u001b[0m                 \u001b[38;5;124m\"\u001b[39m\u001b[38;5;124mstore\u001b[39m\u001b[38;5;124m\"\u001b[39m: store,\n\u001b[0;32m    764\u001b[0m                 \u001b[38;5;124m\"\u001b[39m\u001b[38;5;124mstream\u001b[39m\u001b[38;5;124m\"\u001b[39m: stream,\n\u001b[0;32m    765\u001b[0m                 \u001b[38;5;124m\"\u001b[39m\u001b[38;5;124mstream_options\u001b[39m\u001b[38;5;124m\"\u001b[39m: stream_options,\n\u001b[0;32m    766\u001b[0m                 \u001b[38;5;124m\"\u001b[39m\u001b[38;5;124mtemperature\u001b[39m\u001b[38;5;124m\"\u001b[39m: temperature,\n\u001b[0;32m    767\u001b[0m                 \u001b[38;5;124m\"\u001b[39m\u001b[38;5;124mtool_choice\u001b[39m\u001b[38;5;124m\"\u001b[39m: tool_choice,\n\u001b[0;32m    768\u001b[0m                 \u001b[38;5;124m\"\u001b[39m\u001b[38;5;124mtools\u001b[39m\u001b[38;5;124m\"\u001b[39m: tools,\n\u001b[0;32m    769\u001b[0m                 \u001b[38;5;124m\"\u001b[39m\u001b[38;5;124mtop_logprobs\u001b[39m\u001b[38;5;124m\"\u001b[39m: top_logprobs,\n\u001b[0;32m    770\u001b[0m                 \u001b[38;5;124m\"\u001b[39m\u001b[38;5;124mtop_p\u001b[39m\u001b[38;5;124m\"\u001b[39m: top_p,\n\u001b[0;32m    771\u001b[0m                 \u001b[38;5;124m\"\u001b[39m\u001b[38;5;124muser\u001b[39m\u001b[38;5;124m\"\u001b[39m: user,\n\u001b[0;32m    772\u001b[0m             },\n\u001b[0;32m    773\u001b[0m             completion_create_params\u001b[38;5;241m.\u001b[39mCompletionCreateParams,\n\u001b[0;32m    774\u001b[0m         ),\n\u001b[0;32m    775\u001b[0m         options\u001b[38;5;241m=\u001b[39mmake_request_options(\n\u001b[0;32m    776\u001b[0m             extra_headers\u001b[38;5;241m=\u001b[39mextra_headers, extra_query\u001b[38;5;241m=\u001b[39mextra_query, extra_body\u001b[38;5;241m=\u001b[39mextra_body, timeout\u001b[38;5;241m=\u001b[39mtimeout\n\u001b[0;32m    777\u001b[0m         ),\n\u001b[0;32m    778\u001b[0m         cast_to\u001b[38;5;241m=\u001b[39mChatCompletion,\n\u001b[0;32m    779\u001b[0m         stream\u001b[38;5;241m=\u001b[39mstream \u001b[38;5;129;01mor\u001b[39;00m \u001b[38;5;28;01mFalse\u001b[39;00m,\n\u001b[0;32m    780\u001b[0m         stream_cls\u001b[38;5;241m=\u001b[39mStream[ChatCompletionChunk],\n\u001b[0;32m    781\u001b[0m     )\n",
      "File \u001b[1;32mc:\\Users\\G34371231\\AppData\\Local\\anaconda3\\envs\\self_recog\\Lib\\site-packages\\openai\\_base_client.py:1270\u001b[0m, in \u001b[0;36mSyncAPIClient.post\u001b[1;34m(self, path, cast_to, body, options, files, stream, stream_cls)\u001b[0m\n\u001b[0;32m   1256\u001b[0m \u001b[38;5;28;01mdef\u001b[39;00m \u001b[38;5;21mpost\u001b[39m(\n\u001b[0;32m   1257\u001b[0m     \u001b[38;5;28mself\u001b[39m,\n\u001b[0;32m   1258\u001b[0m     path: \u001b[38;5;28mstr\u001b[39m,\n\u001b[1;32m   (...)\u001b[0m\n\u001b[0;32m   1265\u001b[0m     stream_cls: \u001b[38;5;28mtype\u001b[39m[_StreamT] \u001b[38;5;241m|\u001b[39m \u001b[38;5;28;01mNone\u001b[39;00m \u001b[38;5;241m=\u001b[39m \u001b[38;5;28;01mNone\u001b[39;00m,\n\u001b[0;32m   1266\u001b[0m ) \u001b[38;5;241m-\u001b[39m\u001b[38;5;241m>\u001b[39m ResponseT \u001b[38;5;241m|\u001b[39m _StreamT:\n\u001b[0;32m   1267\u001b[0m     opts \u001b[38;5;241m=\u001b[39m FinalRequestOptions\u001b[38;5;241m.\u001b[39mconstruct(\n\u001b[0;32m   1268\u001b[0m         method\u001b[38;5;241m=\u001b[39m\u001b[38;5;124m\"\u001b[39m\u001b[38;5;124mpost\u001b[39m\u001b[38;5;124m\"\u001b[39m, url\u001b[38;5;241m=\u001b[39mpath, json_data\u001b[38;5;241m=\u001b[39mbody, files\u001b[38;5;241m=\u001b[39mto_httpx_files(files), \u001b[38;5;241m*\u001b[39m\u001b[38;5;241m*\u001b[39moptions\n\u001b[0;32m   1269\u001b[0m     )\n\u001b[1;32m-> 1270\u001b[0m     \u001b[38;5;28;01mreturn\u001b[39;00m cast(ResponseT, \u001b[38;5;28mself\u001b[39m\u001b[38;5;241m.\u001b[39mrequest(cast_to, opts, stream\u001b[38;5;241m=\u001b[39mstream, stream_cls\u001b[38;5;241m=\u001b[39mstream_cls))\n",
      "File \u001b[1;32mc:\\Users\\G34371231\\AppData\\Local\\anaconda3\\envs\\self_recog\\Lib\\site-packages\\openai\\_base_client.py:947\u001b[0m, in \u001b[0;36mSyncAPIClient.request\u001b[1;34m(self, cast_to, options, remaining_retries, stream, stream_cls)\u001b[0m\n\u001b[0;32m    944\u001b[0m \u001b[38;5;28;01melse\u001b[39;00m:\n\u001b[0;32m    945\u001b[0m     retries_taken \u001b[38;5;241m=\u001b[39m \u001b[38;5;241m0\u001b[39m\n\u001b[1;32m--> 947\u001b[0m \u001b[38;5;28;01mreturn\u001b[39;00m \u001b[38;5;28mself\u001b[39m\u001b[38;5;241m.\u001b[39m_request(\n\u001b[0;32m    948\u001b[0m     cast_to\u001b[38;5;241m=\u001b[39mcast_to,\n\u001b[0;32m    949\u001b[0m     options\u001b[38;5;241m=\u001b[39moptions,\n\u001b[0;32m    950\u001b[0m     stream\u001b[38;5;241m=\u001b[39mstream,\n\u001b[0;32m    951\u001b[0m     stream_cls\u001b[38;5;241m=\u001b[39mstream_cls,\n\u001b[0;32m    952\u001b[0m     retries_taken\u001b[38;5;241m=\u001b[39mretries_taken,\n\u001b[0;32m    953\u001b[0m )\n",
      "File \u001b[1;32mc:\\Users\\G34371231\\AppData\\Local\\anaconda3\\envs\\self_recog\\Lib\\site-packages\\openai\\_base_client.py:983\u001b[0m, in \u001b[0;36mSyncAPIClient._request\u001b[1;34m(self, cast_to, options, retries_taken, stream, stream_cls)\u001b[0m\n\u001b[0;32m    980\u001b[0m log\u001b[38;5;241m.\u001b[39mdebug(\u001b[38;5;124m\"\u001b[39m\u001b[38;5;124mSending HTTP Request: \u001b[39m\u001b[38;5;132;01m%s\u001b[39;00m\u001b[38;5;124m \u001b[39m\u001b[38;5;132;01m%s\u001b[39;00m\u001b[38;5;124m\"\u001b[39m, request\u001b[38;5;241m.\u001b[39mmethod, request\u001b[38;5;241m.\u001b[39murl)\n\u001b[0;32m    982\u001b[0m \u001b[38;5;28;01mtry\u001b[39;00m:\n\u001b[1;32m--> 983\u001b[0m     response \u001b[38;5;241m=\u001b[39m \u001b[38;5;28mself\u001b[39m\u001b[38;5;241m.\u001b[39m_client\u001b[38;5;241m.\u001b[39msend(\n\u001b[0;32m    984\u001b[0m         request,\n\u001b[0;32m    985\u001b[0m         stream\u001b[38;5;241m=\u001b[39mstream \u001b[38;5;129;01mor\u001b[39;00m \u001b[38;5;28mself\u001b[39m\u001b[38;5;241m.\u001b[39m_should_stream_response_body(request\u001b[38;5;241m=\u001b[39mrequest),\n\u001b[0;32m    986\u001b[0m         \u001b[38;5;241m*\u001b[39m\u001b[38;5;241m*\u001b[39mkwargs,\n\u001b[0;32m    987\u001b[0m     )\n\u001b[0;32m    988\u001b[0m \u001b[38;5;28;01mexcept\u001b[39;00m httpx\u001b[38;5;241m.\u001b[39mTimeoutException \u001b[38;5;28;01mas\u001b[39;00m err:\n\u001b[0;32m    989\u001b[0m     log\u001b[38;5;241m.\u001b[39mdebug(\u001b[38;5;124m\"\u001b[39m\u001b[38;5;124mEncountered httpx.TimeoutException\u001b[39m\u001b[38;5;124m\"\u001b[39m, exc_info\u001b[38;5;241m=\u001b[39m\u001b[38;5;28;01mTrue\u001b[39;00m)\n",
      "File \u001b[1;32mc:\\Users\\G34371231\\AppData\\Local\\anaconda3\\envs\\self_recog\\Lib\\site-packages\\httpx\\_client.py:914\u001b[0m, in \u001b[0;36mClient.send\u001b[1;34m(self, request, stream, auth, follow_redirects)\u001b[0m\n\u001b[0;32m    906\u001b[0m follow_redirects \u001b[38;5;241m=\u001b[39m (\n\u001b[0;32m    907\u001b[0m     \u001b[38;5;28mself\u001b[39m\u001b[38;5;241m.\u001b[39mfollow_redirects\n\u001b[0;32m    908\u001b[0m     \u001b[38;5;28;01mif\u001b[39;00m \u001b[38;5;28misinstance\u001b[39m(follow_redirects, UseClientDefault)\n\u001b[0;32m    909\u001b[0m     \u001b[38;5;28;01melse\u001b[39;00m follow_redirects\n\u001b[0;32m    910\u001b[0m )\n\u001b[0;32m    912\u001b[0m auth \u001b[38;5;241m=\u001b[39m \u001b[38;5;28mself\u001b[39m\u001b[38;5;241m.\u001b[39m_build_request_auth(request, auth)\n\u001b[1;32m--> 914\u001b[0m response \u001b[38;5;241m=\u001b[39m \u001b[38;5;28mself\u001b[39m\u001b[38;5;241m.\u001b[39m_send_handling_auth(\n\u001b[0;32m    915\u001b[0m     request,\n\u001b[0;32m    916\u001b[0m     auth\u001b[38;5;241m=\u001b[39mauth,\n\u001b[0;32m    917\u001b[0m     follow_redirects\u001b[38;5;241m=\u001b[39mfollow_redirects,\n\u001b[0;32m    918\u001b[0m     history\u001b[38;5;241m=\u001b[39m[],\n\u001b[0;32m    919\u001b[0m )\n\u001b[0;32m    920\u001b[0m \u001b[38;5;28;01mtry\u001b[39;00m:\n\u001b[0;32m    921\u001b[0m     \u001b[38;5;28;01mif\u001b[39;00m \u001b[38;5;129;01mnot\u001b[39;00m stream:\n",
      "File \u001b[1;32mc:\\Users\\G34371231\\AppData\\Local\\anaconda3\\envs\\self_recog\\Lib\\site-packages\\httpx\\_client.py:942\u001b[0m, in \u001b[0;36mClient._send_handling_auth\u001b[1;34m(self, request, auth, follow_redirects, history)\u001b[0m\n\u001b[0;32m    939\u001b[0m request \u001b[38;5;241m=\u001b[39m \u001b[38;5;28mnext\u001b[39m(auth_flow)\n\u001b[0;32m    941\u001b[0m \u001b[38;5;28;01mwhile\u001b[39;00m \u001b[38;5;28;01mTrue\u001b[39;00m:\n\u001b[1;32m--> 942\u001b[0m     response \u001b[38;5;241m=\u001b[39m \u001b[38;5;28mself\u001b[39m\u001b[38;5;241m.\u001b[39m_send_handling_redirects(\n\u001b[0;32m    943\u001b[0m         request,\n\u001b[0;32m    944\u001b[0m         follow_redirects\u001b[38;5;241m=\u001b[39mfollow_redirects,\n\u001b[0;32m    945\u001b[0m         history\u001b[38;5;241m=\u001b[39mhistory,\n\u001b[0;32m    946\u001b[0m     )\n\u001b[0;32m    947\u001b[0m     \u001b[38;5;28;01mtry\u001b[39;00m:\n\u001b[0;32m    948\u001b[0m         \u001b[38;5;28;01mtry\u001b[39;00m:\n",
      "File \u001b[1;32mc:\\Users\\G34371231\\AppData\\Local\\anaconda3\\envs\\self_recog\\Lib\\site-packages\\httpx\\_client.py:979\u001b[0m, in \u001b[0;36mClient._send_handling_redirects\u001b[1;34m(self, request, follow_redirects, history)\u001b[0m\n\u001b[0;32m    976\u001b[0m \u001b[38;5;28;01mfor\u001b[39;00m hook \u001b[38;5;129;01min\u001b[39;00m \u001b[38;5;28mself\u001b[39m\u001b[38;5;241m.\u001b[39m_event_hooks[\u001b[38;5;124m\"\u001b[39m\u001b[38;5;124mrequest\u001b[39m\u001b[38;5;124m\"\u001b[39m]:\n\u001b[0;32m    977\u001b[0m     hook(request)\n\u001b[1;32m--> 979\u001b[0m response \u001b[38;5;241m=\u001b[39m \u001b[38;5;28mself\u001b[39m\u001b[38;5;241m.\u001b[39m_send_single_request(request)\n\u001b[0;32m    980\u001b[0m \u001b[38;5;28;01mtry\u001b[39;00m:\n\u001b[0;32m    981\u001b[0m     \u001b[38;5;28;01mfor\u001b[39;00m hook \u001b[38;5;129;01min\u001b[39;00m \u001b[38;5;28mself\u001b[39m\u001b[38;5;241m.\u001b[39m_event_hooks[\u001b[38;5;124m\"\u001b[39m\u001b[38;5;124mresponse\u001b[39m\u001b[38;5;124m\"\u001b[39m]:\n",
      "File \u001b[1;32mc:\\Users\\G34371231\\AppData\\Local\\anaconda3\\envs\\self_recog\\Lib\\site-packages\\httpx\\_client.py:1015\u001b[0m, in \u001b[0;36mClient._send_single_request\u001b[1;34m(self, request)\u001b[0m\n\u001b[0;32m   1010\u001b[0m     \u001b[38;5;28;01mraise\u001b[39;00m \u001b[38;5;167;01mRuntimeError\u001b[39;00m(\n\u001b[0;32m   1011\u001b[0m         \u001b[38;5;124m\"\u001b[39m\u001b[38;5;124mAttempted to send an async request with a sync Client instance.\u001b[39m\u001b[38;5;124m\"\u001b[39m\n\u001b[0;32m   1012\u001b[0m     )\n\u001b[0;32m   1014\u001b[0m \u001b[38;5;28;01mwith\u001b[39;00m request_context(request\u001b[38;5;241m=\u001b[39mrequest):\n\u001b[1;32m-> 1015\u001b[0m     response \u001b[38;5;241m=\u001b[39m transport\u001b[38;5;241m.\u001b[39mhandle_request(request)\n\u001b[0;32m   1017\u001b[0m \u001b[38;5;28;01massert\u001b[39;00m \u001b[38;5;28misinstance\u001b[39m(response\u001b[38;5;241m.\u001b[39mstream, SyncByteStream)\n\u001b[0;32m   1019\u001b[0m response\u001b[38;5;241m.\u001b[39mrequest \u001b[38;5;241m=\u001b[39m request\n",
      "File \u001b[1;32mc:\\Users\\G34371231\\AppData\\Local\\anaconda3\\envs\\self_recog\\Lib\\site-packages\\httpx\\_transports\\default.py:233\u001b[0m, in \u001b[0;36mHTTPTransport.handle_request\u001b[1;34m(self, request)\u001b[0m\n\u001b[0;32m    220\u001b[0m req \u001b[38;5;241m=\u001b[39m httpcore\u001b[38;5;241m.\u001b[39mRequest(\n\u001b[0;32m    221\u001b[0m     method\u001b[38;5;241m=\u001b[39mrequest\u001b[38;5;241m.\u001b[39mmethod,\n\u001b[0;32m    222\u001b[0m     url\u001b[38;5;241m=\u001b[39mhttpcore\u001b[38;5;241m.\u001b[39mURL(\n\u001b[1;32m   (...)\u001b[0m\n\u001b[0;32m    230\u001b[0m     extensions\u001b[38;5;241m=\u001b[39mrequest\u001b[38;5;241m.\u001b[39mextensions,\n\u001b[0;32m    231\u001b[0m )\n\u001b[0;32m    232\u001b[0m \u001b[38;5;28;01mwith\u001b[39;00m map_httpcore_exceptions():\n\u001b[1;32m--> 233\u001b[0m     resp \u001b[38;5;241m=\u001b[39m \u001b[38;5;28mself\u001b[39m\u001b[38;5;241m.\u001b[39m_pool\u001b[38;5;241m.\u001b[39mhandle_request(req)\n\u001b[0;32m    235\u001b[0m \u001b[38;5;28;01massert\u001b[39;00m \u001b[38;5;28misinstance\u001b[39m(resp\u001b[38;5;241m.\u001b[39mstream, typing\u001b[38;5;241m.\u001b[39mIterable)\n\u001b[0;32m    237\u001b[0m \u001b[38;5;28;01mreturn\u001b[39;00m Response(\n\u001b[0;32m    238\u001b[0m     status_code\u001b[38;5;241m=\u001b[39mresp\u001b[38;5;241m.\u001b[39mstatus,\n\u001b[0;32m    239\u001b[0m     headers\u001b[38;5;241m=\u001b[39mresp\u001b[38;5;241m.\u001b[39mheaders,\n\u001b[0;32m    240\u001b[0m     stream\u001b[38;5;241m=\u001b[39mResponseStream(resp\u001b[38;5;241m.\u001b[39mstream),\n\u001b[0;32m    241\u001b[0m     extensions\u001b[38;5;241m=\u001b[39mresp\u001b[38;5;241m.\u001b[39mextensions,\n\u001b[0;32m    242\u001b[0m )\n",
      "File \u001b[1;32mc:\\Users\\G34371231\\AppData\\Local\\anaconda3\\envs\\self_recog\\Lib\\site-packages\\httpcore\\_sync\\connection_pool.py:268\u001b[0m, in \u001b[0;36mConnectionPool.handle_request\u001b[1;34m(self, request)\u001b[0m\n\u001b[0;32m    266\u001b[0m     \u001b[38;5;28;01mwith\u001b[39;00m ShieldCancellation():\n\u001b[0;32m    267\u001b[0m         \u001b[38;5;28mself\u001b[39m\u001b[38;5;241m.\u001b[39mresponse_closed(status)\n\u001b[1;32m--> 268\u001b[0m     \u001b[38;5;28;01mraise\u001b[39;00m exc\n\u001b[0;32m    269\u001b[0m \u001b[38;5;28;01melse\u001b[39;00m:\n\u001b[0;32m    270\u001b[0m     \u001b[38;5;28;01mbreak\u001b[39;00m\n",
      "File \u001b[1;32mc:\\Users\\G34371231\\AppData\\Local\\anaconda3\\envs\\self_recog\\Lib\\site-packages\\httpcore\\_sync\\connection_pool.py:251\u001b[0m, in \u001b[0;36mConnectionPool.handle_request\u001b[1;34m(self, request)\u001b[0m\n\u001b[0;32m    248\u001b[0m         \u001b[38;5;28;01mraise\u001b[39;00m exc\n\u001b[0;32m    250\u001b[0m \u001b[38;5;28;01mtry\u001b[39;00m:\n\u001b[1;32m--> 251\u001b[0m     response \u001b[38;5;241m=\u001b[39m connection\u001b[38;5;241m.\u001b[39mhandle_request(request)\n\u001b[0;32m    252\u001b[0m \u001b[38;5;28;01mexcept\u001b[39;00m ConnectionNotAvailable:\n\u001b[0;32m    253\u001b[0m     \u001b[38;5;66;03m# The ConnectionNotAvailable exception is a special case, that\u001b[39;00m\n\u001b[0;32m    254\u001b[0m     \u001b[38;5;66;03m# indicates we need to retry the request on a new connection.\u001b[39;00m\n\u001b[1;32m   (...)\u001b[0m\n\u001b[0;32m    258\u001b[0m     \u001b[38;5;66;03m# might end up as an HTTP/2 connection, but which actually ends\u001b[39;00m\n\u001b[0;32m    259\u001b[0m     \u001b[38;5;66;03m# up as HTTP/1.1.\u001b[39;00m\n\u001b[0;32m    260\u001b[0m     \u001b[38;5;28;01mwith\u001b[39;00m \u001b[38;5;28mself\u001b[39m\u001b[38;5;241m.\u001b[39m_pool_lock:\n\u001b[0;32m    261\u001b[0m         \u001b[38;5;66;03m# Maintain our position in the request queue, but reset the\u001b[39;00m\n\u001b[0;32m    262\u001b[0m         \u001b[38;5;66;03m# status so that the request becomes queued again.\u001b[39;00m\n",
      "File \u001b[1;32mc:\\Users\\G34371231\\AppData\\Local\\anaconda3\\envs\\self_recog\\Lib\\site-packages\\httpcore\\_sync\\connection.py:103\u001b[0m, in \u001b[0;36mHTTPConnection.handle_request\u001b[1;34m(self, request)\u001b[0m\n\u001b[0;32m    100\u001b[0m     \u001b[38;5;28;01melif\u001b[39;00m \u001b[38;5;129;01mnot\u001b[39;00m \u001b[38;5;28mself\u001b[39m\u001b[38;5;241m.\u001b[39m_connection\u001b[38;5;241m.\u001b[39mis_available():\n\u001b[0;32m    101\u001b[0m         \u001b[38;5;28;01mraise\u001b[39;00m ConnectionNotAvailable()\n\u001b[1;32m--> 103\u001b[0m \u001b[38;5;28;01mreturn\u001b[39;00m \u001b[38;5;28mself\u001b[39m\u001b[38;5;241m.\u001b[39m_connection\u001b[38;5;241m.\u001b[39mhandle_request(request)\n",
      "File \u001b[1;32mc:\\Users\\G34371231\\AppData\\Local\\anaconda3\\envs\\self_recog\\Lib\\site-packages\\httpcore\\_sync\\http11.py:133\u001b[0m, in \u001b[0;36mHTTP11Connection.handle_request\u001b[1;34m(self, request)\u001b[0m\n\u001b[0;32m    131\u001b[0m     \u001b[38;5;28;01mwith\u001b[39;00m Trace(\u001b[38;5;124m\"\u001b[39m\u001b[38;5;124mresponse_closed\u001b[39m\u001b[38;5;124m\"\u001b[39m, logger, request) \u001b[38;5;28;01mas\u001b[39;00m trace:\n\u001b[0;32m    132\u001b[0m         \u001b[38;5;28mself\u001b[39m\u001b[38;5;241m.\u001b[39m_response_closed()\n\u001b[1;32m--> 133\u001b[0m \u001b[38;5;28;01mraise\u001b[39;00m exc\n",
      "File \u001b[1;32mc:\\Users\\G34371231\\AppData\\Local\\anaconda3\\envs\\self_recog\\Lib\\site-packages\\httpcore\\_sync\\http11.py:111\u001b[0m, in \u001b[0;36mHTTP11Connection.handle_request\u001b[1;34m(self, request)\u001b[0m\n\u001b[0;32m    101\u001b[0m     \u001b[38;5;28;01mpass\u001b[39;00m\n\u001b[0;32m    103\u001b[0m \u001b[38;5;28;01mwith\u001b[39;00m Trace(\n\u001b[0;32m    104\u001b[0m     \u001b[38;5;124m\"\u001b[39m\u001b[38;5;124mreceive_response_headers\u001b[39m\u001b[38;5;124m\"\u001b[39m, logger, request, kwargs\n\u001b[0;32m    105\u001b[0m ) \u001b[38;5;28;01mas\u001b[39;00m trace:\n\u001b[0;32m    106\u001b[0m     (\n\u001b[0;32m    107\u001b[0m         http_version,\n\u001b[0;32m    108\u001b[0m         status,\n\u001b[0;32m    109\u001b[0m         reason_phrase,\n\u001b[0;32m    110\u001b[0m         headers,\n\u001b[1;32m--> 111\u001b[0m     ) \u001b[38;5;241m=\u001b[39m \u001b[38;5;28mself\u001b[39m\u001b[38;5;241m.\u001b[39m_receive_response_headers(\u001b[38;5;241m*\u001b[39m\u001b[38;5;241m*\u001b[39mkwargs)\n\u001b[0;32m    112\u001b[0m     trace\u001b[38;5;241m.\u001b[39mreturn_value \u001b[38;5;241m=\u001b[39m (\n\u001b[0;32m    113\u001b[0m         http_version,\n\u001b[0;32m    114\u001b[0m         status,\n\u001b[0;32m    115\u001b[0m         reason_phrase,\n\u001b[0;32m    116\u001b[0m         headers,\n\u001b[0;32m    117\u001b[0m     )\n\u001b[0;32m    119\u001b[0m \u001b[38;5;28;01mreturn\u001b[39;00m Response(\n\u001b[0;32m    120\u001b[0m     status\u001b[38;5;241m=\u001b[39mstatus,\n\u001b[0;32m    121\u001b[0m     headers\u001b[38;5;241m=\u001b[39mheaders,\n\u001b[1;32m   (...)\u001b[0m\n\u001b[0;32m    127\u001b[0m     },\n\u001b[0;32m    128\u001b[0m )\n",
      "File \u001b[1;32mc:\\Users\\G34371231\\AppData\\Local\\anaconda3\\envs\\self_recog\\Lib\\site-packages\\httpcore\\_sync\\http11.py:176\u001b[0m, in \u001b[0;36mHTTP11Connection._receive_response_headers\u001b[1;34m(self, request)\u001b[0m\n\u001b[0;32m    173\u001b[0m timeout \u001b[38;5;241m=\u001b[39m timeouts\u001b[38;5;241m.\u001b[39mget(\u001b[38;5;124m\"\u001b[39m\u001b[38;5;124mread\u001b[39m\u001b[38;5;124m\"\u001b[39m, \u001b[38;5;28;01mNone\u001b[39;00m)\n\u001b[0;32m    175\u001b[0m \u001b[38;5;28;01mwhile\u001b[39;00m \u001b[38;5;28;01mTrue\u001b[39;00m:\n\u001b[1;32m--> 176\u001b[0m     event \u001b[38;5;241m=\u001b[39m \u001b[38;5;28mself\u001b[39m\u001b[38;5;241m.\u001b[39m_receive_event(timeout\u001b[38;5;241m=\u001b[39mtimeout)\n\u001b[0;32m    177\u001b[0m     \u001b[38;5;28;01mif\u001b[39;00m \u001b[38;5;28misinstance\u001b[39m(event, h11\u001b[38;5;241m.\u001b[39mResponse):\n\u001b[0;32m    178\u001b[0m         \u001b[38;5;28;01mbreak\u001b[39;00m\n",
      "File \u001b[1;32mc:\\Users\\G34371231\\AppData\\Local\\anaconda3\\envs\\self_recog\\Lib\\site-packages\\httpcore\\_sync\\http11.py:212\u001b[0m, in \u001b[0;36mHTTP11Connection._receive_event\u001b[1;34m(self, timeout)\u001b[0m\n\u001b[0;32m    209\u001b[0m     event \u001b[38;5;241m=\u001b[39m \u001b[38;5;28mself\u001b[39m\u001b[38;5;241m.\u001b[39m_h11_state\u001b[38;5;241m.\u001b[39mnext_event()\n\u001b[0;32m    211\u001b[0m \u001b[38;5;28;01mif\u001b[39;00m event \u001b[38;5;129;01mis\u001b[39;00m h11\u001b[38;5;241m.\u001b[39mNEED_DATA:\n\u001b[1;32m--> 212\u001b[0m     data \u001b[38;5;241m=\u001b[39m \u001b[38;5;28mself\u001b[39m\u001b[38;5;241m.\u001b[39m_network_stream\u001b[38;5;241m.\u001b[39mread(\n\u001b[0;32m    213\u001b[0m         \u001b[38;5;28mself\u001b[39m\u001b[38;5;241m.\u001b[39mREAD_NUM_BYTES, timeout\u001b[38;5;241m=\u001b[39mtimeout\n\u001b[0;32m    214\u001b[0m     )\n\u001b[0;32m    216\u001b[0m     \u001b[38;5;66;03m# If we feed this case through h11 we'll raise an exception like:\u001b[39;00m\n\u001b[0;32m    217\u001b[0m     \u001b[38;5;66;03m#\u001b[39;00m\n\u001b[0;32m    218\u001b[0m     \u001b[38;5;66;03m#     httpcore.RemoteProtocolError: can't handle event type\u001b[39;00m\n\u001b[1;32m   (...)\u001b[0m\n\u001b[0;32m    222\u001b[0m     \u001b[38;5;66;03m# perspective. Instead we handle this case distinctly and treat\u001b[39;00m\n\u001b[0;32m    223\u001b[0m     \u001b[38;5;66;03m# it as a ConnectError.\u001b[39;00m\n\u001b[0;32m    224\u001b[0m     \u001b[38;5;28;01mif\u001b[39;00m data \u001b[38;5;241m==\u001b[39m \u001b[38;5;124mb\u001b[39m\u001b[38;5;124m\"\u001b[39m\u001b[38;5;124m\"\u001b[39m \u001b[38;5;129;01mand\u001b[39;00m \u001b[38;5;28mself\u001b[39m\u001b[38;5;241m.\u001b[39m_h11_state\u001b[38;5;241m.\u001b[39mtheir_state \u001b[38;5;241m==\u001b[39m h11\u001b[38;5;241m.\u001b[39mSEND_RESPONSE:\n",
      "File \u001b[1;32mc:\\Users\\G34371231\\AppData\\Local\\anaconda3\\envs\\self_recog\\Lib\\site-packages\\httpcore\\_backends\\sync.py:126\u001b[0m, in \u001b[0;36mSyncStream.read\u001b[1;34m(self, max_bytes, timeout)\u001b[0m\n\u001b[0;32m    124\u001b[0m \u001b[38;5;28;01mwith\u001b[39;00m map_exceptions(exc_map):\n\u001b[0;32m    125\u001b[0m     \u001b[38;5;28mself\u001b[39m\u001b[38;5;241m.\u001b[39m_sock\u001b[38;5;241m.\u001b[39msettimeout(timeout)\n\u001b[1;32m--> 126\u001b[0m     \u001b[38;5;28;01mreturn\u001b[39;00m \u001b[38;5;28mself\u001b[39m\u001b[38;5;241m.\u001b[39m_sock\u001b[38;5;241m.\u001b[39mrecv(max_bytes)\n",
      "File \u001b[1;32mc:\\Users\\G34371231\\AppData\\Local\\anaconda3\\envs\\self_recog\\Lib\\ssl.py:1233\u001b[0m, in \u001b[0;36mSSLSocket.recv\u001b[1;34m(self, buflen, flags)\u001b[0m\n\u001b[0;32m   1229\u001b[0m     \u001b[38;5;28;01mif\u001b[39;00m flags \u001b[38;5;241m!=\u001b[39m \u001b[38;5;241m0\u001b[39m:\n\u001b[0;32m   1230\u001b[0m         \u001b[38;5;28;01mraise\u001b[39;00m \u001b[38;5;167;01mValueError\u001b[39;00m(\n\u001b[0;32m   1231\u001b[0m             \u001b[38;5;124m\"\u001b[39m\u001b[38;5;124mnon-zero flags not allowed in calls to recv() on \u001b[39m\u001b[38;5;132;01m%s\u001b[39;00m\u001b[38;5;124m\"\u001b[39m \u001b[38;5;241m%\u001b[39m\n\u001b[0;32m   1232\u001b[0m             \u001b[38;5;28mself\u001b[39m\u001b[38;5;241m.\u001b[39m\u001b[38;5;18m__class__\u001b[39m)\n\u001b[1;32m-> 1233\u001b[0m     \u001b[38;5;28;01mreturn\u001b[39;00m \u001b[38;5;28mself\u001b[39m\u001b[38;5;241m.\u001b[39mread(buflen)\n\u001b[0;32m   1234\u001b[0m \u001b[38;5;28;01melse\u001b[39;00m:\n\u001b[0;32m   1235\u001b[0m     \u001b[38;5;28;01mreturn\u001b[39;00m \u001b[38;5;28msuper\u001b[39m()\u001b[38;5;241m.\u001b[39mrecv(buflen, flags)\n",
      "File \u001b[1;32mc:\\Users\\G34371231\\AppData\\Local\\anaconda3\\envs\\self_recog\\Lib\\ssl.py:1106\u001b[0m, in \u001b[0;36mSSLSocket.read\u001b[1;34m(self, len, buffer)\u001b[0m\n\u001b[0;32m   1104\u001b[0m         \u001b[38;5;28;01mreturn\u001b[39;00m \u001b[38;5;28mself\u001b[39m\u001b[38;5;241m.\u001b[39m_sslobj\u001b[38;5;241m.\u001b[39mread(\u001b[38;5;28mlen\u001b[39m, buffer)\n\u001b[0;32m   1105\u001b[0m     \u001b[38;5;28;01melse\u001b[39;00m:\n\u001b[1;32m-> 1106\u001b[0m         \u001b[38;5;28;01mreturn\u001b[39;00m \u001b[38;5;28mself\u001b[39m\u001b[38;5;241m.\u001b[39m_sslobj\u001b[38;5;241m.\u001b[39mread(\u001b[38;5;28mlen\u001b[39m)\n\u001b[0;32m   1107\u001b[0m \u001b[38;5;28;01mexcept\u001b[39;00m SSLError \u001b[38;5;28;01mas\u001b[39;00m x:\n\u001b[0;32m   1108\u001b[0m     \u001b[38;5;28;01mif\u001b[39;00m x\u001b[38;5;241m.\u001b[39margs[\u001b[38;5;241m0\u001b[39m] \u001b[38;5;241m==\u001b[39m SSL_ERROR_EOF \u001b[38;5;129;01mand\u001b[39;00m \u001b[38;5;28mself\u001b[39m\u001b[38;5;241m.\u001b[39msuppress_ragged_eofs:\n",
      "\u001b[1;31mKeyboardInterrupt\u001b[0m: "
     ]
    }
   ],
   "source": [
    "for model in [\"gpt4\"]:\n",
    "    print(SOURCES)\n",
    "    print(f\"Starting {model}\")\n",
    "    num_synonym = 5\n",
    "    results = generate_gpt_detect_recognition_synonym(\n",
    "        \"cnn\", model,replace_synonym=True, num_words_to_replace=num_synonym, starting_idx=500, ending_idx=950\n",
    "    )\n",
    "    #Save results\n",
    "    file_name = f\"{model}_results_{num_synonym}_ChatGPT_with_context_450_sentence.json\"\n",
    "    path = os.path.join(\"results\",\"cnn\",\"synonym\",file_name)\n",
    "    save_to_json(results,path)"
   ]
  },
  {
   "cell_type": "markdown",
   "metadata": {},
   "source": [
    "# Apply synonym to 'other' example as well"
   ]
  },
  {
   "cell_type": "code",
   "execution_count": 27,
   "metadata": {},
   "outputs": [],
   "source": [
    "# Only suitable for GPT models\n",
    "def generate_gpt_detect_recognition_dual_synonym(\n",
    "    dataset,\n",
    "    model,\n",
    "    starting_idx=0,\n",
    "    detection_type=\"detection\",\n",
    "    replace_synonym = False,\n",
    "    num_words_to_replace = 0\n",
    "):\n",
    "    \"\"\"\n",
    "    Generates detection scores for GPT model outputs compared to other summaries using a dual synyonym replacement strategy.\n",
    "\n",
    "    Args:\n",
    "        dataset (str): The name of the dataset (e.g., \"cnn\") containing the articles.\n",
    "        model (str): The base model on which inference will be performed.\n",
    "        starting_idx (int, optional): The index to start processing articles from. Defaults to 0.\n",
    "        detection_type (str, optional): The type of detection to perform. Defaults to \"detection\".\n",
    "        replace_synonym (bool, optional): Whether to replace words in the summaries with synonyms. Defaults to False.\n",
    "        num_words_to_replace (int, optional): The number of words to replace with synonyms if `replace_synonym` is True. Defaults to 0. Replaces the same number in both sentences being compared.\n",
    "\n",
    "\n",
    "\n",
    "    \"\"\"\n",
    "    # For retrieving summaries, the specific fine-tuning version isn't needed\n",
    "    exact_model = model\n",
    "    model = \"gpt35\" if model.endswith(\"gpt35\") else model\n",
    "\n",
    "    responses, articles, keys = load_data(dataset)\n",
    "    results = []  # load_from_json(f\"results/{model}_results.json\")\n",
    "\n",
    "    for key in tqdm(keys[starting_idx:], desc=\"Processing keys\"):\n",
    "        article = articles[key]\n",
    "\n",
    "        source_summary = responses[model][key]\n",
    "\n",
    "        # replace synonym\n",
    "        if replace_synonym:\n",
    "            source_summary = replace_words_ChatGPT_context(source_summary, num_words_to_replace)\n",
    "\n",
    "        for other in [s for s in SOURCES if s != model]:\n",
    "            result = {\"key\": key, \"model\": other}\n",
    "            other_summary = responses[other][key]\n",
    "\n",
    "            # replace synonym\n",
    "            if replace_synonym:\n",
    "                other_summary = replace_words_ChatGPT_context(other_summary, num_words_to_replace)\n",
    "\n",
    "            # Detection\n",
    "            forward_result = get_model_choice(\n",
    "                source_summary,\n",
    "                other_summary,\n",
    "                article,\n",
    "                detection_type,\n",
    "                exact_model,\n",
    "                return_logprobs=True,\n",
    "            )\n",
    "            backward_result = get_model_choice(\n",
    "                other_summary,\n",
    "                source_summary,\n",
    "                article,\n",
    "                detection_type,\n",
    "                exact_model,\n",
    "                return_logprobs=True,\n",
    "            )\n",
    "\n",
    "            forward_choice = forward_result[0].token\n",
    "            backward_choice = backward_result[0].token\n",
    "\n",
    "            result[\"forward_detection\"] = forward_choice\n",
    "            result[\"forward_detection_probability\"] = exp(forward_result[0].logprob)\n",
    "            result[\"backward_detection\"] = backward_choice\n",
    "            result[\"backward_detection_probability\"] = exp(backward_result[0].logprob)\n",
    "\n",
    "            match (forward_choice, backward_choice):\n",
    "                case (\"1\", \"2\"):\n",
    "                    result[\"detection_score\"] = 0.5 * (\n",
    "                        exp(forward_result[0].logprob) + exp(backward_result[0].logprob)\n",
    "                    )\n",
    "                case (\"2\", \"1\"):\n",
    "                    result[\"detection_score\"] = 0.5 * (\n",
    "                        exp(forward_result[1].logprob) + exp(backward_result[1].logprob)\n",
    "                    )\n",
    "                case (\"1\", \"1\"):\n",
    "                    result[\"detection_score\"] = 0.5 * (\n",
    "                        exp(forward_result[0].logprob) + exp(backward_result[1].logprob)\n",
    "                    )\n",
    "                case (\"2\", \"2\"):\n",
    "                    result[\"detection_score\"] = 0.5 * (\n",
    "                        exp(forward_result[1].logprob) + exp(backward_result[0].logprob)\n",
    "                    )\n",
    "\n",
    "            results.append(result)\n",
    "    return results\n"
   ]
  },
  {
   "cell_type": "code",
   "execution_count": 31,
   "metadata": {},
   "outputs": [
    {
     "name": "stdout",
     "output_type": "stream",
     "text": [
      "['human', 'claude', 'gpt35', 'gpt4', 'llama']\n",
      "Starting gpt4\n"
     ]
    },
    {
     "name": "stderr",
     "output_type": "stream",
     "text": [
      "Processing keys: 100%|██████████| 50/50 [13:25<00:00, 16.10s/it]\n"
     ]
    }
   ],
   "source": [
    "for model in [\"gpt4\"]:\n",
    "    print(SOURCES)\n",
    "    print(f\"Starting {model}\")\n",
    "    num_synonym = 5\n",
    "    results = generate_gpt_detect_recognition_dual_synonym(\n",
    "        \"cnn\", model,replace_synonym=True, num_words_to_replace=num_synonym, starting_idx=950\n",
    "    )\n",
    "    #Save results\n",
    "    file_name = f\"{model}_results_{num_synonym}_ChatGPT_with_context_bothsentences_50_sentence.json\"\n",
    "    path = os.path.join(\"results\",\"cnn\",\"synonym\",file_name)\n",
    "    save_to_json(results,path)"
   ]
  },
  {
   "cell_type": "markdown",
   "metadata": {},
   "source": [
    "## Finding Self Preference Scores for GPT4 w/ context (2 word synonym replacement)"
   ]
  },
  {
   "cell_type": "code",
   "execution_count": 22,
   "metadata": {},
   "outputs": [],
   "source": [
    "# Only suitable for GPT models\n",
    "import json \n",
    "\n",
    "def generate_gpt_detect_preference_synonym(\n",
    "    dataset,\n",
    "    model,\n",
    "    starting_idx=0,\n",
    "    detection_type=\"detection\",\n",
    "    comparison_type=\"comparison\",\n",
    "    replace_synonym = False,\n",
    "    num_words_to_replace = 0, \n",
    "    output_file=\"synonym_replacement_GPT4_context_summaries.json\"\n",
    "):\n",
    "    \"\"\"\n",
    "    Generates detection scores for GPT model outputs compared to other summaries.\n",
    "\n",
    "    This function takes a dataset name, a base model for inference, a starting index \n",
    "    from which to begin enumeration of the dataset, and various options for detection \n",
    "    and synonym replacement. It makes API calls to GPT models using the OpenAI API key \n",
    "    to evaluate the similarity of each summary against all other summaries. If synonym \n",
    "    replacement is enabled, a specified number of words are replaced before comparison.\n",
    "    \n",
    "    The function performs inference using the base model, compares generated summaries \n",
    "    in forward and backward order, and returns a JSON object containing detection results.\n",
    "\n",
    "    Args:\n",
    "        dataset (str): The name of the dataset (e.g., \"cnn\") containing the articles.\n",
    "        model (str): The base model on which inference will be performed.\n",
    "        starting_idx (int, optional): The index to start processing articles from. Defaults to 0.\n",
    "        detection_type (str, optional): The type of detection to perform. Defaults to \"detection\".\n",
    "        replace_synonym (bool, optional): Whether to replace words in the summaries with synonyms. Defaults to False.\n",
    "        num_words_to_replace (int, optional): The number of words to replace with synonyms if `replace_synonym` is True. Defaults to 0.\n",
    "\n",
    "    Returns:\n",
    "        dict: A JSON object containing information about:\n",
    "            - Model compared against\n",
    "            - Key of the article\n",
    "            - Forward detection + probability\n",
    "            - Backward detection + probability\n",
    "            - Overall detection score\n",
    "\n",
    "    \"\"\"\n",
    "    # For retrieving summaries, the specific fine-tuning version isn't needed\n",
    "    exact_model = model\n",
    "    model = \"gpt35\" if model.endswith(\"gpt35\") else model\n",
    "\n",
    "    responses, articles, keys = load_data(dataset)\n",
    "    results = []  # load_from_json(f\"results/{model}_results.json\")\n",
    "    updated_summaries = {}  #to store updated summaries with synonym replacement\n",
    "\n",
    "    for key in tqdm(keys[starting_idx:], desc=\"Processing keys\"):\n",
    "        article = articles[key]\n",
    "\n",
    "        source_summary = responses[model][key]\n",
    "\n",
    "        # replace synonym\n",
    "        if replace_synonym:\n",
    "            print(source_summary)\n",
    "            source_summary = replace_words_ChatGPT(source_summary, num_words_to_replace)\n",
    "            updated_summaries[key] = source_summary  #store new summary\n",
    "\n",
    "        for other in [s for s in SOURCES if s != model]:\n",
    "            result = {\"key\": key, \"model\": other}\n",
    "            other_summary = responses[other][key]\n",
    "\n",
    "            # Comparison\n",
    "            forward_result = get_model_choice(\n",
    "                source_summary,\n",
    "                other_summary,\n",
    "                article,\n",
    "                comparison_type,\n",
    "                exact_model,\n",
    "                return_logprobs=True,\n",
    "            )\n",
    "            backward_result = get_model_choice(\n",
    "                other_summary,\n",
    "                source_summary,\n",
    "                article,\n",
    "                comparison_type,\n",
    "                exact_model,\n",
    "                return_logprobs=True,\n",
    "            )\n",
    "\n",
    "            forward_choice = forward_result[0].token\n",
    "            backward_choice = backward_result[0].token\n",
    "\n",
    "            # If the comparison asked \"Which is worse?\" then reverse the options\n",
    "            if comparison_type == \"comparison_with_worse\":\n",
    "                forward_choice = \"1\" if forward_choice == \"2\" else \"2\"\n",
    "                backward_choice = \"1\" if backward_choice == \"2\" else \"2\"\n",
    "\n",
    "            result[\"forward_comparison\"] = forward_choice\n",
    "            result[\"forward_comparison_probability\"] = exp(forward_result[0].logprob)\n",
    "            result[\"backward_comparison\"] = backward_choice\n",
    "            result[\"backward_comparison_probability\"] = exp(backward_result[0].logprob)\n",
    "\n",
    "            match (forward_choice, backward_choice):\n",
    "                case (\"1\", \"2\"):\n",
    "                    result[\"self_preference\"] = 0.5 * (\n",
    "                        exp(forward_result[0].logprob) + exp(backward_result[0].logprob)\n",
    "                    )\n",
    "                case (\"2\", \"1\"):\n",
    "                    result[\"self_preference\"] = 0.5 * (\n",
    "                        exp(forward_result[1].logprob) + exp(backward_result[1].logprob)\n",
    "                    )\n",
    "                case (\"1\", \"1\"):\n",
    "                    result[\"self_preference\"] = 0.5 * (\n",
    "                        exp(forward_result[0].logprob) + exp(backward_result[1].logprob)\n",
    "                    )\n",
    "                case (\"2\", \"2\"):\n",
    "                    result[\"self_preference\"] = 0.5 * (\n",
    "                        exp(forward_result[1].logprob) + exp(backward_result[0].logprob)\n",
    "                    )\n",
    "\n",
    "            results.append(result)\n",
    "\n",
    "    if replace_synonym:\n",
    "        with open(output_file, \"w\") as f:\n",
    "            json.dump(updated_summaries, f, indent=4)\n",
    "        \n",
    "    return results"
   ]
  },
  {
   "cell_type": "code",
   "execution_count": 25,
   "metadata": {},
   "outputs": [
    {
     "name": "stdout",
     "output_type": "stream",
     "text": [
      "['human', 'claude', 'gpt35', 'gpt4', 'llama']\n",
      "Starting gpt4\n"
     ]
    },
    {
     "name": "stderr",
     "output_type": "stream",
     "text": [
      "Processing keys:   0%|          | 0/2 [00:00<?, ?it/s]"
     ]
    },
    {
     "name": "stdout",
     "output_type": "stream",
     "text": [
      "Judge finds Heather Mills' claims of wealth in 1999 exaggerated and rejects her portrayal as Paul McCartney's business partner\n",
      "McCartney was generous, giving Mills substantial capital and gifts, but did not give her 30 valuable paintings\n",
      "McCartney's fortune estimated at £400 million, not the £800 million claimed by Mills; her expectation to live like McCartney deemed unrealistic\n",
      "Mills' claim of zero earning capacity dismissed; judge believes her career was advanced, not hindered by McCartney\n",
      "[33, 60, 4, 39]\n",
      "['paintings', 'judge', 'claims', 'not']\n"
     ]
    },
    {
     "name": "stderr",
     "output_type": "stream",
     "text": [
      "Processing keys:  50%|█████     | 1/2 [00:06<00:06,  6.13s/it]"
     ]
    },
    {
     "name": "stdout",
     "output_type": "stream",
     "text": [
      "Sarah Knox Taylor Davis, daughter of President Zachary Taylor, died of malaria three months after marrying Jefferson Davis\n",
      "Elizabeth Harrison Walker, daughter of President Benjamin Harrison, became a lawyer and economic expert, appearing on radio and TV\n",
      "Margaret Woodrow Wilson, daughter of President Woodrow Wilson, advocated for democracy and lived in an Indian ashram until her death\n",
      "Elizabeth Ann Christian Blaesing, daughter of President Warren G. Harding, lived a quiet life despite the scandal of her birth\n",
      "[43, 66, 61, 26]\n",
      "['Woodrow', 'lived', 'daughter', 'became']\n"
     ]
    },
    {
     "name": "stderr",
     "output_type": "stream",
     "text": [
      "Processing keys: 100%|██████████| 2/2 [00:11<00:00,  5.97s/it]\n"
     ]
    }
   ],
   "source": [
    "responses_file = \"cnn_gpt4_no_context_synonym_replacement_responses_2_summaries.json\"\n",
    "path = os.path.join(\"summaries\",\"cnn\",responses_file)\n",
    "for model in [\"gpt4\"]:\n",
    "    print(SOURCES)\n",
    "    print(f\"Starting {model}\")\n",
    "    num_synonym = 2\n",
    "    results = generate_gpt_detect_preference_synonym(\n",
    "        \"cnn\", model,replace_synonym=True, num_words_to_replace=num_synonym, starting_idx=998, output_file = responses_file\n",
    "    )\n",
    "    #Save results\n",
    "    file_name = f\"{model}_preference_{num_synonym}_ChatGPT_without_context_bothsentences_2_sentence.json\"\n",
    "    path = os.path.join(\"results\",\"cnn\",\"synonym\",file_name)\n",
    "    save_to_json(results,path)"
   ]
  },
  {
   "cell_type": "markdown",
   "metadata": {},
   "source": [
    "# Finding semantically similar indexes in the summaries"
   ]
  },
  {
   "cell_type": "code",
   "execution_count": 2,
   "metadata": {},
   "outputs": [],
   "source": [
    "# Only suitable for GPT models\n",
    "def get_similar_sentence(\n",
    "    dataset,\n",
    "    model,\n",
    "    starting_idx=0,\n",
    "):\n",
    "    exact_model = model\n",
    "    model = \"gpt35\" if model.endswith(\"gpt35\") else model\n",
    "\n",
    "    responses, articles, keys = load_data(dataset)\n",
    "    results = []  # load_from_json(f\"results/{model}_results.json\")\n",
    "\n",
    "    for key in tqdm(keys[starting_idx:], desc=\"Processing keys\"):\n",
    "        summaries = []\n",
    "        result = {\"key\": key}\n",
    "        for other in [s for s in SOURCES]:\n",
    "            summaries.append(responses[other][key])\n",
    "            \n",
    "        result_json = get_gpt_summary_similarity_index(summaries[0],summaries[1],summaries[2],summaries[3],summaries[4])\n",
    "        result[\"indexes\"]= result_json \n",
    "        results.append(result)\n",
    "    return results\n"
   ]
  },
  {
   "cell_type": "code",
   "execution_count": 3,
   "metadata": {},
   "outputs": [
    {
     "name": "stdout",
     "output_type": "stream",
     "text": [
      "['human', 'claude', 'gpt35', 'gpt4', 'llama']\n"
     ]
    },
    {
     "name": "stderr",
     "output_type": "stream",
     "text": [
      "Processing keys: 100%|██████████| 2/2 [00:03<00:00,  1.52s/it]"
     ]
    },
    {
     "name": "stdout",
     "output_type": "stream",
     "text": [
      "[{'key': '9177e5ac94f038749e8d4eb526a65461e0f6df4c', 'indexes': '[\"Summary1:0\", \"Summary2:0\", \"Summary3:0\", \"Summary4:0\", \"Summary5:1\"]'}, {'key': 'f12e4bbb07211de7d43b4e331dc73404aa804562', 'indexes': '[\"Summary1:2\", \"Summary2:1\", \"Summary3:2\", \"Summary4:1\", \"Summary5:0\"]'}]\n"
     ]
    },
    {
     "name": "stderr",
     "output_type": "stream",
     "text": [
      "\n"
     ]
    }
   ],
   "source": [
    "for model in [\"gpt4\"]:\n",
    "    print(SOURCES)\n",
    "    num_synonym = 2\n",
    "    results = get_similar_sentence(\"cnn\", model, starting_idx=998)\n",
    "    print(results)\n"
   ]
  },
  {
   "cell_type": "code",
   "execution_count": 4,
   "metadata": {},
   "outputs": [
    {
     "data": {
      "text/plain": [
       "[{'key': '9177e5ac94f038749e8d4eb526a65461e0f6df4c',\n",
       "  'indexes': '[\"Summary1:0\", \"Summary2:0\", \"Summary3:0\", \"Summary4:0\", \"Summary5:1\"]'},\n",
       " {'key': 'f12e4bbb07211de7d43b4e331dc73404aa804562',\n",
       "  'indexes': '[\"Summary1:2\", \"Summary2:1\", \"Summary3:2\", \"Summary4:1\", \"Summary5:0\"]'}]"
      ]
     },
     "execution_count": 4,
     "metadata": {},
     "output_type": "execute_result"
    }
   ],
   "source": [
    "results"
   ]
  },
  {
   "cell_type": "code",
   "execution_count": null,
   "metadata": {},
   "outputs": [],
   "source": []
  },
  {
   "cell_type": "markdown",
   "metadata": {},
   "source": [
    "## Visualize what is similar"
   ]
  },
  {
   "cell_type": "code",
   "execution_count": 24,
   "metadata": {},
   "outputs": [],
   "source": [
    "import json"
   ]
  },
  {
   "cell_type": "code",
   "execution_count": 25,
   "metadata": {},
   "outputs": [],
   "source": [
    "# Function to extract a record by key\n",
    "def get_record_by_key(results, search_key):\n",
    "    for record in results:\n",
    "        if record['key'] == search_key:\n",
    "            return record\n",
    "    return None  # Return None if key is not found"
   ]
  },
  {
   "cell_type": "code",
   "execution_count": 26,
   "metadata": {},
   "outputs": [],
   "source": [
    "# Function to extract indexes from the record\n",
    "def extract_indexes(record):\n",
    "    if record and 'indexes' in record:\n",
    "        indexes_str = record['indexes']\n",
    "        # Convert the indexes string to a list using json.loads\n",
    "        indexes_list = json.loads(indexes_str)\n",
    "        return indexes_list\n",
    "    return []"
   ]
  },
  {
   "cell_type": "code",
   "execution_count": 27,
   "metadata": {},
   "outputs": [],
   "source": [
    "# Only suitable for GPT models\n",
    "def visualize_similar(\n",
    "    dataset,\n",
    "    model,\n",
    "    starting_idx=0,\n",
    "):\n",
    "    exact_model = model\n",
    "    model = \"gpt35\" if model.endswith(\"gpt35\") else model\n",
    "\n",
    "    responses, articles, keys = load_data(dataset)\n",
    "\n",
    "    for key in tqdm(keys[starting_idx:], desc=\"Processing keys\"):\n",
    "        summaries = []\n",
    "        result = get_record_by_key(results,key)\n",
    "        count = 1\n",
    "        for idx, other in enumerate([s for s in SOURCES]):\n",
    "            print(other)\n",
    "            summary = responses[other][key]\n",
    "            summary = summary.split('\\n')\n",
    "            indexes = extract_indexes(result)\n",
    "            item = indexes[idx]\n",
    "            summary_value = int(item.split(\":\")[1])\n",
    "            summary = summary[summary_value]\n",
    "            print(summary)\n",
    "            \n",
    "    return results\n"
   ]
  },
  {
   "cell_type": "code",
   "execution_count": 29,
   "metadata": {},
   "outputs": [
    {
     "name": "stdout",
     "output_type": "stream",
     "text": [
      "['human', 'claude', 'gpt35', 'gpt4', 'llama']\n"
     ]
    },
    {
     "name": "stderr",
     "output_type": "stream",
     "text": [
      "Processing keys: 100%|██████████| 2/2 [00:00<?, ?it/s]"
     ]
    },
    {
     "name": "stdout",
     "output_type": "stream",
     "text": [
      "human\n",
      "Judge on Heather Mills: Level of premarital wealth \"exaggerated\"\n",
      "claude\n",
      "Judge rejects Mills' claim that she was wealthy before meeting McCartney in 1999\n",
      "gpt35\n",
      "Judge rejects Heather Mills' claim of wealth before marriage to Paul McCartney\n",
      "gpt4\n",
      "Judge finds Heather Mills' claims of wealth in 1999 exaggerated and rejects her portrayal as Paul McCartney's business partner\n",
      "llama\n",
      "Judge finds Mills' wealth exaggerated and her living style unrealistic\n",
      "human\n",
      "President Taylor's daughter married future president of an enemy power\n",
      "claude\n",
      "Elizabeth Harrison Walker, daughter of President Benjamin Harrison, was an economic expert who appeared on radio and TV shows\n",
      "gpt35\n",
      "Elizabeth Harrison Walker: Accomplished woman, lawyer, economist, and media personality\n",
      "gpt4\n",
      "Elizabeth Harrison Walker, daughter of President Benjamin Harrison, became a lawyer and economic expert, appearing on radio and TV\n",
      "llama\n",
      "Sarah Knox Taylor Davis - Died at 21 after falling ill with malaria while visiting her husband's relatives in Louisiana\n"
     ]
    },
    {
     "name": "stderr",
     "output_type": "stream",
     "text": [
      "\n"
     ]
    }
   ],
   "source": [
    "for model in [\"gpt4\"]:\n",
    "    print(SOURCES)\n",
    "    visualize_similar(\"cnn\", model, starting_idx=998)"
   ]
  }
 ],
 "metadata": {
  "kernelspec": {
   "display_name": "self_recog",
   "language": "python",
   "name": "python3"
  },
  "language_info": {
   "codemirror_mode": {
    "name": "ipython",
    "version": 3
   },
   "file_extension": ".py",
   "mimetype": "text/x-python",
   "name": "python",
   "nbconvert_exporter": "python",
   "pygments_lexer": "ipython3",
   "version": "3.12.3"
  }
 },
 "nbformat": 4,
 "nbformat_minor": 2
}
