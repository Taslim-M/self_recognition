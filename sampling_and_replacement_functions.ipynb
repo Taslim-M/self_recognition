{
 "cells": [
  {
   "cell_type": "code",
   "execution_count": 43,
   "metadata": {},
   "outputs": [
    {
     "data": {
      "text/plain": [
       "'c:\\\\Users\\\\G34371231\\\\OneDrive - The George Washington University\\\\Desktop\\\\self_recognition'"
      ]
     },
     "execution_count": 43,
     "metadata": {},
     "output_type": "execute_result"
    }
   ],
   "source": [
    "from math import exp\n",
    "from pprint import pprint\n",
    "from random import shuffle\n",
    "\n",
    "from tqdm import tqdm\n",
    "import time\n",
    "import os\n",
    "\n",
    "import random\n",
    "import nltk\n",
    "from nltk.corpus import wordnet\n",
    "from nltk.tokenize import word_tokenize\n",
    "import openai\n",
    "\n",
    "os.getcwd()"
   ]
  },
  {
   "cell_type": "code",
   "execution_count": 44,
   "metadata": {},
   "outputs": [],
   "source": [
    "# Set the seed for reproducibility\n",
    "random.seed(123)\n",
    "all_words = [] #need to have different lists depending on method\n",
    "all_syn = []"
   ]
  },
  {
   "cell_type": "code",
   "execution_count": 45,
   "metadata": {},
   "outputs": [],
   "source": [
    "def ind_syn_ChatGPT(replacement_word):\n",
    "    #just returns the synonym provided by ChatGPT \n",
    "    #may wish to try system message where i describe desire behavior rather than in the prompt.\n",
    "    \n",
    "    openai.api_key = os.getenv(\"OPENAI_API_KEY\")\n",
    "\n",
    "    completion = openai.chat.completions.create(\n",
    "        model=\"gpt-4o-mini\",\n",
    "        messages=[\n",
    "            {\"role\": \"system\", \"content\": \"You are a helpful assistant.\"},\n",
    "            {\n",
    "                \"role\": \"user\",\n",
    "                \"content\": f'Provide a synonym for the word \"{replacement_word}\". Your response should strictly be the synonym, so that it may immediately replace the original word within some sentence. If you don not find a synonym just return the original word.'\n",
    "            }\n",
    "        ]\n",
    ")\n",
    "\n",
    "    #synonym = completion['choices'][0]['message']['content'].strip()\n",
    "    #synonym = completion.choices[0].message['content'].strip()\n",
    "    synonym = completion.choices[0].message.content.lower()\n",
    "    return synonym"
   ]
  },
  {
   "cell_type": "code",
   "execution_count": 46,
   "metadata": {},
   "outputs": [],
   "source": [
    "def syn_from_contxt_ChatGPT(replacement_phrase):\n",
    "    #performs synonym replacement with context. The replacement_phrase can be the entire sentence of the word to be replaced, or it can be a smaller phrase.\n",
    "    \n",
    "    openai.api_key = os.getenv(\"OPENAI_API_KEY\") # nosec\n",
    "        \n",
    "    completion = openai.chat.completions.create(\n",
    "        model=\"gpt-4o-mini\",\n",
    "        messages=[\n",
    "            {\"role\": \"system\", \"content\": \"You are a helpful assistant that rewrites phrases by replacing words surrounded by square brackets with synonyms while preserving context and meaning.\"},\n",
    "            {\n",
    "                \"role\": \"user\",\n",
    "                \"content\": f' \"There are word(s) in this phrase surrounded by square brackets []. Replace the words with their synonyms and get rid of the brackets. Your response is strictly the new phrase containing the synonyms. The phrase is: {replacement_phrase}'\n",
    "            }\n",
    "        ]\n",
    ")\n",
    "    synonym = completion.choices[0].message.content\n",
    "    return synonym"
   ]
  },
  {
   "cell_type": "code",
   "execution_count": 47,
   "metadata": {},
   "outputs": [],
   "source": [
    "def get_synonyms(word):\n",
    "    \"\"\"\n",
    "    Finds and returns synonyms for a given word using WordNet.\n",
    "    This function takes a word as input, searches for its synonyms \n",
    "    using the WordNet synsets, and returns a list of synonyms.\n",
    "\n",
    "    Args:\n",
    "        word (str): The word for which to find synonyms.\n",
    "    Returns:\n",
    "        list: A list of synonyms for the input word. Returns an \n",
    "              empty list if no synonyms are found.\n",
    "    \"\"\"\n",
    "    synonyms = []\n",
    "    for syn in wordnet.synsets(word):\n",
    "        for name in syn.lemma_names():\n",
    "            # Exclude the original word to avoid replacing it with itself\n",
    "            name = name.replace('_',' ')\n",
    "            if name.lower() != word.lower():\n",
    "                synonyms.append(name)\n",
    "    return synonyms"
   ]
  },
  {
   "cell_type": "code",
   "execution_count": 48,
   "metadata": {},
   "outputs": [],
   "source": [
    "def sample_words(words_alpha, num_words_to_replace):\n",
    "    # Randomly sample words to replace - i use 2x words just to account for words without synonym\n",
    "    idx_words = random.sample(list(enumerate(words_alpha)), min(2*num_words_to_replace, len(words_alpha)))\n",
    "    chosen_indices = []\n",
    "    words_to_replace = []\n",
    "    for pair in idx_words:\n",
    "        chosen_indices.append(pair[0])\n",
    "        words_to_replace.append(pair[1])  \n",
    "      \n",
    "    #idx_words is the list of words selected paired with their index in original sentence/phrase\n",
    "    #example: \"This is a test sentence to see which words get sampled, and what is returned by the replacement function.\"\n",
    "    #(1, 'is'), (8, 'words'), (2, 'a'), (13, 'is'), (4, 'sentence'), (18, 'function'), (0, 'This'), (6, 'see'), (17, 'replacement'), (10, 'sampled')\n",
    "    return chosen_indices, words_to_replace\n",
    "   "
   ]
  },
  {
   "cell_type": "code",
   "execution_count": 49,
   "metadata": {},
   "outputs": [],
   "source": [
    "def replace_words_WordNet(sentence, num_words_to_replace):\n",
    "    \"\"\"\n",
    "    Replaces a specified number of words in a sentence with their synonyms using\n",
    "    the WordNet library, and then using ChatGPT. \n",
    "\n",
    "    This function takes a sentence and an integer specifying the number of words \n",
    "    to replace with synonyms. It randomly samples 2x the required number of words \n",
    "    to ensure replacements are possible even if some words do not have synonyms.\n",
    "    It uses the `get_synonyms` function to find synonyms for each sampled word,\n",
    "    and replaces words in the sentence until the specified number is reached.\n",
    "\n",
    "    Args:\n",
    "        sentence (str): The input sentence from which words will be replaced.\n",
    "        num_words_to_replace (int): The number of words in the sentence to be replaced by synonyms.\n",
    "\n",
    "    Returns:\n",
    "        str: The modified sentence with the specified number of words replaced by synonyms.\n",
    "    \"\"\"\n",
    "    \n",
    "    # Tokenize the sentence\n",
    "    words = word_tokenize(sentence)\n",
    "    # Filter out non-alphabetic tokens (like punctuation)\n",
    "    words_alpha = [word for word in words if word.isalpha()]\n",
    "    \n",
    "    # Randomly sample words to replace - i use 2x words just to account for words without synonym\n",
    "    indices, words_to_replace = sample_words(words_alpha, num_words_to_replace)\n",
    "    print(words_to_replace)\n",
    "    print(indices)\n",
    "    # Create a new sentence with synonyms replaced\n",
    "    words_replaced = 0\n",
    "    new_sentence = []\n",
    "    for word in words:\n",
    "        if word in words_to_replace and words_alpha.index(word) in indices:\n",
    "            synonyms = get_synonyms(word)\n",
    "            if synonyms and words_replaced < num_words_to_replace:\n",
    "                # Replace with a random synonym\n",
    "                new_word = random.choice(synonyms)\n",
    "                new_sentence.append(new_word)\n",
    "                #operational\n",
    "                all_words.append(word)\n",
    "                all_syn.append(synonyms)\n",
    "                words_replaced +=1\n",
    "            else:\n",
    "                # If no synonym is found, keep the original word\n",
    "                new_sentence.append(word)\n",
    "        else:\n",
    "            new_sentence.append(word)\n",
    "    \n",
    "    return ' '.join(new_sentence)\n",
    "    return"
   ]
  },
  {
   "cell_type": "code",
   "execution_count": 38,
   "metadata": {},
   "outputs": [
    {
     "name": "stdout",
     "output_type": "stream",
     "text": [
      "['is', 'function', 'This', 'test', 'get', 'is']\n",
      "[13, 18, 0, 3, 9, 1]\n",
      "This be a prove sentence to see which words bring sampled , and what is returned by the replacement function .\n"
     ]
    }
   ],
   "source": [
    "sentence =  \"This is a test sentence to see which words get sampled, and what is returned by the replacement function.\"\n",
    "num_words_to_replace = 3\n",
    "new_sentence = replace_words_WordNet(sentence, num_words_to_replace)\n",
    "print(new_sentence)"
   ]
  },
  {
   "cell_type": "code",
   "execution_count": 50,
   "metadata": {},
   "outputs": [],
   "source": [
    "def replace_words_ChatGPT(sentence,num_words_to_replace):\n",
    "    #function to perform synonym replacement for individual words, without context provided\n",
    "    # Tokenize the sentence\n",
    "    words = word_tokenize(sentence)\n",
    "    # Filter out non-alphabetic tokens (like punctuation)\n",
    "    words_alpha = [word for word in words if word.isalpha()]\n",
    "\n",
    "    # Randomly sample words to replace - i use 2x words just to account for words without synonym\n",
    "    replacement_indices, words_to_replace = sample_words(words_alpha, num_words_to_replace)\n",
    "    print(replacement_indices)\n",
    "    print(words_to_replace)\n",
    "    # Create a new sentence with synonyms replaced\n",
    "    words_replaced = 0\n",
    "    new_sentence = []\n",
    "    for word in words:\n",
    "        if word in words_to_replace and words_alpha.index(word) in replacement_indices and words_replaced < num_words_to_replace:\n",
    "            #ask chatGPT for synonym\n",
    "            new_word = ind_syn_ChatGPT(word) \n",
    "            new_sentence.append(new_word)\n",
    "            #operational\n",
    "            all_words.append(word)\n",
    "            words_replaced +=1\n",
    "        else:\n",
    "            new_sentence.append(word)\n",
    "    \n",
    "    return ' '.join(new_sentence)\n",
    "    return ' '.join(new_sentence)"
   ]
  },
  {
   "cell_type": "code",
   "execution_count": 40,
   "metadata": {},
   "outputs": [
    {
     "name": "stdout",
     "output_type": "stream",
     "text": [
      "[2, 13, 0, 12, 1, 8, 11, 10, 6, 16]\n",
      "['a', 'is', 'This', 'what', 'is', 'words', 'and', 'sampled', 'see', 'the']\n"
     ]
    },
    {
     "data": {
      "text/plain": [
       "'it equals one test sentence to observe which terms get sampled , and what is returned by the replacement function .'"
      ]
     },
     "execution_count": 40,
     "metadata": {},
     "output_type": "execute_result"
    }
   ],
   "source": [
    "sentence = \"This is a test sentence to see which words get sampled, and what is returned by the replacement function.\"\n",
    "num_words_to_replace = 5\n",
    "replace_words_ChatGPT(sentence, 5)"
   ]
  },
  {
   "cell_type": "code",
   "execution_count": 51,
   "metadata": {},
   "outputs": [],
   "source": [
    "def insert_brackets(phrase, indices):\n",
    "    for i in indices:\n",
    "        if 0 <= i < len(phrase):\n",
    "            phrase[i] = f\"[{phrase[i]}]\"\n",
    "    new_phrase = ' '.join(phrase)\n",
    "    return new_phrase"
   ]
  },
  {
   "cell_type": "code",
   "execution_count": 52,
   "metadata": {},
   "outputs": [],
   "source": [
    "def replace_words_ChatGPT_context(sentence, num_words_to_replace):\n",
    "#get indices of words randomly sampled from sentence/phrase\n",
    "#indices are passed into llm prompting function to replace words given some context. \n",
    "    # Tokenize the sentence\n",
    "    words = word_tokenize(sentence)\n",
    "    # Filter out non-alphabetic tokens (like punctuation)\n",
    "    words_alpha = [word for word in words if word.isalpha()]\n",
    "    \n",
    "    # Randomly sample words to replace - i use 2x words just to account for words without synonym\n",
    "    replacement_indices, words_to_replace = sample_words(words_alpha, num_words_to_replace)\n",
    "    print(replacement_indices)\n",
    "    print(words_to_replace)\n",
    "\n",
    "    phrase_to_replace = insert_brackets(words_alpha, replacement_indices)\n",
    "    new_phrase = syn_from_contxt_ChatGPT(phrase_to_replace)\n",
    "    return new_phrase"
   ]
  },
  {
   "cell_type": "code",
   "execution_count": 42,
   "metadata": {},
   "outputs": [
    {
     "name": "stdout",
     "output_type": "stream",
     "text": [
      "[10, 8, 15, 1, 12, 17, 5, 6, 14, 0]\n",
      "['sampled', 'words', 'by', 'is', 'what', 'replacement', 'to', 'see', 'returned', 'This']\n"
     ]
    },
    {
     "data": {
      "text/plain": [
       "'This serves as a test sentence to determine which terms get selected and what is provided through the substitution function.'"
      ]
     },
     "execution_count": 42,
     "metadata": {},
     "output_type": "execute_result"
    }
   ],
   "source": [
    "sentence = \"This is a test sentence to see which words get sampled, and what is returned by the replacement function.\"\n",
    "num_words_to_replace = 5\n",
    "replace_words_ChatGPT_context(sentence, 5)\n",
    "#does not always preserve punctuation at end of sentence.\n",
    "#doing pairwise measurements\n",
    "#make sure to save results of replacement functions in json file\n",
    "#how to choose length of phrases/context window passed to the replacement functions? \n"
   ]
  }
 ],
 "metadata": {
  "kernelspec": {
   "display_name": "self_recog",
   "language": "python",
   "name": "python3"
  },
  "language_info": {
   "codemirror_mode": {
    "name": "ipython",
    "version": 3
   },
   "file_extension": ".py",
   "mimetype": "text/x-python",
   "name": "python",
   "nbconvert_exporter": "python",
   "pygments_lexer": "ipython3",
   "version": "3.12.3"
  }
 },
 "nbformat": 4,
 "nbformat_minor": 2
}
