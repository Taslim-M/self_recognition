{
 "cells": [
  {
   "cell_type": "code",
   "execution_count": 2,
   "metadata": {},
   "outputs": [],
   "source": [
    "import json\n",
    "import pandas as pd\n",
    "from tabulate import tabulate"
   ]
  },
  {
   "cell_type": "code",
   "execution_count": 6,
   "metadata": {},
   "outputs": [],
   "source": [
    "with open(\".\\quality\\quality_responses.json\", 'r') as file:\n",
    "    responses = json.load(file)"
   ]
  },
  {
   "cell_type": "markdown",
   "metadata": {},
   "source": [
    "# Original"
   ]
  },
  {
   "cell_type": "markdown",
   "metadata": {},
   "source": [
    "### Preference (Harmful self pref)"
   ]
  },
  {
   "cell_type": "code",
   "execution_count": 9,
   "metadata": {},
   "outputs": [],
   "source": [
    "with open('.\\quality\\self_pref_quality.json', 'r') as file:\n",
    "    preference_results = json.load(file)"
   ]
  },
  {
   "cell_type": "code",
   "execution_count": 61,
   "metadata": {},
   "outputs": [
    {
     "name": "stdout",
     "output_type": "stream",
     "text": [
      "+----------------------------------+---------+---------+---------+---------+\n",
      "|                                  |   (1,1) |   (1,2) |   (2,1) |   (2,2) |\n",
      "+==================================+=========+=========+=========+=========+\n",
      "| DeepSeek-V3                      |   44.00 |  109.00 |  119.00 |   27.00 |\n",
      "+----------------------------------+---------+---------+---------+---------+\n",
      "| Meta-Llama-3.1-8B-Instruct-Turbo |  655.00 |   38.00 |  422.00 |    5.00 |\n",
      "+----------------------------------+---------+---------+---------+---------+\n",
      "| Qwen2.5-7B-Instruct-Turbo        |  135.00 |  113.00 |  535.00 |  151.00 |\n",
      "+----------------------------------+---------+---------+---------+---------+\n",
      "\n",
      "Percentages\n",
      "+----------------------------------+---------+---------+---------+---------+\n",
      "|                                  |   (1,1) |   (1,2) |   (2,1) |   (2,2) |\n",
      "+==================================+=========+=========+=========+=========+\n",
      "| DeepSeek-V3                      |   14.72 |   36.45 |   39.80 |    9.03 |\n",
      "+----------------------------------+---------+---------+---------+---------+\n",
      "| Meta-Llama-3.1-8B-Instruct-Turbo |   58.48 |    3.39 |   37.68 |    0.45 |\n",
      "+----------------------------------+---------+---------+---------+---------+\n",
      "| Qwen2.5-7B-Instruct-Turbo        |   14.45 |   12.10 |   57.28 |   16.17 |\n",
      "+----------------------------------+---------+---------+---------+---------+\n"
     ]
    }
   ],
   "source": [
    "df = pd.DataFrame(preference_results)\n",
    "\n",
    "# Initialize a dictionary to store counts grouped by evaluator\n",
    "grouped_counts = {}\n",
    "\n",
    "# Group by evaluator and count occurrences\n",
    "for evaluator, group in df.groupby(\"evaluator\"):\n",
    "    count_1_1 = ((group[\"forward_comparison\"] == \"1\") & (group[\"backward_comparison\"] == \"1\")).sum()\n",
    "    count_1_2 = ((group[\"forward_comparison\"] == \"1\") & (group[\"backward_comparison\"] == \"2\")).sum()\n",
    "    count_2_1 = ((group[\"forward_comparison\"] == \"2\") & (group[\"backward_comparison\"] == \"1\")).sum()\n",
    "    count_2_2 = ((group[\"forward_comparison\"] == \"2\") & (group[\"backward_comparison\"] == \"2\")).sum()\n",
    "\n",
    "    grouped_counts[evaluator] = {\n",
    "        \"(1,1)\": count_1_1,\n",
    "        \"(1,2)\": count_1_2,\n",
    "        \"(2,1)\": count_2_1,\n",
    "        \"(2,2)\": count_2_2,\n",
    "    }\n",
    "\n",
    "# Convert to DataFrame for display\n",
    "grouped_counts_df = pd.DataFrame.from_dict(grouped_counts, orient=\"index\")\n",
    "print(tabulate(grouped_counts_df, headers=\"keys\", tablefmt=\"grid\", floatfmt=\".2f\"))\n",
    "print(\"\\nPercentages\")\n",
    "# Convert counts to percentages\n",
    "grouped_counts_df_percentage = grouped_counts_df.div(grouped_counts_df.sum(axis=1), axis=0) * 100\n",
    "\n",
    "# Print the result in table format\n",
    "print(tabulate(grouped_counts_df_percentage, headers=\"keys\", tablefmt=\"grid\", floatfmt=\".2f\"))"
   ]
  },
  {
   "cell_type": "code",
   "execution_count": null,
   "metadata": {},
   "outputs": [],
   "source": [
    "with open('.\\quality\\self_recog_quality.json', 'r') as file:\n",
    "    results = json.load(file)\n",
    "recog_results = results"
   ]
  },
  {
   "cell_type": "code",
   "execution_count": null,
   "metadata": {},
   "outputs": [],
   "source": [
    "df = pd.DataFrame(recog_results)\n",
    "\n",
    "# Initialize a dictionary to store counts grouped by evaluator\n",
    "grouped_counts = {}\n",
    "print(\"DETECTION\")\n",
    "# Group by evaluator and count occurrences\n",
    "for evaluator, group in df.groupby(\"evaluator\"):\n",
    "    count_1_1 = ((group[\"forward_detection\"] == \"1\") & (group[\"backward_detection\"] == \"1\")).sum()\n",
    "    count_1_2 = ((group[\"forward_detection\"] == \"1\") & (group[\"backward_detection\"] == \"2\")).sum()\n",
    "    count_2_1 = ((group[\"forward_detection\"] == \"2\") & (group[\"backward_detection\"] == \"1\")).sum()\n",
    "    count_2_2 = ((group[\"forward_detection\"] == \"2\") & (group[\"backward_detection\"] == \"2\")).sum()\n",
    "\n",
    "    grouped_counts[evaluator] = {\n",
    "        \"(1,1)\": count_1_1,\n",
    "        \"(1,2)\": count_1_2,\n",
    "        \"(2,1)\": count_2_1,\n",
    "        \"(2,2)\": count_2_2,\n",
    "    }\n",
    "\n",
    "# Convert to DataFrame for display\n",
    "grouped_counts_df = pd.DataFrame.from_dict(grouped_counts, orient=\"index\")\n",
    "\n",
    "# Convert counts to percentages\n",
    "grouped_counts_df_percentage = grouped_counts_df.div(grouped_counts_df.sum(axis=1), axis=0) * 100\n",
    "\n",
    "# Print the result in table format\n",
    "print(tabulate(grouped_counts_df_percentage, headers=\"keys\", tablefmt=\"grid\", floatfmt=\".2f\"))"
   ]
  },
  {
   "cell_type": "markdown",
   "metadata": {},
   "source": [
    "### Preference/Recog (both correct)"
   ]
  },
  {
   "cell_type": "code",
   "execution_count": 3,
   "metadata": {},
   "outputs": [],
   "source": [
    "with open('.\\quality\\pref_both_correct_quality.json', 'r') as file:\n",
    "    preference_results_both_correct = json.load(file)"
   ]
  },
  {
   "cell_type": "markdown",
   "metadata": {},
   "source": [
    "### Preference/Recog (both wrong)"
   ]
  },
  {
   "cell_type": "code",
   "execution_count": 4,
   "metadata": {},
   "outputs": [],
   "source": [
    "with open('.\\quality\\pref_both_wrong_quality.json', 'r') as file:\n",
    "    preference_results_both_wrong = json.load(file)"
   ]
  },
  {
   "cell_type": "markdown",
   "metadata": {},
   "source": [
    "### Pref Other wrong (source correct)"
   ]
  },
  {
   "cell_type": "code",
   "execution_count": 10,
   "metadata": {},
   "outputs": [],
   "source": [
    "with open('.\\quality\\pref_other_wrong_quality.json', 'r') as file:\n",
    "    preference_results_other_wrong = json.load(file)"
   ]
  },
  {
   "cell_type": "markdown",
   "metadata": {},
   "source": [
    "### Overall Answer (QA) Acc"
   ]
  },
  {
   "cell_type": "code",
   "execution_count": 4,
   "metadata": {},
   "outputs": [],
   "source": [
    "with open(\".\\quality\\quality_responses.json\", 'r') as file:\n",
    "    responses = json.load(file)"
   ]
  },
  {
   "cell_type": "code",
   "execution_count": 5,
   "metadata": {},
   "outputs": [
    {
     "name": "stdout",
     "output_type": "stream",
     "text": [
      "+----+----------------------------------------+-----------+---------+-----------------------+\n",
      "|    | Model                                  |   Correct |   Total | Answer Accuracy (%)   |\n",
      "+====+========================================+===========+=========+=======================+\n",
      "|  0 | Meta-Llama-3.1-8B-Instruct-Turbo       |       844 |    2077 | 40.64%                |\n",
      "+----+----------------------------------------+-----------+---------+-----------------------+\n",
      "|  1 | Qwen2.5-7B-Instruct-Turbo              |       934 |    2078 | 44.95%                |\n",
      "+----+----------------------------------------+-----------+---------+-----------------------+\n",
      "|  2 | Llama-4-Maverick-17B-128E-Instruct-FP8 |      1224 |    2086 | 58.68%                |\n",
      "+----+----------------------------------------+-----------+---------+-----------------------+\n",
      "|  3 | Llama-4-Scout-17B-16E-Instruct         |      1089 |    2086 | 52.21%                |\n",
      "+----+----------------------------------------+-----------+---------+-----------------------+\n",
      "|  4 | DeepSeek-V3                            |      1410 |    2086 | 67.59%                |\n",
      "+----+----------------------------------------+-----------+---------+-----------------------+\n"
     ]
    }
   ],
   "source": [
    "# Define model names\n",
    "model_names = [ \"Meta-Llama-3.1-8B-Instruct-Turbo\",  \"Qwen2.5-7B-Instruct-Turbo\", \"Llama-4-Maverick-17B-128E-Instruct-FP8\",\"Llama-4-Scout-17B-16E-Instruct\",  \"DeepSeek-V3\"]\n",
    "\n",
    "# Initialize result tracking\n",
    "accuracy_results = {model: {'correct': 0, 'total': 0} for model in model_names}\n",
    "\n",
    "# Calculate accuracy for each model\n",
    "for record in responses:\n",
    "    gt_label = record.get('output_label')\n",
    "    for model in model_names:\n",
    "        model_label = record.get(f\"{model}_output_label\")\n",
    "        if model_label is not None:\n",
    "            accuracy_results[model]['total'] += 1\n",
    "            if model_label == gt_label:\n",
    "                accuracy_results[model]['correct'] += 1\n",
    "\n",
    "# Create a DataFrame with counts and accuracy percentages\n",
    "accuracy_df = pd.DataFrame([\n",
    "    {\n",
    "        \"Model\": model,\n",
    "        \"Correct\": result[\"correct\"],\n",
    "        \"Total\": result[\"total\"],\n",
    "        \"Answer Accuracy (%)\": f\"{(result['correct'] / result['total'] * 100):.2f}%\" if result[\"total\"] > 0 else \"N/A\"\n",
    "    }\n",
    "    for model, result in accuracy_results.items()\n",
    "])\n",
    "\n",
    "# Print the result\n",
    "print(tabulate(accuracy_df, headers=\"keys\", tablefmt=\"grid\"))"
   ]
  },
  {
   "cell_type": "markdown",
   "metadata": {},
   "source": [
    "## Overall Evaluator Accuracy"
   ]
  },
  {
   "cell_type": "code",
   "execution_count": 11,
   "metadata": {},
   "outputs": [],
   "source": [
    "with open('.\\quality\\self_pref_quality.json', 'r') as file:\n",
    "    preference_results = json.load(file)\n",
    "    \n",
    "with open('.\\quality\\pref_other_wrong_quality.json', 'r') as file:\n",
    "    preference_results_other_wrong = json.load(file)"
   ]
  },
  {
   "cell_type": "code",
   "execution_count": 13,
   "metadata": {},
   "outputs": [
    {
     "name": "stdout",
     "output_type": "stream",
     "text": [
      "\n",
      "Evaluator Accuracy Results\n",
      "+----+----------------------------------------+-----------+---------+----------------+\n",
      "|    | Model                                  |   Correct |   Total | Accuracy (%)   |\n",
      "+====+========================================+===========+=========+================+\n",
      "|  0 | Meta-Llama-3.1-8B-Instruct-Turbo       |       999 |    3085 | 32.38%         |\n",
      "+----+----------------------------------------+-----------+---------+----------------+\n",
      "|  1 | Qwen2.5-7B-Instruct-Turbo              |      1582 |    2873 | 55.06%         |\n",
      "+----+----------------------------------------+-----------+---------+----------------+\n",
      "|  2 | Llama-4-Scout-17B-16E-Instruct         |      1678 |    2465 | 68.07%         |\n",
      "+----+----------------------------------------+-----------+---------+----------------+\n",
      "|  3 | Llama-4-Maverick-17B-128E-Instruct-FP8 |      1634 |    2030 | 80.49%         |\n",
      "+----+----------------------------------------+-----------+---------+----------------+\n",
      "|  4 | DeepSeek-V3                            |      2286 |    2750 | 83.13%         |\n",
      "+----+----------------------------------------+-----------+---------+----------------+\n"
     ]
    }
   ],
   "source": [
    "# Model list\n",
    "model_names = [ \"Meta-Llama-3.1-8B-Instruct-Turbo\",  \"Qwen2.5-7B-Instruct-Turbo\", \"Llama-4-Scout-17B-16E-Instruct\", \"Llama-4-Maverick-17B-128E-Instruct-FP8\", \"DeepSeek-V3\"]\n",
    "\n",
    "# Initialize tracking dictionaries\n",
    "result_stats = {model: {\"correct\": 0, \"total\": 0} for model in model_names}\n",
    "\n",
    "# Process preference_results\n",
    "for record in preference_results:\n",
    "    model = record[\"evaluator\"]\n",
    "    if model in result_stats:\n",
    "        result_stats[model][\"total\"] += 1\n",
    "        if record[\"forward_comparison\"] == \"2\" and record[\"backward_comparison\"] == \"1\":\n",
    "            result_stats[model][\"correct\"] += 1\n",
    "\n",
    "# Process preference_results_other_wrong\n",
    "for record in preference_results_other_wrong:\n",
    "    model = record[\"evaluator\"]\n",
    "    if model in result_stats:\n",
    "        result_stats[model][\"total\"] += 1\n",
    "        if record[\"forward_comparison\"] == \"1\" and record[\"backward_comparison\"] == \"2\":\n",
    "            result_stats[model][\"correct\"] += 1\n",
    "\n",
    "# Create DataFrame to display results\n",
    "results_df = pd.DataFrame([\n",
    "    {\n",
    "        \"Model\": model,\n",
    "        \"Correct\": stats[\"correct\"],\n",
    "        \"Total\": stats[\"total\"],\n",
    "        \"Accuracy (%)\": f\"{(stats['correct'] / stats['total'] * 100):.2f}%\" if stats[\"total\"] > 0 else \"N/A\"\n",
    "    }\n",
    "    for model, stats in result_stats.items()\n",
    "])\n",
    "\n",
    "print(\"\\nEvaluator Accuracy Results\")\n",
    "# Display the table\n",
    "print(tabulate(results_df, headers=\"keys\", tablefmt=\"grid\"))"
   ]
  },
  {
   "cell_type": "markdown",
   "metadata": {},
   "source": [
    "#### In Harmful Quadrant"
   ]
  },
  {
   "cell_type": "code",
   "execution_count": 12,
   "metadata": {},
   "outputs": [
    {
     "name": "stdout",
     "output_type": "stream",
     "text": [
      "\n",
      "Evaluator Accuracy Results\n",
      "+----+----------------------------------------+-----------+---------+----------------+\n",
      "|    | Model                                  |   Correct |   Total | Accuracy (%)   |\n",
      "+====+========================================+===========+=========+================+\n",
      "|  0 | Meta-Llama-3.1-8B-Instruct-Turbo       |       905 |    2174 | 41.63%         |\n",
      "+----+----------------------------------------+-----------+---------+----------------+\n",
      "|  1 | Qwen2.5-7B-Instruct-Turbo              |      1180 |    1844 | 63.99%         |\n",
      "+----+----------------------------------------+-----------+---------+----------------+\n",
      "|  2 | Llama-4-Scout-17B-16E-Instruct         |       727 |    1266 | 57.42%         |\n",
      "+----+----------------------------------------+-----------+---------+----------------+\n",
      "|  3 | Llama-4-Maverick-17B-128E-Instruct-FP8 |       503 |     779 | 64.57%         |\n",
      "+----+----------------------------------------+-----------+---------+----------------+\n",
      "|  4 | DeepSeek-V3                            |       320 |     606 | 52.81%         |\n",
      "+----+----------------------------------------+-----------+---------+----------------+\n"
     ]
    }
   ],
   "source": [
    "model_names = [ \"Meta-Llama-3.1-8B-Instruct-Turbo\",  \"Qwen2.5-7B-Instruct-Turbo\", \"Llama-4-Scout-17B-16E-Instruct\", \"Llama-4-Maverick-17B-128E-Instruct-FP8\", \"DeepSeek-V3\"]\n",
    "\n",
    "\n",
    "# Initialize tracking dictionaries\n",
    "result_stats = {model: {\"correct\": 0, \"total\": 0} for model in model_names}\n",
    "\n",
    "# Process preference_results\n",
    "for record in preference_results:\n",
    "    model = record[\"evaluator\"]\n",
    "    if model in result_stats:\n",
    "        result_stats[model][\"total\"] += 1\n",
    "        if record[\"forward_comparison\"] == \"2\" and record[\"backward_comparison\"] == \"1\":\n",
    "            result_stats[model][\"correct\"] += 1\n",
    "\n",
    "\n",
    "# Create DataFrame to display results\n",
    "results_df = pd.DataFrame([\n",
    "    {\n",
    "        \"Model\": model,\n",
    "        \"Correct\": stats[\"correct\"],\n",
    "        \"Total\": stats[\"total\"],\n",
    "        \"Accuracy (%)\": f\"{(stats['correct'] / stats['total'] * 100):.2f}%\" if stats[\"total\"] > 0 else \"N/A\"\n",
    "    }\n",
    "    for model, stats in result_stats.items()\n",
    "])\n",
    "\n",
    "print(\"\\nEvaluator Accuracy Results\")\n",
    "# Display the table\n",
    "print(tabulate(results_df, headers=\"keys\", tablefmt=\"grid\"))"
   ]
  },
  {
   "cell_type": "markdown",
   "metadata": {},
   "source": [
    "#### In Beneficial Quadrant"
   ]
  },
  {
   "cell_type": "code",
   "execution_count": 11,
   "metadata": {},
   "outputs": [
    {
     "name": "stdout",
     "output_type": "stream",
     "text": [
      "\n",
      "Evaluator Accuracy Results\n",
      "+----+----------------------------------------+-----------+---------+----------------+\n",
      "|    | Model                                  |   Correct |   Total | Accuracy (%)   |\n",
      "+====+========================================+===========+=========+================+\n",
      "|  0 | Meta-Llama-3.1-8B-Instruct-Turbo       |        94 |     911 | 10.32%         |\n",
      "+----+----------------------------------------+-----------+---------+----------------+\n",
      "|  1 | Qwen2.5-7B-Instruct-Turbo              |       402 |    1029 | 39.07%         |\n",
      "+----+----------------------------------------+-----------+---------+----------------+\n",
      "|  2 | Llama-4-Scout-17B-16E-Instruct         |       951 |    1199 | 79.32%         |\n",
      "+----+----------------------------------------+-----------+---------+----------------+\n",
      "|  3 | Llama-4-Maverick-17B-128E-Instruct-FP8 |      1131 |    1251 | 90.41%         |\n",
      "+----+----------------------------------------+-----------+---------+----------------+\n",
      "|  4 | DeepSeek-V3                            |      1966 |    2144 | 91.70%         |\n",
      "+----+----------------------------------------+-----------+---------+----------------+\n"
     ]
    }
   ],
   "source": [
    "# Model list\n",
    "model_names = [ \"Meta-Llama-3.1-8B-Instruct-Turbo\",  \"Qwen2.5-7B-Instruct-Turbo\", \"Llama-4-Scout-17B-16E-Instruct\", \"Llama-4-Maverick-17B-128E-Instruct-FP8\", \"DeepSeek-V3\"]\n",
    "\n",
    "\n",
    "# Initialize tracking dictionaries\n",
    "result_stats = {model: {\"correct\": 0, \"total\": 0} for model in model_names}\n",
    "\n",
    "# Process preference_results\n",
    "for record in preference_results_other_wrong:\n",
    "    model = record[\"evaluator\"]\n",
    "    if model in result_stats:\n",
    "        result_stats[model][\"total\"] += 1\n",
    "        if record[\"forward_comparison\"] == \"1\" and record[\"backward_comparison\"] == \"2\":\n",
    "            result_stats[model][\"correct\"] += 1\n",
    "\n",
    "\n",
    "# Create DataFrame to display results\n",
    "results_df = pd.DataFrame([\n",
    "    {\n",
    "        \"Model\": model,\n",
    "        \"Correct\": stats[\"correct\"],\n",
    "        \"Total\": stats[\"total\"],\n",
    "        \"Accuracy (%)\": f\"{(stats['correct'] / stats['total'] * 100):.2f}%\" if stats[\"total\"] > 0 else \"N/A\"\n",
    "    }\n",
    "    for model, stats in result_stats.items()\n",
    "])\n",
    "\n",
    "print(\"\\nEvaluator Accuracy Results\")\n",
    "# Display the table\n",
    "print(tabulate(results_df, headers=\"keys\", tablefmt=\"grid\"))"
   ]
  },
  {
   "cell_type": "markdown",
   "metadata": {},
   "source": [
    "## Win according to GT"
   ]
  },
  {
   "cell_type": "code",
   "execution_count": 8,
   "metadata": {},
   "outputs": [
    {
     "name": "stdout",
     "output_type": "stream",
     "text": [
      "+----+----------------------------------------+----------------------------------------+---------------------+--------------------+---------------------------+\n",
      "|    | Model A                                | Model B                                |   Total Comparisons |   Wins for Model A | Winning Percentage (GT)   |\n",
      "+====+========================================+========================================+=====================+====================+===========================+\n",
      "|  0 | Meta-Llama-3.1-8B-Instruct-Turbo       | Qwen2.5-7B-Instruct-Turbo              |                2073 |                318 | 15.34%                    |\n",
      "+----+----------------------------------------+----------------------------------------+---------------------+--------------------+---------------------------+\n",
      "|  1 | Qwen2.5-7B-Instruct-Turbo              | Meta-Llama-3.1-8B-Instruct-Turbo       |                2073 |                407 | 19.63%                    |\n",
      "+----+----------------------------------------+----------------------------------------+---------------------+--------------------+---------------------------+\n",
      "|  2 | Meta-Llama-3.1-8B-Instruct-Turbo       | Llama-4-Scout-17B-16E-Instruct         |                2081 |                240 | 11.53%                    |\n",
      "+----+----------------------------------------+----------------------------------------+---------------------+--------------------+---------------------------+\n",
      "|  3 | Llama-4-Scout-17B-16E-Instruct         | Meta-Llama-3.1-8B-Instruct-Turbo       |                2081 |                480 | 23.07%                    |\n",
      "+----+----------------------------------------+----------------------------------------+---------------------+--------------------+---------------------------+\n",
      "|  4 | Meta-Llama-3.1-8B-Instruct-Turbo       | Llama-4-Maverick-17B-128E-Instruct-FP8 |                2081 |                200 | 9.61%                     |\n",
      "+----+----------------------------------------+----------------------------------------+---------------------+--------------------+---------------------------+\n",
      "|  5 | Llama-4-Maverick-17B-128E-Instruct-FP8 | Meta-Llama-3.1-8B-Instruct-Turbo       |                2081 |                576 | 27.68%                    |\n",
      "+----+----------------------------------------+----------------------------------------+---------------------+--------------------+---------------------------+\n",
      "|  6 | Meta-Llama-3.1-8B-Instruct-Turbo       | DeepSeek-V3                            |                2081 |                153 | 7.35%                     |\n",
      "+----+----------------------------------------+----------------------------------------+---------------------+--------------------+---------------------------+\n",
      "|  7 | DeepSeek-V3                            | Meta-Llama-3.1-8B-Instruct-Turbo       |                2081 |                715 | 34.36%                    |\n",
      "+----+----------------------------------------+----------------------------------------+---------------------+--------------------+---------------------------+\n",
      "|  8 | Qwen2.5-7B-Instruct-Turbo              | Llama-4-Scout-17B-16E-Instruct         |                2078 |                251 | 12.08%                    |\n",
      "+----+----------------------------------------+----------------------------------------+---------------------+--------------------+---------------------------+\n",
      "|  9 | Llama-4-Scout-17B-16E-Instruct         | Qwen2.5-7B-Instruct-Turbo              |                2078 |                401 | 19.30%                    |\n",
      "+----+----------------------------------------+----------------------------------------+---------------------+--------------------+---------------------------+\n",
      "| 10 | Qwen2.5-7B-Instruct-Turbo              | Llama-4-Maverick-17B-128E-Instruct-FP8 |                2078 |                226 | 10.88%                    |\n",
      "+----+----------------------------------------+----------------------------------------+---------------------+--------------------+---------------------------+\n",
      "| 11 | Llama-4-Maverick-17B-128E-Instruct-FP8 | Qwen2.5-7B-Instruct-Turbo              |                2078 |                509 | 24.49%                    |\n",
      "+----+----------------------------------------+----------------------------------------+---------------------+--------------------+---------------------------+\n",
      "| 12 | Qwen2.5-7B-Instruct-Turbo              | DeepSeek-V3                            |                2078 |                146 | 7.03%                     |\n",
      "+----+----------------------------------------+----------------------------------------+---------------------+--------------------+---------------------------+\n",
      "| 13 | DeepSeek-V3                            | Qwen2.5-7B-Instruct-Turbo              |                2078 |                616 | 29.64%                    |\n",
      "+----+----------------------------------------+----------------------------------------+---------------------+--------------------+---------------------------+\n",
      "| 14 | Llama-4-Scout-17B-16E-Instruct         | Llama-4-Maverick-17B-128E-Instruct-FP8 |                2086 |                179 | 8.58%                     |\n",
      "+----+----------------------------------------+----------------------------------------+---------------------+--------------------+---------------------------+\n",
      "| 15 | Llama-4-Maverick-17B-128E-Instruct-FP8 | Llama-4-Scout-17B-16E-Instruct         |                2086 |                314 | 15.05%                    |\n",
      "+----+----------------------------------------+----------------------------------------+---------------------+--------------------+---------------------------+\n",
      "| 16 | Llama-4-Scout-17B-16E-Instruct         | DeepSeek-V3                            |                2086 |                140 | 6.71%                     |\n",
      "+----+----------------------------------------+----------------------------------------+---------------------+--------------------+---------------------------+\n",
      "| 17 | DeepSeek-V3                            | Llama-4-Scout-17B-16E-Instruct         |                2086 |                461 | 22.10%                    |\n",
      "+----+----------------------------------------+----------------------------------------+---------------------+--------------------+---------------------------+\n",
      "| 18 | Llama-4-Maverick-17B-128E-Instruct-FP8 | DeepSeek-V3                            |                2086 |                167 | 8.01%                     |\n",
      "+----+----------------------------------------+----------------------------------------+---------------------+--------------------+---------------------------+\n",
      "| 19 | DeepSeek-V3                            | Llama-4-Maverick-17B-128E-Instruct-FP8 |                2086 |                353 | 16.92%                    |\n",
      "+----+----------------------------------------+----------------------------------------+---------------------+--------------------+---------------------------+\n"
     ]
    }
   ],
   "source": [
    "# Reinitialize pairwise score dictionary with default values using defaultdict\n",
    "from collections import defaultdict\n",
    "from itertools import combinations\n",
    "# Initialize pairwise score dictionary with default value 0\n",
    "pairwise_scores = defaultdict(int)\n",
    "\n",
    "model_names = [ \"Meta-Llama-3.1-8B-Instruct-Turbo\",  \"Qwen2.5-7B-Instruct-Turbo\", \"Llama-4-Scout-17B-16E-Instruct\", \"Llama-4-Maverick-17B-128E-Instruct-FP8\", \"DeepSeek-V3\"]\n",
    "\n",
    "# Initialize a dictionary to track total comparisons\n",
    "pairwise_total_comparisons = defaultdict(int)\n",
    "\n",
    "# Process each record\n",
    "for record in responses:\n",
    "    gt_label = record['output_label']\n",
    "    \n",
    "    # Determine correctness of each model, handling missing values\n",
    "    correctness = {\n",
    "        model: (record.get(f\"{model}_output_label\") == gt_label) if f\"{model}_output_label\" in record else None\n",
    "        for model in model_names\n",
    "    }\n",
    "    \n",
    "    # Compare every pair of models\n",
    "    for model_a, model_b in combinations(model_names, 2):\n",
    "        if correctness[model_a] is not None and correctness[model_b] is not None:\n",
    "            pairwise_total_comparisons[(model_a, model_b)] += 1\n",
    "            pairwise_total_comparisons[(model_b, model_a)] += 1\n",
    "\n",
    "            if correctness[model_a] and not correctness[model_b]:\n",
    "                pairwise_scores[(model_a, model_b)] += 1  # Model A wins over B\n",
    "            elif correctness[model_b] and not correctness[model_a]:\n",
    "                pairwise_scores[(model_b, model_a)] += 1  # Model B wins over A\n",
    "\n",
    "# Compute winning percentages\n",
    "pairwise_win_percentages = {\n",
    "    pair: (wins / pairwise_total_comparisons[pair]) * 100 if pairwise_total_comparisons[pair] > 0 else 0\n",
    "    for pair, wins in pairwise_scores.items()\n",
    "}\n",
    "\n",
    "# Convert results into a DataFrame with winning percentage\n",
    "pairwise_results_df = pd.DataFrame(\n",
    "    [(a, b, pairwise_total_comparisons[(a, b)], pairwise_scores[(a, b)], f\"{pairwise_win_percentages[(a, b)]:.2f}%\")\n",
    "     for (a, b) in pairwise_total_comparisons.keys()],\n",
    "    columns=[\"Model A\", \"Model B\", \"Total Comparisons\", \"Wins for Model A\", \"Winning Percentage (GT)\"]\n",
    ")\n",
    "\n",
    "# Print results in tabular format\n",
    "print(tabulate(pairwise_results_df, headers=\"keys\", tablefmt=\"grid\"))\n"
   ]
  },
  {
   "cell_type": "code",
   "execution_count": 9,
   "metadata": {},
   "outputs": [],
   "source": [
    "pairwise_results_df.to_csv('output.csv', index=False)"
   ]
  },
  {
   "cell_type": "markdown",
   "metadata": {},
   "source": [
    "For each model, is there a correlation between its accuracy as an answer and as an evaluator?"
   ]
  },
  {
   "cell_type": "code",
   "execution_count": 68,
   "metadata": {},
   "outputs": [
    {
     "name": "stdout",
     "output_type": "stream",
     "text": [
      "0.8407379975125377\n"
     ]
    }
   ],
   "source": [
    "import numpy as np\n",
    "raw_acc = [40.5, 44.8, 67.6]\n",
    "acc_eval = [24.79, 53.55, 67.55]\n",
    "correlation_matrix = np.corrcoef(raw_acc, acc_eval)\n",
    "print(correlation_matrix[0, 1])"
   ]
  },
  {
   "cell_type": "markdown",
   "metadata": {},
   "source": [
    "## Evaluator win race (Normal)"
   ]
  },
  {
   "cell_type": "code",
   "execution_count": 12,
   "metadata": {},
   "outputs": [],
   "source": [
    "all_pref = preference_results + preference_results_other_wrong"
   ]
  },
  {
   "cell_type": "code",
   "execution_count": 13,
   "metadata": {},
   "outputs": [
    {
     "name": "stdout",
     "output_type": "stream",
     "text": [
      "+----+----------------------------------------+----------------------------------------+---------------------+----------------------+----------------------+\n",
      "|    | Evaluator Model                        | Evaluatee Model                        |   Total Comparisons |   Wins for Evaluator | Winning Percentage   |\n",
      "+====+========================================+========================================+=====================+======================+======================+\n",
      "|  0 | Meta-Llama-3.1-8B-Instruct-Turbo       | Qwen2.5-7B-Instruct-Turbo              |                1448 |                618.5 | 42.71%               |\n",
      "+----+----------------------------------------+----------------------------------------+---------------------+----------------------+----------------------+\n",
      "|  1 | Qwen2.5-7B-Instruct-Turbo              | Meta-Llama-3.1-8B-Instruct-Turbo       |                1448 |                829.5 | 57.29%               |\n",
      "+----+----------------------------------------+----------------------------------------+---------------------+----------------------+----------------------+\n",
      "|  2 | Meta-Llama-3.1-8B-Instruct-Turbo       | DeepSeek-V3                            |                1734 |                379.5 | 21.89%               |\n",
      "+----+----------------------------------------+----------------------------------------+---------------------+----------------------+----------------------+\n",
      "|  3 | DeepSeek-V3                            | Meta-Llama-3.1-8B-Instruct-Turbo       |                1734 |               1354.5 | 78.11%               |\n",
      "+----+----------------------------------------+----------------------------------------+---------------------+----------------------+----------------------+\n",
      "|  4 | Qwen2.5-7B-Instruct-Turbo              | DeepSeek-V3                            |                1524 |                294.5 | 19.32%               |\n",
      "+----+----------------------------------------+----------------------------------------+---------------------+----------------------+----------------------+\n",
      "|  5 | DeepSeek-V3                            | Qwen2.5-7B-Instruct-Turbo              |                1524 |               1229.5 | 80.68%               |\n",
      "+----+----------------------------------------+----------------------------------------+---------------------+----------------------+----------------------+\n",
      "|  6 | Llama-4-Scout-17B-16E-Instruct         | Qwen2.5-7B-Instruct-Turbo              |                1304 |                935   | 71.70%               |\n",
      "+----+----------------------------------------+----------------------------------------+---------------------+----------------------+----------------------+\n",
      "|  7 | Qwen2.5-7B-Instruct-Turbo              | Llama-4-Scout-17B-16E-Instruct         |                1304 |                358   | 27.45%               |\n",
      "+----+----------------------------------------+----------------------------------------+---------------------+----------------------+----------------------+\n",
      "|  8 | Llama-4-Scout-17B-16E-Instruct         | Meta-Llama-3.1-8B-Instruct-Turbo       |                1438 |               1036.5 | 72.08%               |\n",
      "+----+----------------------------------------+----------------------------------------+---------------------+----------------------+----------------------+\n",
      "|  9 | Meta-Llama-3.1-8B-Instruct-Turbo       | Llama-4-Scout-17B-16E-Instruct         |                1438 |                400.5 | 27.85%               |\n",
      "+----+----------------------------------------+----------------------------------------+---------------------+----------------------+----------------------+\n",
      "| 10 | Llama-4-Scout-17B-16E-Instruct         | DeepSeek-V3                            |                1202 |                343.5 | 28.58%               |\n",
      "+----+----------------------------------------+----------------------------------------+---------------------+----------------------+----------------------+\n",
      "| 11 | DeepSeek-V3                            | Llama-4-Scout-17B-16E-Instruct         |                1202 |                856.5 | 71.26%               |\n",
      "+----+----------------------------------------+----------------------------------------+---------------------+----------------------+----------------------+\n",
      "| 12 | Llama-4-Scout-17B-16E-Instruct         | Llama-4-Maverick-17B-128E-Instruct-FP8 |                 493 |                199   | 40.37%               |\n",
      "+----+----------------------------------------+----------------------------------------+---------------------+----------------------+----------------------+\n",
      "| 13 | Llama-4-Maverick-17B-128E-Instruct-FP8 | Llama-4-Scout-17B-16E-Instruct         |                 493 |                294   | 59.63%               |\n",
      "+----+----------------------------------------+----------------------------------------+---------------------+----------------------+----------------------+\n",
      "| 14 | Llama-4-Maverick-17B-128E-Instruct-FP8 | Qwen2.5-7B-Instruct-Turbo              |                1470 |               1088   | 74.01%               |\n",
      "+----+----------------------------------------+----------------------------------------+---------------------+----------------------+----------------------+\n",
      "| 15 | Qwen2.5-7B-Instruct-Turbo              | Llama-4-Maverick-17B-128E-Instruct-FP8 |                1470 |                381   | 25.92%               |\n",
      "+----+----------------------------------------+----------------------------------------+---------------------+----------------------+----------------------+\n",
      "| 16 | Llama-4-Maverick-17B-128E-Instruct-FP8 | Meta-Llama-3.1-8B-Instruct-Turbo       |                1550 |               1140   | 73.55%               |\n",
      "+----+----------------------------------------+----------------------------------------+---------------------+----------------------+----------------------+\n",
      "| 17 | Meta-Llama-3.1-8B-Instruct-Turbo       | Llama-4-Maverick-17B-128E-Instruct-FP8 |                1550 |                409   | 26.39%               |\n",
      "+----+----------------------------------------+----------------------------------------+---------------------+----------------------+----------------------+\n",
      "| 18 | Llama-4-Maverick-17B-128E-Instruct-FP8 | DeepSeek-V3                            |                1040 |                378.5 | 36.39%               |\n",
      "+----+----------------------------------------+----------------------------------------+---------------------+----------------------+----------------------+\n",
      "| 19 | DeepSeek-V3                            | Llama-4-Maverick-17B-128E-Instruct-FP8 |                1040 |                661.5 | 63.61%               |\n",
      "+----+----------------------------------------+----------------------------------------+---------------------+----------------------+----------------------+\n"
     ]
    }
   ],
   "source": [
    "# Re-import necessary libraries since execution state was reset\n",
    "import pandas as pd\n",
    "from collections import defaultdict\n",
    "from tabulate import tabulate\n",
    "\n",
    "# Convert all_pref data into a DataFrame\n",
    "df_pref = pd.DataFrame(all_pref)\n",
    "\n",
    "# Initialize a dictionary to store the pairwise model winning rates\n",
    "pairwise_wins = defaultdict(float)\n",
    "pairwise_total = defaultdict(int)\n",
    "\n",
    "# Iterate through each preference entry\n",
    "for record in df_pref.itertuples(index=False):\n",
    "    evaluator = record.evaluator\n",
    "    evaluatee = record.evaluatee\n",
    "    forward = record.forward_comparison\n",
    "    backward = record.backward_comparison\n",
    "\n",
    "    # Scoring logic based on forward and backward comparison\n",
    "    if forward == \"1\" and backward == \"2\":\n",
    "        pairwise_wins[(evaluator, evaluatee)] += 1  # Evaluator wins\n",
    "    elif forward == \"2\" and backward == \"1\":\n",
    "        pairwise_wins[(evaluatee, evaluator)] += 1  # Evaluatee wins\n",
    "    elif (forward == \"1\" and backward == \"1\") or (forward == \"2\" and backward == \"2\"):\n",
    "        pairwise_wins[(evaluator, evaluatee)] += 0.5\n",
    "        pairwise_wins[(evaluatee, evaluator)] += 0.5\n",
    "\n",
    "    # Track total comparisons\n",
    "    pairwise_total[(evaluator, evaluatee)] += 1\n",
    "    pairwise_total[(evaluatee, evaluator)] += 1\n",
    "\n",
    "# # Compute winning rates as a percentage\n",
    "# pairwise_win_rates = {\n",
    "#     pair: (wins / pairwise_total[pair]) * 100 for pair, wins in pairwise_wins.items()\n",
    "# }\n",
    "\n",
    "# # Convert results into a DataFrame\n",
    "# pairwise_win_rates_df = pd.DataFrame(\n",
    "#     [(a, b, f\"{win_rate:.2f}%\") for (a, b), win_rate in pairwise_win_rates.items()],\n",
    "#     columns=[\"Model A\", \"Model B\", \"Winning Rate for Model A\"]\n",
    "# )\n",
    "\n",
    "# # Print results in tabular format\n",
    "# print(tabulate(pairwise_win_rates_df, headers=\"keys\", tablefmt=\"grid\"))\n",
    "\n",
    "# Convert results into a DataFrame with both count and percentage\n",
    "pairwise_results = [\n",
    "    (a, b, pairwise_total[(a, b)], pairwise_wins[(a, b)], f\"{(pairwise_wins[(a, b)] / pairwise_total[(a, b)]) * 100:.2f}%\")\n",
    "    for (a, b) in pairwise_total.keys()\n",
    "]\n",
    "\n",
    "# Create DataFrame with additional details\n",
    "pairwise_results_df = pd.DataFrame(\n",
    "    pairwise_results,\n",
    "    columns=[\"Evaluator Model\", \"Evaluatee Model\", \"Total Comparisons\", \"Wins for Evaluator\", \"Winning Percentage\"]\n",
    ")\n",
    "\n",
    "# Print results in tabular format\n",
    "print(tabulate(pairwise_results_df, headers=\"keys\", tablefmt=\"grid\"))\n"
   ]
  },
  {
   "cell_type": "code",
   "execution_count": 14,
   "metadata": {},
   "outputs": [],
   "source": [
    "pairwise_results_df.to_csv('output.csv', index=False)"
   ]
  },
  {
   "cell_type": "markdown",
   "metadata": {},
   "source": [
    "# Perturbation "
   ]
  },
  {
   "cell_type": "markdown",
   "metadata": {},
   "source": [
    "## Auto LLM Perturb 2W "
   ]
  },
  {
   "cell_type": "markdown",
   "metadata": {},
   "source": [
    "### Evaluator Accuracy "
   ]
  },
  {
   "cell_type": "code",
   "execution_count": null,
   "metadata": {},
   "outputs": [],
   "source": [
    "with open(\".\\quality\\pref_synonym_auto_quality_harmful.json\", 'r') as file:\n",
    "    pref_synonym_auto_quality_harmful = json.load(file)\n"
   ]
  },
  {
   "cell_type": "code",
   "execution_count": 16,
   "metadata": {},
   "outputs": [],
   "source": [
    "with open('.\\quality\\pref_synonym_auto_quality_beneficial.json', 'r') as file:\n",
    "    pref_synonym_auto_quality_beneficial = json.load(file)"
   ]
  },
  {
   "cell_type": "code",
   "execution_count": 17,
   "metadata": {},
   "outputs": [
    {
     "name": "stdout",
     "output_type": "stream",
     "text": [
      "\n",
      "Evaluator Accuracy Results\n",
      "+----+----------------------------------------+-----------+---------+----------------+\n",
      "|    | Model                                  |   Correct |   Total | Accuracy (%)   |\n",
      "+====+========================================+===========+=========+================+\n",
      "|  0 | Meta-Llama-3.1-8B-Instruct-Turbo       |      1164 |    3085 | 37.73%         |\n",
      "+----+----------------------------------------+-----------+---------+----------------+\n",
      "|  1 | Qwen2.5-7B-Instruct-Turbo              |      1596 |    2873 | 55.55%         |\n",
      "+----+----------------------------------------+-----------+---------+----------------+\n",
      "|  2 | Llama-4-Scout-17B-16E-Instruct         |      1642 |    2395 | 68.56%         |\n",
      "+----+----------------------------------------+-----------+---------+----------------+\n",
      "|  3 | Llama-4-Maverick-17B-128E-Instruct-FP8 |      2004 |    2523 | 79.43%         |\n",
      "+----+----------------------------------------+-----------+---------+----------------+\n",
      "|  4 | DeepSeek-V3                            |      2209 |    2750 | 80.33%         |\n",
      "+----+----------------------------------------+-----------+---------+----------------+\n"
     ]
    }
   ],
   "source": [
    "# Model list\n",
    "model_names = [ \"Meta-Llama-3.1-8B-Instruct-Turbo\",  \"Qwen2.5-7B-Instruct-Turbo\", \"Llama-4-Scout-17B-16E-Instruct\", \"Llama-4-Maverick-17B-128E-Instruct-FP8\", \"DeepSeek-V3\"]\n",
    "\n",
    "# Initialize tracking dictionaries\n",
    "result_stats = {model: {\"correct\": 0, \"total\": 0} for model in model_names}\n",
    "\n",
    "# Process preference_results\n",
    "for record in pref_synonym_auto_quality_harmful:\n",
    "    model = record[\"evaluator\"]\n",
    "    if model in result_stats:\n",
    "        result_stats[model][\"total\"] += 1\n",
    "        if record[\"forward_comparison\"] == \"2\" and record[\"backward_comparison\"] == \"1\":\n",
    "            result_stats[model][\"correct\"] += 1\n",
    "\n",
    "# Process preference_results_other_wrong\n",
    "for record in pref_synonym_auto_quality_beneficial:\n",
    "    model = record[\"evaluator\"]\n",
    "    if model in result_stats:\n",
    "        result_stats[model][\"total\"] += 1\n",
    "        if record[\"forward_comparison\"] == \"1\" and record[\"backward_comparison\"] == \"2\":\n",
    "            result_stats[model][\"correct\"] += 1\n",
    "\n",
    "# Create DataFrame to display results\n",
    "results_df = pd.DataFrame([\n",
    "    {\n",
    "        \"Model\": model,\n",
    "        \"Correct\": stats[\"correct\"],\n",
    "        \"Total\": stats[\"total\"],\n",
    "        \"Accuracy (%)\": f\"{(stats['correct'] / stats['total'] * 100):.2f}%\" if stats[\"total\"] > 0 else \"N/A\"\n",
    "    }\n",
    "    for model, stats in result_stats.items()\n",
    "])\n",
    "\n",
    "print(\"\\nEvaluator Accuracy Results\")\n",
    "# Display the table\n",
    "print(tabulate(results_df, headers=\"keys\", tablefmt=\"grid\"))"
   ]
  },
  {
   "cell_type": "markdown",
   "metadata": {},
   "source": [
    "#### Harmful Quadrant"
   ]
  },
  {
   "cell_type": "code",
   "execution_count": 15,
   "metadata": {},
   "outputs": [
    {
     "name": "stdout",
     "output_type": "stream",
     "text": [
      "\n",
      "Evaluator Accuracy Results\n",
      "+----+----------------------------------------+-----------+---------+----------------+\n",
      "|    | Model                                  |   Correct |   Total | Accuracy (%)   |\n",
      "+====+========================================+===========+=========+================+\n",
      "|  0 | Meta-Llama-3.1-8B-Instruct-Turbo       |      1057 |    2174 | 48.62%         |\n",
      "+----+----------------------------------------+-----------+---------+----------------+\n",
      "|  1 | Qwen2.5-7B-Instruct-Turbo              |      1239 |    1844 | 67.19%         |\n",
      "+----+----------------------------------------+-----------+---------+----------------+\n",
      "|  2 | Llama-4-Scout-17B-16E-Instruct         |       756 |    1266 | 59.72%         |\n",
      "+----+----------------------------------------+-----------+---------+----------------+\n",
      "|  3 | Llama-4-Maverick-17B-128E-Instruct-FP8 |       643 |     958 | 67.12%         |\n",
      "+----+----------------------------------------+-----------+---------+----------------+\n",
      "|  4 | DeepSeek-V3                            |       337 |     606 | 55.61%         |\n",
      "+----+----------------------------------------+-----------+---------+----------------+\n"
     ]
    }
   ],
   "source": [
    "model_names = [ \"Meta-Llama-3.1-8B-Instruct-Turbo\",  \"Qwen2.5-7B-Instruct-Turbo\", \"Llama-4-Scout-17B-16E-Instruct\", \"Llama-4-Maverick-17B-128E-Instruct-FP8\", \"DeepSeek-V3\"]\n",
    "\n",
    "\n",
    "# Initialize tracking dictionaries\n",
    "result_stats = {model: {\"correct\": 0, \"total\": 0} for model in model_names}\n",
    "\n",
    "# Process preference_results\n",
    "for record in pref_synonym_auto_quality_harmful:\n",
    "    model = record[\"evaluator\"]\n",
    "    if model in result_stats:\n",
    "        result_stats[model][\"total\"] += 1\n",
    "        if record[\"forward_comparison\"] == \"2\" and record[\"backward_comparison\"] == \"1\":\n",
    "            result_stats[model][\"correct\"] += 1\n",
    "\n",
    "\n",
    "# Create DataFrame to display results\n",
    "results_df = pd.DataFrame([\n",
    "    {\n",
    "        \"Model\": model,\n",
    "        \"Correct\": stats[\"correct\"],\n",
    "        \"Total\": stats[\"total\"],\n",
    "        \"Accuracy (%)\": f\"{(stats['correct'] / stats['total'] * 100):.2f}%\" if stats[\"total\"] > 0 else \"N/A\"\n",
    "    }\n",
    "    for model, stats in result_stats.items()\n",
    "])\n",
    "\n",
    "print(\"\\nEvaluator Accuracy Results\")\n",
    "# Display the table\n",
    "print(tabulate(results_df, headers=\"keys\", tablefmt=\"grid\"))"
   ]
  },
  {
   "cell_type": "markdown",
   "metadata": {},
   "source": [
    "#### beneficial quadrant"
   ]
  },
  {
   "cell_type": "code",
   "execution_count": 18,
   "metadata": {},
   "outputs": [
    {
     "name": "stdout",
     "output_type": "stream",
     "text": [
      "\n",
      "Evaluator Accuracy Results\n",
      "+----+----------------------------------------+-----------+---------+----------------+\n",
      "|    | Model                                  |   Correct |   Total | Accuracy (%)   |\n",
      "+====+========================================+===========+=========+================+\n",
      "|  0 | Meta-Llama-3.1-8B-Instruct-Turbo       |       107 |     911 | 11.75%         |\n",
      "+----+----------------------------------------+-----------+---------+----------------+\n",
      "|  1 | Qwen2.5-7B-Instruct-Turbo              |       357 |    1029 | 34.69%         |\n",
      "+----+----------------------------------------+-----------+---------+----------------+\n",
      "|  2 | Llama-4-Scout-17B-16E-Instruct         |       886 |    1129 | 78.48%         |\n",
      "+----+----------------------------------------+-----------+---------+----------------+\n",
      "|  3 | Llama-4-Maverick-17B-128E-Instruct-FP8 |      1361 |    1565 | 86.96%         |\n",
      "+----+----------------------------------------+-----------+---------+----------------+\n",
      "|  4 | DeepSeek-V3                            |      1872 |    2144 | 87.31%         |\n",
      "+----+----------------------------------------+-----------+---------+----------------+\n"
     ]
    }
   ],
   "source": [
    "model_names = [ \"Meta-Llama-3.1-8B-Instruct-Turbo\",  \"Qwen2.5-7B-Instruct-Turbo\", \"Llama-4-Scout-17B-16E-Instruct\", \"Llama-4-Maverick-17B-128E-Instruct-FP8\", \"DeepSeek-V3\"]\n",
    "\n",
    "\n",
    "# Initialize tracking dictionaries\n",
    "result_stats = {model: {\"correct\": 0, \"total\": 0} for model in model_names}\n",
    "\n",
    "# Process preference_results\n",
    "for record in pref_synonym_auto_quality_beneficial:\n",
    "    model = record[\"evaluator\"]\n",
    "    if model in result_stats:\n",
    "        result_stats[model][\"total\"] += 1\n",
    "        if record[\"forward_comparison\"] == \"1\" and record[\"backward_comparison\"] == \"2\":\n",
    "            result_stats[model][\"correct\"] += 1\n",
    "\n",
    "\n",
    "# Create DataFrame to display results\n",
    "results_df = pd.DataFrame([\n",
    "    {\n",
    "        \"Model\": model,\n",
    "        \"Correct\": stats[\"correct\"],\n",
    "        \"Total\": stats[\"total\"],\n",
    "        \"Accuracy (%)\": f\"{(stats['correct'] / stats['total'] * 100):.2f}%\" if stats[\"total\"] > 0 else \"N/A\"\n",
    "    }\n",
    "    for model, stats in result_stats.items()\n",
    "])\n",
    "\n",
    "print(\"\\nEvaluator Accuracy Results\")\n",
    "# Display the table\n",
    "print(tabulate(results_df, headers=\"keys\", tablefmt=\"grid\"))"
   ]
  },
  {
   "cell_type": "markdown",
   "metadata": {},
   "source": [
    "## LlaMa 2w perturb"
   ]
  },
  {
   "cell_type": "code",
   "execution_count": null,
   "metadata": {},
   "outputs": [
    {
     "name": "stdout",
     "output_type": "stream",
     "text": [
      "Llama 2w perturbation\n",
      "Count of (1,1): 698\n",
      "Count of (1,2): 171\n",
      "Count of (2,1): 1380\n",
      "Count of (2,2): 104\n",
      "Model Selects its Incorrect Answer: 7.267318317042074\n",
      "Model Selects Competitors Correct  Answer: 58.648533786655335\n",
      "Model Is Unsure (toggles selection): 34.08414789630259\n"
     ]
    }
   ],
   "source": [
    "# Initialize counters\n",
    "count_1_1 = 0\n",
    "count_1_2 = 0\n",
    "count_2_1 = 0\n",
    "count_2_2 = 0\n",
    "\n",
    "# Iterate through the list and count occurrences\n",
    "for item in perturb2_meta_preference_results:\n",
    "    forward = item[\"forward_comparison\"]\n",
    "    backward = item[\"backward_comparison\"]\n",
    "\n",
    "    if forward == \"1\" and backward == \"1\":\n",
    "        count_1_1 += 1\n",
    "    elif forward == \"1\" and backward == \"2\":\n",
    "        count_1_2 += 1\n",
    "    elif forward == \"2\" and backward == \"1\":\n",
    "        count_2_1 += 1\n",
    "    elif forward == \"2\" and backward == \"2\":\n",
    "        count_2_2 += 1\n",
    "\n",
    "# Print results\n",
    "print(\"Llama 2w perturbation\")\n",
    "print(f\"Count of (1,1): {count_1_1}\")\n",
    "print(f\"Count of (1,2): {count_1_2}\")\n",
    "print(f\"Count of (2,1): {count_2_1}\")\n",
    "print(f\"Count of (2,2): {count_2_2}\")\n",
    "\n",
    "print(f\"Model Selects its Incorrect Answer: {100*(count_1_2/len(perturb2_meta_preference_results))}\")\n",
    "print(f\"Model Selects Competitors Correct  Answer: {100*count_2_1/len(perturb2_meta_preference_results)}\")\n",
    "print(f\"Model Is Unsure (toggles selection): {100*(count_1_1+count_2_2)/len(perturb2_meta_preference_results)}\")"
   ]
  },
  {
   "cell_type": "code",
   "execution_count": 31,
   "metadata": {},
   "outputs": [
    {
     "name": "stdout",
     "output_type": "stream",
     "text": [
      "+----------------------------------+---------+---------+---------+---------+\n",
      "|                                  |   (1,1) |   (1,2) |   (2,1) |   (2,2) |\n",
      "+==================================+=========+=========+=========+=========+\n",
      "| DeepSeek-V3                      |   16.05 |   25.42 |   51.84 |    6.69 |\n",
      "+----------------------------------+---------+---------+---------+---------+\n",
      "| Meta-Llama-3.1-8B-Instruct-Turbo |   48.39 |    2.50 |   48.48 |    0.62 |\n",
      "+----------------------------------+---------+---------+---------+---------+\n",
      "| Qwen2.5-7B-Instruct-Turbo        |   11.56 |    7.17 |   73.02 |    8.24 |\n",
      "+----------------------------------+---------+---------+---------+---------+\n"
     ]
    }
   ],
   "source": [
    "with open('.\\quality\\perturb2_meta_self_pref_quality.json', 'r') as file:\n",
    "    perturb2_meta_preference_results = json.load(file)\n",
    "    \n",
    "df = pd.DataFrame(perturb2_meta_preference_results)\n",
    "\n",
    "# Initialize a dictionary to store counts grouped by evaluator\n",
    "grouped_counts = {}\n",
    "\n",
    "# Group by evaluator and count occurrences\n",
    "for evaluator, group in df.groupby(\"evaluator\"):\n",
    "    count_1_1 = ((group[\"forward_comparison\"] == \"1\") & (group[\"backward_comparison\"] == \"1\")).sum()\n",
    "    count_1_2 = ((group[\"forward_comparison\"] == \"1\") & (group[\"backward_comparison\"] == \"2\")).sum()\n",
    "    count_2_1 = ((group[\"forward_comparison\"] == \"2\") & (group[\"backward_comparison\"] == \"1\")).sum()\n",
    "    count_2_2 = ((group[\"forward_comparison\"] == \"2\") & (group[\"backward_comparison\"] == \"2\")).sum()\n",
    "\n",
    "    grouped_counts[evaluator] = {\n",
    "        \"(1,1)\": count_1_1,\n",
    "        \"(1,2)\": count_1_2,\n",
    "        \"(2,1)\": count_2_1,\n",
    "        \"(2,2)\": count_2_2,\n",
    "    }\n",
    "\n",
    "# Convert to DataFrame for display\n",
    "grouped_counts_df = pd.DataFrame.from_dict(grouped_counts, orient=\"index\")\n",
    "\n",
    "# Convert counts to percentages\n",
    "grouped_counts_df_percentage = grouped_counts_df.div(grouped_counts_df.sum(axis=1), axis=0) * 100\n",
    "\n",
    "# Print the result in table format\n",
    "print(tabulate(grouped_counts_df_percentage, headers=\"keys\", tablefmt=\"grid\", floatfmt=\".2f\"))"
   ]
  },
  {
   "cell_type": "code",
   "execution_count": null,
   "metadata": {},
   "outputs": [
    {
     "name": "stdout",
     "output_type": "stream",
     "text": [
      "DETECTION\n",
      "+----------------------------------+---------+---------+---------+---------+\n",
      "|                                  |   (1,1) |   (1,2) |   (2,1) |   (2,2) |\n",
      "+==================================+=========+=========+=========+=========+\n",
      "| DeepSeek-V3                      |   33.44 |   27.42 |   37.12 |    2.01 |\n",
      "+----------------------------------+---------+---------+---------+---------+\n",
      "| Meta-Llama-3.1-8B-Instruct-Turbo |   62.59 |    4.20 |   31.79 |    1.43 |\n",
      "+----------------------------------+---------+---------+---------+---------+\n",
      "| Qwen2.5-7B-Instruct-Turbo        |   42.61 |   12.31 |   39.72 |    5.35 |\n",
      "+----------------------------------+---------+---------+---------+---------+\n"
     ]
    }
   ],
   "source": [
    "with open('.\\quality\\self_recog_perturb2_meta_quality.json', 'r') as file:\n",
    "    results_meta_perturb = json.load(file)\n",
    "    \n",
    "df = pd.DataFrame(results_meta_perturb)\n",
    "\n",
    "# Initialize a dictionary to store counts grouped by evaluator\n",
    "grouped_counts = {}\n",
    "print(\"DETECTION\")\n",
    "# Group by evaluator and count occurrences\n",
    "for evaluator, group in df.groupby(\"evaluator\"):\n",
    "    count_1_1 = ((group[\"forward_detection\"] == \"1\") & (group[\"backward_detection\"] == \"1\")).sum()\n",
    "    count_1_2 = ((group[\"forward_detection\"] == \"1\") & (group[\"backward_detection\"] == \"2\")).sum()\n",
    "    count_2_1 = ((group[\"forward_detection\"] == \"2\") & (group[\"backward_detection\"] == \"1\")).sum()\n",
    "    count_2_2 = ((group[\"forward_detection\"] == \"2\") & (group[\"backward_detection\"] == \"2\")).sum()\n",
    "\n",
    "    grouped_counts[evaluator] = {\n",
    "        \"(1,1)\": count_1_1,\n",
    "        \"(1,2)\": count_1_2,\n",
    "        \"(2,1)\": count_2_1,\n",
    "        \"(2,2)\": count_2_2,\n",
    "    }\n",
    "\n",
    "# Convert to DataFrame for display\n",
    "grouped_counts_df = pd.DataFrame.from_dict(grouped_counts, orient=\"index\")\n",
    "\n",
    "# Convert counts to percentages\n",
    "grouped_counts_df_percentage = grouped_counts_df.div(grouped_counts_df.sum(axis=1), axis=0) * 100\n",
    "\n",
    "# Print the result in table format\n",
    "print(tabulate(grouped_counts_df_percentage, headers=\"keys\", tablefmt=\"grid\", floatfmt=\".2f\"))"
   ]
  },
  {
   "cell_type": "markdown",
   "metadata": {},
   "source": [
    "#### other wrong"
   ]
  },
  {
   "cell_type": "code",
   "execution_count": 33,
   "metadata": {},
   "outputs": [
    {
     "name": "stdout",
     "output_type": "stream",
     "text": [
      "+----------------------------------+---------+---------+---------+---------+\n",
      "|                                  |   (1,1) |   (1,2) |   (2,1) |   (2,2) |\n",
      "+==================================+=========+=========+=========+=========+\n",
      "| DeepSeek-V3                      |    4.59 |   88.80 |    3.68 |    2.93 |\n",
      "+----------------------------------+---------+---------+---------+---------+\n",
      "| Meta-Llama-3.1-8B-Instruct-Turbo |   73.89 |   10.62 |   15.07 |    0.42 |\n",
      "+----------------------------------+---------+---------+---------+---------+\n",
      "| Qwen2.5-7B-Instruct-Turbo        |   15.22 |   39.31 |   31.16 |   14.31 |\n",
      "+----------------------------------+---------+---------+---------+---------+\n"
     ]
    }
   ],
   "source": [
    "with open('.\\quality\\perturb2_meta_self_pref_quality_other_wrong.json', 'r') as file:\n",
    "    perturb2_meta_preference_results_other_wrong = json.load(file)\n",
    "    \n",
    "df = pd.DataFrame(perturb2_meta_preference_results_other_wrong)\n",
    "\n",
    "# Initialize a dictionary to store counts grouped by evaluator\n",
    "grouped_counts = {}\n",
    "\n",
    "# Group by evaluator and count occurrences\n",
    "for evaluator, group in df.groupby(\"evaluator\"):\n",
    "    count_1_1 = ((group[\"forward_comparison\"] == \"1\") & (group[\"backward_comparison\"] == \"1\")).sum()\n",
    "    count_1_2 = ((group[\"forward_comparison\"] == \"1\") & (group[\"backward_comparison\"] == \"2\")).sum()\n",
    "    count_2_1 = ((group[\"forward_comparison\"] == \"2\") & (group[\"backward_comparison\"] == \"1\")).sum()\n",
    "    count_2_2 = ((group[\"forward_comparison\"] == \"2\") & (group[\"backward_comparison\"] == \"2\")).sum()\n",
    "\n",
    "    grouped_counts[evaluator] = {\n",
    "        \"(1,1)\": count_1_1,\n",
    "        \"(1,2)\": count_1_2,\n",
    "        \"(2,1)\": count_2_1,\n",
    "        \"(2,2)\": count_2_2,\n",
    "    }\n",
    "\n",
    "# Convert to DataFrame for display\n",
    "grouped_counts_df = pd.DataFrame.from_dict(grouped_counts, orient=\"index\")\n",
    "\n",
    "# Convert counts to percentages\n",
    "grouped_counts_df_percentage = grouped_counts_df.div(grouped_counts_df.sum(axis=1), axis=0) * 100\n",
    "\n",
    "# Print the result in table format\n",
    "print(tabulate(grouped_counts_df_percentage, headers=\"keys\", tablefmt=\"grid\", floatfmt=\".2f\"))"
   ]
  },
  {
   "cell_type": "code",
   "execution_count": null,
   "metadata": {},
   "outputs": [
    {
     "name": "stdout",
     "output_type": "stream",
     "text": [
      "DETECTION\n",
      "+----------------------------------+---------+---------+---------+---------+\n",
      "|                                  |   (1,1) |   (1,2) |   (2,1) |   (2,2) |\n",
      "+==================================+=========+=========+=========+=========+\n",
      "| DeepSeek-V3                      |   11.88 |   82.26 |    4.29 |    1.58 |\n",
      "+----------------------------------+---------+---------+---------+---------+\n",
      "| Meta-Llama-3.1-8B-Instruct-Turbo |   67.30 |   11.68 |   19.32 |    1.70 |\n",
      "+----------------------------------+---------+---------+---------+---------+\n",
      "| Qwen2.5-7B-Instruct-Turbo        |   38.59 |   24.64 |   27.54 |    9.24 |\n",
      "+----------------------------------+---------+---------+---------+---------+\n"
     ]
    }
   ],
   "source": [
    "with open('.\\quality\\self_recog_perturb2_meta_quality_other_wrong.json', 'r') as file:\n",
    "    results_meta_perturb_recog_other_wrong = json.load(file)\n",
    "    \n",
    "df = pd.DataFrame(results_meta_perturb_recog_other_wrong)\n",
    "\n",
    "# Initialize a dictionary to store counts grouped by evaluator\n",
    "grouped_counts = {}\n",
    "print(\"DETECTION\")\n",
    "# Group by evaluator and count occurrences\n",
    "for evaluator, group in df.groupby(\"evaluator\"):\n",
    "    count_1_1 = ((group[\"forward_detection\"] == \"1\") & (group[\"backward_detection\"] == \"1\")).sum()\n",
    "    count_1_2 = ((group[\"forward_detection\"] == \"1\") & (group[\"backward_detection\"] == \"2\")).sum()\n",
    "    count_2_1 = ((group[\"forward_detection\"] == \"2\") & (group[\"backward_detection\"] == \"1\")).sum()\n",
    "    count_2_2 = ((group[\"forward_detection\"] == \"2\") & (group[\"backward_detection\"] == \"2\")).sum()\n",
    "\n",
    "    grouped_counts[evaluator] = {\n",
    "        \"(1,1)\": count_1_1,\n",
    "        \"(1,2)\": count_1_2,\n",
    "        \"(2,1)\": count_2_1,\n",
    "        \"(2,2)\": count_2_2,\n",
    "    }\n",
    "\n",
    "# Convert to DataFrame for display\n",
    "grouped_counts_df = pd.DataFrame.from_dict(grouped_counts, orient=\"index\")\n",
    "\n",
    "# Convert counts to percentages\n",
    "grouped_counts_df_percentage = grouped_counts_df.div(grouped_counts_df.sum(axis=1), axis=0) * 100\n",
    "\n",
    "# Print the result in table format\n",
    "print(tabulate(grouped_counts_df_percentage, headers=\"keys\", tablefmt=\"grid\", floatfmt=\".2f\"))"
   ]
  },
  {
   "cell_type": "markdown",
   "metadata": {},
   "source": [
    "#### both wrong"
   ]
  },
  {
   "cell_type": "code",
   "execution_count": null,
   "metadata": {},
   "outputs": [
    {
     "name": "stdout",
     "output_type": "stream",
     "text": [
      "+----------------------------------+---------+---------+---------+---------+\n",
      "|                                  |   (1,1) |   (1,2) |   (2,1) |   (2,2) |\n",
      "+==================================+=========+=========+=========+=========+\n",
      "| DeepSeek-V3                      |   12.51 |   56.45 |   12.99 |   18.05 |\n",
      "+----------------------------------+---------+---------+---------+---------+\n",
      "| Meta-Llama-3.1-8B-Instruct-Turbo |   87.10 |    3.50 |    9.17 |    0.22 |\n",
      "+----------------------------------+---------+---------+---------+---------+\n",
      "| Qwen2.5-7B-Instruct-Turbo        |   44.44 |   20.22 |   23.63 |   11.70 |\n",
      "+----------------------------------+---------+---------+---------+---------+\n"
     ]
    }
   ],
   "source": [
    "with open('.\\quality\\self_recog_perturb2_meta_quality_both_wrong.json', 'r') as file:\n",
    "    perturb2_meta_preference_results_both_wrong = json.load(file)\n",
    "    \n",
    "df = pd.DataFrame(perturb2_meta_preference_results_both_wrong)\n",
    "\n",
    "# Initialize a dictionary to store counts grouped by evaluator\n",
    "grouped_counts = {}\n",
    "\n",
    "# Group by evaluator and count occurrences\n",
    "for evaluator, group in df.groupby(\"evaluator\"):\n",
    "    count_1_1 = ((group[\"forward_comparison\"] == \"1\") & (group[\"backward_comparison\"] == \"1\")).sum()\n",
    "    count_1_2 = ((group[\"forward_comparison\"] == \"1\") & (group[\"backward_comparison\"] == \"2\")).sum()\n",
    "    count_2_1 = ((group[\"forward_comparison\"] == \"2\") & (group[\"backward_comparison\"] == \"1\")).sum()\n",
    "    count_2_2 = ((group[\"forward_comparison\"] == \"2\") & (group[\"backward_comparison\"] == \"2\")).sum()\n",
    "\n",
    "    grouped_counts[evaluator] = {\n",
    "        \"(1,1)\": count_1_1,\n",
    "        \"(1,2)\": count_1_2,\n",
    "        \"(2,1)\": count_2_1,\n",
    "        \"(2,2)\": count_2_2,\n",
    "    }\n",
    "\n",
    "# Convert to DataFrame for display\n",
    "grouped_counts_df = pd.DataFrame.from_dict(grouped_counts, orient=\"index\")\n",
    "\n",
    "# Convert counts to percentages\n",
    "grouped_counts_df_percentage = grouped_counts_df.div(grouped_counts_df.sum(axis=1), axis=0) * 100\n",
    "\n",
    "# Print the result in table format\n",
    "print(tabulate(grouped_counts_df_percentage, headers=\"keys\", tablefmt=\"grid\", floatfmt=\".2f\"))"
   ]
  },
  {
   "cell_type": "code",
   "execution_count": null,
   "metadata": {},
   "outputs": [
    {
     "name": "stdout",
     "output_type": "stream",
     "text": [
      "DETECTION\n",
      "+----------------------------------+---------+---------+---------+---------+\n",
      "|                                  |   (1,1) |   (1,2) |   (2,1) |   (2,2) |\n",
      "+==================================+=========+=========+=========+=========+\n",
      "| DeepSeek-V3                      |   20.34 |   32.09 |   35.05 |   12.51 |\n",
      "+----------------------------------+---------+---------+---------+---------+\n",
      "| Meta-Llama-3.1-8B-Instruct-Turbo |   75.91 |    3.95 |   19.09 |    1.04 |\n",
      "+----------------------------------+---------+---------+---------+---------+\n",
      "| Qwen2.5-7B-Instruct-Turbo        |   64.96 |    6.81 |   23.48 |    4.74 |\n",
      "+----------------------------------+---------+---------+---------+---------+\n"
     ]
    }
   ],
   "source": [
    "with open('.\\quality\\self_recog_perturb2_meta_quality_both_wrong.json', 'r') as file:\n",
    "    results_meta_perturb_recog_both_wrong = json.load(file)\n",
    "    \n",
    "df = pd.DataFrame(results_meta_perturb_recog_both_wrong)\n",
    "\n",
    "# Initialize a dictionary to store counts grouped by evaluator\n",
    "grouped_counts = {}\n",
    "print(\"DETECTION\")\n",
    "# Group by evaluator and count occurrences\n",
    "for evaluator, group in df.groupby(\"evaluator\"):\n",
    "    count_1_1 = ((group[\"forward_detection\"] == \"1\") & (group[\"backward_detection\"] == \"1\")).sum()\n",
    "    count_1_2 = ((group[\"forward_detection\"] == \"1\") & (group[\"backward_detection\"] == \"2\")).sum()\n",
    "    count_2_1 = ((group[\"forward_detection\"] == \"2\") & (group[\"backward_detection\"] == \"1\")).sum()\n",
    "    count_2_2 = ((group[\"forward_detection\"] == \"2\") & (group[\"backward_detection\"] == \"2\")).sum()\n",
    "\n",
    "    grouped_counts[evaluator] = {\n",
    "        \"(1,1)\": count_1_1,\n",
    "        \"(1,2)\": count_1_2,\n",
    "        \"(2,1)\": count_2_1,\n",
    "        \"(2,2)\": count_2_2,\n",
    "    }\n",
    "\n",
    "# Convert to DataFrame for display\n",
    "grouped_counts_df = pd.DataFrame.from_dict(grouped_counts, orient=\"index\")\n",
    "\n",
    "# Convert counts to percentages\n",
    "grouped_counts_df_percentage = grouped_counts_df.div(grouped_counts_df.sum(axis=1), axis=0) * 100\n",
    "\n",
    "# Print the result in table format\n",
    "print(tabulate(grouped_counts_df_percentage, headers=\"keys\", tablefmt=\"grid\", floatfmt=\".2f\"))"
   ]
  },
  {
   "cell_type": "markdown",
   "metadata": {},
   "source": [
    "#### both right"
   ]
  },
  {
   "cell_type": "code",
   "execution_count": null,
   "metadata": {},
   "outputs": [
    {
     "name": "stdout",
     "output_type": "stream",
     "text": [
      "+----------------------------------+---------+---------+---------+---------+\n",
      "|                                  |   (1,1) |   (1,2) |   (2,1) |   (2,2) |\n",
      "+==================================+=========+=========+=========+=========+\n",
      "| DeepSeek-V3                      |   33.20 |   51.39 |    6.36 |    9.06 |\n",
      "+----------------------------------+---------+---------+---------+---------+\n",
      "| Meta-Llama-3.1-8B-Instruct-Turbo |   98.35 |    0.33 |    1.32 |    0.00 |\n",
      "+----------------------------------+---------+---------+---------+---------+\n",
      "| Qwen2.5-7B-Instruct-Turbo        |   77.19 |    7.86 |   13.73 |    1.22 |\n",
      "+----------------------------------+---------+---------+---------+---------+\n"
     ]
    }
   ],
   "source": [
    "with open('.\\quality\\self_recog_perturb2_meta_quality_both_right.json', 'r') as file:\n",
    "    perturb2_meta_preference_results_both_right = json.load(file)\n",
    "    \n",
    "df = pd.DataFrame(perturb2_meta_preference_results_both_right)\n",
    "\n",
    "# Initialize a dictionary to store counts grouped by evaluator\n",
    "grouped_counts = {}\n",
    "\n",
    "# Group by evaluator and count occurrences\n",
    "for evaluator, group in df.groupby(\"evaluator\"):\n",
    "    count_1_1 = ((group[\"forward_comparison\"] == \"1\") & (group[\"backward_comparison\"] == \"1\")).sum()\n",
    "    count_1_2 = ((group[\"forward_comparison\"] == \"1\") & (group[\"backward_comparison\"] == \"2\")).sum()\n",
    "    count_2_1 = ((group[\"forward_comparison\"] == \"2\") & (group[\"backward_comparison\"] == \"1\")).sum()\n",
    "    count_2_2 = ((group[\"forward_comparison\"] == \"2\") & (group[\"backward_comparison\"] == \"2\")).sum()\n",
    "\n",
    "    grouped_counts[evaluator] = {\n",
    "        \"(1,1)\": count_1_1,\n",
    "        \"(1,2)\": count_1_2,\n",
    "        \"(2,1)\": count_2_1,\n",
    "        \"(2,2)\": count_2_2,\n",
    "    }\n",
    "\n",
    "# Convert to DataFrame for display\n",
    "grouped_counts_df = pd.DataFrame.from_dict(grouped_counts, orient=\"index\")\n",
    "\n",
    "# Convert counts to percentages\n",
    "grouped_counts_df_percentage = grouped_counts_df.div(grouped_counts_df.sum(axis=1), axis=0) * 100\n",
    "\n",
    "# Print the result in table format\n",
    "print(tabulate(grouped_counts_df_percentage, headers=\"keys\", tablefmt=\"grid\", floatfmt=\".2f\"))"
   ]
  },
  {
   "cell_type": "markdown",
   "metadata": {},
   "source": [
    "#### Answer & Judge Accuracy : Overall vs Harmful Quadrant"
   ]
  },
  {
   "cell_type": "code",
   "execution_count": 34,
   "metadata": {},
   "outputs": [
    {
     "name": "stdout",
     "output_type": "stream",
     "text": [
      "\n",
      "Evaluator Accuracy Results\n",
      "+----+----------------------------------+-----------+---------+----------------+\n",
      "|    | Model                            |   Correct |   Total | Accuracy (%)   |\n",
      "+====+==================================+===========+=========+================+\n",
      "|  0 | Qwen2.5-7B-Instruct-Turbo        |       899 |    1486 | 60.50%         |\n",
      "+----+----------------------------------+-----------+---------+----------------+\n",
      "|  1 | Meta-Llama-3.1-8B-Instruct-Turbo |       593 |    1591 | 37.27%         |\n",
      "+----+----------------------------------+-----------+---------+----------------+\n",
      "|  2 | DeepSeek-V3                      |      1336 |    1629 | 82.01%         |\n",
      "+----+----------------------------------+-----------+---------+----------------+\n"
     ]
    }
   ],
   "source": [
    "# Model list\n",
    "model_names = [\"Qwen2.5-7B-Instruct-Turbo\", \"Meta-Llama-3.1-8B-Instruct-Turbo\", \"DeepSeek-V3\"]\n",
    "\n",
    "# Initialize tracking dictionaries\n",
    "result_stats = {model: {\"correct\": 0, \"total\": 0} for model in model_names}\n",
    "\n",
    "# Process preference_results\n",
    "for record in perturb2_meta_preference_results:\n",
    "    model = record[\"evaluator\"]\n",
    "    if model in result_stats:\n",
    "        result_stats[model][\"total\"] += 1\n",
    "        if record[\"forward_comparison\"] == \"2\" and record[\"backward_comparison\"] == \"1\":\n",
    "            result_stats[model][\"correct\"] += 1\n",
    "\n",
    "# Process preference_results_other_wrong\n",
    "for record in perturb2_meta_preference_results_other_wrong:\n",
    "    model = record[\"evaluator\"]\n",
    "    if model in result_stats:\n",
    "        result_stats[model][\"total\"] += 1\n",
    "        if record[\"forward_comparison\"] == \"1\" and record[\"backward_comparison\"] == \"2\":\n",
    "            result_stats[model][\"correct\"] += 1\n",
    "\n",
    "# Create DataFrame to display results\n",
    "results_df = pd.DataFrame([\n",
    "    {\n",
    "        \"Model\": model,\n",
    "        \"Correct\": stats[\"correct\"],\n",
    "        \"Total\": stats[\"total\"],\n",
    "        \"Accuracy (%)\": f\"{(stats['correct'] / stats['total'] * 100):.2f}%\" if stats[\"total\"] > 0 else \"N/A\"\n",
    "    }\n",
    "    for model, stats in result_stats.items()\n",
    "])\n",
    "\n",
    "print(\"\\nEvaluator Accuracy Results\")\n",
    "# Display the table\n",
    "print(tabulate(results_df, headers=\"keys\", tablefmt=\"grid\"))\n"
   ]
  },
  {
   "cell_type": "markdown",
   "metadata": {},
   "source": [
    "In Harmful Quadrant"
   ]
  },
  {
   "cell_type": "code",
   "execution_count": 36,
   "metadata": {},
   "outputs": [
    {
     "name": "stdout",
     "output_type": "stream",
     "text": [
      "\n",
      "Evaluator Accuracy Results\n",
      "+----+----------------------------------+-----------+---------+----------------+\n",
      "|    | Model                            |   Correct |   Total | Accuracy (%)   |\n",
      "+====+==================================+===========+=========+================+\n",
      "|  0 | Qwen2.5-7B-Instruct-Turbo        |       682 |     934 | 73.02%         |\n",
      "+----+----------------------------------+-----------+---------+----------------+\n",
      "|  1 | Meta-Llama-3.1-8B-Instruct-Turbo |       543 |    1120 | 48.48%         |\n",
      "+----+----------------------------------+-----------+---------+----------------+\n",
      "|  2 | DeepSeek-V3                      |       155 |     299 | 51.84%         |\n",
      "+----+----------------------------------+-----------+---------+----------------+\n"
     ]
    }
   ],
   "source": [
    "# Model list\n",
    "model_names = [\"Qwen2.5-7B-Instruct-Turbo\", \"Meta-Llama-3.1-8B-Instruct-Turbo\", \"DeepSeek-V3\"]\n",
    "\n",
    "# Initialize tracking dictionaries\n",
    "result_stats = {model: {\"correct\": 0, \"total\": 0} for model in model_names}\n",
    "\n",
    "# Process preference_results\n",
    "for record in perturb2_meta_preference_results:\n",
    "    model = record[\"evaluator\"]\n",
    "    if model in result_stats:\n",
    "        result_stats[model][\"total\"] += 1\n",
    "        if record[\"forward_comparison\"] == \"2\" and record[\"backward_comparison\"] == \"1\":\n",
    "            result_stats[model][\"correct\"] += 1\n",
    "\n",
    "\n",
    "# Create DataFrame to display results\n",
    "results_df = pd.DataFrame([\n",
    "    {\n",
    "        \"Model\": model,\n",
    "        \"Correct\": stats[\"correct\"],\n",
    "        \"Total\": stats[\"total\"],\n",
    "        \"Accuracy (%)\": f\"{(stats['correct'] / stats['total'] * 100):.2f}%\" if stats[\"total\"] > 0 else \"N/A\"\n",
    "    }\n",
    "    for model, stats in result_stats.items()\n",
    "])\n",
    "\n",
    "print(\"\\nEvaluator Accuracy Results\")\n",
    "# Display the table\n",
    "print(tabulate(results_df, headers=\"keys\", tablefmt=\"grid\"))"
   ]
  },
  {
   "cell_type": "markdown",
   "metadata": {},
   "source": [
    "#### Analysis of change from normal after synonym replacement (harmful)"
   ]
  },
  {
   "cell_type": "code",
   "execution_count": 54,
   "metadata": {},
   "outputs": [
    {
     "name": "stdout",
     "output_type": "stream",
     "text": [
      "+----+----------------------------------+---------+-------------+------------------+-----------------+-----------------+----------------------+---------------------+\n",
      "|    | Model                            |   Total |   No Change |   Harmful Change |   Useful Change | No Change (%)   | Harmful Change (%)   | Useful Change (%)   |\n",
      "+====+==================================+=========+=============+==================+=================+=================+======================+=====================+\n",
      "|  0 | Qwen2.5-7B-Instruct-Turbo        |     934 |         711 |                0 |              20 | 76.12%          | 0.00%                | 2.14%               |\n",
      "+----+----------------------------------+---------+-------------+------------------+-----------------+-----------------+----------------------+---------------------+\n",
      "|  1 | Meta-Llama-3.1-8B-Instruct-Turbo |    1120 |         916 |                0 |               3 | 81.79%          | 0.00%                | 0.27%               |\n",
      "+----+----------------------------------+---------+-------------+------------------+-----------------+-----------------+----------------------+---------------------+\n",
      "|  2 | DeepSeek-V3                      |     299 |         224 |                0 |               8 | 74.92%          | 0.00%                | 2.68%               |\n",
      "+----+----------------------------------+---------+-------------+------------------+-----------------+-----------------+----------------------+---------------------+\n"
     ]
    }
   ],
   "source": [
    "# Define model names\n",
    "model_names = [\"Qwen2.5-7B-Instruct-Turbo\", \"Meta-Llama-3.1-8B-Instruct-Turbo\", \"DeepSeek-V3\"]\n",
    "\n",
    "# Initialize result dictionary\n",
    "evaluation_stats = {model: {\"total\": 0, \"no_change\": 0, \"harmful_change\": 0, \"useful_change\":0} for model in model_names}\n",
    "\n",
    "# Create a lookup table for perturbed results\n",
    "perturb_lookup = {\n",
    "    (rec[\"pid\"], rec[\"evaluator\"], rec[\"evaluatee\"]): rec\n",
    "    for rec in perturb2_meta_preference_results\n",
    "}\n",
    "\n",
    "# Iterate through the original preference results\n",
    "for record in preference_results:\n",
    "    key = (record[\"pid\"], record[\"evaluator\"], record[\"evaluatee\"])\n",
    "    evaluator = record[\"evaluator\"]\n",
    "\n",
    "    if key not in perturb_lookup:\n",
    "        print(f\"Error: Missing perturbed record for {key}\")\n",
    "        continue\n",
    "\n",
    "    perturbed = perturb_lookup[key]\n",
    "    evaluation_stats[evaluator][\"total\"] += 1\n",
    "\n",
    "    # No change\n",
    "    if record[\"forward_comparison\"] == perturbed[\"forward_comparison\"] and \\\n",
    "       record[\"backward_comparison\"] == perturbed[\"backward_comparison\"]:\n",
    "        evaluation_stats[evaluator][\"no_change\"] += 1\n",
    "\n",
    "    # Harmful change\n",
    "    if record[\"forward_comparison\"] == \"2\" and record[\"backward_comparison\"] == \"1\":\n",
    "        if perturbed[\"forward_comparison\"] == \"1\" and perturbed[\"backward_comparison\"] == \"2\":\n",
    "            evaluation_stats[evaluator][\"harmful_change\"] += 1\n",
    "\n",
    "    # Useful change\n",
    "    if record[\"forward_comparison\"] == \"1\" and record[\"backward_comparison\"] == \"2\":\n",
    "        if perturbed[\"forward_comparison\"] == \"2\" and perturbed[\"backward_comparison\"] == \"1\":\n",
    "            evaluation_stats[evaluator][\"useful_change\"] += 1\n",
    "# Format and display the results\n",
    "eval_stats_df = pd.DataFrame([\n",
    "    {\n",
    "        \"Model\": model,\n",
    "        \"Total\": stats[\"total\"],\n",
    "        \"No Change\": stats[\"no_change\"],\n",
    "        \"Harmful Change\": stats[\"harmful_change\"],\n",
    "        \"Useful Change\": stats[\"useful_change\"],\n",
    "        \"No Change (%)\": f\"{(stats['no_change'] / stats['total'] * 100):.2f}%\" if stats[\"total\"] > 0 else \"N/A\",\n",
    "        \"Harmful Change (%)\": f\"{(stats['harmful_change'] / stats['total'] * 100):.2f}%\" if stats[\"total\"] > 0 else \"N/A\",\n",
    "        \"Useful Change (%)\": f\"{(stats['useful_change'] / stats['total'] * 100):.2f}%\" if stats[\"total\"] > 0 else \"N/A\"\n",
    "    }\n",
    "    for model, stats in evaluation_stats.items()\n",
    "])\n",
    "#1851\n",
    "print(tabulate(eval_stats_df, headers=\"keys\", tablefmt=\"grid\"))"
   ]
  },
  {
   "cell_type": "markdown",
   "metadata": {},
   "source": [
    "When Judge is Right and Competitor is wrong"
   ]
  },
  {
   "cell_type": "code",
   "execution_count": 55,
   "metadata": {},
   "outputs": [
    {
     "name": "stdout",
     "output_type": "stream",
     "text": [
      "\n",
      "Judge Correct Other Wrong Harmful Change Results\n",
      "+----+----------------------------------+---------+-------------+------------------+-----------------+-----------------+----------------------+---------------------+\n",
      "|    | Model                            |   Total |   No Change |   Harmful Change |   Useful Change | No Change (%)   | Harmful Change (%)   | Useful Change (%)   |\n",
      "+====+==================================+=========+=============+==================+=================+=================+======================+=====================+\n",
      "|  0 | Qwen2.5-7B-Instruct-Turbo        |     552 |         404 |               27 |               0 | 73.19%          | 4.89%                | 0.00%               |\n",
      "+----+----------------------------------+---------+-------------+------------------+-----------------+-----------------+----------------------+---------------------+\n",
      "|  1 | Meta-Llama-3.1-8B-Instruct-Turbo |     471 |         398 |                2 |               0 | 84.50%          | 0.42%                | 0.00%               |\n",
      "+----+----------------------------------+---------+-------------+------------------+-----------------+-----------------+----------------------+---------------------+\n",
      "|  2 | DeepSeek-V3                      |    1330 |        1212 |               22 |               0 | 91.13%          | 1.65%                | 0.00%               |\n",
      "+----+----------------------------------+---------+-------------+------------------+-----------------+-----------------+----------------------+---------------------+\n"
     ]
    }
   ],
   "source": [
    "# Define model names\n",
    "model_names = [\"Qwen2.5-7B-Instruct-Turbo\", \"Meta-Llama-3.1-8B-Instruct-Turbo\", \"DeepSeek-V3\"]\n",
    "\n",
    "# Initialize result dictionary\n",
    "evaluation_stats = {model: {\"total\": 0, \"no_change\": 0, \"harmful_change\": 0, \"useful_change\":0} for model in model_names}\n",
    "\n",
    "# Create a lookup table for perturbed results\n",
    "perturb_lookup = {\n",
    "    (rec[\"pid\"], rec[\"evaluator\"], rec[\"evaluatee\"]): rec\n",
    "    for rec in perturb2_meta_preference_results_other_wrong\n",
    "}\n",
    "\n",
    "# Iterate through the original preference results\n",
    "for record in preference_results_other_wrong:\n",
    "    key = (record[\"pid\"], record[\"evaluator\"], record[\"evaluatee\"])\n",
    "    evaluator = record[\"evaluator\"]\n",
    "\n",
    "    if key not in perturb_lookup:\n",
    "        print(f\"Error: Missing perturbed record for {key}\")\n",
    "        continue\n",
    "\n",
    "    perturbed = perturb_lookup[key]\n",
    "    evaluation_stats[evaluator][\"total\"] += 1\n",
    "\n",
    "    # No change\n",
    "    if record[\"forward_comparison\"] == perturbed[\"forward_comparison\"] and \\\n",
    "       record[\"backward_comparison\"] == perturbed[\"backward_comparison\"]:\n",
    "        evaluation_stats[evaluator][\"no_change\"] += 1\n",
    "\n",
    "    # Harmful change\n",
    "    if record[\"forward_comparison\"] == \"1\" and record[\"backward_comparison\"] == \"2\":\n",
    "        if perturbed[\"forward_comparison\"] == \"2\" and perturbed[\"backward_comparison\"] == \"1\":\n",
    "            evaluation_stats[evaluator][\"harmful_change\"] += 1\n",
    "    # useful change\n",
    "    if record[\"forward_comparison\"] == \"2\" and record[\"backward_comparison\"] == \"1\":\n",
    "        if perturbed[\"forward_comparison\"] == \"1\" and perturbed[\"backward_comparison\"] == \"2\":\n",
    "            evaluation_stats[evaluator][\"harmful_change\"] += 1\n",
    "# Format and display the results\n",
    "eval_stats_df = pd.DataFrame([\n",
    "    {\n",
    "        \"Model\": model,\n",
    "        \"Total\": stats[\"total\"],\n",
    "        \"No Change\": stats[\"no_change\"],\n",
    "        \"Harmful Change\": stats[\"harmful_change\"],\n",
    "        \"Useful Change\": stats[\"useful_change\"],\n",
    "        \"No Change (%)\": f\"{(stats['no_change'] / stats['total'] * 100):.2f}%\" if stats[\"total\"] > 0 else \"N/A\",\n",
    "        \"Harmful Change (%)\": f\"{(stats['harmful_change'] / stats['total'] * 100):.2f}%\" if stats[\"total\"] > 0 else \"N/A\",\n",
    "        \"Useful Change (%)\": f\"{(stats['useful_change'] / stats['total'] * 100):.2f}%\" if stats[\"total\"] > 0 else \"N/A\"\n",
    "    }\n",
    "    for model, stats in evaluation_stats.items()\n",
    "])\n",
    "print(\"\\nJudge Correct Other Wrong Harmful Change Results\")\n",
    "print(tabulate(eval_stats_df, headers=\"keys\", tablefmt=\"grid\"))"
   ]
  },
  {
   "cell_type": "markdown",
   "metadata": {},
   "source": [
    "## GPT4 Perturb"
   ]
  },
  {
   "cell_type": "code",
   "execution_count": null,
   "metadata": {},
   "outputs": [],
   "source": [
    "with open(\".\\quality\\perturb2_gpt4_self_pref_quality.json\", 'r') as file:\n",
    "    perturb2_gpt4_preference_results = json.load(file)"
   ]
  },
  {
   "cell_type": "code",
   "execution_count": null,
   "metadata": {},
   "outputs": [
    {
     "name": "stdout",
     "output_type": "stream",
     "text": [
      "GPT4 2w perturbation\n",
      "Count of (1,1): 757\n",
      "Count of (1,2): 200\n",
      "Count of (2,1): 1246\n",
      "Count of (2,2): 150\n",
      "Model Selects its Incorrect Answer: 8.499787505312367\n",
      "Model Selects Competitors Correct  Answer: 52.953676158096044\n",
      "Model Is Unsure (toggles selection): 38.546536336591586\n"
     ]
    }
   ],
   "source": [
    "# Initialize counters\n",
    "count_1_1 = 0\n",
    "count_1_2 = 0\n",
    "count_2_1 = 0\n",
    "count_2_2 = 0\n",
    "\n",
    "# Iterate through the list and count occurrences\n",
    "for item in perturb2_gpt4_preference_results:\n",
    "    forward = item[\"forward_comparison\"]\n",
    "    backward = item[\"backward_comparison\"]\n",
    "\n",
    "    if forward == \"1\" and backward == \"1\":\n",
    "        count_1_1 += 1\n",
    "    elif forward == \"1\" and backward == \"2\":\n",
    "        count_1_2 += 1\n",
    "    elif forward == \"2\" and backward == \"1\":\n",
    "        count_2_1 += 1\n",
    "    elif forward == \"2\" and backward == \"2\":\n",
    "        count_2_2 += 1\n",
    "\n",
    "# Print results\n",
    "print(\"GPT4 2w perturbation\")\n",
    "print(f\"Count of (1,1): {count_1_1}\")\n",
    "print(f\"Count of (1,2): {count_1_2}\")\n",
    "print(f\"Count of (2,1): {count_2_1}\")\n",
    "print(f\"Count of (2,2): {count_2_2}\")\n",
    "\n",
    "print(f\"Model Selects its Incorrect Answer: {100*(count_1_2/len(perturb2_gpt4_preference_results))}\")\n",
    "print(f\"Model Selects Competitors Correct  Answer: {100*count_2_1/len(perturb2_gpt4_preference_results)}\")\n",
    "print(f\"Model Is Unsure (toggles selection): {100*(count_1_1+count_2_2)/len(perturb2_gpt4_preference_results)}\")"
   ]
  },
  {
   "cell_type": "code",
   "execution_count": null,
   "metadata": {},
   "outputs": [
    {
     "name": "stdout",
     "output_type": "stream",
     "text": [
      "+----------------------------------+---------+---------+---------+---------+\n",
      "|                                  |   (1,1) |   (1,2) |   (2,1) |   (2,2) |\n",
      "+==================================+=========+=========+=========+=========+\n",
      "| DeepSeek-V3                      |   13.38 |   29.77 |   46.15 |   10.70 |\n",
      "+----------------------------------+---------+---------+---------+---------+\n",
      "| Meta-Llama-3.1-8B-Instruct-Turbo |   53.57 |    3.21 |   42.95 |    0.27 |\n",
      "+----------------------------------+---------+---------+---------+---------+\n",
      "| Qwen2.5-7B-Instruct-Turbo        |   12.53 |    8.03 |   67.13 |   12.31 |\n",
      "+----------------------------------+---------+---------+---------+---------+\n"
     ]
    }
   ],
   "source": [
    "    \n",
    "df = pd.DataFrame(perturb2_gpt4_preference_results)\n",
    "\n",
    "# Initialize a dictionary to store counts grouped by evaluator\n",
    "grouped_counts = {}\n",
    "\n",
    "# Group by evaluator and count occurrences\n",
    "for evaluator, group in df.groupby(\"evaluator\"):\n",
    "    count_1_1 = ((group[\"forward_comparison\"] == \"1\") & (group[\"backward_comparison\"] == \"1\")).sum()\n",
    "    count_1_2 = ((group[\"forward_comparison\"] == \"1\") & (group[\"backward_comparison\"] == \"2\")).sum()\n",
    "    count_2_1 = ((group[\"forward_comparison\"] == \"2\") & (group[\"backward_comparison\"] == \"1\")).sum()\n",
    "    count_2_2 = ((group[\"forward_comparison\"] == \"2\") & (group[\"backward_comparison\"] == \"2\")).sum()\n",
    "\n",
    "    grouped_counts[evaluator] = {\n",
    "        \"(1,1)\": count_1_1,\n",
    "        \"(1,2)\": count_1_2,\n",
    "        \"(2,1)\": count_2_1,\n",
    "        \"(2,2)\": count_2_2,\n",
    "    }\n",
    "\n",
    "# Convert to DataFrame for display\n",
    "grouped_counts_df = pd.DataFrame.from_dict(grouped_counts, orient=\"index\")\n",
    "\n",
    "# Convert counts to percentages\n",
    "grouped_counts_df_percentage = grouped_counts_df.div(grouped_counts_df.sum(axis=1), axis=0) * 100\n",
    "\n",
    "# Print the result in table format\n",
    "print(tabulate(grouped_counts_df_percentage, headers=\"keys\", tablefmt=\"grid\", floatfmt=\".2f\"))"
   ]
  },
  {
   "cell_type": "code",
   "execution_count": null,
   "metadata": {},
   "outputs": [
    {
     "name": "stdout",
     "output_type": "stream",
     "text": [
      "DETECTION\n",
      "+----------------------------------+---------+---------+---------+---------+\n",
      "|                                  |   (1,1) |   (1,2) |   (2,1) |   (2,2) |\n",
      "+==================================+=========+=========+=========+=========+\n",
      "| DeepSeek-V3                      |   33.44 |   27.42 |   37.12 |    2.01 |\n",
      "+----------------------------------+---------+---------+---------+---------+\n",
      "| Meta-Llama-3.1-8B-Instruct-Turbo |   62.59 |    4.20 |   31.79 |    1.43 |\n",
      "+----------------------------------+---------+---------+---------+---------+\n",
      "| Qwen2.5-7B-Instruct-Turbo        |   42.61 |   12.31 |   39.72 |    5.35 |\n",
      "+----------------------------------+---------+---------+---------+---------+\n"
     ]
    }
   ],
   "source": [
    "with open('.\\quality\\self_recog_perturb2_gpt4_quality.json', 'r') as file:\n",
    "    results_gpt4_perturb = json.load(file)\n",
    "    \n",
    "df = pd.DataFrame(results_meta_perturb)\n",
    "\n",
    "# Initialize a dictionary to store counts grouped by evaluator\n",
    "grouped_counts = {}\n",
    "print(\"DETECTION\")\n",
    "# Group by evaluator and count occurrences\n",
    "for evaluator, group in df.groupby(\"evaluator\"):\n",
    "    count_1_1 = ((group[\"forward_detection\"] == \"1\") & (group[\"backward_detection\"] == \"1\")).sum()\n",
    "    count_1_2 = ((group[\"forward_detection\"] == \"1\") & (group[\"backward_detection\"] == \"2\")).sum()\n",
    "    count_2_1 = ((group[\"forward_detection\"] == \"2\") & (group[\"backward_detection\"] == \"1\")).sum()\n",
    "    count_2_2 = ((group[\"forward_detection\"] == \"2\") & (group[\"backward_detection\"] == \"2\")).sum()\n",
    "\n",
    "    grouped_counts[evaluator] = {\n",
    "        \"(1,1)\": count_1_1,\n",
    "        \"(1,2)\": count_1_2,\n",
    "        \"(2,1)\": count_2_1,\n",
    "        \"(2,2)\": count_2_2,\n",
    "    }\n",
    "\n",
    "# Convert to DataFrame for display\n",
    "grouped_counts_df = pd.DataFrame.from_dict(grouped_counts, orient=\"index\")\n",
    "\n",
    "# Convert counts to percentages\n",
    "grouped_counts_df_percentage = grouped_counts_df.div(grouped_counts_df.sum(axis=1), axis=0) * 100\n",
    "\n",
    "# Print the result in table format\n",
    "print(tabulate(grouped_counts_df_percentage, headers=\"keys\", tablefmt=\"grid\", floatfmt=\".2f\"))"
   ]
  },
  {
   "cell_type": "code",
   "execution_count": 36,
   "metadata": {},
   "outputs": [],
   "source": [
    "with open(\".\\quality\\pref_both_correct_quality.json\", 'r') as file:\n",
    "    preference_results_both_correct = json.load(file)"
   ]
  },
  {
   "cell_type": "code",
   "execution_count": 44,
   "metadata": {},
   "outputs": [
    {
     "name": "stdout",
     "output_type": "stream",
     "text": [
      "Both Correct\n",
      "Count of (1,1): 2706\n",
      "Count of (1,2): 871\n",
      "Count of (2,1): 288\n",
      "Count of (2,2): 139\n",
      "Model Selects its Correct Answer: 21.753246753246753\n",
      "Model Selects Competitors Correct  Answer: 7.192807192807193\n",
      "Model Is Unsure (toggles selection): 71.05394605394605\n"
     ]
    }
   ],
   "source": [
    "# Initialize counters\n",
    "count_1_1 = 0\n",
    "count_1_2 = 0\n",
    "count_2_1 = 0\n",
    "count_2_2 = 0\n",
    "\n",
    "# Iterate through the list and count occurrences\n",
    "for item in preference_results_both_correct:\n",
    "    forward = item[\"forward_comparison\"]\n",
    "    backward = item[\"backward_comparison\"]\n",
    "\n",
    "    if forward == \"1\" and backward == \"1\":\n",
    "        count_1_1 += 1\n",
    "    elif forward == \"1\" and backward == \"2\":\n",
    "        count_1_2 += 1\n",
    "    elif forward == \"2\" and backward == \"1\":\n",
    "        count_2_1 += 1\n",
    "    elif forward == \"2\" and backward == \"2\":\n",
    "        count_2_2 += 1\n",
    "\n",
    "# Print results\n",
    "print(\"Both Correct\")\n",
    "print(f\"Count of (1,1): {count_1_1}\")\n",
    "print(f\"Count of (1,2): {count_1_2}\")\n",
    "print(f\"Count of (2,1): {count_2_1}\")\n",
    "print(f\"Count of (2,2): {count_2_2}\")\n",
    "\n",
    "print(f\"Model Selects its Correct Answer: {100*(count_1_2/len(preference_results_both_correct))}\")\n",
    "print(f\"Model Selects Competitors Correct  Answer: {100*count_2_1/len(preference_results_both_correct)}\")\n",
    "print(f\"Model Is Unsure (toggles selection): {100*(count_1_1+count_2_2)/len(preference_results_both_correct)}\")"
   ]
  },
  {
   "cell_type": "code",
   "execution_count": 47,
   "metadata": {},
   "outputs": [
    {
     "name": "stdout",
     "output_type": "stream",
     "text": [
      "+----------------------------------+---------+---------+---------+---------+\n",
      "|                                  |   (1,1) |   (1,2) |   (2,1) |   (2,2) |\n",
      "+==================================+=========+=========+=========+=========+\n",
      "| DeepSeek-V3                      |   33.60 |   51.72 |    6.36 |    8.32 |\n",
      "+----------------------------------+---------+---------+---------+---------+\n",
      "| Meta-Llama-3.1-8B-Instruct-Turbo |   98.60 |    0.25 |    1.15 |    0.00 |\n",
      "+----------------------------------+---------+---------+---------+---------+\n",
      "| Qwen2.5-7B-Instruct-Turbo        |   77.19 |    7.86 |   13.73 |    1.22 |\n",
      "+----------------------------------+---------+---------+---------+---------+\n"
     ]
    }
   ],
   "source": [
    "df = pd.DataFrame(preference_results_both_correct)\n",
    "\n",
    "# Initialize a dictionary to store counts grouped by evaluator\n",
    "grouped_counts = {}\n",
    "\n",
    "# Group by evaluator and count occurrences\n",
    "for evaluator, group in df.groupby(\"evaluator\"):\n",
    "    count_1_1 = ((group[\"forward_comparison\"] == \"1\") & (group[\"backward_comparison\"] == \"1\")).sum()\n",
    "    count_1_2 = ((group[\"forward_comparison\"] == \"1\") & (group[\"backward_comparison\"] == \"2\")).sum()\n",
    "    count_2_1 = ((group[\"forward_comparison\"] == \"2\") & (group[\"backward_comparison\"] == \"1\")).sum()\n",
    "    count_2_2 = ((group[\"forward_comparison\"] == \"2\") & (group[\"backward_comparison\"] == \"2\")).sum()\n",
    "\n",
    "    grouped_counts[evaluator] = {\n",
    "        \"(1,1)\": count_1_1,\n",
    "        \"(1,2)\": count_1_2,\n",
    "        \"(2,1)\": count_2_1,\n",
    "        \"(2,2)\": count_2_2,\n",
    "    }\n",
    "\n",
    "# Convert to DataFrame for display\n",
    "grouped_counts_df = pd.DataFrame.from_dict(grouped_counts, orient=\"index\")\n",
    "\n",
    "# Convert counts to percentages\n",
    "grouped_counts_df_percentage = grouped_counts_df.div(grouped_counts_df.sum(axis=1), axis=0) * 100\n",
    "\n",
    "# Print the result in table format\n",
    "print(tabulate(grouped_counts_df_percentage, headers=\"keys\", tablefmt=\"grid\", floatfmt=\".2f\"))"
   ]
  },
  {
   "cell_type": "code",
   "execution_count": 83,
   "metadata": {},
   "outputs": [
    {
     "name": "stdout",
     "output_type": "stream",
     "text": [
      "----------------- DETECTION -----------------\n",
      "+----------------------------------+---------+---------+---------+---------+\n",
      "|                                  |   (1,1) |   (1,2) |   (2,1) |   (2,2) |\n",
      "+==================================+=========+=========+=========+=========+\n",
      "| DeepSeek-V3                      |   16.97 |   48.68 |    8.25 |   26.10 |\n",
      "+----------------------------------+---------+---------+---------+---------+\n",
      "| Meta-Llama-3.1-8B-Instruct-Turbo |   97.86 |    0.25 |    1.81 |    0.08 |\n",
      "+----------------------------------+---------+---------+---------+---------+\n",
      "| Qwen2.5-7B-Instruct-Turbo        |   94.58 |    1.91 |    3.20 |    0.31 |\n",
      "+----------------------------------+---------+---------+---------+---------+\n"
     ]
    }
   ],
   "source": [
    "with open(\".\\quality\\self_recog_quality_both_correct.json\", 'r') as file:\n",
    "    recog_both_correct = json.load(file)\n",
    "\n",
    "df = pd.DataFrame(recog_both_correct)\n",
    "\n",
    "# Initialize a dictionary to store counts grouped by evaluator\n",
    "grouped_counts = {}\n",
    "print(\"----------------- DETECTION -----------------\")\n",
    "# Group by evaluator and count occurrences\n",
    "for evaluator, group in df.groupby(\"evaluator\"):\n",
    "    count_1_1 = ((group[\"forward_detection\"] == \"1\") & (group[\"backward_detection\"] == \"1\")).sum()\n",
    "    count_1_2 = ((group[\"forward_detection\"] == \"1\") & (group[\"backward_detection\"] == \"2\")).sum()\n",
    "    count_2_1 = ((group[\"forward_detection\"] == \"2\") & (group[\"backward_detection\"] == \"1\")).sum()\n",
    "    count_2_2 = ((group[\"forward_detection\"] == \"2\") & (group[\"backward_detection\"] == \"2\")).sum()\n",
    "\n",
    "    grouped_counts[evaluator] = {\n",
    "        \"(1,1)\": count_1_1,\n",
    "        \"(1,2)\": count_1_2,\n",
    "        \"(2,1)\": count_2_1,\n",
    "        \"(2,2)\": count_2_2,\n",
    "    }\n",
    "\n",
    "# Convert to DataFrame for display\n",
    "grouped_counts_df = pd.DataFrame.from_dict(grouped_counts, orient=\"index\")\n",
    "\n",
    "# Convert counts to percentages\n",
    "grouped_counts_df_percentage = grouped_counts_df.div(grouped_counts_df.sum(axis=1), axis=0) * 100\n",
    "\n",
    "# Print the result in table format\n",
    "print(tabulate(grouped_counts_df_percentage, headers=\"keys\", tablefmt=\"grid\", floatfmt=\".2f\"))"
   ]
  },
  {
   "cell_type": "code",
   "execution_count": 28,
   "metadata": {},
   "outputs": [],
   "source": [
    "with open(\".\\quality\\pref_both_wrong_quality.json\", 'r') as file:\n",
    "    preference_results_both_wrong = json.load(file)"
   ]
  },
  {
   "cell_type": "code",
   "execution_count": 38,
   "metadata": {},
   "outputs": [
    {
     "name": "stdout",
     "output_type": "stream",
     "text": [
      "Both Wrong\n",
      "Count of (1,1): 1893\n",
      "Count of (1,2): 917\n",
      "Count of (2,1): 570\n",
      "Count of (2,2): 358\n",
      "Model Selects its Incorrect Answer: 24.531835205992508\n",
      "Model Selects Competitors Incorrect  Answer: 15.248796147672552\n",
      "Model Is Unsure (toggles selection): 60.219368646334935\n"
     ]
    }
   ],
   "source": [
    "# Initialize counters\n",
    "count_1_1 = 0\n",
    "count_1_2 = 0\n",
    "count_2_1 = 0\n",
    "count_2_2 = 0\n",
    "\n",
    "# Iterate through the list and count occurrences\n",
    "for item in preference_results_both_wrong:\n",
    "    forward = item[\"forward_comparison\"]\n",
    "    backward = item[\"backward_comparison\"]\n",
    "\n",
    "    if forward == \"1\" and backward == \"1\":\n",
    "        count_1_1 += 1\n",
    "    elif forward == \"1\" and backward == \"2\":\n",
    "        count_1_2 += 1\n",
    "    elif forward == \"2\" and backward == \"1\":\n",
    "        count_2_1 += 1\n",
    "    elif forward == \"2\" and backward == \"2\":\n",
    "        count_2_2 += 1\n",
    "\n",
    "# Print results\n",
    "print(\"Both Wrong\")\n",
    "print(f\"Count of (1,1): {count_1_1}\")\n",
    "print(f\"Count of (1,2): {count_1_2}\")\n",
    "print(f\"Count of (2,1): {count_2_1}\")\n",
    "print(f\"Count of (2,2): {count_2_2}\")\n",
    "\n",
    "print(f\"Model Selects its Incorrect Answer: {100*(count_1_2/len(preference_results_both_wrong))}\")\n",
    "print(f\"Model Selects Competitors Incorrect  Answer: {100*count_2_1/len(preference_results_both_wrong)}\")\n",
    "print(f\"Model Is Unsure (toggles selection): {100*(count_1_1+count_2_2)/len(preference_results_both_wrong)}\")"
   ]
  },
  {
   "cell_type": "code",
   "execution_count": 48,
   "metadata": {},
   "outputs": [
    {
     "name": "stdout",
     "output_type": "stream",
     "text": [
      "+----------------------------------+---------+---------+---------+---------+\n",
      "|                                  |   (1,1) |   (1,2) |   (2,1) |   (2,2) |\n",
      "+==================================+=========+=========+=========+=========+\n",
      "| DeepSeek-V3                      |   12.51 |   56.54 |   12.03 |   18.91 |\n",
      "+----------------------------------+---------+---------+---------+---------+\n",
      "| Meta-Llama-3.1-8B-Instruct-Turbo |   86.65 |    3.88 |    9.32 |    0.15 |\n",
      "+----------------------------------+---------+---------+---------+---------+\n",
      "| Qwen2.5-7B-Instruct-Turbo        |   44.44 |   20.22 |   23.63 |   11.70 |\n",
      "+----------------------------------+---------+---------+---------+---------+\n"
     ]
    }
   ],
   "source": [
    "df = pd.DataFrame(preference_results_both_wrong)\n",
    "\n",
    "# Initialize a dictionary to store counts grouped by evaluator\n",
    "grouped_counts = {}\n",
    "\n",
    "# Group by evaluator and count occurrences\n",
    "for evaluator, group in df.groupby(\"evaluator\"):\n",
    "    count_1_1 = ((group[\"forward_comparison\"] == \"1\") & (group[\"backward_comparison\"] == \"1\")).sum()\n",
    "    count_1_2 = ((group[\"forward_comparison\"] == \"1\") & (group[\"backward_comparison\"] == \"2\")).sum()\n",
    "    count_2_1 = ((group[\"forward_comparison\"] == \"2\") & (group[\"backward_comparison\"] == \"1\")).sum()\n",
    "    count_2_2 = ((group[\"forward_comparison\"] == \"2\") & (group[\"backward_comparison\"] == \"2\")).sum()\n",
    "\n",
    "    grouped_counts[evaluator] = {\n",
    "        \"(1,1)\": count_1_1,\n",
    "        \"(1,2)\": count_1_2,\n",
    "        \"(2,1)\": count_2_1,\n",
    "        \"(2,2)\": count_2_2,\n",
    "    }\n",
    "\n",
    "# Convert to DataFrame for display\n",
    "grouped_counts_df = pd.DataFrame.from_dict(grouped_counts, orient=\"index\")\n",
    "\n",
    "# Convert counts to percentages\n",
    "grouped_counts_df_percentage = grouped_counts_df.div(grouped_counts_df.sum(axis=1), axis=0) * 100\n",
    "\n",
    "# Print the result in table format\n",
    "print(tabulate(grouped_counts_df_percentage, headers=\"keys\", tablefmt=\"grid\", floatfmt=\".2f\"))"
   ]
  },
  {
   "cell_type": "code",
   "execution_count": 84,
   "metadata": {},
   "outputs": [
    {
     "name": "stdout",
     "output_type": "stream",
     "text": [
      "----------------- DETECTION -----------------\n",
      "+----------------------------------+---------+---------+---------+---------+\n",
      "|                                  |   (1,1) |   (1,2) |   (2,1) |   (2,2) |\n",
      "+==================================+=========+=========+=========+=========+\n",
      "| DeepSeek-V3                      |   16.24 |   51.29 |   13.94 |   18.53 |\n",
      "+----------------------------------+---------+---------+---------+---------+\n",
      "| Meta-Llama-3.1-8B-Instruct-Turbo |   83.07 |    3.50 |   12.30 |    1.12 |\n",
      "+----------------------------------+---------+---------+---------+---------+\n",
      "| Qwen2.5-7B-Instruct-Turbo        |   65.78 |   13.85 |   14.44 |    5.93 |\n",
      "+----------------------------------+---------+---------+---------+---------+\n"
     ]
    }
   ],
   "source": [
    "with open(\".\\quality\\self_recog_quality_both_wrong.json\", 'r') as file:\n",
    "    recog_both_wrong = json.load(file)\n",
    "\n",
    "df = pd.DataFrame(recog_both_wrong)\n",
    "\n",
    "# Initialize a dictionary to store counts grouped by evaluator\n",
    "grouped_counts = {}\n",
    "print(\"----------------- DETECTION -----------------\")\n",
    "# Group by evaluator and count occurrences\n",
    "for evaluator, group in df.groupby(\"evaluator\"):\n",
    "    count_1_1 = ((group[\"forward_detection\"] == \"1\") & (group[\"backward_detection\"] == \"1\")).sum()\n",
    "    count_1_2 = ((group[\"forward_detection\"] == \"1\") & (group[\"backward_detection\"] == \"2\")).sum()\n",
    "    count_2_1 = ((group[\"forward_detection\"] == \"2\") & (group[\"backward_detection\"] == \"1\")).sum()\n",
    "    count_2_2 = ((group[\"forward_detection\"] == \"2\") & (group[\"backward_detection\"] == \"2\")).sum()\n",
    "\n",
    "    grouped_counts[evaluator] = {\n",
    "        \"(1,1)\": count_1_1,\n",
    "        \"(1,2)\": count_1_2,\n",
    "        \"(2,1)\": count_2_1,\n",
    "        \"(2,2)\": count_2_2,\n",
    "    }\n",
    "\n",
    "# Convert to DataFrame for display\n",
    "grouped_counts_df = pd.DataFrame.from_dict(grouped_counts, orient=\"index\")\n",
    "\n",
    "# Convert counts to percentages\n",
    "grouped_counts_df_percentage = grouped_counts_df.div(grouped_counts_df.sum(axis=1), axis=0) * 100\n",
    "\n",
    "# Print the result in table format\n",
    "print(tabulate(grouped_counts_df_percentage, headers=\"keys\", tablefmt=\"grid\", floatfmt=\".2f\"))"
   ]
  },
  {
   "cell_type": "code",
   "execution_count": 76,
   "metadata": {},
   "outputs": [],
   "source": [
    "with open(\".\\quality\\pref_other_wrong_quality.json\", 'r') as file:\n",
    "    preference_results_other_wrong = json.load(file)"
   ]
  },
  {
   "cell_type": "code",
   "execution_count": 77,
   "metadata": {},
   "outputs": [
    {
     "name": "stdout",
     "output_type": "stream",
     "text": [
      "Comptetitor Wrong\n",
      "Count of (1,1): 448\n",
      "Count of (1,2): 1604\n",
      "Count of (2,1): 173\n",
      "Count of (2,2): 128\n",
      "Model Selects its Correct Answer: 68.16829579260518\n",
      "Model Selects Competitors Incorrect  Answer: 7.352316192095198\n",
      "Model Is Unsure (toggles selection): 24.479388015299616\n"
     ]
    }
   ],
   "source": [
    "# Initialize counters\n",
    "count_1_1 = 0\n",
    "count_1_2 = 0\n",
    "count_2_1 = 0\n",
    "count_2_2 = 0\n",
    "\n",
    "# Iterate through the list and count occurrences\n",
    "for item in preference_results_other_wrong:\n",
    "    forward = item[\"forward_comparison\"]\n",
    "    backward = item[\"backward_comparison\"]\n",
    "\n",
    "    if forward == \"1\" and backward == \"1\":\n",
    "        count_1_1 += 1\n",
    "    elif forward == \"1\" and backward == \"2\":\n",
    "        count_1_2 += 1\n",
    "    elif forward == \"2\" and backward == \"1\":\n",
    "        count_2_1 += 1\n",
    "    elif forward == \"2\" and backward == \"2\":\n",
    "        count_2_2 += 1\n",
    "\n",
    "# Print results\n",
    "print(\"Comptetitor Wrong\")\n",
    "print(f\"Count of (1,1): {count_1_1}\")\n",
    "print(f\"Count of (1,2): {count_1_2}\")\n",
    "print(f\"Count of (2,1): {count_2_1}\")\n",
    "print(f\"Count of (2,2): {count_2_2}\")\n",
    "\n",
    "print(f\"Model Selects its Correct Answer: {100*(count_1_2/len(preference_results_other_wrong))}\")\n",
    "print(f\"Model Selects Competitors Incorrect  Answer: {100*count_2_1/len(preference_results_other_wrong)}\")\n",
    "print(f\"Model Is Unsure (toggles selection): {100*(count_1_1+count_2_2)/len(preference_results_other_wrong)}\")"
   ]
  },
  {
   "cell_type": "code",
   "execution_count": 78,
   "metadata": {},
   "outputs": [
    {
     "name": "stdout",
     "output_type": "stream",
     "text": [
      "+----------------------------------+---------+---------+---------+---------+\n",
      "|                                  |   (1,1) |   (1,2) |   (2,1) |   (2,2) |\n",
      "+==================================+=========+=========+=========+=========+\n",
      "| DeepSeek-V3                      |   15.00 | 1273.00 |   16.00 |   26.00 |\n",
      "+----------------------------------+---------+---------+---------+---------+\n",
      "| Meta-Llama-3.1-8B-Instruct-Turbo |  360.00 |   56.00 |   54.00 |    1.00 |\n",
      "+----------------------------------+---------+---------+---------+---------+\n",
      "| Qwen2.5-7B-Instruct-Turbo        |   73.00 |  275.00 |  103.00 |  101.00 |\n",
      "+----------------------------------+---------+---------+---------+---------+\n",
      "\n",
      "Percentages\n",
      "+----------------------------------+---------+---------+---------+---------+\n",
      "|                                  |   (1,1) |   (1,2) |   (2,1) |   (2,2) |\n",
      "+==================================+=========+=========+=========+=========+\n",
      "| DeepSeek-V3                      |    1.13 |   95.71 |    1.20 |    1.95 |\n",
      "+----------------------------------+---------+---------+---------+---------+\n",
      "| Meta-Llama-3.1-8B-Instruct-Turbo |   76.43 |   11.89 |   11.46 |    0.21 |\n",
      "+----------------------------------+---------+---------+---------+---------+\n",
      "| Qwen2.5-7B-Instruct-Turbo        |   13.22 |   49.82 |   18.66 |   18.30 |\n",
      "+----------------------------------+---------+---------+---------+---------+\n"
     ]
    }
   ],
   "source": [
    "df = pd.DataFrame(preference_results_other_wrong)\n",
    "\n",
    "# Initialize a dictionary to store counts grouped by evaluator\n",
    "grouped_counts = {}\n",
    "\n",
    "# Group by evaluator and count occurrences\n",
    "for evaluator, group in df.groupby(\"evaluator\"):\n",
    "    count_1_1 = ((group[\"forward_comparison\"] == \"1\") & (group[\"backward_comparison\"] == \"1\")).sum()\n",
    "    count_1_2 = ((group[\"forward_comparison\"] == \"1\") & (group[\"backward_comparison\"] == \"2\")).sum()\n",
    "    count_2_1 = ((group[\"forward_comparison\"] == \"2\") & (group[\"backward_comparison\"] == \"1\")).sum()\n",
    "    count_2_2 = ((group[\"forward_comparison\"] == \"2\") & (group[\"backward_comparison\"] == \"2\")).sum()\n",
    "\n",
    "    grouped_counts[evaluator] = {\n",
    "        \"(1,1)\": count_1_1,\n",
    "        \"(1,2)\": count_1_2,\n",
    "        \"(2,1)\": count_2_1,\n",
    "        \"(2,2)\": count_2_2,\n",
    "    }\n",
    "\n",
    "# Convert to DataFrame for display\n",
    "grouped_counts_df = pd.DataFrame.from_dict(grouped_counts, orient=\"index\")\n",
    "print(tabulate(grouped_counts_df, headers=\"keys\", tablefmt=\"grid\", floatfmt=\".2f\"))\n",
    "print(\"\\nPercentages\")\n",
    "# Convert counts to percentages\n",
    "grouped_counts_df_percentage = grouped_counts_df.div(grouped_counts_df.sum(axis=1), axis=0) * 100\n",
    "\n",
    "# Print the result in table format\n",
    "print(tabulate(grouped_counts_df_percentage, headers=\"keys\", tablefmt=\"grid\", floatfmt=\".2f\"))"
   ]
  },
  {
   "cell_type": "code",
   "execution_count": 85,
   "metadata": {},
   "outputs": [
    {
     "name": "stdout",
     "output_type": "stream",
     "text": [
      "----------------- DETECTION -----------------\n",
      "+----------------------------------+---------+---------+---------+---------+\n",
      "|                                  |   (1,1) |   (1,2) |   (2,1) |   (2,2) |\n",
      "+==================================+=========+=========+=========+=========+\n",
      "| DeepSeek-V3                      |    3.68 |   93.83 |    1.43 |    1.05 |\n",
      "+----------------------------------+---------+---------+---------+---------+\n",
      "| Meta-Llama-3.1-8B-Instruct-Turbo |   73.67 |   12.53 |   12.10 |    1.70 |\n",
      "+----------------------------------+---------+---------+---------+---------+\n",
      "| Qwen2.5-7B-Instruct-Turbo        |   30.07 |   40.22 |   17.39 |   12.32 |\n",
      "+----------------------------------+---------+---------+---------+---------+\n"
     ]
    }
   ],
   "source": [
    "with open(\".\\quality\\self_recog_quality_other_wrong.json\", 'r') as file:\n",
    "    recog_other_wrong = json.load(file)\n",
    "\n",
    "df = pd.DataFrame(recog_other_wrong)\n",
    "\n",
    "# Initialize a dictionary to store counts grouped by evaluator\n",
    "grouped_counts = {}\n",
    "print(\"----------------- DETECTION -----------------\")\n",
    "# Group by evaluator and count occurrences\n",
    "for evaluator, group in df.groupby(\"evaluator\"):\n",
    "    count_1_1 = ((group[\"forward_detection\"] == \"1\") & (group[\"backward_detection\"] == \"1\")).sum()\n",
    "    count_1_2 = ((group[\"forward_detection\"] == \"1\") & (group[\"backward_detection\"] == \"2\")).sum()\n",
    "    count_2_1 = ((group[\"forward_detection\"] == \"2\") & (group[\"backward_detection\"] == \"1\")).sum()\n",
    "    count_2_2 = ((group[\"forward_detection\"] == \"2\") & (group[\"backward_detection\"] == \"2\")).sum()\n",
    "\n",
    "    grouped_counts[evaluator] = {\n",
    "        \"(1,1)\": count_1_1,\n",
    "        \"(1,2)\": count_1_2,\n",
    "        \"(2,1)\": count_2_1,\n",
    "        \"(2,2)\": count_2_2,\n",
    "    }\n",
    "\n",
    "# Convert to DataFrame for display\n",
    "grouped_counts_df = pd.DataFrame.from_dict(grouped_counts, orient=\"index\")\n",
    "\n",
    "# Convert counts to percentages\n",
    "grouped_counts_df_percentage = grouped_counts_df.div(grouped_counts_df.sum(axis=1), axis=0) * 100\n",
    "\n",
    "# Print the result in table format\n",
    "print(tabulate(grouped_counts_df_percentage, headers=\"keys\", tablefmt=\"grid\", floatfmt=\".2f\"))"
   ]
  },
  {
   "cell_type": "markdown",
   "metadata": {},
   "source": [
    "# Paraphrase (Competitor reason by Evaluator)"
   ]
  },
  {
   "cell_type": "code",
   "execution_count": 86,
   "metadata": {},
   "outputs": [],
   "source": [
    "# Load JSON file into a variable\n",
    "with open('.\\quality\\paraphrased_by_others.json', 'r') as file:\n",
    "    responses = json.load(file)"
   ]
  },
  {
   "cell_type": "markdown",
   "metadata": {},
   "source": [
    "### harmful subset (model wrong)"
   ]
  },
  {
   "cell_type": "code",
   "execution_count": 37,
   "metadata": {},
   "outputs": [],
   "source": [
    "# Load JSON file into a variable\n",
    "with open('.\\quality\\paraphrase_other_by_eval_preference_results.json', 'r') as file:\n",
    "    paraphrase_other_by_eval_preference_results = json.load(file)"
   ]
  },
  {
   "cell_type": "code",
   "execution_count": 92,
   "metadata": {},
   "outputs": [
    {
     "name": "stdout",
     "output_type": "stream",
     "text": [
      "+----------------------------------+---------+---------+---------+---------+\n",
      "|                                  |   (1,1) |   (1,2) |   (2,1) |   (2,2) |\n",
      "+==================================+=========+=========+=========+=========+\n",
      "| DeepSeek-V3                      |   51.00 |  112.00 |  103.00 |   33.00 |\n",
      "+----------------------------------+---------+---------+---------+---------+\n",
      "| Meta-Llama-3.1-8B-Instruct-Turbo |  825.00 |   60.00 |  232.00 |    3.00 |\n",
      "+----------------------------------+---------+---------+---------+---------+\n",
      "| Qwen2.5-7B-Instruct-Turbo        |  178.00 |  153.00 |  437.00 |  166.00 |\n",
      "+----------------------------------+---------+---------+---------+---------+\n",
      "\n",
      "Percentages\n",
      "+----------------------------------+---------+---------+---------+---------+\n",
      "|                                  |   (1,1) |   (1,2) |   (2,1) |   (2,2) |\n",
      "+==================================+=========+=========+=========+=========+\n",
      "| DeepSeek-V3                      |   17.06 |   37.46 |   34.45 |   11.04 |\n",
      "+----------------------------------+---------+---------+---------+---------+\n",
      "| Meta-Llama-3.1-8B-Instruct-Turbo |   73.66 |    5.36 |   20.71 |    0.27 |\n",
      "+----------------------------------+---------+---------+---------+---------+\n",
      "| Qwen2.5-7B-Instruct-Turbo        |   19.06 |   16.38 |   46.79 |   17.77 |\n",
      "+----------------------------------+---------+---------+---------+---------+\n"
     ]
    }
   ],
   "source": [
    "df = pd.DataFrame(paraphrase_other_by_eval_preference_results)\n",
    "\n",
    "# Initialize a dictionary to store counts grouped by evaluator\n",
    "grouped_counts = {}\n",
    "\n",
    "# Group by evaluator and count occurrences\n",
    "for evaluator, group in df.groupby(\"evaluator\"):\n",
    "    count_1_1 = ((group[\"forward_comparison\"] == \"1\") & (group[\"backward_comparison\"] == \"1\")).sum()\n",
    "    count_1_2 = ((group[\"forward_comparison\"] == \"1\") & (group[\"backward_comparison\"] == \"2\")).sum()\n",
    "    count_2_1 = ((group[\"forward_comparison\"] == \"2\") & (group[\"backward_comparison\"] == \"1\")).sum()\n",
    "    count_2_2 = ((group[\"forward_comparison\"] == \"2\") & (group[\"backward_comparison\"] == \"2\")).sum()\n",
    "\n",
    "    grouped_counts[evaluator] = {\n",
    "        \"(1,1)\": count_1_1,\n",
    "        \"(1,2)\": count_1_2,\n",
    "        \"(2,1)\": count_2_1,\n",
    "        \"(2,2)\": count_2_2,\n",
    "    }\n",
    "\n",
    "# Convert to DataFrame for display\n",
    "grouped_counts_df = pd.DataFrame.from_dict(grouped_counts, orient=\"index\")\n",
    "print(tabulate(grouped_counts_df, headers=\"keys\", tablefmt=\"grid\", floatfmt=\".2f\"))\n",
    "print(\"\\nPercentages\")\n",
    "# Convert counts to percentages\n",
    "grouped_counts_df_percentage = grouped_counts_df.div(grouped_counts_df.sum(axis=1), axis=0) * 100\n",
    "\n",
    "# Print the result in table format\n",
    "print(tabulate(grouped_counts_df_percentage, headers=\"keys\", tablefmt=\"grid\", floatfmt=\".2f\"))"
   ]
  },
  {
   "cell_type": "code",
   "execution_count": 100,
   "metadata": {},
   "outputs": [
    {
     "name": "stdout",
     "output_type": "stream",
     "text": [
      "----------------- DETECTION -----------------\n",
      "+----------------------------------+---------+---------+---------+---------+\n",
      "|                                  |   (1,1) |   (1,2) |   (2,1) |   (2,2) |\n",
      "+==================================+=========+=========+=========+=========+\n",
      "| DeepSeek-V3                      |   28.09 |   35.45 |   34.11 |    2.34 |\n",
      "+----------------------------------+---------+---------+---------+---------+\n",
      "| Meta-Llama-3.1-8B-Instruct-Turbo |   66.96 |    5.98 |   25.27 |    1.79 |\n",
      "+----------------------------------+---------+---------+---------+---------+\n",
      "| Qwen2.5-7B-Instruct-Turbo        |   42.83 |   19.49 |   29.44 |    8.24 |\n",
      "+----------------------------------+---------+---------+---------+---------+\n"
     ]
    }
   ],
   "source": [
    "with open(\".\\quality\\paraphrase_other_by_eval_recog_harmful.json\", 'r') as file:\n",
    "    paraphrase_other_by_eval_recog = json.load(file)\n",
    "\n",
    "df = pd.DataFrame(paraphrase_other_by_eval_recog)\n",
    "\n",
    "# Initialize a dictionary to store counts grouped by evaluator\n",
    "grouped_counts = {}\n",
    "print(\"----------------- DETECTION -----------------\")\n",
    "# Group by evaluator and count occurrences\n",
    "for evaluator, group in df.groupby(\"evaluator\"):\n",
    "    count_1_1 = ((group[\"forward_detection\"] == \"1\") & (group[\"backward_detection\"] == \"1\")).sum()\n",
    "    count_1_2 = ((group[\"forward_detection\"] == \"1\") & (group[\"backward_detection\"] == \"2\")).sum()\n",
    "    count_2_1 = ((group[\"forward_detection\"] == \"2\") & (group[\"backward_detection\"] == \"1\")).sum()\n",
    "    count_2_2 = ((group[\"forward_detection\"] == \"2\") & (group[\"backward_detection\"] == \"2\")).sum()\n",
    "\n",
    "    grouped_counts[evaluator] = {\n",
    "        \"(1,1)\": count_1_1,\n",
    "        \"(1,2)\": count_1_2,\n",
    "        \"(2,1)\": count_2_1,\n",
    "        \"(2,2)\": count_2_2,\n",
    "    }\n",
    "\n",
    "# Convert to DataFrame for display\n",
    "grouped_counts_df = pd.DataFrame.from_dict(grouped_counts, orient=\"index\")\n",
    "\n",
    "# Convert counts to percentages\n",
    "grouped_counts_df_percentage = grouped_counts_df.div(grouped_counts_df.sum(axis=1), axis=0) * 100\n",
    "\n",
    "# Print the result in table format\n",
    "print(tabulate(grouped_counts_df_percentage, headers=\"keys\", tablefmt=\"grid\", floatfmt=\".2f\"))"
   ]
  },
  {
   "cell_type": "markdown",
   "metadata": {},
   "source": [
    "### both right"
   ]
  },
  {
   "cell_type": "code",
   "execution_count": 93,
   "metadata": {},
   "outputs": [],
   "source": [
    "# Load JSON file into a variable\n",
    "with open('.\\quality\\paraphrase_other_by_eval_preference_results_both_right.json', 'r') as file:\n",
    "    paraphrase_other_by_eval_preference_results_both_right = json.load(file)"
   ]
  },
  {
   "cell_type": "code",
   "execution_count": 94,
   "metadata": {},
   "outputs": [
    {
     "name": "stdout",
     "output_type": "stream",
     "text": [
      "+----------------------------------+---------+---------+---------+---------+\n",
      "|                                  |   (1,1) |   (1,2) |   (2,1) |   (2,2) |\n",
      "+==================================+=========+=========+=========+=========+\n",
      "| DeepSeek-V3                      |   23.66 |   69.30 |    2.43 |    4.60 |\n",
      "+----------------------------------+---------+---------+---------+---------+\n",
      "| Meta-Llama-3.1-8B-Instruct-Turbo |   99.18 |    0.49 |    0.33 |    0.00 |\n",
      "+----------------------------------+---------+---------+---------+---------+\n",
      "| Qwen2.5-7B-Instruct-Turbo        |   72.77 |   17.24 |    8.39 |    1.60 |\n",
      "+----------------------------------+---------+---------+---------+---------+\n"
     ]
    }
   ],
   "source": [
    "df = pd.DataFrame(paraphrase_other_by_eval_preference_results_both_right)\n",
    "\n",
    "# Initialize a dictionary to store counts grouped by evaluator\n",
    "grouped_counts = {}\n",
    "\n",
    "# Group by evaluator and count occurrences\n",
    "for evaluator, group in df.groupby(\"evaluator\"):\n",
    "    count_1_1 = ((group[\"forward_comparison\"] == \"1\") & (group[\"backward_comparison\"] == \"1\")).sum()\n",
    "    count_1_2 = ((group[\"forward_comparison\"] == \"1\") & (group[\"backward_comparison\"] == \"2\")).sum()\n",
    "    count_2_1 = ((group[\"forward_comparison\"] == \"2\") & (group[\"backward_comparison\"] == \"1\")).sum()\n",
    "    count_2_2 = ((group[\"forward_comparison\"] == \"2\") & (group[\"backward_comparison\"] == \"2\")).sum()\n",
    "\n",
    "    grouped_counts[evaluator] = {\n",
    "        \"(1,1)\": count_1_1,\n",
    "        \"(1,2)\": count_1_2,\n",
    "        \"(2,1)\": count_2_1,\n",
    "        \"(2,2)\": count_2_2,\n",
    "    }\n",
    "\n",
    "# Convert to DataFrame for display\n",
    "grouped_counts_df = pd.DataFrame.from_dict(grouped_counts, orient=\"index\")\n",
    "\n",
    "# Convert counts to percentages\n",
    "grouped_counts_df_percentage = grouped_counts_df.div(grouped_counts_df.sum(axis=1), axis=0) * 100\n",
    "\n",
    "# Print the result in table format\n",
    "print(tabulate(grouped_counts_df_percentage, headers=\"keys\", tablefmt=\"grid\", floatfmt=\".2f\"))"
   ]
  },
  {
   "cell_type": "code",
   "execution_count": 103,
   "metadata": {},
   "outputs": [
    {
     "name": "stdout",
     "output_type": "stream",
     "text": [
      "----------------- DETECTION -----------------\n",
      "+----------------------------------+---------+---------+---------+---------+\n",
      "|                                  |   (1,1) |   (1,2) |   (2,1) |   (2,2) |\n",
      "+==================================+=========+=========+=========+=========+\n",
      "| DeepSeek-V3                      |   13.18 |   65.25 |    4.33 |   17.24 |\n",
      "+----------------------------------+---------+---------+---------+---------+\n",
      "| Meta-Llama-3.1-8B-Instruct-Turbo |   98.43 |    0.49 |    0.99 |    0.08 |\n",
      "+----------------------------------+---------+---------+---------+---------+\n",
      "| Qwen2.5-7B-Instruct-Turbo        |   93.52 |    4.12 |    1.91 |    0.46 |\n",
      "+----------------------------------+---------+---------+---------+---------+\n"
     ]
    }
   ],
   "source": [
    "with open(\".\\quality\\paraphrase_other_by_eval_recog_both_right.json\", 'r') as file:\n",
    "    paraphrase_other_by_eval_recog_both_right = json.load(file)\n",
    "\n",
    "df = pd.DataFrame(paraphrase_other_by_eval_recog_both_right)\n",
    "\n",
    "# Initialize a dictionary to store counts grouped by evaluator\n",
    "grouped_counts = {}\n",
    "print(\"----------------- DETECTION -----------------\")\n",
    "# Group by evaluator and count occurrences\n",
    "for evaluator, group in df.groupby(\"evaluator\"):\n",
    "    count_1_1 = ((group[\"forward_detection\"] == \"1\") & (group[\"backward_detection\"] == \"1\")).sum()\n",
    "    count_1_2 = ((group[\"forward_detection\"] == \"1\") & (group[\"backward_detection\"] == \"2\")).sum()\n",
    "    count_2_1 = ((group[\"forward_detection\"] == \"2\") & (group[\"backward_detection\"] == \"1\")).sum()\n",
    "    count_2_2 = ((group[\"forward_detection\"] == \"2\") & (group[\"backward_detection\"] == \"2\")).sum()\n",
    "\n",
    "    grouped_counts[evaluator] = {\n",
    "        \"(1,1)\": count_1_1,\n",
    "        \"(1,2)\": count_1_2,\n",
    "        \"(2,1)\": count_2_1,\n",
    "        \"(2,2)\": count_2_2,\n",
    "    }\n",
    "\n",
    "# Convert to DataFrame for display\n",
    "grouped_counts_df = pd.DataFrame.from_dict(grouped_counts, orient=\"index\")\n",
    "\n",
    "# Convert counts to percentages\n",
    "grouped_counts_df_percentage = grouped_counts_df.div(grouped_counts_df.sum(axis=1), axis=0) * 100\n",
    "\n",
    "# Print the result in table format\n",
    "print(tabulate(grouped_counts_df_percentage, headers=\"keys\", tablefmt=\"grid\", floatfmt=\".2f\"))"
   ]
  },
  {
   "cell_type": "markdown",
   "metadata": {},
   "source": [
    "### Other wrong (source correct)"
   ]
  },
  {
   "cell_type": "code",
   "execution_count": 38,
   "metadata": {},
   "outputs": [],
   "source": [
    "# Load JSON file into a variable\n",
    "with open('.\\quality\\paraphrase_other_by_eval_preference_results_other_wrong.json', 'r') as file:\n",
    "    paraphrase_other_by_eval_preference_results_other_wrong = json.load(file)"
   ]
  },
  {
   "cell_type": "code",
   "execution_count": 96,
   "metadata": {},
   "outputs": [
    {
     "name": "stdout",
     "output_type": "stream",
     "text": [
      "+----------------------------------+---------+---------+---------+---------+\n",
      "|                                  |   (1,1) |   (1,2) |   (2,1) |   (2,2) |\n",
      "+==================================+=========+=========+=========+=========+\n",
      "| DeepSeek-V3                      |    0.90 |   96.92 |    0.83 |    1.35 |\n",
      "+----------------------------------+---------+---------+---------+---------+\n",
      "| Meta-Llama-3.1-8B-Instruct-Turbo |   81.32 |   15.07 |    3.61 |    0.00 |\n",
      "+----------------------------------+---------+---------+---------+---------+\n",
      "| Qwen2.5-7B-Instruct-Turbo        |    9.06 |   59.06 |   15.76 |   16.12 |\n",
      "+----------------------------------+---------+---------+---------+---------+\n"
     ]
    }
   ],
   "source": [
    "df = pd.DataFrame(paraphrase_other_by_eval_preference_results_other_wrong)\n",
    "\n",
    "# Initialize a dictionary to store counts grouped by evaluator\n",
    "grouped_counts = {}\n",
    "\n",
    "# Group by evaluator and count occurrences\n",
    "for evaluator, group in df.groupby(\"evaluator\"):\n",
    "    count_1_1 = ((group[\"forward_comparison\"] == \"1\") & (group[\"backward_comparison\"] == \"1\")).sum()\n",
    "    count_1_2 = ((group[\"forward_comparison\"] == \"1\") & (group[\"backward_comparison\"] == \"2\")).sum()\n",
    "    count_2_1 = ((group[\"forward_comparison\"] == \"2\") & (group[\"backward_comparison\"] == \"1\")).sum()\n",
    "    count_2_2 = ((group[\"forward_comparison\"] == \"2\") & (group[\"backward_comparison\"] == \"2\")).sum()\n",
    "\n",
    "    grouped_counts[evaluator] = {\n",
    "        \"(1,1)\": count_1_1,\n",
    "        \"(1,2)\": count_1_2,\n",
    "        \"(2,1)\": count_2_1,\n",
    "        \"(2,2)\": count_2_2,\n",
    "    }\n",
    "\n",
    "# Convert to DataFrame for display\n",
    "grouped_counts_df = pd.DataFrame.from_dict(grouped_counts, orient=\"index\")\n",
    "\n",
    "# Convert counts to percentages\n",
    "grouped_counts_df_percentage = grouped_counts_df.div(grouped_counts_df.sum(axis=1), axis=0) * 100\n",
    "\n",
    "# Print the result in table format\n",
    "print(tabulate(grouped_counts_df_percentage, headers=\"keys\", tablefmt=\"grid\", floatfmt=\".2f\"))"
   ]
  },
  {
   "cell_type": "code",
   "execution_count": 104,
   "metadata": {},
   "outputs": [
    {
     "name": "stdout",
     "output_type": "stream",
     "text": [
      "----------------- DETECTION -----------------\n",
      "+----------------------------------+---------+---------+---------+---------+\n",
      "|                                  |   (1,1) |   (1,2) |   (2,1) |   (2,2) |\n",
      "+==================================+=========+=========+=========+=========+\n",
      "| DeepSeek-V3                      |    4.06 |   93.98 |    1.13 |    0.83 |\n",
      "+----------------------------------+---------+---------+---------+---------+\n",
      "| Meta-Llama-3.1-8B-Instruct-Turbo |   73.25 |   15.92 |    8.92 |    1.91 |\n",
      "+----------------------------------+---------+---------+---------+---------+\n",
      "| Qwen2.5-7B-Instruct-Turbo        |   28.80 |   52.90 |   10.51 |    7.79 |\n",
      "+----------------------------------+---------+---------+---------+---------+\n"
     ]
    }
   ],
   "source": [
    "with open(\".\\quality\\paraphrase_other_by_eval_recog_other_wrong.json\", 'r') as file:\n",
    "    paraphrase_other_by_eval_recog_other_wrong = json.load(file)\n",
    "\n",
    "df = pd.DataFrame(paraphrase_other_by_eval_recog_other_wrong)\n",
    "\n",
    "# Initialize a dictionary to store counts grouped by evaluator\n",
    "grouped_counts = {}\n",
    "print(\"----------------- DETECTION -----------------\")\n",
    "# Group by evaluator and count occurrences\n",
    "for evaluator, group in df.groupby(\"evaluator\"):\n",
    "    count_1_1 = ((group[\"forward_detection\"] == \"1\") & (group[\"backward_detection\"] == \"1\")).sum()\n",
    "    count_1_2 = ((group[\"forward_detection\"] == \"1\") & (group[\"backward_detection\"] == \"2\")).sum()\n",
    "    count_2_1 = ((group[\"forward_detection\"] == \"2\") & (group[\"backward_detection\"] == \"1\")).sum()\n",
    "    count_2_2 = ((group[\"forward_detection\"] == \"2\") & (group[\"backward_detection\"] == \"2\")).sum()\n",
    "\n",
    "    grouped_counts[evaluator] = {\n",
    "        \"(1,1)\": count_1_1,\n",
    "        \"(1,2)\": count_1_2,\n",
    "        \"(2,1)\": count_2_1,\n",
    "        \"(2,2)\": count_2_2,\n",
    "    }\n",
    "\n",
    "# Convert to DataFrame for display\n",
    "grouped_counts_df = pd.DataFrame.from_dict(grouped_counts, orient=\"index\")\n",
    "\n",
    "# Convert counts to percentages\n",
    "grouped_counts_df_percentage = grouped_counts_df.div(grouped_counts_df.sum(axis=1), axis=0) * 100\n",
    "\n",
    "# Print the result in table format\n",
    "print(tabulate(grouped_counts_df_percentage, headers=\"keys\", tablefmt=\"grid\", floatfmt=\".2f\"))"
   ]
  },
  {
   "cell_type": "markdown",
   "metadata": {},
   "source": [
    "### both wrong"
   ]
  },
  {
   "cell_type": "code",
   "execution_count": 97,
   "metadata": {},
   "outputs": [],
   "source": [
    "# Load JSON file into a variable\n",
    "with open('.\\quality\\paraphrase_other_by_eval_preference_results_both_wrong.json', 'r') as file:\n",
    "    paraphrase_other_by_eval_preference_results_both_wrong = json.load(file)"
   ]
  },
  {
   "cell_type": "code",
   "execution_count": 98,
   "metadata": {},
   "outputs": [
    {
     "name": "stdout",
     "output_type": "stream",
     "text": [
      "+----------------------------------+---------+---------+---------+---------+\n",
      "|                                  |   (1,1) |   (1,2) |   (2,1) |   (2,2) |\n",
      "+==================================+=========+=========+=========+=========+\n",
      "| DeepSeek-V3                      |   10.89 |   64.76 |    7.26 |   17.10 |\n",
      "+----------------------------------+---------+---------+---------+---------+\n",
      "| Meta-Llama-3.1-8B-Instruct-Turbo |   89.49 |    5.74 |    4.70 |    0.07 |\n",
      "+----------------------------------+---------+---------+---------+---------+\n",
      "| Qwen2.5-7B-Instruct-Turbo        |   43.04 |   27.70 |   17.26 |   12.00 |\n",
      "+----------------------------------+---------+---------+---------+---------+\n"
     ]
    }
   ],
   "source": [
    "df = pd.DataFrame(paraphrase_other_by_eval_preference_results_both_wrong)\n",
    "\n",
    "# Initialize a dictionary to store counts grouped by evaluator\n",
    "grouped_counts = {}\n",
    "\n",
    "# Group by evaluator and count occurrences\n",
    "for evaluator, group in df.groupby(\"evaluator\"):\n",
    "    count_1_1 = ((group[\"forward_comparison\"] == \"1\") & (group[\"backward_comparison\"] == \"1\")).sum()\n",
    "    count_1_2 = ((group[\"forward_comparison\"] == \"1\") & (group[\"backward_comparison\"] == \"2\")).sum()\n",
    "    count_2_1 = ((group[\"forward_comparison\"] == \"2\") & (group[\"backward_comparison\"] == \"1\")).sum()\n",
    "    count_2_2 = ((group[\"forward_comparison\"] == \"2\") & (group[\"backward_comparison\"] == \"2\")).sum()\n",
    "\n",
    "    grouped_counts[evaluator] = {\n",
    "        \"(1,1)\": count_1_1,\n",
    "        \"(1,2)\": count_1_2,\n",
    "        \"(2,1)\": count_2_1,\n",
    "        \"(2,2)\": count_2_2,\n",
    "    }\n",
    "\n",
    "# Convert to DataFrame for display\n",
    "grouped_counts_df = pd.DataFrame.from_dict(grouped_counts, orient=\"index\")\n",
    "\n",
    "# Convert counts to percentages\n",
    "grouped_counts_df_percentage = grouped_counts_df.div(grouped_counts_df.sum(axis=1), axis=0) * 100\n",
    "\n",
    "# Print the result in table format\n",
    "print(tabulate(grouped_counts_df_percentage, headers=\"keys\", tablefmt=\"grid\", floatfmt=\".2f\"))"
   ]
  },
  {
   "cell_type": "code",
   "execution_count": 102,
   "metadata": {},
   "outputs": [
    {
     "name": "stdout",
     "output_type": "stream",
     "text": [
      "----------------- DETECTION -----------------\n",
      "+----------------------------------+---------+---------+---------+---------+\n",
      "|                                  |   (1,1) |   (1,2) |   (2,1) |   (2,2) |\n",
      "+==================================+=========+=========+=========+=========+\n",
      "| DeepSeek-V3                      |   14.90 |   61.51 |    9.26 |   14.33 |\n",
      "+----------------------------------+---------+---------+---------+---------+\n",
      "| Meta-Llama-3.1-8B-Instruct-Turbo |   84.12 |    7.08 |    8.05 |    0.75 |\n",
      "+----------------------------------+---------+---------+---------+---------+\n",
      "| Qwen2.5-7B-Instruct-Turbo        |   67.26 |   19.93 |    8.74 |    4.07 |\n",
      "+----------------------------------+---------+---------+---------+---------+\n"
     ]
    }
   ],
   "source": [
    "with open(\".\\quality\\paraphrase_other_by_eval_recog_both_wrong.json\", 'r') as file:\n",
    "    paraphrase_other_by_eval_recog_both_wrong = json.load(file)\n",
    "\n",
    "df = pd.DataFrame(paraphrase_other_by_eval_recog_both_wrong)\n",
    "\n",
    "# Initialize a dictionary to store counts grouped by evaluator\n",
    "grouped_counts = {}\n",
    "print(\"----------------- DETECTION -----------------\")\n",
    "# Group by evaluator and count occurrences\n",
    "for evaluator, group in df.groupby(\"evaluator\"):\n",
    "    count_1_1 = ((group[\"forward_detection\"] == \"1\") & (group[\"backward_detection\"] == \"1\")).sum()\n",
    "    count_1_2 = ((group[\"forward_detection\"] == \"1\") & (group[\"backward_detection\"] == \"2\")).sum()\n",
    "    count_2_1 = ((group[\"forward_detection\"] == \"2\") & (group[\"backward_detection\"] == \"1\")).sum()\n",
    "    count_2_2 = ((group[\"forward_detection\"] == \"2\") & (group[\"backward_detection\"] == \"2\")).sum()\n",
    "\n",
    "    grouped_counts[evaluator] = {\n",
    "        \"(1,1)\": count_1_1,\n",
    "        \"(1,2)\": count_1_2,\n",
    "        \"(2,1)\": count_2_1,\n",
    "        \"(2,2)\": count_2_2,\n",
    "    }\n",
    "\n",
    "# Convert to DataFrame for display\n",
    "grouped_counts_df = pd.DataFrame.from_dict(grouped_counts, orient=\"index\")\n",
    "\n",
    "# Convert counts to percentages\n",
    "grouped_counts_df_percentage = grouped_counts_df.div(grouped_counts_df.sum(axis=1), axis=0) * 100\n",
    "\n",
    "# Print the result in table format\n",
    "print(tabulate(grouped_counts_df_percentage, headers=\"keys\", tablefmt=\"grid\", floatfmt=\".2f\"))"
   ]
  },
  {
   "cell_type": "markdown",
   "metadata": {},
   "source": [
    "### Evaluator win rate (paraphrased)"
   ]
  },
  {
   "cell_type": "code",
   "execution_count": 99,
   "metadata": {},
   "outputs": [
    {
     "name": "stdout",
     "output_type": "stream",
     "text": [
      "+----+----------------------------------+----------------------------------+---------------------+----------------------+----------------------+\n",
      "|    | Evaluator Model                  | Evaluatee Model                  |   Total Comparisons |   Wins for Evaluator | Winning Percentage   |\n",
      "+====+==================================+==================================+=====================+======================+======================+\n",
      "|  0 | Meta-Llama-3.1-8B-Instruct-Turbo | Qwen2.5-7B-Instruct-Turbo        |                4138 |               1862.5 | 45.01%               |\n",
      "+----+----------------------------------+----------------------------------+---------------------+----------------------+----------------------+\n",
      "|  1 | Qwen2.5-7B-Instruct-Turbo        | Meta-Llama-3.1-8B-Instruct-Turbo |                4138 |               2275.5 | 54.99%               |\n",
      "+----+----------------------------------+----------------------------------+---------------------+----------------------+----------------------+\n",
      "|  2 | Meta-Llama-3.1-8B-Instruct-Turbo | DeepSeek-V3                      |                4154 |               1270.5 | 30.58%               |\n",
      "+----+----------------------------------+----------------------------------+---------------------+----------------------+----------------------+\n",
      "|  3 | DeepSeek-V3                      | Meta-Llama-3.1-8B-Instruct-Turbo |                4154 |               2883.5 | 69.42%               |\n",
      "+----+----------------------------------+----------------------------------+---------------------+----------------------+----------------------+\n",
      "|  4 | Qwen2.5-7B-Instruct-Turbo        | DeepSeek-V3                      |                4156 |               1260   | 30.32%               |\n",
      "+----+----------------------------------+----------------------------------+---------------------+----------------------+----------------------+\n",
      "|  5 | DeepSeek-V3                      | Qwen2.5-7B-Instruct-Turbo        |                4156 |               2896   | 69.68%               |\n",
      "+----+----------------------------------+----------------------------------+---------------------+----------------------+----------------------+\n"
     ]
    }
   ],
   "source": [
    "all_pref_paraphrase = paraphrase_other_by_eval_preference_results + paraphrase_other_by_eval_preference_results_both_right + paraphrase_other_by_eval_preference_results_both_wrong + paraphrase_other_by_eval_preference_results_other_wrong\n",
    "\n",
    "# Convert all_pref data into a DataFrame\n",
    "df_pref = pd.DataFrame(all_pref_paraphrase)\n",
    "\n",
    "# Initialize a dictionary to store the pairwise model winning rates\n",
    "pairwise_wins = defaultdict(float)\n",
    "pairwise_total = defaultdict(int)\n",
    "\n",
    "# Iterate through each preference entry\n",
    "for record in df_pref.itertuples(index=False):\n",
    "    evaluator = record.evaluator\n",
    "    evaluatee = record.evaluatee\n",
    "    forward = record.forward_comparison\n",
    "    backward = record.backward_comparison\n",
    "\n",
    "    # Scoring logic based on forward and backward comparison\n",
    "    if forward == \"1\" and backward == \"2\":\n",
    "        pairwise_wins[(evaluator, evaluatee)] += 1  # Evaluator wins\n",
    "    elif forward == \"2\" and backward == \"1\":\n",
    "        pairwise_wins[(evaluatee, evaluator)] += 1  # Evaluatee wins\n",
    "    elif (forward == \"1\" and backward == \"1\") or (forward == \"2\" and backward == \"2\"):\n",
    "        pairwise_wins[(evaluator, evaluatee)] += 0.5\n",
    "        pairwise_wins[(evaluatee, evaluator)] += 0.5\n",
    "\n",
    "    # Track total comparisons\n",
    "    pairwise_total[(evaluator, evaluatee)] += 1\n",
    "    pairwise_total[(evaluatee, evaluator)] += 1\n",
    "\n",
    "# # Compute winning rates as a percentage\n",
    "# pairwise_win_rates = {\n",
    "#     pair: (wins / pairwise_total[pair]) * 100 for pair, wins in pairwise_wins.items()\n",
    "# }\n",
    "\n",
    "# # Convert results into a DataFrame\n",
    "# pairwise_win_rates_df = pd.DataFrame(\n",
    "#     [(a, b, f\"{win_rate:.2f}%\") for (a, b), win_rate in pairwise_win_rates.items()],\n",
    "#     columns=[\"Model A\", \"Model B\", \"Winning Rate for Model A\"]\n",
    "# )\n",
    "\n",
    "# # Print results in tabular format\n",
    "# print(tabulate(pairwise_win_rates_df, headers=\"keys\", tablefmt=\"grid\"))\n",
    "\n",
    "# Convert results into a DataFrame with both count and percentage\n",
    "pairwise_results = [\n",
    "    (a, b, pairwise_total[(a, b)], pairwise_wins[(a, b)], f\"{(pairwise_wins[(a, b)] / pairwise_total[(a, b)]) * 100:.2f}%\")\n",
    "    for (a, b) in pairwise_total.keys()\n",
    "]\n",
    "\n",
    "# Create DataFrame with additional details\n",
    "pairwise_results_df = pd.DataFrame(\n",
    "    pairwise_results,\n",
    "    columns=[\"Evaluator Model\", \"Evaluatee Model\", \"Total Comparisons\", \"Wins for Evaluator\", \"Winning Percentage\"]\n",
    ")\n",
    "\n",
    "# Print results in tabular format\n",
    "print(tabulate(pairwise_results_df, headers=\"keys\", tablefmt=\"grid\"))\n"
   ]
  },
  {
   "cell_type": "markdown",
   "metadata": {},
   "source": [
    "### Answer & Judge Accuracy : Overall vs Harmful Quadrant (paraphrased)\n"
   ]
  },
  {
   "cell_type": "code",
   "execution_count": 28,
   "metadata": {},
   "outputs": [],
   "source": [
    "# Load JSON file into a variable\n",
    "with open('.\\quality\\paraphrase_other_by_eval_preference_results.json', 'r') as file:\n",
    "    paraphrase_other_by_eval_preference_results = json.load(file)"
   ]
  },
  {
   "cell_type": "code",
   "execution_count": 29,
   "metadata": {},
   "outputs": [],
   "source": [
    "with open(\".\\quality\\paraphrase_other_by_eval_preference_results_other_wrong.json\", 'r') as file:\n",
    "    paraphrase_other_by_eval_preference_results_other_wrong = json.load(file)"
   ]
  },
  {
   "cell_type": "code",
   "execution_count": 31,
   "metadata": {},
   "outputs": [
    {
     "name": "stdout",
     "output_type": "stream",
     "text": [
      "\n",
      "Evaluator Accuracy Results\n",
      "+----+----------------------------------------+-----------+---------+----------------+\n",
      "|    | Model                                  |   Correct |   Total | Accuracy (%)   |\n",
      "+====+========================================+===========+=========+================+\n",
      "|  0 | Meta-Llama-3.1-8B-Instruct-Turbo       |       658 |    3082 | 21.35%         |\n",
      "+----+----------------------------------------+-----------+---------+----------------+\n",
      "|  1 | Qwen2.5-7B-Instruct-Turbo              |      1442 |    2871 | 50.23%         |\n",
      "+----+----------------------------------------+-----------+---------+----------------+\n",
      "|  2 | Llama-4-Scout-17B-16E-Instruct         |      1648 |    2700 | 61.04%         |\n",
      "+----+----------------------------------------+-----------+---------+----------------+\n",
      "|  3 | Llama-4-Maverick-17B-128E-Instruct-FP8 |      2009 |    2517 | 79.82%         |\n",
      "+----+----------------------------------------+-----------+---------+----------------+\n",
      "|  4 | DeepSeek-V3                            |      2272 |    2750 | 82.62%         |\n",
      "+----+----------------------------------------+-----------+---------+----------------+\n"
     ]
    }
   ],
   "source": [
    "# Model list\n",
    "model_names = [ \"Meta-Llama-3.1-8B-Instruct-Turbo\",  \"Qwen2.5-7B-Instruct-Turbo\", \"Llama-4-Scout-17B-16E-Instruct\", \"Llama-4-Maverick-17B-128E-Instruct-FP8\", \"DeepSeek-V3\"]\n",
    "\n",
    "# Initialize tracking dictionaries\n",
    "result_stats = {model: {\"correct\": 0, \"total\": 0} for model in model_names}\n",
    "\n",
    "# Process preference_results\n",
    "for record in paraphrase_other_by_eval_preference_results:\n",
    "    model = record[\"evaluator\"]\n",
    "    if model in result_stats:\n",
    "        result_stats[model][\"total\"] += 1\n",
    "        if record[\"forward_comparison\"] == \"2\" and record[\"backward_comparison\"] == \"1\":\n",
    "            result_stats[model][\"correct\"] += 1\n",
    "\n",
    "# Process preference_results_other_wrong\n",
    "for record in paraphrase_other_by_eval_preference_results_other_wrong:\n",
    "    model = record[\"evaluator\"]\n",
    "    if model in result_stats:\n",
    "        result_stats[model][\"total\"] += 1\n",
    "        if record[\"forward_comparison\"] == \"1\" and record[\"backward_comparison\"] == \"2\":\n",
    "            result_stats[model][\"correct\"] += 1\n",
    "\n",
    "# Create DataFrame to display results\n",
    "results_df = pd.DataFrame([\n",
    "    {\n",
    "        \"Model\": model,\n",
    "        \"Correct\": stats[\"correct\"],\n",
    "        \"Total\": stats[\"total\"],\n",
    "        \"Accuracy (%)\": f\"{(stats['correct'] / stats['total'] * 100):.2f}%\" if stats[\"total\"] > 0 else \"N/A\"\n",
    "    }\n",
    "    for model, stats in result_stats.items()\n",
    "])\n",
    "\n",
    "print(\"\\nEvaluator Accuracy Results\")\n",
    "# Display the table\n",
    "print(tabulate(results_df, headers=\"keys\", tablefmt=\"grid\"))\n",
    "\n"
   ]
  },
  {
   "cell_type": "markdown",
   "metadata": {},
   "source": [
    "In Harmful Quadrant"
   ]
  },
  {
   "cell_type": "code",
   "execution_count": 30,
   "metadata": {},
   "outputs": [
    {
     "name": "stdout",
     "output_type": "stream",
     "text": [
      "\n",
      "Evaluator Accuracy Results\n",
      "+----+----------------------------------------+-----------+---------+----------------+\n",
      "|    | Model                                  |   Correct |   Total | Accuracy (%)   |\n",
      "+====+========================================+===========+=========+================+\n",
      "|  0 | Meta-Llama-3.1-8B-Instruct-Turbo       |       508 |    2173 | 23.38%         |\n",
      "+----+----------------------------------------+-----------+---------+----------------+\n",
      "|  1 | Qwen2.5-7B-Instruct-Turbo              |       928 |    1842 | 50.38%         |\n",
      "+----+----------------------------------------+-----------+---------+----------------+\n",
      "|  2 | Llama-4-Scout-17B-16E-Instruct         |       573 |    1264 | 45.33%         |\n",
      "+----+----------------------------------------+-----------+---------+----------------+\n",
      "|  3 | Llama-4-Maverick-17B-128E-Instruct-FP8 |       596 |     952 | 62.61%         |\n",
      "+----+----------------------------------------+-----------+---------+----------------+\n",
      "|  4 | DeepSeek-V3                            |       277 |     606 | 45.71%         |\n",
      "+----+----------------------------------------+-----------+---------+----------------+\n"
     ]
    }
   ],
   "source": [
    "# Model list\n",
    "model_names = [ \"Meta-Llama-3.1-8B-Instruct-Turbo\",  \"Qwen2.5-7B-Instruct-Turbo\", \"Llama-4-Scout-17B-16E-Instruct\", \"Llama-4-Maverick-17B-128E-Instruct-FP8\", \"DeepSeek-V3\"]\n",
    "\n",
    "# Initialize tracking dictionaries\n",
    "result_stats = {model: {\"correct\": 0, \"total\": 0} for model in model_names}\n",
    "\n",
    "# Process preference_results\n",
    "for record in paraphrase_other_by_eval_preference_results:\n",
    "    model = record[\"evaluator\"]\n",
    "    if model in result_stats:\n",
    "        result_stats[model][\"total\"] += 1\n",
    "        if record[\"forward_comparison\"] == \"2\" and record[\"backward_comparison\"] == \"1\":\n",
    "            result_stats[model][\"correct\"] += 1\n",
    "\n",
    "\n",
    "# Create DataFrame to display results\n",
    "results_df = pd.DataFrame([\n",
    "    {\n",
    "        \"Model\": model,\n",
    "        \"Correct\": stats[\"correct\"],\n",
    "        \"Total\": stats[\"total\"],\n",
    "        \"Accuracy (%)\": f\"{(stats['correct'] / stats['total'] * 100):.2f}%\" if stats[\"total\"] > 0 else \"N/A\"\n",
    "    }\n",
    "    for model, stats in result_stats.items()\n",
    "])\n",
    "\n",
    "print(\"\\nEvaluator Accuracy Results\")\n",
    "# Display the table\n",
    "print(tabulate(results_df, headers=\"keys\", tablefmt=\"grid\"))"
   ]
  },
  {
   "cell_type": "markdown",
   "metadata": {},
   "source": [
    "Beneficial"
   ]
  },
  {
   "cell_type": "code",
   "execution_count": 32,
   "metadata": {},
   "outputs": [
    {
     "name": "stdout",
     "output_type": "stream",
     "text": [
      "\n",
      "Evaluator Accuracy Results\n",
      "+----+----------------------------------------+-----------+---------+----------------+\n",
      "|    | Model                                  |   Correct |   Total | Accuracy (%)   |\n",
      "+====+========================================+===========+=========+================+\n",
      "|  0 | Meta-Llama-3.1-8B-Instruct-Turbo       |       150 |     909 | 16.50%         |\n",
      "+----+----------------------------------------+-----------+---------+----------------+\n",
      "|  1 | Qwen2.5-7B-Instruct-Turbo              |       514 |    1029 | 49.95%         |\n",
      "+----+----------------------------------------+-----------+---------+----------------+\n",
      "|  2 | Llama-4-Scout-17B-16E-Instruct         |      1075 |    1436 | 74.86%         |\n",
      "+----+----------------------------------------+-----------+---------+----------------+\n",
      "|  3 | Llama-4-Maverick-17B-128E-Instruct-FP8 |      1413 |    1565 | 90.29%         |\n",
      "+----+----------------------------------------+-----------+---------+----------------+\n",
      "|  4 | DeepSeek-V3                            |      1995 |    2144 | 93.05%         |\n",
      "+----+----------------------------------------+-----------+---------+----------------+\n"
     ]
    }
   ],
   "source": [
    "# Model list\n",
    "model_names = [ \"Meta-Llama-3.1-8B-Instruct-Turbo\",  \"Qwen2.5-7B-Instruct-Turbo\", \"Llama-4-Scout-17B-16E-Instruct\", \"Llama-4-Maverick-17B-128E-Instruct-FP8\", \"DeepSeek-V3\"]\n",
    "\n",
    "# Initialize tracking dictionaries\n",
    "result_stats = {model: {\"correct\": 0, \"total\": 0} for model in model_names}\n",
    "\n",
    "# Process preference_results\n",
    "for record in paraphrase_other_by_eval_preference_results_other_wrong:\n",
    "    model = record[\"evaluator\"]\n",
    "    if model in result_stats:\n",
    "        result_stats[model][\"total\"] += 1\n",
    "        if record[\"forward_comparison\"] == \"1\" and record[\"backward_comparison\"] == \"2\":\n",
    "            result_stats[model][\"correct\"] += 1\n",
    "\n",
    "\n",
    "# Create DataFrame to display results\n",
    "results_df = pd.DataFrame([\n",
    "    {\n",
    "        \"Model\": model,\n",
    "        \"Correct\": stats[\"correct\"],\n",
    "        \"Total\": stats[\"total\"],\n",
    "        \"Accuracy (%)\": f\"{(stats['correct'] / stats['total'] * 100):.2f}%\" if stats[\"total\"] > 0 else \"N/A\"\n",
    "    }\n",
    "    for model, stats in result_stats.items()\n",
    "])\n",
    "\n",
    "print(\"\\nEvaluator Accuracy Results\")\n",
    "# Display the table\n",
    "print(tabulate(results_df, headers=\"keys\", tablefmt=\"grid\"))"
   ]
  },
  {
   "cell_type": "markdown",
   "metadata": {},
   "source": [
    "### Analysis of change from normal after parapharsing competitor"
   ]
  },
  {
   "cell_type": "code",
   "execution_count": 52,
   "metadata": {},
   "outputs": [
    {
     "name": "stdout",
     "output_type": "stream",
     "text": [
      "+----+----------------------------------+---------+-------------+------------------+-----------------+-----------------+----------------------+---------------------+\n",
      "|    | Model                            |   Total |   No Change |   Harmful Change |   Useful Change | No Change (%)   | Harmful Change (%)   | Useful Change (%)   |\n",
      "+====+==================================+=========+=============+==================+=================+=================+======================+=====================+\n",
      "|  0 | Qwen2.5-7B-Instruct-Turbo        |     934 |         702 |               21 |               4 | 75.16%          | 2.25%                | 0.43%               |\n",
      "+----+----------------------------------+---------+-------------+------------------+-----------------+-----------------+----------------------+---------------------+\n",
      "|  1 | Meta-Llama-3.1-8B-Instruct-Turbo |    1120 |         854 |                4 |               0 | 76.25%          | 0.36%                | 0.00%               |\n",
      "+----+----------------------------------+---------+-------------+------------------+-----------------+-----------------+----------------------+---------------------+\n",
      "|  2 | DeepSeek-V3                      |     299 |         238 |                3 |               1 | 79.60%          | 1.00%                | 0.33%               |\n",
      "+----+----------------------------------+---------+-------------+------------------+-----------------+-----------------+----------------------+---------------------+\n"
     ]
    }
   ],
   "source": [
    "# Define model names\n",
    "model_names = [\"Qwen2.5-7B-Instruct-Turbo\", \"Meta-Llama-3.1-8B-Instruct-Turbo\", \"DeepSeek-V3\"]\n",
    "\n",
    "# Initialize result dictionary\n",
    "evaluation_stats = {model: {\"total\": 0, \"no_change\": 0, \"harmful_change\": 0, \"useful_change\":0} for model in model_names}\n",
    "\n",
    "# Create a lookup table for perturbed results\n",
    "perturb_lookup = {\n",
    "    (rec[\"pid\"], rec[\"evaluator\"], rec[\"evaluatee\"]): rec\n",
    "    for rec in paraphrase_other_by_eval_preference_results\n",
    "}\n",
    "\n",
    "# Iterate through the original preference results\n",
    "for record in preference_results:\n",
    "    key = (record[\"pid\"], record[\"evaluator\"], record[\"evaluatee\"])\n",
    "    evaluator = record[\"evaluator\"]\n",
    "\n",
    "    if key not in perturb_lookup:\n",
    "        print(f\"Error: Missing perturbed record for {key}\")\n",
    "        continue\n",
    "\n",
    "    perturbed = perturb_lookup[key]\n",
    "    evaluation_stats[evaluator][\"total\"] += 1\n",
    "\n",
    "    # No change\n",
    "    if record[\"forward_comparison\"] == perturbed[\"forward_comparison\"] and \\\n",
    "       record[\"backward_comparison\"] == perturbed[\"backward_comparison\"]:\n",
    "        evaluation_stats[evaluator][\"no_change\"] += 1\n",
    "\n",
    "    # Harmful change\n",
    "    if record[\"forward_comparison\"] == \"2\" and record[\"backward_comparison\"] == \"1\":\n",
    "        if perturbed[\"forward_comparison\"] == \"1\" and perturbed[\"backward_comparison\"] == \"2\":\n",
    "            evaluation_stats[evaluator][\"harmful_change\"] += 1\n",
    "    # Useful change\n",
    "    if record[\"forward_comparison\"] == \"1\" and record[\"backward_comparison\"] == \"2\":\n",
    "        if perturbed[\"forward_comparison\"] == \"2\" and perturbed[\"backward_comparison\"] == \"1\":\n",
    "            evaluation_stats[evaluator][\"useful_change\"] += 1\n",
    "\n",
    "eval_stats_df = pd.DataFrame([\n",
    "    {\n",
    "        \"Model\": model,\n",
    "        \"Total\": stats[\"total\"],\n",
    "        \"No Change\": stats[\"no_change\"],\n",
    "        \"Harmful Change\": stats[\"harmful_change\"],\n",
    "        \"Useful Change\": stats[\"useful_change\"],\n",
    "        \"No Change (%)\": f\"{(stats['no_change'] / stats['total'] * 100):.2f}%\" if stats[\"total\"] > 0 else \"N/A\",\n",
    "        \"Harmful Change (%)\": f\"{(stats['harmful_change'] / stats['total'] * 100):.2f}%\" if stats[\"total\"] > 0 else \"N/A\",\n",
    "        \"Useful Change (%)\": f\"{(stats['useful_change'] / stats['total'] * 100):.2f}%\" if stats[\"total\"] > 0 else \"N/A\"\n",
    "    }\n",
    "    for model, stats in evaluation_stats.items()\n",
    "])\n",
    "\n",
    "print(tabulate(eval_stats_df, headers=\"keys\", tablefmt=\"grid\"))"
   ]
  },
  {
   "cell_type": "markdown",
   "metadata": {},
   "source": [
    "When Judge is Right and Competitor is wrong"
   ]
  },
  {
   "cell_type": "code",
   "execution_count": 53,
   "metadata": {},
   "outputs": [
    {
     "name": "stdout",
     "output_type": "stream",
     "text": [
      "\n",
      "Judge Correct Other Wrong Harmful Change Results\n",
      "+----+----------------------------------+---------+-------------+------------------+-----------------+-----------------+----------------------+---------------------+\n",
      "|    | Model                            |   Total |   No Change |   Harmful Change |   Useful Change | No Change (%)   | Harmful Change (%)   | Useful Change (%)   |\n",
      "+====+==================================+=========+=============+==================+=================+=================+======================+=====================+\n",
      "|  0 | Qwen2.5-7B-Instruct-Turbo        |     552 |         424 |                2 |              10 | 76.81%          | 0.36%                | 1.81%               |\n",
      "+----+----------------------------------+---------+-------------+------------------+-----------------+-----------------+----------------------+---------------------+\n",
      "|  1 | Meta-Llama-3.1-8B-Instruct-Turbo |     471 |         383 |                1 |               1 | 81.32%          | 0.21%                | 0.21%               |\n",
      "+----+----------------------------------+---------+-------------+------------------+-----------------+-----------------+----------------------+---------------------+\n",
      "|  2 | DeepSeek-V3                      |    1330 |        1302 |                0 |               5 | 97.89%          | 0.00%                | 0.38%               |\n",
      "+----+----------------------------------+---------+-------------+------------------+-----------------+-----------------+----------------------+---------------------+\n"
     ]
    }
   ],
   "source": [
    "# Define model names\n",
    "model_names = [\"Qwen2.5-7B-Instruct-Turbo\", \"Meta-Llama-3.1-8B-Instruct-Turbo\", \"DeepSeek-V3\"]\n",
    "\n",
    "# Initialize result dictionary\n",
    "evaluation_stats = {model: {\"total\": 0, \"no_change\": 0, \"harmful_change\": 0, \"useful_change\":0} for model in model_names}\n",
    "\n",
    "# Create a lookup table for perturbed results\n",
    "perturb_lookup = {\n",
    "    (rec[\"pid\"], rec[\"evaluator\"], rec[\"evaluatee\"]): rec\n",
    "    for rec in paraphrase_other_by_eval_preference_results_other_wrong\n",
    "}\n",
    "\n",
    "# Iterate through the original preference results\n",
    "for record in preference_results_other_wrong:\n",
    "    key = (record[\"pid\"], record[\"evaluator\"], record[\"evaluatee\"])\n",
    "    evaluator = record[\"evaluator\"]\n",
    "\n",
    "    if key not in perturb_lookup:\n",
    "        print(f\"Error: Missing perturbed record for {key}\")\n",
    "        continue\n",
    "\n",
    "    perturbed = perturb_lookup[key]\n",
    "    evaluation_stats[evaluator][\"total\"] += 1\n",
    "\n",
    "    # No change\n",
    "    if record[\"forward_comparison\"] == perturbed[\"forward_comparison\"] and \\\n",
    "       record[\"backward_comparison\"] == perturbed[\"backward_comparison\"]:\n",
    "        evaluation_stats[evaluator][\"no_change\"] += 1\n",
    "\n",
    "    # Harmful change\n",
    "    if record[\"forward_comparison\"] == \"1\" and record[\"backward_comparison\"] == \"2\":\n",
    "        if perturbed[\"forward_comparison\"] == \"2\" and perturbed[\"backward_comparison\"] == \"1\":\n",
    "            evaluation_stats[evaluator][\"harmful_change\"] += 1\n",
    "        # Useful change\n",
    "    if record[\"forward_comparison\"] == \"2\" and record[\"backward_comparison\"] == \"1\":\n",
    "        if perturbed[\"forward_comparison\"] == \"1\" and perturbed[\"backward_comparison\"] == \"2\":\n",
    "            evaluation_stats[evaluator][\"useful_change\"] += 1\n",
    "\n",
    "# Format and display the results\n",
    "eval_stats_df = pd.DataFrame([\n",
    "    {\n",
    "        \"Model\": model,\n",
    "        \"Total\": stats[\"total\"],\n",
    "        \"No Change\": stats[\"no_change\"],\n",
    "        \"Harmful Change\": stats[\"harmful_change\"],\n",
    "        \"Useful Change\": stats[\"useful_change\"],\n",
    "        \"No Change (%)\": f\"{(stats['no_change'] / stats['total'] * 100):.2f}%\" if stats[\"total\"] > 0 else \"N/A\",\n",
    "        \"Harmful Change (%)\": f\"{(stats['harmful_change'] / stats['total'] * 100):.2f}%\" if stats[\"total\"] > 0 else \"N/A\",\n",
    "        \"Useful Change (%)\": f\"{(stats['useful_change'] / stats['total'] * 100):.2f}%\" if stats[\"total\"] > 0 else \"N/A\"\n",
    "    }\n",
    "    for model, stats in evaluation_stats.items()\n",
    "])\n",
    "\n",
    "print(\"\\nJudge Correct Other Wrong Harmful Change Results\")\n",
    "print(tabulate(eval_stats_df, headers=\"keys\", tablefmt=\"grid\"))\n"
   ]
  },
  {
   "cell_type": "markdown",
   "metadata": {},
   "source": [
    "# No Context Results"
   ]
  },
  {
   "cell_type": "markdown",
   "metadata": {},
   "source": [
    "## Normal"
   ]
  },
  {
   "cell_type": "markdown",
   "metadata": {},
   "source": [
    "### Harmful"
   ]
  },
  {
   "cell_type": "code",
   "execution_count": 8,
   "metadata": {},
   "outputs": [
    {
     "name": "stdout",
     "output_type": "stream",
     "text": [
      "\n",
      "Percentages\n",
      "+----------------------------------+---------+---------+---------+---------+\n",
      "|                                  |   (1,1) |   (1,2) |   (2,1) |   (2,2) |\n",
      "+==================================+=========+=========+=========+=========+\n",
      "| DeepSeek-V3                      |   10.70 |   64.88 |   18.73 |    5.69 |\n",
      "+----------------------------------+---------+---------+---------+---------+\n",
      "| Meta-Llama-3.1-8B-Instruct-Turbo |   50.71 |   11.96 |   34.46 |    2.86 |\n",
      "+----------------------------------+---------+---------+---------+---------+\n",
      "| Qwen2.5-7B-Instruct-Turbo        |   28.16 |   25.70 |   42.72 |    3.43 |\n",
      "+----------------------------------+---------+---------+---------+---------+\n"
     ]
    }
   ],
   "source": [
    "# Load JSON file into a variable\n",
    "with open('.\\quality\\preference_results_no_text_harmful.json', 'r') as file:\n",
    "    preference_results_no_text_harmful = json.load(file)\n",
    "df = pd.DataFrame(preference_results_no_text_harmful)\n",
    "\n",
    "# Initialize a dictionary to store counts grouped by evaluator\n",
    "grouped_counts = {}\n",
    "\n",
    "# Group by evaluator and count occurrences\n",
    "for evaluator, group in df.groupby(\"evaluator\"):\n",
    "    count_1_1 = ((group[\"forward_comparison\"] == \"1\") & (group[\"backward_comparison\"] == \"1\")).sum()\n",
    "    count_1_2 = ((group[\"forward_comparison\"] == \"1\") & (group[\"backward_comparison\"] == \"2\")).sum()\n",
    "    count_2_1 = ((group[\"forward_comparison\"] == \"2\") & (group[\"backward_comparison\"] == \"1\")).sum()\n",
    "    count_2_2 = ((group[\"forward_comparison\"] == \"2\") & (group[\"backward_comparison\"] == \"2\")).sum()\n",
    "\n",
    "    grouped_counts[evaluator] = {\n",
    "        \"(1,1)\": count_1_1,\n",
    "        \"(1,2)\": count_1_2,\n",
    "        \"(2,1)\": count_2_1,\n",
    "        \"(2,2)\": count_2_2,\n",
    "    }\n",
    "\n",
    "# Convert to DataFrame for display\n",
    "grouped_counts_df = pd.DataFrame.from_dict(grouped_counts, orient=\"index\")\n",
    "#print(tabulate(grouped_counts_df, headers=\"keys\", tablefmt=\"grid\", floatfmt=\".2f\"))\n",
    "print(\"\\nPercentages\")\n",
    "# Convert counts to percentages\n",
    "grouped_counts_df_percentage = grouped_counts_df.div(grouped_counts_df.sum(axis=1), axis=0) * 100\n",
    "\n",
    "# Print the result in table format\n",
    "print(tabulate(grouped_counts_df_percentage, headers=\"keys\", tablefmt=\"grid\", floatfmt=\".2f\"))\n"
   ]
  },
  {
   "cell_type": "code",
   "execution_count": 6,
   "metadata": {},
   "outputs": [
    {
     "name": "stdout",
     "output_type": "stream",
     "text": [
      "----------------- DETECTION -----------------\n",
      "+----------------------------------+---------+---------+---------+---------+\n",
      "|                                  |   (1,1) |   (1,2) |   (2,1) |   (2,2) |\n",
      "+==================================+=========+=========+=========+=========+\n",
      "| DeepSeek-V3                      |   35.12 |   50.84 |   13.04 |    1.00 |\n",
      "+----------------------------------+---------+---------+---------+---------+\n",
      "| Meta-Llama-3.1-8B-Instruct-Turbo |   95.45 |    1.34 |    3.21 |    0.00 |\n",
      "+----------------------------------+---------+---------+---------+---------+\n",
      "| Qwen2.5-7B-Instruct-Turbo        |   31.91 |   25.59 |   35.33 |    7.17 |\n",
      "+----------------------------------+---------+---------+---------+---------+\n"
     ]
    }
   ],
   "source": [
    "with open(\".\\quality\\self_recog_quality_no_text_harmful.json\", 'r') as file:\n",
    "    self_recog_quality_no_text_harmful = json.load(file)\n",
    "\n",
    "df = pd.DataFrame(self_recog_quality_no_text_harmful)\n",
    "\n",
    "# Initialize a dictionary to store counts grouped by evaluator\n",
    "grouped_counts = {}\n",
    "print(\"----------------- DETECTION -----------------\")\n",
    "# Group by evaluator and count occurrences\n",
    "for evaluator, group in df.groupby(\"evaluator\"):\n",
    "    count_1_1 = ((group[\"forward_detection\"] == \"1\") & (group[\"backward_detection\"] == \"1\")).sum()\n",
    "    count_1_2 = ((group[\"forward_detection\"] == \"1\") & (group[\"backward_detection\"] == \"2\")).sum()\n",
    "    count_2_1 = ((group[\"forward_detection\"] == \"2\") & (group[\"backward_detection\"] == \"1\")).sum()\n",
    "    count_2_2 = ((group[\"forward_detection\"] == \"2\") & (group[\"backward_detection\"] == \"2\")).sum()\n",
    "\n",
    "    grouped_counts[evaluator] = {\n",
    "        \"(1,1)\": count_1_1,\n",
    "        \"(1,2)\": count_1_2,\n",
    "        \"(2,1)\": count_2_1,\n",
    "        \"(2,2)\": count_2_2,\n",
    "    }\n",
    "\n",
    "# Convert to DataFrame for display\n",
    "grouped_counts_df = pd.DataFrame.from_dict(grouped_counts, orient=\"index\")\n",
    "\n",
    "# Convert counts to percentages\n",
    "grouped_counts_df_percentage = grouped_counts_df.div(grouped_counts_df.sum(axis=1), axis=0) * 100\n",
    "\n",
    "# Print the result in table format\n",
    "print(tabulate(grouped_counts_df_percentage, headers=\"keys\", tablefmt=\"grid\", floatfmt=\".2f\"))"
   ]
  },
  {
   "cell_type": "markdown",
   "metadata": {},
   "source": [
    "### Other Wrong"
   ]
  },
  {
   "cell_type": "code",
   "execution_count": 9,
   "metadata": {},
   "outputs": [
    {
     "name": "stdout",
     "output_type": "stream",
     "text": [
      "\n",
      "Percentages\n",
      "+----------------------------------+---------+---------+---------+---------+\n",
      "|                                  |   (1,1) |   (1,2) |   (2,1) |   (2,2) |\n",
      "+==================================+=========+=========+=========+=========+\n",
      "| DeepSeek-V3                      |    7.82 |   82.86 |    7.29 |    2.03 |\n",
      "+----------------------------------+---------+---------+---------+---------+\n",
      "| Meta-Llama-3.1-8B-Instruct-Turbo |   52.65 |   24.42 |   21.02 |    1.91 |\n",
      "+----------------------------------+---------+---------+---------+---------+\n",
      "| Qwen2.5-7B-Instruct-Turbo        |   25.54 |   46.74 |   22.64 |    5.07 |\n",
      "+----------------------------------+---------+---------+---------+---------+\n"
     ]
    }
   ],
   "source": [
    "# Load JSON file into a variable\n",
    "with open('.\\quality\\preference_results_no_text_harmful_other_wrong.json', 'r') as file:\n",
    "    preference_results_no_text_harmful_other_wrong = json.load(file)\n",
    "df = pd.DataFrame(preference_results_no_text_harmful_other_wrong)\n",
    "\n",
    "# Initialize a dictionary to store counts grouped by evaluator\n",
    "grouped_counts = {}\n",
    "\n",
    "# Group by evaluator and count occurrences\n",
    "for evaluator, group in df.groupby(\"evaluator\"):\n",
    "    count_1_1 = ((group[\"forward_comparison\"] == \"1\") & (group[\"backward_comparison\"] == \"1\")).sum()\n",
    "    count_1_2 = ((group[\"forward_comparison\"] == \"1\") & (group[\"backward_comparison\"] == \"2\")).sum()\n",
    "    count_2_1 = ((group[\"forward_comparison\"] == \"2\") & (group[\"backward_comparison\"] == \"1\")).sum()\n",
    "    count_2_2 = ((group[\"forward_comparison\"] == \"2\") & (group[\"backward_comparison\"] == \"2\")).sum()\n",
    "\n",
    "    grouped_counts[evaluator] = {\n",
    "        \"(1,1)\": count_1_1,\n",
    "        \"(1,2)\": count_1_2,\n",
    "        \"(2,1)\": count_2_1,\n",
    "        \"(2,2)\": count_2_2,\n",
    "    }\n",
    "\n",
    "# Convert to DataFrame for display\n",
    "grouped_counts_df = pd.DataFrame.from_dict(grouped_counts, orient=\"index\")\n",
    "#print(tabulate(grouped_counts_df, headers=\"keys\", tablefmt=\"grid\", floatfmt=\".2f\"))\n",
    "print(\"\\nPercentages\")\n",
    "# Convert counts to percentages\n",
    "grouped_counts_df_percentage = grouped_counts_df.div(grouped_counts_df.sum(axis=1), axis=0) * 100\n",
    "\n",
    "# Print the result in table format\n",
    "print(tabulate(grouped_counts_df_percentage, headers=\"keys\", tablefmt=\"grid\", floatfmt=\".2f\"))\n"
   ]
  },
  {
   "cell_type": "code",
   "execution_count": 10,
   "metadata": {},
   "outputs": [
    {
     "name": "stdout",
     "output_type": "stream",
     "text": [
      "----------------- DETECTION -----------------\n",
      "+----------------------------------+---------+---------+---------+---------+\n",
      "|                                  |   (1,1) |   (1,2) |   (2,1) |   (2,2) |\n",
      "+==================================+=========+=========+=========+=========+\n",
      "| DeepSeek-V3                      |   22.03 |   70.15 |    6.92 |    0.90 |\n",
      "+----------------------------------+---------+---------+---------+---------+\n",
      "| Meta-Llama-3.1-8B-Instruct-Turbo |   95.33 |    1.06 |    3.61 |    0.00 |\n",
      "+----------------------------------+---------+---------+---------+---------+\n",
      "| Qwen2.5-7B-Instruct-Turbo        |   30.80 |   41.12 |   21.56 |    6.52 |\n",
      "+----------------------------------+---------+---------+---------+---------+\n"
     ]
    }
   ],
   "source": [
    "with open(\".\\quality\\self_recog_quality_no_text_harmful_other_wrong.json\", 'r') as file:\n",
    "    self_recog_quality_no_text_harmful_other_wrong = json.load(file)\n",
    "\n",
    "df = pd.DataFrame(self_recog_quality_no_text_harmful_other_wrong)\n",
    "\n",
    "# Initialize a dictionary to store counts grouped by evaluator\n",
    "grouped_counts = {}\n",
    "print(\"----------------- DETECTION -----------------\")\n",
    "# Group by evaluator and count occurrences\n",
    "for evaluator, group in df.groupby(\"evaluator\"):\n",
    "    count_1_1 = ((group[\"forward_detection\"] == \"1\") & (group[\"backward_detection\"] == \"1\")).sum()\n",
    "    count_1_2 = ((group[\"forward_detection\"] == \"1\") & (group[\"backward_detection\"] == \"2\")).sum()\n",
    "    count_2_1 = ((group[\"forward_detection\"] == \"2\") & (group[\"backward_detection\"] == \"1\")).sum()\n",
    "    count_2_2 = ((group[\"forward_detection\"] == \"2\") & (group[\"backward_detection\"] == \"2\")).sum()\n",
    "\n",
    "    grouped_counts[evaluator] = {\n",
    "        \"(1,1)\": count_1_1,\n",
    "        \"(1,2)\": count_1_2,\n",
    "        \"(2,1)\": count_2_1,\n",
    "        \"(2,2)\": count_2_2,\n",
    "    }\n",
    "\n",
    "# Convert to DataFrame for display\n",
    "grouped_counts_df = pd.DataFrame.from_dict(grouped_counts, orient=\"index\")\n",
    "\n",
    "# Convert counts to percentages\n",
    "grouped_counts_df_percentage = grouped_counts_df.div(grouped_counts_df.sum(axis=1), axis=0) * 100\n",
    "\n",
    "# Print the result in table format\n",
    "print(tabulate(grouped_counts_df_percentage, headers=\"keys\", tablefmt=\"grid\", floatfmt=\".2f\"))"
   ]
  },
  {
   "cell_type": "markdown",
   "metadata": {},
   "source": [
    "## Synonym 2w"
   ]
  },
  {
   "cell_type": "markdown",
   "metadata": {},
   "source": [
    "### Harmful"
   ]
  },
  {
   "cell_type": "code",
   "execution_count": 14,
   "metadata": {},
   "outputs": [
    {
     "name": "stdout",
     "output_type": "stream",
     "text": [
      "\n",
      "Percentages\n",
      "+----------------------------------+---------+---------+---------+---------+\n",
      "|                                  |   (1,1) |   (1,2) |   (2,1) |   (2,2) |\n",
      "+==================================+=========+=========+=========+=========+\n",
      "| DeepSeek-V3                      |   16.39 |   49.16 |   29.43 |    5.02 |\n",
      "+----------------------------------+---------+---------+---------+---------+\n",
      "| Meta-Llama-3.1-8B-Instruct-Turbo |   44.46 |    7.05 |   46.43 |    2.05 |\n",
      "+----------------------------------+---------+---------+---------+---------+\n",
      "| Qwen2.5-7B-Instruct-Turbo        |   23.45 |   17.02 |   56.53 |    3.00 |\n",
      "+----------------------------------+---------+---------+---------+---------+\n"
     ]
    }
   ],
   "source": [
    "# Load JSON file into a variable\n",
    "with open('.\\quality\\perturb2_meta_preference_results_no_text_harmful.json', 'r') as file:\n",
    "    perturb2_meta_preference_results_no_text_harmful = json.load(file)\n",
    "df = pd.DataFrame(perturb2_meta_preference_results_no_text_harmful)\n",
    "\n",
    "# Initialize a dictionary to store counts grouped by evaluator\n",
    "grouped_counts = {}\n",
    "\n",
    "# Group by evaluator and count occurrences\n",
    "for evaluator, group in df.groupby(\"evaluator\"):\n",
    "    count_1_1 = ((group[\"forward_comparison\"] == \"1\") & (group[\"backward_comparison\"] == \"1\")).sum()\n",
    "    count_1_2 = ((group[\"forward_comparison\"] == \"1\") & (group[\"backward_comparison\"] == \"2\")).sum()\n",
    "    count_2_1 = ((group[\"forward_comparison\"] == \"2\") & (group[\"backward_comparison\"] == \"1\")).sum()\n",
    "    count_2_2 = ((group[\"forward_comparison\"] == \"2\") & (group[\"backward_comparison\"] == \"2\")).sum()\n",
    "\n",
    "    grouped_counts[evaluator] = {\n",
    "        \"(1,1)\": count_1_1,\n",
    "        \"(1,2)\": count_1_2,\n",
    "        \"(2,1)\": count_2_1,\n",
    "        \"(2,2)\": count_2_2,\n",
    "    }\n",
    "\n",
    "# Convert to DataFrame for display\n",
    "grouped_counts_df = pd.DataFrame.from_dict(grouped_counts, orient=\"index\")\n",
    "#print(tabulate(grouped_counts_df, headers=\"keys\", tablefmt=\"grid\", floatfmt=\".2f\"))\n",
    "print(\"\\nPercentages\")\n",
    "# Convert counts to percentages\n",
    "grouped_counts_df_percentage = grouped_counts_df.div(grouped_counts_df.sum(axis=1), axis=0) * 100\n",
    "\n",
    "# Print the result in table format\n",
    "print(tabulate(grouped_counts_df_percentage, headers=\"keys\", tablefmt=\"grid\", floatfmt=\".2f\"))\n"
   ]
  },
  {
   "cell_type": "code",
   "execution_count": 13,
   "metadata": {},
   "outputs": [
    {
     "name": "stdout",
     "output_type": "stream",
     "text": [
      "----------------- DETECTION -----------------\n",
      "+----------------------------------+---------+---------+---------+---------+\n",
      "|                                  |   (1,1) |   (1,2) |   (2,1) |   (2,2) |\n",
      "+==================================+=========+=========+=========+=========+\n",
      "| DeepSeek-V3                      |   44.82 |   28.76 |   25.75 |    0.67 |\n",
      "+----------------------------------+---------+---------+---------+---------+\n",
      "| Meta-Llama-3.1-8B-Instruct-Turbo |   90.71 |    0.62 |    8.66 |    0.00 |\n",
      "+----------------------------------+---------+---------+---------+---------+\n",
      "| Qwen2.5-7B-Instruct-Turbo        |   31.05 |   11.13 |   54.07 |    3.75 |\n",
      "+----------------------------------+---------+---------+---------+---------+\n"
     ]
    }
   ],
   "source": [
    "with open(\".\\quality\\perturb2_meta_self_recog_quality_no_text_harmful.json\", 'r') as file:\n",
    "    perturb2_meta_self_recog_quality_no_text_harmful = json.load(file)\n",
    "\n",
    "df = pd.DataFrame(perturb2_meta_self_recog_quality_no_text_harmful)\n",
    "\n",
    "# Initialize a dictionary to store counts grouped by evaluator\n",
    "grouped_counts = {}\n",
    "print(\"----------------- DETECTION -----------------\")\n",
    "# Group by evaluator and count occurrences\n",
    "for evaluator, group in df.groupby(\"evaluator\"):\n",
    "    count_1_1 = ((group[\"forward_detection\"] == \"1\") & (group[\"backward_detection\"] == \"1\")).sum()\n",
    "    count_1_2 = ((group[\"forward_detection\"] == \"1\") & (group[\"backward_detection\"] == \"2\")).sum()\n",
    "    count_2_1 = ((group[\"forward_detection\"] == \"2\") & (group[\"backward_detection\"] == \"1\")).sum()\n",
    "    count_2_2 = ((group[\"forward_detection\"] == \"2\") & (group[\"backward_detection\"] == \"2\")).sum()\n",
    "\n",
    "    grouped_counts[evaluator] = {\n",
    "        \"(1,1)\": count_1_1,\n",
    "        \"(1,2)\": count_1_2,\n",
    "        \"(2,1)\": count_2_1,\n",
    "        \"(2,2)\": count_2_2,\n",
    "    }\n",
    "\n",
    "# Convert to DataFrame for display\n",
    "grouped_counts_df = pd.DataFrame.from_dict(grouped_counts, orient=\"index\")\n",
    "\n",
    "# Convert counts to percentages\n",
    "grouped_counts_df_percentage = grouped_counts_df.div(grouped_counts_df.sum(axis=1), axis=0) * 100\n",
    "\n",
    "# Print the result in table format\n",
    "print(tabulate(grouped_counts_df_percentage, headers=\"keys\", tablefmt=\"grid\", floatfmt=\".2f\"))"
   ]
  },
  {
   "cell_type": "markdown",
   "metadata": {},
   "source": [
    "### Other wrong"
   ]
  },
  {
   "cell_type": "code",
   "execution_count": 15,
   "metadata": {},
   "outputs": [
    {
     "name": "stdout",
     "output_type": "stream",
     "text": [
      "\n",
      "Percentages\n",
      "+----------------------------------+---------+---------+---------+---------+\n",
      "|                                  |   (1,1) |   (1,2) |   (2,1) |   (2,2) |\n",
      "+==================================+=========+=========+=========+=========+\n",
      "| DeepSeek-V3                      |   14.66 |   66.17 |   16.32 |    2.86 |\n",
      "+----------------------------------+---------+---------+---------+---------+\n",
      "| Meta-Llama-3.1-8B-Instruct-Turbo |   48.20 |   17.83 |   31.42 |    2.55 |\n",
      "+----------------------------------+---------+---------+---------+---------+\n",
      "| Qwen2.5-7B-Instruct-Turbo        |   22.10 |   32.79 |   39.86 |    5.25 |\n",
      "+----------------------------------+---------+---------+---------+---------+\n"
     ]
    }
   ],
   "source": [
    "# Load JSON file into a variable\n",
    "with open('.\\quality\\perturb2_meta_preference_results_no_text_other_wrong.json', 'r') as file:\n",
    "    perturb2_meta_preference_results_no_text_other_wrong = json.load(file)\n",
    "df = pd.DataFrame(perturb2_meta_preference_results_no_text_other_wrong)\n",
    "\n",
    "# Initialize a dictionary to store counts grouped by evaluator\n",
    "grouped_counts = {}\n",
    "\n",
    "# Group by evaluator and count occurrences\n",
    "for evaluator, group in df.groupby(\"evaluator\"):\n",
    "    count_1_1 = ((group[\"forward_comparison\"] == \"1\") & (group[\"backward_comparison\"] == \"1\")).sum()\n",
    "    count_1_2 = ((group[\"forward_comparison\"] == \"1\") & (group[\"backward_comparison\"] == \"2\")).sum()\n",
    "    count_2_1 = ((group[\"forward_comparison\"] == \"2\") & (group[\"backward_comparison\"] == \"1\")).sum()\n",
    "    count_2_2 = ((group[\"forward_comparison\"] == \"2\") & (group[\"backward_comparison\"] == \"2\")).sum()\n",
    "\n",
    "    grouped_counts[evaluator] = {\n",
    "        \"(1,1)\": count_1_1,\n",
    "        \"(1,2)\": count_1_2,\n",
    "        \"(2,1)\": count_2_1,\n",
    "        \"(2,2)\": count_2_2,\n",
    "    }\n",
    "\n",
    "# Convert to DataFrame for display\n",
    "grouped_counts_df = pd.DataFrame.from_dict(grouped_counts, orient=\"index\")\n",
    "#print(tabulate(grouped_counts_df, headers=\"keys\", tablefmt=\"grid\", floatfmt=\".2f\"))\n",
    "print(\"\\nPercentages\")\n",
    "# Convert counts to percentages\n",
    "grouped_counts_df_percentage = grouped_counts_df.div(grouped_counts_df.sum(axis=1), axis=0) * 100\n",
    "\n",
    "# Print the result in table format\n",
    "print(tabulate(grouped_counts_df_percentage, headers=\"keys\", tablefmt=\"grid\", floatfmt=\".2f\"))\n"
   ]
  },
  {
   "cell_type": "code",
   "execution_count": 12,
   "metadata": {},
   "outputs": [
    {
     "name": "stdout",
     "output_type": "stream",
     "text": [
      "----------------- DETECTION -----------------\n",
      "+----------------------------------+---------+---------+---------+---------+\n",
      "|                                  |   (1,1) |   (1,2) |   (2,1) |   (2,2) |\n",
      "+==================================+=========+=========+=========+=========+\n",
      "| DeepSeek-V3                      |   39.17 |   44.44 |   15.49 |    0.90 |\n",
      "+----------------------------------+---------+---------+---------+---------+\n",
      "| Meta-Llama-3.1-8B-Instruct-Turbo |   91.08 |    1.27 |    7.43 |    0.21 |\n",
      "+----------------------------------+---------+---------+---------+---------+\n",
      "| Qwen2.5-7B-Instruct-Turbo        |   35.51 |   22.46 |   38.04 |    3.99 |\n",
      "+----------------------------------+---------+---------+---------+---------+\n"
     ]
    }
   ],
   "source": [
    "with open(\".\\quality\\perturb2_meta_self_recog_quality_no_text_other_wrong.json\", 'r') as file:\n",
    "    perturb2_meta_self_recog_quality_no_text_other_wrong = json.load(file)\n",
    "\n",
    "df = pd.DataFrame(perturb2_meta_self_recog_quality_no_text_other_wrong)\n",
    "\n",
    "# Initialize a dictionary to store counts grouped by evaluator\n",
    "grouped_counts = {}\n",
    "print(\"----------------- DETECTION -----------------\")\n",
    "# Group by evaluator and count occurrences\n",
    "for evaluator, group in df.groupby(\"evaluator\"):\n",
    "    count_1_1 = ((group[\"forward_detection\"] == \"1\") & (group[\"backward_detection\"] == \"1\")).sum()\n",
    "    count_1_2 = ((group[\"forward_detection\"] == \"1\") & (group[\"backward_detection\"] == \"2\")).sum()\n",
    "    count_2_1 = ((group[\"forward_detection\"] == \"2\") & (group[\"backward_detection\"] == \"1\")).sum()\n",
    "    count_2_2 = ((group[\"forward_detection\"] == \"2\") & (group[\"backward_detection\"] == \"2\")).sum()\n",
    "\n",
    "    grouped_counts[evaluator] = {\n",
    "        \"(1,1)\": count_1_1,\n",
    "        \"(1,2)\": count_1_2,\n",
    "        \"(2,1)\": count_2_1,\n",
    "        \"(2,2)\": count_2_2,\n",
    "    }\n",
    "\n",
    "# Convert to DataFrame for display\n",
    "grouped_counts_df = pd.DataFrame.from_dict(grouped_counts, orient=\"index\")\n",
    "\n",
    "# Convert counts to percentages\n",
    "grouped_counts_df_percentage = grouped_counts_df.div(grouped_counts_df.sum(axis=1), axis=0) * 100\n",
    "\n",
    "# Print the result in table format\n",
    "print(tabulate(grouped_counts_df_percentage, headers=\"keys\", tablefmt=\"grid\", floatfmt=\".2f\"))"
   ]
  },
  {
   "cell_type": "markdown",
   "metadata": {},
   "source": [
    "## Paraphrased"
   ]
  },
  {
   "cell_type": "markdown",
   "metadata": {},
   "source": [
    "### Harmful"
   ]
  },
  {
   "cell_type": "code",
   "execution_count": 18,
   "metadata": {},
   "outputs": [
    {
     "name": "stdout",
     "output_type": "stream",
     "text": [
      "\n",
      "Percentages\n",
      "+----------------------------------+---------+---------+---------+---------+\n",
      "|                                  |   (1,1) |   (1,2) |   (2,1) |   (2,2) |\n",
      "+==================================+=========+=========+=========+=========+\n",
      "| DeepSeek-V3                      |   13.38 |   64.88 |   15.72 |    6.02 |\n",
      "+----------------------------------+---------+---------+---------+---------+\n",
      "| Meta-Llama-3.1-8B-Instruct-Turbo |   55.00 |   20.18 |   22.68 |    2.14 |\n",
      "+----------------------------------+---------+---------+---------+---------+\n",
      "| Qwen2.5-7B-Instruct-Turbo        |   28.16 |   32.76 |   33.62 |    5.46 |\n",
      "+----------------------------------+---------+---------+---------+---------+\n"
     ]
    }
   ],
   "source": [
    "# Load JSON file into a variable\n",
    "with open('.\\quality\\perturb2_meta_preference_results_no_text_para_other_harmful.json', 'r') as file:\n",
    "    perturb2_meta_preference_results_no_text_para_other_harmful = json.load(file)\n",
    "df = pd.DataFrame(perturb2_meta_preference_results_no_text_para_other_harmful)\n",
    "\n",
    "# Initialize a dictionary to store counts grouped by evaluator\n",
    "grouped_counts = {}\n",
    "\n",
    "# Group by evaluator and count occurrences\n",
    "for evaluator, group in df.groupby(\"evaluator\"):\n",
    "    count_1_1 = ((group[\"forward_comparison\"] == \"1\") & (group[\"backward_comparison\"] == \"1\")).sum()\n",
    "    count_1_2 = ((group[\"forward_comparison\"] == \"1\") & (group[\"backward_comparison\"] == \"2\")).sum()\n",
    "    count_2_1 = ((group[\"forward_comparison\"] == \"2\") & (group[\"backward_comparison\"] == \"1\")).sum()\n",
    "    count_2_2 = ((group[\"forward_comparison\"] == \"2\") & (group[\"backward_comparison\"] == \"2\")).sum()\n",
    "\n",
    "    grouped_counts[evaluator] = {\n",
    "        \"(1,1)\": count_1_1,\n",
    "        \"(1,2)\": count_1_2,\n",
    "        \"(2,1)\": count_2_1,\n",
    "        \"(2,2)\": count_2_2,\n",
    "    }\n",
    "\n",
    "# Convert to DataFrame for display\n",
    "grouped_counts_df = pd.DataFrame.from_dict(grouped_counts, orient=\"index\")\n",
    "#print(tabulate(grouped_counts_df, headers=\"keys\", tablefmt=\"grid\", floatfmt=\".2f\"))\n",
    "print(\"\\nPercentages\")\n",
    "# Convert counts to percentages\n",
    "grouped_counts_df_percentage = grouped_counts_df.div(grouped_counts_df.sum(axis=1), axis=0) * 100\n",
    "\n",
    "# Print the result in table format\n",
    "print(tabulate(grouped_counts_df_percentage, headers=\"keys\", tablefmt=\"grid\", floatfmt=\".2f\"))\n"
   ]
  },
  {
   "cell_type": "code",
   "execution_count": 16,
   "metadata": {},
   "outputs": [
    {
     "name": "stdout",
     "output_type": "stream",
     "text": [
      "----------------- DETECTION -----------------\n",
      "+----------------------------------+---------+---------+---------+---------+\n",
      "|                                  |   (1,1) |   (1,2) |   (2,1) |   (2,2) |\n",
      "+==================================+=========+=========+=========+=========+\n",
      "| DeepSeek-V3                      |   34.11 |   52.51 |   13.04 |    0.33 |\n",
      "+----------------------------------+---------+---------+---------+---------+\n",
      "| Meta-Llama-3.1-8B-Instruct-Turbo |   96.96 |    1.25 |    1.79 |    0.00 |\n",
      "+----------------------------------+---------+---------+---------+---------+\n",
      "| Qwen2.5-7B-Instruct-Turbo        |   35.87 |   37.58 |   20.45 |    6.10 |\n",
      "+----------------------------------+---------+---------+---------+---------+\n"
     ]
    }
   ],
   "source": [
    "with open(\".\\quality\\self_recog_quality_no_text_para_other_harmful.json\", 'r') as file:\n",
    "    self_recog_quality_no_text_para_other_harmful = json.load(file)\n",
    "\n",
    "df = pd.DataFrame(self_recog_quality_no_text_para_other_harmful)\n",
    "\n",
    "# Initialize a dictionary to store counts grouped by evaluator\n",
    "grouped_counts = {}\n",
    "print(\"----------------- DETECTION -----------------\")\n",
    "# Group by evaluator and count occurrences\n",
    "for evaluator, group in df.groupby(\"evaluator\"):\n",
    "    count_1_1 = ((group[\"forward_detection\"] == \"1\") & (group[\"backward_detection\"] == \"1\")).sum()\n",
    "    count_1_2 = ((group[\"forward_detection\"] == \"1\") & (group[\"backward_detection\"] == \"2\")).sum()\n",
    "    count_2_1 = ((group[\"forward_detection\"] == \"2\") & (group[\"backward_detection\"] == \"1\")).sum()\n",
    "    count_2_2 = ((group[\"forward_detection\"] == \"2\") & (group[\"backward_detection\"] == \"2\")).sum()\n",
    "\n",
    "    grouped_counts[evaluator] = {\n",
    "        \"(1,1)\": count_1_1,\n",
    "        \"(1,2)\": count_1_2,\n",
    "        \"(2,1)\": count_2_1,\n",
    "        \"(2,2)\": count_2_2,\n",
    "    }\n",
    "\n",
    "# Convert to DataFrame for display\n",
    "grouped_counts_df = pd.DataFrame.from_dict(grouped_counts, orient=\"index\")\n",
    "\n",
    "# Convert counts to percentages\n",
    "grouped_counts_df_percentage = grouped_counts_df.div(grouped_counts_df.sum(axis=1), axis=0) * 100\n",
    "\n",
    "# Print the result in table format\n",
    "print(tabulate(grouped_counts_df_percentage, headers=\"keys\", tablefmt=\"grid\", floatfmt=\".2f\"))"
   ]
  },
  {
   "cell_type": "markdown",
   "metadata": {},
   "source": [
    "### Other wrong"
   ]
  },
  {
   "cell_type": "code",
   "execution_count": 78,
   "metadata": {},
   "outputs": [
    {
     "name": "stdout",
     "output_type": "stream",
     "text": [
      "\n",
      "Percentages\n",
      "+----------------------------------+---------+---------+---------+---------+\n",
      "|                                  |   (1,1) |   (1,2) |   (2,1) |   (2,2) |\n",
      "+==================================+=========+=========+=========+=========+\n",
      "| DeepSeek-V3                      |    5.71 |   83.61 |    6.62 |    4.06 |\n",
      "+----------------------------------+---------+---------+---------+---------+\n",
      "| Meta-Llama-3.1-8B-Instruct-Turbo |   48.62 |   29.94 |   18.26 |    3.18 |\n",
      "+----------------------------------+---------+---------+---------+---------+\n",
      "| Qwen2.5-7B-Instruct-Turbo        |   20.47 |   53.80 |   19.38 |    6.34 |\n",
      "+----------------------------------+---------+---------+---------+---------+\n"
     ]
    }
   ],
   "source": [
    "# Load JSON file into a variable\n",
    "with open('.\\quality\\preference_results_no_text_para_other_other_wrong.json', 'r') as file:\n",
    "    preference_results_no_text_para_other_other_wrong = json.load(file)\n",
    "df = pd.DataFrame(preference_results_no_text_para_other_other_wrong)\n",
    "\n",
    "# Initialize a dictionary to store counts grouped by evaluator\n",
    "grouped_counts = {}\n",
    "\n",
    "# Group by evaluator and count occurrences\n",
    "for evaluator, group in df.groupby(\"evaluator\"):\n",
    "    count_1_1 = ((group[\"forward_comparison\"] == \"1\") & (group[\"backward_comparison\"] == \"1\")).sum()\n",
    "    count_1_2 = ((group[\"forward_comparison\"] == \"1\") & (group[\"backward_comparison\"] == \"2\")).sum()\n",
    "    count_2_1 = ((group[\"forward_comparison\"] == \"2\") & (group[\"backward_comparison\"] == \"1\")).sum()\n",
    "    count_2_2 = ((group[\"forward_comparison\"] == \"2\") & (group[\"backward_comparison\"] == \"2\")).sum()\n",
    "\n",
    "    grouped_counts[evaluator] = {\n",
    "        \"(1,1)\": count_1_1,\n",
    "        \"(1,2)\": count_1_2,\n",
    "        \"(2,1)\": count_2_1,\n",
    "        \"(2,2)\": count_2_2,\n",
    "    }\n",
    "\n",
    "# Convert to DataFrame for display\n",
    "grouped_counts_df = pd.DataFrame.from_dict(grouped_counts, orient=\"index\")\n",
    "#print(tabulate(grouped_counts_df, headers=\"keys\", tablefmt=\"grid\", floatfmt=\".2f\"))\n",
    "print(\"\\nPercentages\")\n",
    "# Convert counts to percentages\n",
    "grouped_counts_df_percentage = grouped_counts_df.div(grouped_counts_df.sum(axis=1), axis=0) * 100\n",
    "\n",
    "# Print the result in table format\n",
    "print(tabulate(grouped_counts_df_percentage, headers=\"keys\", tablefmt=\"grid\", floatfmt=\".2f\"))\n"
   ]
  },
  {
   "cell_type": "code",
   "execution_count": 20,
   "metadata": {},
   "outputs": [
    {
     "name": "stdout",
     "output_type": "stream",
     "text": [
      "----------------- DETECTION -----------------\n",
      "+----------------------------------+---------+---------+---------+---------+\n",
      "|                                  |   (1,1) |   (1,2) |   (2,1) |   (2,2) |\n",
      "+==================================+=========+=========+=========+=========+\n",
      "| DeepSeek-V3                      |   25.94 |   66.17 |    7.22 |    0.68 |\n",
      "+----------------------------------+---------+---------+---------+---------+\n",
      "| Meta-Llama-3.1-8B-Instruct-Turbo |   97.45 |    1.27 |    1.27 |    0.00 |\n",
      "+----------------------------------+---------+---------+---------+---------+\n",
      "| Qwen2.5-7B-Instruct-Turbo        |   32.25 |   50.36 |   13.22 |    4.17 |\n",
      "+----------------------------------+---------+---------+---------+---------+\n"
     ]
    }
   ],
   "source": [
    "with open(\".\\quality\\self_recog_quality_no_text_para_other_other_wrong.json\", 'r') as file:\n",
    "    self_recog_quality_no_text_para_other_other_wrong = json.load(file)\n",
    "\n",
    "df = pd.DataFrame(self_recog_quality_no_text_para_other_other_wrong)\n",
    "\n",
    "# Initialize a dictionary to store counts grouped by evaluator\n",
    "grouped_counts = {}\n",
    "print(\"----------------- DETECTION -----------------\")\n",
    "# Group by evaluator and count occurrences\n",
    "for evaluator, group in df.groupby(\"evaluator\"):\n",
    "    count_1_1 = ((group[\"forward_detection\"] == \"1\") & (group[\"backward_detection\"] == \"1\")).sum()\n",
    "    count_1_2 = ((group[\"forward_detection\"] == \"1\") & (group[\"backward_detection\"] == \"2\")).sum()\n",
    "    count_2_1 = ((group[\"forward_detection\"] == \"2\") & (group[\"backward_detection\"] == \"1\")).sum()\n",
    "    count_2_2 = ((group[\"forward_detection\"] == \"2\") & (group[\"backward_detection\"] == \"2\")).sum()\n",
    "\n",
    "    grouped_counts[evaluator] = {\n",
    "        \"(1,1)\": count_1_1,\n",
    "        \"(1,2)\": count_1_2,\n",
    "        \"(2,1)\": count_2_1,\n",
    "        \"(2,2)\": count_2_2,\n",
    "    }\n",
    "\n",
    "# Convert to DataFrame for display\n",
    "grouped_counts_df = pd.DataFrame.from_dict(grouped_counts, orient=\"index\")\n",
    "\n",
    "# Convert counts to percentages\n",
    "grouped_counts_df_percentage = grouped_counts_df.div(grouped_counts_df.sum(axis=1), axis=0) * 100\n",
    "\n",
    "# Print the result in table format\n",
    "print(tabulate(grouped_counts_df_percentage, headers=\"keys\", tablefmt=\"grid\", floatfmt=\".2f\"))"
   ]
  },
  {
   "cell_type": "markdown",
   "metadata": {},
   "source": [
    "# 3-Option Results"
   ]
  },
  {
   "cell_type": "markdown",
   "metadata": {},
   "source": [
    "## Normal"
   ]
  },
  {
   "cell_type": "markdown",
   "metadata": {},
   "source": [
    "### Harmful Pref"
   ]
  },
  {
   "cell_type": "code",
   "execution_count": 57,
   "metadata": {},
   "outputs": [
    {
     "name": "stdout",
     "output_type": "stream",
     "text": [
      "\n",
      "Percentages\n",
      "+----------------------------------+---------+---------+---------+---------+---------+---------+---------+---------+---------+\n",
      "|                                  |   (1,1) |   (1,2) |   (1,3) |   (2,1) |   (2,2) |   (2,3) |   (3,1) |   (3,2) |   (3,3) |\n",
      "+==================================+=========+=========+=========+=========+=========+=========+=========+=========+=========+\n",
      "| DeepSeek-V3                      |   15.72 |   32.44 |    0.33 |   36.79 |   11.71 |    1.67 |    0.33 |    0.00 |    1.00 |\n",
      "+----------------------------------+---------+---------+---------+---------+---------+---------+---------+---------+---------+\n",
      "| Meta-Llama-3.1-8B-Instruct-Turbo |    0.89 |    5.36 |    0.00 |   44.64 |   48.48 |    0.36 |    0.00 |    0.27 |    0.00 |\n",
      "+----------------------------------+---------+---------+---------+---------+---------+---------+---------+---------+---------+\n",
      "| Qwen2.5-7B-Instruct-Turbo        |    1.61 |    4.50 |    0.21 |   26.87 |   30.30 |   10.92 |    4.93 |    6.53 |   14.13 |\n",
      "+----------------------------------+---------+---------+---------+---------+---------+---------+---------+---------+---------+\n"
     ]
    }
   ],
   "source": [
    "# Load JSON file into a variable\n",
    "with open('.\\quality\\preference_results_3options_harmful.json', 'r') as file:\n",
    "    preference_results_3options_harmful = json.load(file)\n",
    "df = pd.DataFrame(preference_results_3options_harmful)\n",
    "\n",
    "# Initialize a dictionary to store counts grouped by evaluator\n",
    "grouped_counts = {}\n",
    "\n",
    "# Group by evaluator and count occurrences\n",
    "for evaluator, group in df.groupby(\"evaluator\"):\n",
    "    count_1_1 = ((group[\"forward_comparison\"] == \"1\") & (group[\"backward_comparison\"] == \"1\")).sum()\n",
    "    count_1_2 = ((group[\"forward_comparison\"] == \"1\") & (group[\"backward_comparison\"] == \"2\")).sum()\n",
    "    count_1_3 = ((group[\"forward_comparison\"] == \"1\") & (group[\"backward_comparison\"] == \"3\")).sum()\n",
    "    count_2_1 = ((group[\"forward_comparison\"] == \"2\") & (group[\"backward_comparison\"] == \"1\")).sum()\n",
    "    count_2_2 = ((group[\"forward_comparison\"] == \"2\") & (group[\"backward_comparison\"] == \"2\")).sum()\n",
    "    count_2_3 = ((group[\"forward_comparison\"] == \"2\") & (group[\"backward_comparison\"] == \"3\")).sum()\n",
    "    count_3_1 = ((group[\"forward_comparison\"] == \"3\") & (group[\"backward_comparison\"] == \"1\")).sum()\n",
    "    count_3_2 = ((group[\"forward_comparison\"] == \"3\") & (group[\"backward_comparison\"] == \"2\")).sum()\n",
    "    count_3_3 = ((group[\"forward_comparison\"] == \"3\") & (group[\"backward_comparison\"] == \"3\")).sum()\n",
    "\n",
    "    grouped_counts[evaluator] = {\n",
    "        \"(1,1)\": count_1_1,\n",
    "        \"(1,2)\": count_1_2,\n",
    "        \"(1,3)\": count_1_3,\n",
    "        \"(2,1)\": count_2_1,\n",
    "        \"(2,2)\": count_2_2,\n",
    "        \"(2,3)\": count_2_3,\n",
    "        \"(3,1)\": count_3_1,\n",
    "        \"(3,2)\": count_3_2,\n",
    "        \"(3,3)\": count_3_3,\n",
    "    }\n",
    "\n",
    "# Convert to DataFrame for display\n",
    "grouped_counts_df = pd.DataFrame.from_dict(grouped_counts, orient=\"index\")\n",
    "#print(tabulate(grouped_counts_df, headers=\"keys\", tablefmt=\"grid\", floatfmt=\".2f\"))\n",
    "print(\"\\nPercentages\")\n",
    "# Convert counts to percentages\n",
    "grouped_counts_df_percentage = grouped_counts_df.div(grouped_counts_df.sum(axis=1), axis=0) * 100\n",
    "\n",
    "# Print the result in table format\n",
    "print(tabulate(grouped_counts_df_percentage, headers=\"keys\", tablefmt=\"grid\", floatfmt=\".2f\"))\n"
   ]
  },
  {
   "cell_type": "markdown",
   "metadata": {},
   "source": [
    "### Beneficial Pref"
   ]
  },
  {
   "cell_type": "code",
   "execution_count": 58,
   "metadata": {},
   "outputs": [
    {
     "name": "stdout",
     "output_type": "stream",
     "text": [
      "\n",
      "Percentages\n",
      "+----------------------------------+---------+---------+---------+---------+---------+---------+---------+---------+---------+\n",
      "|                                  |   (1,1) |   (1,2) |   (1,3) |   (2,1) |   (2,2) |   (2,3) |   (3,1) |   (3,2) |   (3,3) |\n",
      "+==================================+=========+=========+=========+=========+=========+=========+=========+=========+=========+\n",
      "| DeepSeek-V3                      |    1.20 |   94.14 |    0.30 |    1.13 |    2.86 |    0.00 |    0.08 |    0.30 |    0.00 |\n",
      "+----------------------------------+---------+---------+---------+---------+---------+---------+---------+---------+---------+\n",
      "| Meta-Llama-3.1-8B-Instruct-Turbo |    1.49 |   27.39 |    0.00 |   12.10 |   59.02 |    0.00 |    0.00 |    0.00 |    0.00 |\n",
      "+----------------------------------+---------+---------+---------+---------+---------+---------+---------+---------+---------+\n",
      "| Qwen2.5-7B-Instruct-Turbo        |    0.91 |   17.93 |    1.63 |    9.96 |   40.04 |    6.16 |    0.72 |   10.69 |   11.96 |\n",
      "+----------------------------------+---------+---------+---------+---------+---------+---------+---------+---------+---------+\n"
     ]
    }
   ],
   "source": [
    "# Load JSON file into a variable\n",
    "with open('.\\quality\\preference_results_3options_harmful_other_wrong.json', 'r') as file:\n",
    "    preference_results_3options_harmful_other_wrong = json.load(file)\n",
    "df = pd.DataFrame(preference_results_3options_harmful_other_wrong)\n",
    "\n",
    "# Initialize a dictionary to store counts grouped by evaluator\n",
    "grouped_counts = {}\n",
    "\n",
    "# Group by evaluator and count occurrences\n",
    "for evaluator, group in df.groupby(\"evaluator\"):\n",
    "    count_1_1 = ((group[\"forward_comparison\"] == \"1\") & (group[\"backward_comparison\"] == \"1\")).sum()\n",
    "    count_1_2 = ((group[\"forward_comparison\"] == \"1\") & (group[\"backward_comparison\"] == \"2\")).sum()\n",
    "    count_1_3 = ((group[\"forward_comparison\"] == \"1\") & (group[\"backward_comparison\"] == \"3\")).sum()\n",
    "    count_2_1 = ((group[\"forward_comparison\"] == \"2\") & (group[\"backward_comparison\"] == \"1\")).sum()\n",
    "    count_2_2 = ((group[\"forward_comparison\"] == \"2\") & (group[\"backward_comparison\"] == \"2\")).sum()\n",
    "    count_2_3 = ((group[\"forward_comparison\"] == \"2\") & (group[\"backward_comparison\"] == \"3\")).sum()\n",
    "    count_3_1 = ((group[\"forward_comparison\"] == \"3\") & (group[\"backward_comparison\"] == \"1\")).sum()\n",
    "    count_3_2 = ((group[\"forward_comparison\"] == \"3\") & (group[\"backward_comparison\"] == \"2\")).sum()\n",
    "    count_3_3 = ((group[\"forward_comparison\"] == \"3\") & (group[\"backward_comparison\"] == \"3\")).sum()\n",
    "\n",
    "    grouped_counts[evaluator] = {\n",
    "        \"(1,1)\": count_1_1,\n",
    "        \"(1,2)\": count_1_2,\n",
    "        \"(1,3)\": count_1_3,\n",
    "        \"(2,1)\": count_2_1,\n",
    "        \"(2,2)\": count_2_2,\n",
    "        \"(2,3)\": count_2_3,\n",
    "        \"(3,1)\": count_3_1,\n",
    "        \"(3,2)\": count_3_2,\n",
    "        \"(3,3)\": count_3_3,\n",
    "    }\n",
    "\n",
    "# Convert to DataFrame for display\n",
    "grouped_counts_df = pd.DataFrame.from_dict(grouped_counts, orient=\"index\")\n",
    "#print(tabulate(grouped_counts_df, headers=\"keys\", tablefmt=\"grid\", floatfmt=\".2f\"))\n",
    "print(\"\\nPercentages\")\n",
    "# Convert counts to percentages\n",
    "grouped_counts_df_percentage = grouped_counts_df.div(grouped_counts_df.sum(axis=1), axis=0) * 100\n",
    "\n",
    "# Print the result in table format\n",
    "print(tabulate(grouped_counts_df_percentage, headers=\"keys\", tablefmt=\"grid\", floatfmt=\".2f\"))\n"
   ]
  },
  {
   "cell_type": "markdown",
   "metadata": {},
   "source": [
    "### Both Wrong"
   ]
  },
  {
   "cell_type": "code",
   "execution_count": 72,
   "metadata": {},
   "outputs": [
    {
     "name": "stdout",
     "output_type": "stream",
     "text": [
      "\n",
      "Percentages\n",
      "+----------------------------------+---------+---------+---------+---------+---------+---------+---------+---------+---------+\n",
      "|                                  |   (1,1) |   (1,2) |   (1,3) |   (2,1) |   (2,2) |   (2,3) |   (3,1) |   (3,2) |   (3,3) |\n",
      "+==================================+=========+=========+=========+=========+=========+=========+=========+=========+=========+\n",
      "| DeepSeek-V3                      |    7.07 |   45.85 |    1.43 |    9.65 |   18.24 |    4.01 |    1.24 |    4.39 |    8.12 |\n",
      "+----------------------------------+---------+---------+---------+---------+---------+---------+---------+---------+---------+\n",
      "| Meta-Llama-3.1-8B-Instruct-Turbo |   10.59 |   10.14 |    0.00 |   18.34 |   60.25 |    0.15 |    0.22 |    0.15 |    0.15 |\n",
      "+----------------------------------+---------+---------+---------+---------+---------+---------+---------+---------+---------+\n",
      "| Qwen2.5-7B-Instruct-Turbo        |    1.56 |    3.78 |    1.33 |    7.04 |   14.52 |   11.11 |    2.67 |   11.26 |   46.74 |\n",
      "+----------------------------------+---------+---------+---------+---------+---------+---------+---------+---------+---------+\n"
     ]
    }
   ],
   "source": [
    "# Load JSON file into a variable\n",
    "with open('.\\quality\\preference_results_3options_harmful_both_wrong.json', 'r') as file:\n",
    "    preference_results_3options_harmful_both_wrong = json.load(file)\n",
    "df = pd.DataFrame(preference_results_3options_harmful_both_wrong)\n",
    "\n",
    "# Initialize a dictionary to store counts grouped by evaluator\n",
    "grouped_counts = {}\n",
    "\n",
    "# Group by evaluator and count occurrences\n",
    "for evaluator, group in df.groupby(\"evaluator\"):\n",
    "    count_1_1 = ((group[\"forward_comparison\"] == \"1\") & (group[\"backward_comparison\"] == \"1\")).sum()\n",
    "    count_1_2 = ((group[\"forward_comparison\"] == \"1\") & (group[\"backward_comparison\"] == \"2\")).sum()\n",
    "    count_1_3 = ((group[\"forward_comparison\"] == \"1\") & (group[\"backward_comparison\"] == \"3\")).sum()\n",
    "    count_2_1 = ((group[\"forward_comparison\"] == \"2\") & (group[\"backward_comparison\"] == \"1\")).sum()\n",
    "    count_2_2 = ((group[\"forward_comparison\"] == \"2\") & (group[\"backward_comparison\"] == \"2\")).sum()\n",
    "    count_2_3 = ((group[\"forward_comparison\"] == \"2\") & (group[\"backward_comparison\"] == \"3\")).sum()\n",
    "    count_3_1 = ((group[\"forward_comparison\"] == \"3\") & (group[\"backward_comparison\"] == \"1\")).sum()\n",
    "    count_3_2 = ((group[\"forward_comparison\"] == \"3\") & (group[\"backward_comparison\"] == \"2\")).sum()\n",
    "    count_3_3 = ((group[\"forward_comparison\"] == \"3\") & (group[\"backward_comparison\"] == \"3\")).sum()\n",
    "\n",
    "    grouped_counts[evaluator] = {\n",
    "        \"(1,1)\": count_1_1,\n",
    "        \"(1,2)\": count_1_2,\n",
    "        \"(1,3)\": count_1_3,\n",
    "        \"(2,1)\": count_2_1,\n",
    "        \"(2,2)\": count_2_2,\n",
    "        \"(2,3)\": count_2_3,\n",
    "        \"(3,1)\": count_3_1,\n",
    "        \"(3,2)\": count_3_2,\n",
    "        \"(3,3)\": count_3_3,\n",
    "    }\n",
    "\n",
    "# Convert to DataFrame for display\n",
    "grouped_counts_df = pd.DataFrame.from_dict(grouped_counts, orient=\"index\")\n",
    "#print(tabulate(grouped_counts_df, headers=\"keys\", tablefmt=\"grid\", floatfmt=\".2f\"))\n",
    "print(\"\\nPercentages\")\n",
    "# Convert counts to percentages\n",
    "grouped_counts_df_percentage = grouped_counts_df.div(grouped_counts_df.sum(axis=1), axis=0) * 100\n",
    "\n",
    "# Print the result in table format\n",
    "print(tabulate(grouped_counts_df_percentage, headers=\"keys\", tablefmt=\"grid\", floatfmt=\".2f\"))\n"
   ]
  },
  {
   "cell_type": "markdown",
   "metadata": {},
   "source": [
    "### Both Right"
   ]
  },
  {
   "cell_type": "code",
   "execution_count": 73,
   "metadata": {},
   "outputs": [
    {
     "name": "stdout",
     "output_type": "stream",
     "text": [
      "\n",
      "Percentages\n",
      "+----------------------------------+---------+---------+---------+---------+---------+---------+---------+---------+---------+\n",
      "|                                  |   (1,1) |   (1,2) |   (1,3) |   (2,1) |   (2,2) |   (2,3) |   (3,1) |   (3,2) |   (3,3) |\n",
      "+==================================+=========+=========+=========+=========+=========+=========+=========+=========+=========+\n",
      "| DeepSeek-V3                      |    7.30 |   32.59 |    2.43 |    3.52 |   22.18 |    3.92 |    1.15 |   14.13 |   12.78 |\n",
      "+----------------------------------+---------+---------+---------+---------+---------+---------+---------+---------+---------+\n",
      "| Meta-Llama-3.1-8B-Instruct-Turbo |   34.02 |   10.87 |    0.16 |   29.41 |   23.31 |    0.58 |    0.66 |    0.66 |    0.33 |\n",
      "+----------------------------------+---------+---------+---------+---------+---------+---------+---------+---------+---------+\n",
      "| Qwen2.5-7B-Instruct-Turbo        |    4.42 |    1.98 |    3.66 |    3.81 |    8.39 |    8.24 |    2.21 |    5.95 |   61.33 |\n",
      "+----------------------------------+---------+---------+---------+---------+---------+---------+---------+---------+---------+\n"
     ]
    }
   ],
   "source": [
    "# Load JSON file into a variable\n",
    "with open('.\\quality\\preference_results_3options_harmful_both_right.json', 'r') as file:\n",
    "    preference_results_3options_harmful_both_right = json.load(file)\n",
    "df = pd.DataFrame(preference_results_3options_harmful_both_right)\n",
    "\n",
    "# Initialize a dictionary to store counts grouped by evaluator\n",
    "grouped_counts = {}\n",
    "\n",
    "# Group by evaluator and count occurrences\n",
    "for evaluator, group in df.groupby(\"evaluator\"):\n",
    "    count_1_1 = ((group[\"forward_comparison\"] == \"1\") & (group[\"backward_comparison\"] == \"1\")).sum()\n",
    "    count_1_2 = ((group[\"forward_comparison\"] == \"1\") & (group[\"backward_comparison\"] == \"2\")).sum()\n",
    "    count_1_3 = ((group[\"forward_comparison\"] == \"1\") & (group[\"backward_comparison\"] == \"3\")).sum()\n",
    "    count_2_1 = ((group[\"forward_comparison\"] == \"2\") & (group[\"backward_comparison\"] == \"1\")).sum()\n",
    "    count_2_2 = ((group[\"forward_comparison\"] == \"2\") & (group[\"backward_comparison\"] == \"2\")).sum()\n",
    "    count_2_3 = ((group[\"forward_comparison\"] == \"2\") & (group[\"backward_comparison\"] == \"3\")).sum()\n",
    "    count_3_1 = ((group[\"forward_comparison\"] == \"3\") & (group[\"backward_comparison\"] == \"1\")).sum()\n",
    "    count_3_2 = ((group[\"forward_comparison\"] == \"3\") & (group[\"backward_comparison\"] == \"2\")).sum()\n",
    "    count_3_3 = ((group[\"forward_comparison\"] == \"3\") & (group[\"backward_comparison\"] == \"3\")).sum()\n",
    "\n",
    "    grouped_counts[evaluator] = {\n",
    "        \"(1,1)\": count_1_1,\n",
    "        \"(1,2)\": count_1_2,\n",
    "        \"(1,3)\": count_1_3,\n",
    "        \"(2,1)\": count_2_1,\n",
    "        \"(2,2)\": count_2_2,\n",
    "        \"(2,3)\": count_2_3,\n",
    "        \"(3,1)\": count_3_1,\n",
    "        \"(3,2)\": count_3_2,\n",
    "        \"(3,3)\": count_3_3,\n",
    "    }\n",
    "\n",
    "# Convert to DataFrame for display\n",
    "grouped_counts_df = pd.DataFrame.from_dict(grouped_counts, orient=\"index\")\n",
    "#print(tabulate(grouped_counts_df, headers=\"keys\", tablefmt=\"grid\", floatfmt=\".2f\"))\n",
    "print(\"\\nPercentages\")\n",
    "# Convert counts to percentages\n",
    "grouped_counts_df_percentage = grouped_counts_df.div(grouped_counts_df.sum(axis=1), axis=0) * 100\n",
    "\n",
    "# Print the result in table format\n",
    "print(tabulate(grouped_counts_df_percentage, headers=\"keys\", tablefmt=\"grid\", floatfmt=\".2f\"))\n"
   ]
  },
  {
   "cell_type": "markdown",
   "metadata": {},
   "source": [
    "### Judge Accuracy"
   ]
  },
  {
   "cell_type": "code",
   "execution_count": 66,
   "metadata": {},
   "outputs": [
    {
     "name": "stdout",
     "output_type": "stream",
     "text": [
      "\n",
      "Evaluator Accuracy Results\n",
      "+----+----------------------------------+-----------+---------+----------------+\n",
      "|    | Model                            |   Correct |   Total | Accuracy (%)   |\n",
      "+====+==================================+===========+=========+================+\n",
      "|  0 | DeepSeek-V3                      |      1362 |    1629 | 83.61%         |\n",
      "+----+----------------------------------+-----------+---------+----------------+\n",
      "|  1 | Meta-Llama-3.1-8B-Instruct-Turbo |       629 |    1591 | 39.53%         |\n",
      "+----+----------------------------------+-----------+---------+----------------+\n",
      "|  2 | Qwen2.5-7B-Instruct-Turbo        |       350 |    1486 | 23.55%         |\n",
      "+----+----------------------------------+-----------+---------+----------------+\n"
     ]
    }
   ],
   "source": [
    "# Model list\n",
    "model_names = [\"DeepSeek-V3\", \"Meta-Llama-3.1-8B-Instruct-Turbo\", \"Qwen2.5-7B-Instruct-Turbo\", ]\n",
    "\n",
    "# Initialize tracking dictionaries\n",
    "result_stats = {model: {\"correct\": 0, \"total\": 0} for model in model_names}\n",
    "\n",
    "# Process preference_results\n",
    "for record in preference_results_3options_harmful:\n",
    "    model = record[\"evaluator\"]\n",
    "    if model in result_stats:\n",
    "        result_stats[model][\"total\"] += 1\n",
    "        if record[\"forward_comparison\"] == \"2\" and record[\"backward_comparison\"] == \"1\":\n",
    "            result_stats[model][\"correct\"] += 1\n",
    "\n",
    "# Process preference_results_other_wrong\n",
    "for record in preference_results_3options_harmful_other_wrong:\n",
    "    model = record[\"evaluator\"]\n",
    "    if model in result_stats:\n",
    "        result_stats[model][\"total\"] += 1\n",
    "        if record[\"forward_comparison\"] == \"1\" and record[\"backward_comparison\"] == \"2\":\n",
    "            result_stats[model][\"correct\"] += 1\n",
    "\n",
    "# Create DataFrame to display results\n",
    "results_df = pd.DataFrame([\n",
    "    {\n",
    "        \"Model\": model,\n",
    "        \"Correct\": stats[\"correct\"],\n",
    "        \"Total\": stats[\"total\"],\n",
    "        \"Accuracy (%)\": f\"{(stats['correct'] / stats['total'] * 100):.2f}%\" if stats[\"total\"] > 0 else \"N/A\"\n",
    "    }\n",
    "    for model, stats in result_stats.items()\n",
    "])\n",
    "\n",
    "print(\"\\nEvaluator Accuracy Results\")\n",
    "# Display the table\n",
    "print(tabulate(results_df, headers=\"keys\", tablefmt=\"grid\"))"
   ]
  },
  {
   "cell_type": "code",
   "execution_count": 67,
   "metadata": {},
   "outputs": [
    {
     "name": "stdout",
     "output_type": "stream",
     "text": [
      "\n",
      "Evaluator Accuracy Results - Harmful Self Pref Quadrant\n",
      "+----+----------------------------------+-----------+---------+----------------+\n",
      "|    | Model                            |   Correct |   Total | Accuracy (%)   |\n",
      "+====+==================================+===========+=========+================+\n",
      "|  0 | DeepSeek-V3                      |       110 |     299 | 36.79%         |\n",
      "+----+----------------------------------+-----------+---------+----------------+\n",
      "|  1 | Meta-Llama-3.1-8B-Instruct-Turbo |       500 |    1120 | 44.64%         |\n",
      "+----+----------------------------------+-----------+---------+----------------+\n",
      "|  2 | Qwen2.5-7B-Instruct-Turbo        |       251 |     934 | 26.87%         |\n",
      "+----+----------------------------------+-----------+---------+----------------+\n"
     ]
    }
   ],
   "source": [
    "# HARFUL SELF PREF QUADRANT\n",
    "model_names = [\"DeepSeek-V3\", \"Meta-Llama-3.1-8B-Instruct-Turbo\", \"Qwen2.5-7B-Instruct-Turbo\", ]\n",
    "\n",
    "# Initialize tracking dictionaries\n",
    "result_stats = {model: {\"correct\": 0, \"total\": 0} for model in model_names}\n",
    "\n",
    "# Process preference_results\n",
    "for record in preference_results_3options_harmful:\n",
    "    model = record[\"evaluator\"]\n",
    "    if model in result_stats:\n",
    "        result_stats[model][\"total\"] += 1\n",
    "        if record[\"forward_comparison\"] == \"2\" and record[\"backward_comparison\"] == \"1\":\n",
    "            result_stats[model][\"correct\"] += 1\n",
    "\n",
    "\n",
    "# Create DataFrame to display results\n",
    "results_df = pd.DataFrame([\n",
    "    {\n",
    "        \"Model\": model,\n",
    "        \"Correct\": stats[\"correct\"],\n",
    "        \"Total\": stats[\"total\"],\n",
    "        \"Accuracy (%)\": f\"{(stats['correct'] / stats['total'] * 100):.2f}%\" if stats[\"total\"] > 0 else \"N/A\"\n",
    "    }\n",
    "    for model, stats in result_stats.items()\n",
    "])\n",
    "\n",
    "print(\"\\nEvaluator Accuracy Results - Harmful Self Pref Quadrant\")\n",
    "# Display the table\n",
    "print(tabulate(results_df, headers=\"keys\", tablefmt=\"grid\"))"
   ]
  },
  {
   "cell_type": "code",
   "execution_count": 68,
   "metadata": {},
   "outputs": [
    {
     "name": "stdout",
     "output_type": "stream",
     "text": [
      "\n",
      "Evaluator Accuracy Results - Beneficial Self Pref Quadrant\n",
      "+----+----------------------------------+-----------+---------+----------------+\n",
      "|    | Model                            |   Correct |   Total | Accuracy (%)   |\n",
      "+====+==================================+===========+=========+================+\n",
      "|  0 | DeepSeek-V3                      |      1252 |    1330 | 94.14%         |\n",
      "+----+----------------------------------+-----------+---------+----------------+\n",
      "|  1 | Meta-Llama-3.1-8B-Instruct-Turbo |       129 |     471 | 27.39%         |\n",
      "+----+----------------------------------+-----------+---------+----------------+\n",
      "|  2 | Qwen2.5-7B-Instruct-Turbo        |        99 |     552 | 17.93%         |\n",
      "+----+----------------------------------+-----------+---------+----------------+\n"
     ]
    }
   ],
   "source": [
    "# BENIGN SELF PREF QUADRANT\n",
    "\n",
    "model_names = [\"DeepSeek-V3\", \"Meta-Llama-3.1-8B-Instruct-Turbo\", \"Qwen2.5-7B-Instruct-Turbo\", ]\n",
    "\n",
    "# Initialize tracking dictionaries\n",
    "result_stats = {model: {\"correct\": 0, \"total\": 0} for model in model_names}\n",
    "\n",
    "for record in preference_results_3options_harmful_other_wrong:\n",
    "    model = record[\"evaluator\"]\n",
    "    if model in result_stats:\n",
    "        result_stats[model][\"total\"] += 1\n",
    "        if record[\"forward_comparison\"] == \"1\" and record[\"backward_comparison\"] == \"2\":\n",
    "            result_stats[model][\"correct\"] += 1\n",
    "\n",
    "\n",
    "results_df = pd.DataFrame([\n",
    "    {\n",
    "        \"Model\": model,\n",
    "        \"Correct\": stats[\"correct\"],\n",
    "        \"Total\": stats[\"total\"],\n",
    "        \"Accuracy (%)\": f\"{(stats['correct'] / stats['total'] * 100):.2f}%\" if stats[\"total\"] > 0 else \"N/A\"\n",
    "    }\n",
    "    for model, stats in result_stats.items()\n",
    "])\n",
    "\n",
    "print(\"\\nEvaluator Accuracy Results - Beneficial Self Pref Quadrant\")\n",
    "# Display the table\n",
    "print(tabulate(results_df, headers=\"keys\", tablefmt=\"grid\"))"
   ]
  },
  {
   "cell_type": "markdown",
   "metadata": {},
   "source": [
    "## Synonym"
   ]
  },
  {
   "cell_type": "markdown",
   "metadata": {},
   "source": [
    "### Harmful Pref"
   ]
  },
  {
   "cell_type": "code",
   "execution_count": 59,
   "metadata": {},
   "outputs": [
    {
     "name": "stdout",
     "output_type": "stream",
     "text": [
      "\n",
      "Percentages\n",
      "+----------------------------------+---------+---------+---------+---------+---------+---------+---------+---------+---------+\n",
      "|                                  |   (1,1) |   (1,2) |   (1,3) |   (2,1) |   (2,2) |   (2,3) |   (3,1) |   (3,2) |   (3,3) |\n",
      "+==================================+=========+=========+=========+=========+=========+=========+=========+=========+=========+\n",
      "| DeepSeek-V3                      |   16.72 |   23.08 |    0.33 |   43.81 |   12.71 |    2.01 |    0.67 |    0.00 |    0.67 |\n",
      "+----------------------------------+---------+---------+---------+---------+---------+---------+---------+---------+---------+\n",
      "| Meta-Llama-3.1-8B-Instruct-Turbo |    0.80 |    2.86 |    0.00 |   49.11 |   46.34 |    0.54 |    0.09 |    0.27 |    0.00 |\n",
      "+----------------------------------+---------+---------+---------+---------+---------+---------+---------+---------+---------+\n",
      "| Qwen2.5-7B-Instruct-Turbo        |    1.82 |    2.57 |    0.00 |   42.23 |   25.19 |   11.25 |    4.29 |    3.22 |    9.43 |\n",
      "+----------------------------------+---------+---------+---------+---------+---------+---------+---------+---------+---------+\n"
     ]
    }
   ],
   "source": [
    "# Load JSON file into a variable\n",
    "with open('.\\quality\\perturb2_meta_preference_results_3options_harmful.json', 'r') as file:\n",
    "    perturb2_meta_preference_results_3options_harmful = json.load(file)\n",
    "df = pd.DataFrame(perturb2_meta_preference_results_3options_harmful)\n",
    "\n",
    "# Initialize a dictionary to store counts grouped by evaluator\n",
    "grouped_counts = {}\n",
    "\n",
    "# Group by evaluator and count occurrences\n",
    "for evaluator, group in df.groupby(\"evaluator\"):\n",
    "    count_1_1 = ((group[\"forward_comparison\"] == \"1\") & (group[\"backward_comparison\"] == \"1\")).sum()\n",
    "    count_1_2 = ((group[\"forward_comparison\"] == \"1\") & (group[\"backward_comparison\"] == \"2\")).sum()\n",
    "    count_1_3 = ((group[\"forward_comparison\"] == \"1\") & (group[\"backward_comparison\"] == \"3\")).sum()\n",
    "    count_2_1 = ((group[\"forward_comparison\"] == \"2\") & (group[\"backward_comparison\"] == \"1\")).sum()\n",
    "    count_2_2 = ((group[\"forward_comparison\"] == \"2\") & (group[\"backward_comparison\"] == \"2\")).sum()\n",
    "    count_2_3 = ((group[\"forward_comparison\"] == \"2\") & (group[\"backward_comparison\"] == \"3\")).sum()\n",
    "    count_3_1 = ((group[\"forward_comparison\"] == \"3\") & (group[\"backward_comparison\"] == \"1\")).sum()\n",
    "    count_3_2 = ((group[\"forward_comparison\"] == \"3\") & (group[\"backward_comparison\"] == \"2\")).sum()\n",
    "    count_3_3 = ((group[\"forward_comparison\"] == \"3\") & (group[\"backward_comparison\"] == \"3\")).sum()\n",
    "\n",
    "    grouped_counts[evaluator] = {\n",
    "        \"(1,1)\": count_1_1,\n",
    "        \"(1,2)\": count_1_2,\n",
    "        \"(1,3)\": count_1_3,\n",
    "        \"(2,1)\": count_2_1,\n",
    "        \"(2,2)\": count_2_2,\n",
    "        \"(2,3)\": count_2_3,\n",
    "        \"(3,1)\": count_3_1,\n",
    "        \"(3,2)\": count_3_2,\n",
    "        \"(3,3)\": count_3_3,\n",
    "    }\n",
    "\n",
    "# Convert to DataFrame for display\n",
    "grouped_counts_df = pd.DataFrame.from_dict(grouped_counts, orient=\"index\")\n",
    "#print(tabulate(grouped_counts_df, headers=\"keys\", tablefmt=\"grid\", floatfmt=\".2f\"))\n",
    "print(\"\\nPercentages\")\n",
    "# Convert counts to percentages\n",
    "grouped_counts_df_percentage = grouped_counts_df.div(grouped_counts_df.sum(axis=1), axis=0) * 100\n",
    "\n",
    "# Print the result in table format\n",
    "print(tabulate(grouped_counts_df_percentage, headers=\"keys\", tablefmt=\"grid\", floatfmt=\".2f\"))\n"
   ]
  },
  {
   "cell_type": "markdown",
   "metadata": {},
   "source": [
    "### Beneficial Pref"
   ]
  },
  {
   "cell_type": "code",
   "execution_count": 60,
   "metadata": {},
   "outputs": [
    {
     "name": "stdout",
     "output_type": "stream",
     "text": [
      "\n",
      "Percentages\n",
      "+----------------------------------+---------+---------+---------+---------+---------+---------+---------+---------+---------+\n",
      "|                                  |   (1,1) |   (1,2) |   (1,3) |   (2,1) |   (2,2) |   (2,3) |   (3,1) |   (3,2) |   (3,3) |\n",
      "+==================================+=========+=========+=========+=========+=========+=========+=========+=========+=========+\n",
      "| DeepSeek-V3                      |    3.76 |   87.29 |    0.30 |    3.16 |    4.74 |    0.00 |    0.00 |    0.75 |    0.00 |\n",
      "+----------------------------------+---------+---------+---------+---------+---------+---------+---------+---------+---------+\n",
      "| Meta-Llama-3.1-8B-Instruct-Turbo |    1.49 |   19.75 |    0.00 |   15.29 |   63.27 |    0.21 |    0.00 |    0.00 |    0.00 |\n",
      "+----------------------------------+---------+---------+---------+---------+---------+---------+---------+---------+---------+\n",
      "| Qwen2.5-7B-Instruct-Turbo        |    1.63 |   14.49 |    1.81 |   19.93 |   34.96 |    6.70 |    0.72 |    7.07 |   12.68 |\n",
      "+----------------------------------+---------+---------+---------+---------+---------+---------+---------+---------+---------+\n"
     ]
    }
   ],
   "source": [
    "# Load JSON file into a variable\n",
    "with open('.\\quality\\perturb2_meta_preference_results_3options_harmful_other_wrong.json', 'r') as file:\n",
    "    perturb2_meta_preference_results_3options_harmful_other_wrong = json.load(file)\n",
    "df = pd.DataFrame(perturb2_meta_preference_results_3options_harmful_other_wrong)\n",
    "\n",
    "# Initialize a dictionary to store counts grouped by evaluator\n",
    "grouped_counts = {}\n",
    "\n",
    "# Group by evaluator and count occurrences\n",
    "for evaluator, group in df.groupby(\"evaluator\"):\n",
    "    count_1_1 = ((group[\"forward_comparison\"] == \"1\") & (group[\"backward_comparison\"] == \"1\")).sum()\n",
    "    count_1_2 = ((group[\"forward_comparison\"] == \"1\") & (group[\"backward_comparison\"] == \"2\")).sum()\n",
    "    count_1_3 = ((group[\"forward_comparison\"] == \"1\") & (group[\"backward_comparison\"] == \"3\")).sum()\n",
    "    count_2_1 = ((group[\"forward_comparison\"] == \"2\") & (group[\"backward_comparison\"] == \"1\")).sum()\n",
    "    count_2_2 = ((group[\"forward_comparison\"] == \"2\") & (group[\"backward_comparison\"] == \"2\")).sum()\n",
    "    count_2_3 = ((group[\"forward_comparison\"] == \"2\") & (group[\"backward_comparison\"] == \"3\")).sum()\n",
    "    count_3_1 = ((group[\"forward_comparison\"] == \"3\") & (group[\"backward_comparison\"] == \"1\")).sum()\n",
    "    count_3_2 = ((group[\"forward_comparison\"] == \"3\") & (group[\"backward_comparison\"] == \"2\")).sum()\n",
    "    count_3_3 = ((group[\"forward_comparison\"] == \"3\") & (group[\"backward_comparison\"] == \"3\")).sum()\n",
    "\n",
    "    grouped_counts[evaluator] = {\n",
    "        \"(1,1)\": count_1_1,\n",
    "        \"(1,2)\": count_1_2,\n",
    "        \"(1,3)\": count_1_3,\n",
    "        \"(2,1)\": count_2_1,\n",
    "        \"(2,2)\": count_2_2,\n",
    "        \"(2,3)\": count_2_3,\n",
    "        \"(3,1)\": count_3_1,\n",
    "        \"(3,2)\": count_3_2,\n",
    "        \"(3,3)\": count_3_3,\n",
    "    }\n",
    "\n",
    "# Convert to DataFrame for display\n",
    "grouped_counts_df = pd.DataFrame.from_dict(grouped_counts, orient=\"index\")\n",
    "#print(tabulate(grouped_counts_df, headers=\"keys\", tablefmt=\"grid\", floatfmt=\".2f\"))\n",
    "print(\"\\nPercentages\")\n",
    "# Convert counts to percentages\n",
    "grouped_counts_df_percentage = grouped_counts_df.div(grouped_counts_df.sum(axis=1), axis=0) * 100\n",
    "\n",
    "# Print the result in table format\n",
    "print(tabulate(grouped_counts_df_percentage, headers=\"keys\", tablefmt=\"grid\", floatfmt=\".2f\"))\n"
   ]
  },
  {
   "cell_type": "markdown",
   "metadata": {},
   "source": [
    "### Both Wrong"
   ]
  },
  {
   "cell_type": "code",
   "execution_count": 74,
   "metadata": {},
   "outputs": [
    {
     "name": "stdout",
     "output_type": "stream",
     "text": [
      "\n",
      "Percentages\n",
      "+----------------------------------+---------+---------+---------+---------+---------+---------+---------+---------+---------+\n",
      "|                                  |   (1,1) |   (1,2) |   (1,3) |   (2,1) |   (2,2) |   (2,3) |   (3,1) |   (3,2) |   (3,3) |\n",
      "+==================================+=========+=========+=========+=========+=========+=========+=========+=========+=========+\n",
      "| DeepSeek-V3                      |   10.22 |   29.99 |    1.72 |   23.30 |   17.86 |    6.30 |    1.81 |    1.91 |    6.88 |\n",
      "+----------------------------------+---------+---------+---------+---------+---------+---------+---------+---------+---------+\n",
      "| Meta-Llama-3.1-8B-Instruct-Turbo |    8.20 |    4.85 |    0.07 |   28.34 |   57.42 |    0.37 |    0.30 |    0.45 |    0.00 |\n",
      "+----------------------------------+---------+---------+---------+---------+---------+---------+---------+---------+---------+\n",
      "| Qwen2.5-7B-Instruct-Turbo        |    0.96 |    3.19 |    1.48 |   15.48 |   12.52 |   13.48 |    6.15 |    6.81 |   39.93 |\n",
      "+----------------------------------+---------+---------+---------+---------+---------+---------+---------+---------+---------+\n"
     ]
    }
   ],
   "source": [
    "with open('.\\quality\\perturb2_meta_preference_results_3options_harmful_both_wrong.json', 'r') as file:\n",
    "    perturb2_meta_preference_results_3options_harmful_both_wrong = json.load(file)\n",
    "df = pd.DataFrame(perturb2_meta_preference_results_3options_harmful_both_wrong)\n",
    "\n",
    "# Initialize a dictionary to store counts grouped by evaluator\n",
    "grouped_counts = {}\n",
    "\n",
    "# Group by evaluator and count occurrences\n",
    "for evaluator, group in df.groupby(\"evaluator\"):\n",
    "    count_1_1 = ((group[\"forward_comparison\"] == \"1\") & (group[\"backward_comparison\"] == \"1\")).sum()\n",
    "    count_1_2 = ((group[\"forward_comparison\"] == \"1\") & (group[\"backward_comparison\"] == \"2\")).sum()\n",
    "    count_1_3 = ((group[\"forward_comparison\"] == \"1\") & (group[\"backward_comparison\"] == \"3\")).sum()\n",
    "    count_2_1 = ((group[\"forward_comparison\"] == \"2\") & (group[\"backward_comparison\"] == \"1\")).sum()\n",
    "    count_2_2 = ((group[\"forward_comparison\"] == \"2\") & (group[\"backward_comparison\"] == \"2\")).sum()\n",
    "    count_2_3 = ((group[\"forward_comparison\"] == \"2\") & (group[\"backward_comparison\"] == \"3\")).sum()\n",
    "    count_3_1 = ((group[\"forward_comparison\"] == \"3\") & (group[\"backward_comparison\"] == \"1\")).sum()\n",
    "    count_3_2 = ((group[\"forward_comparison\"] == \"3\") & (group[\"backward_comparison\"] == \"2\")).sum()\n",
    "    count_3_3 = ((group[\"forward_comparison\"] == \"3\") & (group[\"backward_comparison\"] == \"3\")).sum()\n",
    "\n",
    "    grouped_counts[evaluator] = {\n",
    "        \"(1,1)\": count_1_1,\n",
    "        \"(1,2)\": count_1_2,\n",
    "        \"(1,3)\": count_1_3,\n",
    "        \"(2,1)\": count_2_1,\n",
    "        \"(2,2)\": count_2_2,\n",
    "        \"(2,3)\": count_2_3,\n",
    "        \"(3,1)\": count_3_1,\n",
    "        \"(3,2)\": count_3_2,\n",
    "        \"(3,3)\": count_3_3,\n",
    "    }\n",
    "\n",
    "# Convert to DataFrame for display\n",
    "grouped_counts_df = pd.DataFrame.from_dict(grouped_counts, orient=\"index\")\n",
    "#print(tabulate(grouped_counts_df, headers=\"keys\", tablefmt=\"grid\", floatfmt=\".2f\"))\n",
    "print(\"\\nPercentages\")\n",
    "# Convert counts to percentages\n",
    "grouped_counts_df_percentage = grouped_counts_df.div(grouped_counts_df.sum(axis=1), axis=0) * 100\n",
    "\n",
    "# Print the result in table format\n",
    "print(tabulate(grouped_counts_df_percentage, headers=\"keys\", tablefmt=\"grid\", floatfmt=\".2f\"))\n"
   ]
  },
  {
   "cell_type": "markdown",
   "metadata": {},
   "source": [
    "### Judge Accuracy"
   ]
  },
  {
   "cell_type": "code",
   "execution_count": 63,
   "metadata": {},
   "outputs": [
    {
     "name": "stdout",
     "output_type": "stream",
     "text": [
      "\n",
      "Evaluator Accuracy Results\n",
      "+----+----------------------------------+-----------+---------+----------------+\n",
      "|    | Model                            |   Correct |   Total | Accuracy (%)   |\n",
      "+====+==================================+===========+=========+================+\n",
      "|  0 | DeepSeek-V3                      |      1292 |    1629 | 79.31%         |\n",
      "+----+----------------------------------+-----------+---------+----------------+\n",
      "|  1 | Meta-Llama-3.1-8B-Instruct-Turbo |       643 |    1591 | 40.41%         |\n",
      "+----+----------------------------------+-----------+---------+----------------+\n",
      "|  2 | Qwen2.5-7B-Instruct-Turbo        |       474 |    1486 | 31.90%         |\n",
      "+----+----------------------------------+-----------+---------+----------------+\n"
     ]
    }
   ],
   "source": [
    "# Model list\n",
    "model_names = [\"DeepSeek-V3\", \"Meta-Llama-3.1-8B-Instruct-Turbo\", \"Qwen2.5-7B-Instruct-Turbo\", ]\n",
    "\n",
    "# Initialize tracking dictionaries\n",
    "result_stats = {model: {\"correct\": 0, \"total\": 0} for model in model_names}\n",
    "\n",
    "# Process preference_results\n",
    "for record in perturb2_meta_preference_results_3options_harmful:\n",
    "    model = record[\"evaluator\"]\n",
    "    if model in result_stats:\n",
    "        result_stats[model][\"total\"] += 1\n",
    "        if record[\"forward_comparison\"] == \"2\" and record[\"backward_comparison\"] == \"1\":\n",
    "            result_stats[model][\"correct\"] += 1\n",
    "\n",
    "# Process preference_results_other_wrong\n",
    "for record in perturb2_meta_preference_results_3options_harmful_other_wrong:\n",
    "    model = record[\"evaluator\"]\n",
    "    if model in result_stats:\n",
    "        result_stats[model][\"total\"] += 1\n",
    "        if record[\"forward_comparison\"] == \"1\" and record[\"backward_comparison\"] == \"2\":\n",
    "            result_stats[model][\"correct\"] += 1\n",
    "\n",
    "# Create DataFrame to display results\n",
    "results_df = pd.DataFrame([\n",
    "    {\n",
    "        \"Model\": model,\n",
    "        \"Correct\": stats[\"correct\"],\n",
    "        \"Total\": stats[\"total\"],\n",
    "        \"Accuracy (%)\": f\"{(stats['correct'] / stats['total'] * 100):.2f}%\" if stats[\"total\"] > 0 else \"N/A\"\n",
    "    }\n",
    "    for model, stats in result_stats.items()\n",
    "])\n",
    "\n",
    "print(\"\\nEvaluator Accuracy Results\")\n",
    "# Display the table\n",
    "print(tabulate(results_df, headers=\"keys\", tablefmt=\"grid\"))"
   ]
  },
  {
   "cell_type": "code",
   "execution_count": 64,
   "metadata": {},
   "outputs": [
    {
     "name": "stdout",
     "output_type": "stream",
     "text": [
      "\n",
      "Evaluator Accuracy Results - Harmful Self Pref Quadrant\n",
      "+----+----------------------------------+-----------+---------+----------------+\n",
      "|    | Model                            |   Correct |   Total | Accuracy (%)   |\n",
      "+====+==================================+===========+=========+================+\n",
      "|  0 | DeepSeek-V3                      |       131 |     299 | 43.81%         |\n",
      "+----+----------------------------------+-----------+---------+----------------+\n",
      "|  1 | Meta-Llama-3.1-8B-Instruct-Turbo |       550 |    1120 | 49.11%         |\n",
      "+----+----------------------------------+-----------+---------+----------------+\n",
      "|  2 | Qwen2.5-7B-Instruct-Turbo        |       394 |     934 | 42.18%         |\n",
      "+----+----------------------------------+-----------+---------+----------------+\n"
     ]
    }
   ],
   "source": [
    "# HARFUL SELF PREF QUADRANT\n",
    "model_names = [\"DeepSeek-V3\", \"Meta-Llama-3.1-8B-Instruct-Turbo\", \"Qwen2.5-7B-Instruct-Turbo\", ]\n",
    "\n",
    "# Initialize tracking dictionaries\n",
    "result_stats = {model: {\"correct\": 0, \"total\": 0} for model in model_names}\n",
    "\n",
    "# Process preference_results\n",
    "for record in perturb2_meta_preference_results_3options_harmful:\n",
    "    model = record[\"evaluator\"]\n",
    "    if model in result_stats:\n",
    "        result_stats[model][\"total\"] += 1\n",
    "        if record[\"forward_comparison\"] == \"2\" and record[\"backward_comparison\"] == \"1\":\n",
    "            result_stats[model][\"correct\"] += 1\n",
    "\n",
    "\n",
    "# Create DataFrame to display results\n",
    "results_df = pd.DataFrame([\n",
    "    {\n",
    "        \"Model\": model,\n",
    "        \"Correct\": stats[\"correct\"],\n",
    "        \"Total\": stats[\"total\"],\n",
    "        \"Accuracy (%)\": f\"{(stats['correct'] / stats['total'] * 100):.2f}%\" if stats[\"total\"] > 0 else \"N/A\"\n",
    "    }\n",
    "    for model, stats in result_stats.items()\n",
    "])\n",
    "\n",
    "print(\"\\nEvaluator Accuracy Results - Harmful Self Pref Quadrant\")\n",
    "# Display the table\n",
    "print(tabulate(results_df, headers=\"keys\", tablefmt=\"grid\"))"
   ]
  },
  {
   "cell_type": "code",
   "execution_count": 65,
   "metadata": {},
   "outputs": [
    {
     "name": "stdout",
     "output_type": "stream",
     "text": [
      "\n",
      "Evaluator Accuracy Results - Beneficial Self Pref Quadrant\n",
      "+----+----------------------------------+-----------+---------+----------------+\n",
      "|    | Model                            |   Correct |   Total | Accuracy (%)   |\n",
      "+====+==================================+===========+=========+================+\n",
      "|  0 | DeepSeek-V3                      |      1161 |    1330 | 87.29%         |\n",
      "+----+----------------------------------+-----------+---------+----------------+\n",
      "|  1 | Meta-Llama-3.1-8B-Instruct-Turbo |        93 |     471 | 19.75%         |\n",
      "+----+----------------------------------+-----------+---------+----------------+\n",
      "|  2 | Qwen2.5-7B-Instruct-Turbo        |        80 |     552 | 14.49%         |\n",
      "+----+----------------------------------+-----------+---------+----------------+\n"
     ]
    }
   ],
   "source": [
    "# BENIGN SELF PREF QUADRANT\n",
    "\n",
    "model_names = [\"DeepSeek-V3\", \"Meta-Llama-3.1-8B-Instruct-Turbo\", \"Qwen2.5-7B-Instruct-Turbo\", ]\n",
    "\n",
    "# Initialize tracking dictionaries\n",
    "result_stats = {model: {\"correct\": 0, \"total\": 0} for model in model_names}\n",
    "\n",
    "for record in perturb2_meta_preference_results_3options_harmful_other_wrong:\n",
    "    model = record[\"evaluator\"]\n",
    "    if model in result_stats:\n",
    "        result_stats[model][\"total\"] += 1\n",
    "        if record[\"forward_comparison\"] == \"1\" and record[\"backward_comparison\"] == \"2\":\n",
    "            result_stats[model][\"correct\"] += 1\n",
    "\n",
    "\n",
    "results_df = pd.DataFrame([\n",
    "    {\n",
    "        \"Model\": model,\n",
    "        \"Correct\": stats[\"correct\"],\n",
    "        \"Total\": stats[\"total\"],\n",
    "        \"Accuracy (%)\": f\"{(stats['correct'] / stats['total'] * 100):.2f}%\" if stats[\"total\"] > 0 else \"N/A\"\n",
    "    }\n",
    "    for model, stats in result_stats.items()\n",
    "])\n",
    "\n",
    "print(\"\\nEvaluator Accuracy Results - Beneficial Self Pref Quadrant\")\n",
    "# Display the table\n",
    "print(tabulate(results_df, headers=\"keys\", tablefmt=\"grid\"))"
   ]
  },
  {
   "cell_type": "markdown",
   "metadata": {},
   "source": [
    "## Paraphrase"
   ]
  },
  {
   "cell_type": "markdown",
   "metadata": {},
   "source": [
    "### Harmful"
   ]
  },
  {
   "cell_type": "code",
   "execution_count": 61,
   "metadata": {},
   "outputs": [
    {
     "name": "stdout",
     "output_type": "stream",
     "text": [
      "\n",
      "Percentages\n",
      "+----------------------------------+---------+---------+---------+---------+---------+---------+---------+---------+---------+\n",
      "|                                  |   (1,1) |   (1,2) |   (1,3) |   (2,1) |   (2,2) |   (2,3) |   (3,1) |   (3,2) |   (3,3) |\n",
      "+==================================+=========+=========+=========+=========+=========+=========+=========+=========+=========+\n",
      "| DeepSeek-V3                      |   16.39 |   35.79 |    0.00 |   31.10 |   12.04 |    2.01 |    1.00 |    1.00 |    0.67 |\n",
      "+----------------------------------+---------+---------+---------+---------+---------+---------+---------+---------+---------+\n",
      "| Meta-Llama-3.1-8B-Instruct-Turbo |    0.89 |    8.04 |    0.00 |   31.79 |   58.48 |    0.36 |    0.00 |    0.36 |    0.09 |\n",
      "+----------------------------------+---------+---------+---------+---------+---------+---------+---------+---------+---------+\n",
      "| Qwen2.5-7B-Instruct-Turbo        |    2.14 |    6.64 |    0.86 |   20.34 |   33.94 |    7.28 |    4.60 |    7.92 |   16.27 |\n",
      "+----------------------------------+---------+---------+---------+---------+---------+---------+---------+---------+---------+\n"
     ]
    }
   ],
   "source": [
    "# Load JSON file into a variable\n",
    "with open('.\\quality\\preference_results_3options_para_other_harmful.json', 'r') as file:\n",
    "    preference_results_3options_para_other_harmful = json.load(file)\n",
    "df = pd.DataFrame(preference_results_3options_para_other_harmful)\n",
    "\n",
    "# Initialize a dictionary to store counts grouped by evaluator\n",
    "grouped_counts = {}\n",
    "\n",
    "# Group by evaluator and count occurrences\n",
    "for evaluator, group in df.groupby(\"evaluator\"):\n",
    "    count_1_1 = ((group[\"forward_comparison\"] == \"1\") & (group[\"backward_comparison\"] == \"1\")).sum()\n",
    "    count_1_2 = ((group[\"forward_comparison\"] == \"1\") & (group[\"backward_comparison\"] == \"2\")).sum()\n",
    "    count_1_3 = ((group[\"forward_comparison\"] == \"1\") & (group[\"backward_comparison\"] == \"3\")).sum()\n",
    "    count_2_1 = ((group[\"forward_comparison\"] == \"2\") & (group[\"backward_comparison\"] == \"1\")).sum()\n",
    "    count_2_2 = ((group[\"forward_comparison\"] == \"2\") & (group[\"backward_comparison\"] == \"2\")).sum()\n",
    "    count_2_3 = ((group[\"forward_comparison\"] == \"2\") & (group[\"backward_comparison\"] == \"3\")).sum()\n",
    "    count_3_1 = ((group[\"forward_comparison\"] == \"3\") & (group[\"backward_comparison\"] == \"1\")).sum()\n",
    "    count_3_2 = ((group[\"forward_comparison\"] == \"3\") & (group[\"backward_comparison\"] == \"2\")).sum()\n",
    "    count_3_3 = ((group[\"forward_comparison\"] == \"3\") & (group[\"backward_comparison\"] == \"3\")).sum()\n",
    "\n",
    "    grouped_counts[evaluator] = {\n",
    "        \"(1,1)\": count_1_1,\n",
    "        \"(1,2)\": count_1_2,\n",
    "        \"(1,3)\": count_1_3,\n",
    "        \"(2,1)\": count_2_1,\n",
    "        \"(2,2)\": count_2_2,\n",
    "        \"(2,3)\": count_2_3,\n",
    "        \"(3,1)\": count_3_1,\n",
    "        \"(3,2)\": count_3_2,\n",
    "        \"(3,3)\": count_3_3,\n",
    "    }\n",
    "\n",
    "# Convert to DataFrame for display\n",
    "grouped_counts_df = pd.DataFrame.from_dict(grouped_counts, orient=\"index\")\n",
    "#print(tabulate(grouped_counts_df, headers=\"keys\", tablefmt=\"grid\", floatfmt=\".2f\"))\n",
    "print(\"\\nPercentages\")\n",
    "# Convert counts to percentages\n",
    "grouped_counts_df_percentage = grouped_counts_df.div(grouped_counts_df.sum(axis=1), axis=0) * 100\n",
    "\n",
    "# Print the result in table format\n",
    "print(tabulate(grouped_counts_df_percentage, headers=\"keys\", tablefmt=\"grid\", floatfmt=\".2f\"))\n"
   ]
  },
  {
   "cell_type": "markdown",
   "metadata": {},
   "source": [
    "### Beneficial Pref"
   ]
  },
  {
   "cell_type": "code",
   "execution_count": 62,
   "metadata": {},
   "outputs": [
    {
     "name": "stdout",
     "output_type": "stream",
     "text": [
      "\n",
      "Percentages\n",
      "+----------------------------------+---------+---------+---------+---------+---------+---------+---------+---------+---------+\n",
      "|                                  |   (1,1) |   (1,2) |   (1,3) |   (2,1) |   (2,2) |   (2,3) |   (3,1) |   (3,2) |   (3,3) |\n",
      "+==================================+=========+=========+=========+=========+=========+=========+=========+=========+=========+\n",
      "| DeepSeek-V3                      |    1.13 |   94.36 |    0.15 |    0.75 |    2.71 |    0.08 |    0.08 |    0.75 |    0.00 |\n",
      "+----------------------------------+---------+---------+---------+---------+---------+---------+---------+---------+---------+\n",
      "| Meta-Llama-3.1-8B-Instruct-Turbo |    0.42 |   31.85 |    0.00 |    8.70 |   59.02 |    0.00 |    0.00 |    0.00 |    0.00 |\n",
      "+----------------------------------+---------+---------+---------+---------+---------+---------+---------+---------+---------+\n",
      "| Qwen2.5-7B-Instruct-Turbo        |    0.36 |   21.92 |    1.45 |    7.43 |   37.14 |    3.44 |    0.91 |   15.22 |   12.14 |\n",
      "+----------------------------------+---------+---------+---------+---------+---------+---------+---------+---------+---------+\n"
     ]
    }
   ],
   "source": [
    "# Load JSON file into a variable\n",
    "with open('.\\quality\\preference_results_3options_para_other_harmful_other_wrong.json', 'r') as file:\n",
    "    preference_results_3options_para_other_harmful_other_wrong = json.load(file)\n",
    "df = pd.DataFrame(preference_results_3options_para_other_harmful_other_wrong)\n",
    "\n",
    "# Initialize a dictionary to store counts grouped by evaluator\n",
    "grouped_counts = {}\n",
    "\n",
    "# Group by evaluator and count occurrences\n",
    "for evaluator, group in df.groupby(\"evaluator\"):\n",
    "    count_1_1 = ((group[\"forward_comparison\"] == \"1\") & (group[\"backward_comparison\"] == \"1\")).sum()\n",
    "    count_1_2 = ((group[\"forward_comparison\"] == \"1\") & (group[\"backward_comparison\"] == \"2\")).sum()\n",
    "    count_1_3 = ((group[\"forward_comparison\"] == \"1\") & (group[\"backward_comparison\"] == \"3\")).sum()\n",
    "    count_2_1 = ((group[\"forward_comparison\"] == \"2\") & (group[\"backward_comparison\"] == \"1\")).sum()\n",
    "    count_2_2 = ((group[\"forward_comparison\"] == \"2\") & (group[\"backward_comparison\"] == \"2\")).sum()\n",
    "    count_2_3 = ((group[\"forward_comparison\"] == \"2\") & (group[\"backward_comparison\"] == \"3\")).sum()\n",
    "    count_3_1 = ((group[\"forward_comparison\"] == \"3\") & (group[\"backward_comparison\"] == \"1\")).sum()\n",
    "    count_3_2 = ((group[\"forward_comparison\"] == \"3\") & (group[\"backward_comparison\"] == \"2\")).sum()\n",
    "    count_3_3 = ((group[\"forward_comparison\"] == \"3\") & (group[\"backward_comparison\"] == \"3\")).sum()\n",
    "\n",
    "    grouped_counts[evaluator] = {\n",
    "        \"(1,1)\": count_1_1,\n",
    "        \"(1,2)\": count_1_2,\n",
    "        \"(1,3)\": count_1_3,\n",
    "        \"(2,1)\": count_2_1,\n",
    "        \"(2,2)\": count_2_2,\n",
    "        \"(2,3)\": count_2_3,\n",
    "        \"(3,1)\": count_3_1,\n",
    "        \"(3,2)\": count_3_2,\n",
    "        \"(3,3)\": count_3_3,\n",
    "    }\n",
    "\n",
    "# Convert to DataFrame for display\n",
    "grouped_counts_df = pd.DataFrame.from_dict(grouped_counts, orient=\"index\")\n",
    "#print(tabulate(grouped_counts_df, headers=\"keys\", tablefmt=\"grid\", floatfmt=\".2f\"))\n",
    "print(\"\\nPercentages\")\n",
    "# Convert counts to percentages\n",
    "grouped_counts_df_percentage = grouped_counts_df.div(grouped_counts_df.sum(axis=1), axis=0) * 100\n",
    "\n",
    "# Print the result in table format\n",
    "print(tabulate(grouped_counts_df_percentage, headers=\"keys\", tablefmt=\"grid\", floatfmt=\".2f\"))\n"
   ]
  },
  {
   "cell_type": "markdown",
   "metadata": {},
   "source": [
    "### Both Wrong"
   ]
  },
  {
   "cell_type": "code",
   "execution_count": 76,
   "metadata": {},
   "outputs": [
    {
     "name": "stdout",
     "output_type": "stream",
     "text": [
      "\n",
      "Percentages\n",
      "+----------------------------------+---------+---------+---------+---------+---------+---------+---------+---------+---------+\n",
      "|                                  |   (1,1) |   (1,2) |   (1,3) |   (2,1) |   (2,2) |   (2,3) |   (3,1) |   (3,2) |   (3,3) |\n",
      "+==================================+=========+=========+=========+=========+=========+=========+=========+=========+=========+\n",
      "| DeepSeek-V3                      |    8.98 |   51.67 |    1.05 |    6.40 |   12.32 |    1.15 |    0.48 |   10.98 |    6.97 |\n",
      "+----------------------------------+---------+---------+---------+---------+---------+---------+---------+---------+---------+\n",
      "| Meta-Llama-3.1-8B-Instruct-Turbo |    9.47 |   15.51 |    0.15 |    8.65 |   65.40 |    0.07 |    0.15 |    0.37 |    0.22 |\n",
      "+----------------------------------+---------+---------+---------+---------+---------+---------+---------+---------+---------+\n",
      "| Qwen2.5-7B-Instruct-Turbo        |    1.26 |    7.04 |    3.56 |    4.44 |   13.48 |    8.30 |    2.00 |   14.81 |   45.11 |\n",
      "+----------------------------------+---------+---------+---------+---------+---------+---------+---------+---------+---------+\n"
     ]
    }
   ],
   "source": [
    "# Load JSON file into a variable\n",
    "with open('.\\quality\\preference_results_3options_para_other_harmful_both_wrong.json', 'r') as file:\n",
    "    preference_results_3options_para_other_harmful_both_wrong = json.load(file)\n",
    "df = pd.DataFrame(preference_results_3options_para_other_harmful_both_wrong)\n",
    "\n",
    "# Initialize a dictionary to store counts grouped by evaluator\n",
    "grouped_counts = {}\n",
    "\n",
    "# Group by evaluator and count occurrences\n",
    "for evaluator, group in df.groupby(\"evaluator\"):\n",
    "    count_1_1 = ((group[\"forward_comparison\"] == \"1\") & (group[\"backward_comparison\"] == \"1\")).sum()\n",
    "    count_1_2 = ((group[\"forward_comparison\"] == \"1\") & (group[\"backward_comparison\"] == \"2\")).sum()\n",
    "    count_1_3 = ((group[\"forward_comparison\"] == \"1\") & (group[\"backward_comparison\"] == \"3\")).sum()\n",
    "    count_2_1 = ((group[\"forward_comparison\"] == \"2\") & (group[\"backward_comparison\"] == \"1\")).sum()\n",
    "    count_2_2 = ((group[\"forward_comparison\"] == \"2\") & (group[\"backward_comparison\"] == \"2\")).sum()\n",
    "    count_2_3 = ((group[\"forward_comparison\"] == \"2\") & (group[\"backward_comparison\"] == \"3\")).sum()\n",
    "    count_3_1 = ((group[\"forward_comparison\"] == \"3\") & (group[\"backward_comparison\"] == \"1\")).sum()\n",
    "    count_3_2 = ((group[\"forward_comparison\"] == \"3\") & (group[\"backward_comparison\"] == \"2\")).sum()\n",
    "    count_3_3 = ((group[\"forward_comparison\"] == \"3\") & (group[\"backward_comparison\"] == \"3\")).sum()\n",
    "\n",
    "    grouped_counts[evaluator] = {\n",
    "        \"(1,1)\": count_1_1,\n",
    "        \"(1,2)\": count_1_2,\n",
    "        \"(1,3)\": count_1_3,\n",
    "        \"(2,1)\": count_2_1,\n",
    "        \"(2,2)\": count_2_2,\n",
    "        \"(2,3)\": count_2_3,\n",
    "        \"(3,1)\": count_3_1,\n",
    "        \"(3,2)\": count_3_2,\n",
    "        \"(3,3)\": count_3_3,\n",
    "    }\n",
    "\n",
    "# Convert to DataFrame for display\n",
    "grouped_counts_df = pd.DataFrame.from_dict(grouped_counts, orient=\"index\")\n",
    "#print(tabulate(grouped_counts_df, headers=\"keys\", tablefmt=\"grid\", floatfmt=\".2f\"))\n",
    "print(\"\\nPercentages\")\n",
    "# Convert counts to percentages\n",
    "grouped_counts_df_percentage = grouped_counts_df.div(grouped_counts_df.sum(axis=1), axis=0) * 100\n",
    "\n",
    "# Print the result in table format\n",
    "print(tabulate(grouped_counts_df_percentage, headers=\"keys\", tablefmt=\"grid\", floatfmt=\".2f\"))\n"
   ]
  },
  {
   "cell_type": "markdown",
   "metadata": {},
   "source": [
    "### Both Right"
   ]
  },
  {
   "cell_type": "code",
   "execution_count": 77,
   "metadata": {},
   "outputs": [
    {
     "name": "stdout",
     "output_type": "stream",
     "text": [
      "\n",
      "Percentages\n",
      "+----------------------------------+---------+---------+---------+---------+---------+---------+---------+---------+---------+\n",
      "|                                  |   (1,1) |   (1,2) |   (1,3) |   (2,1) |   (2,2) |   (2,3) |   (3,1) |   (3,2) |   (3,3) |\n",
      "+==================================+=========+=========+=========+=========+=========+=========+=========+=========+=========+\n",
      "| DeepSeek-V3                      |    5.34 |   44.29 |    1.22 |    1.01 |   11.56 |    0.68 |    1.28 |   25.69 |    8.92 |\n",
      "+----------------------------------+---------+---------+---------+---------+---------+---------+---------+---------+---------+\n",
      "| Meta-Llama-3.1-8B-Instruct-Turbo |   31.55 |   24.22 |    0.66 |   14.17 |   26.36 |    0.25 |    0.74 |    0.91 |    1.15 |\n",
      "+----------------------------------+---------+---------+---------+---------+---------+---------+---------+---------+---------+\n",
      "| Qwen2.5-7B-Instruct-Turbo        |    3.74 |    5.34 |    5.11 |    2.14 |    8.47 |    6.56 |    0.53 |    8.16 |   59.95 |\n",
      "+----------------------------------+---------+---------+---------+---------+---------+---------+---------+---------+---------+\n"
     ]
    }
   ],
   "source": [
    "# Load JSON file into a variable\n",
    "with open('.\\quality\\preference_results_3options_para_other_harmful_both_right.json', 'r') as file:\n",
    "    preference_results_3options_para_other_harmful_both_right = json.load(file)\n",
    "df = pd.DataFrame(preference_results_3options_para_other_harmful_both_right)\n",
    "\n",
    "# Initialize a dictionary to store counts grouped by evaluator\n",
    "grouped_counts = {}\n",
    "\n",
    "# Group by evaluator and count occurrences\n",
    "for evaluator, group in df.groupby(\"evaluator\"):\n",
    "    count_1_1 = ((group[\"forward_comparison\"] == \"1\") & (group[\"backward_comparison\"] == \"1\")).sum()\n",
    "    count_1_2 = ((group[\"forward_comparison\"] == \"1\") & (group[\"backward_comparison\"] == \"2\")).sum()\n",
    "    count_1_3 = ((group[\"forward_comparison\"] == \"1\") & (group[\"backward_comparison\"] == \"3\")).sum()\n",
    "    count_2_1 = ((group[\"forward_comparison\"] == \"2\") & (group[\"backward_comparison\"] == \"1\")).sum()\n",
    "    count_2_2 = ((group[\"forward_comparison\"] == \"2\") & (group[\"backward_comparison\"] == \"2\")).sum()\n",
    "    count_2_3 = ((group[\"forward_comparison\"] == \"2\") & (group[\"backward_comparison\"] == \"3\")).sum()\n",
    "    count_3_1 = ((group[\"forward_comparison\"] == \"3\") & (group[\"backward_comparison\"] == \"1\")).sum()\n",
    "    count_3_2 = ((group[\"forward_comparison\"] == \"3\") & (group[\"backward_comparison\"] == \"2\")).sum()\n",
    "    count_3_3 = ((group[\"forward_comparison\"] == \"3\") & (group[\"backward_comparison\"] == \"3\")).sum()\n",
    "\n",
    "    grouped_counts[evaluator] = {\n",
    "        \"(1,1)\": count_1_1,\n",
    "        \"(1,2)\": count_1_2,\n",
    "        \"(1,3)\": count_1_3,\n",
    "        \"(2,1)\": count_2_1,\n",
    "        \"(2,2)\": count_2_2,\n",
    "        \"(2,3)\": count_2_3,\n",
    "        \"(3,1)\": count_3_1,\n",
    "        \"(3,2)\": count_3_2,\n",
    "        \"(3,3)\": count_3_3,\n",
    "    }\n",
    "\n",
    "# Convert to DataFrame for display\n",
    "grouped_counts_df = pd.DataFrame.from_dict(grouped_counts, orient=\"index\")\n",
    "#print(tabulate(grouped_counts_df, headers=\"keys\", tablefmt=\"grid\", floatfmt=\".2f\"))\n",
    "print(\"\\nPercentages\")\n",
    "# Convert counts to percentages\n",
    "grouped_counts_df_percentage = grouped_counts_df.div(grouped_counts_df.sum(axis=1), axis=0) * 100\n",
    "\n",
    "# Print the result in table format\n",
    "print(tabulate(grouped_counts_df_percentage, headers=\"keys\", tablefmt=\"grid\", floatfmt=\".2f\"))\n"
   ]
  },
  {
   "cell_type": "markdown",
   "metadata": {},
   "source": [
    "### Judge Accuracy"
   ]
  },
  {
   "cell_type": "code",
   "execution_count": 69,
   "metadata": {},
   "outputs": [
    {
     "name": "stdout",
     "output_type": "stream",
     "text": [
      "\n",
      "Evaluator Accuracy Results\n",
      "+----+----------------------------------+-----------+---------+----------------+\n",
      "|    | Model                            |   Correct |   Total | Accuracy (%)   |\n",
      "+====+==================================+===========+=========+================+\n",
      "|  0 | DeepSeek-V3                      |      1348 |    1629 | 82.75%         |\n",
      "+----+----------------------------------+-----------+---------+----------------+\n",
      "|  1 | Meta-Llama-3.1-8B-Instruct-Turbo |       506 |    1591 | 31.80%         |\n",
      "+----+----------------------------------+-----------+---------+----------------+\n",
      "|  2 | Qwen2.5-7B-Instruct-Turbo        |       311 |    1486 | 20.93%         |\n",
      "+----+----------------------------------+-----------+---------+----------------+\n"
     ]
    }
   ],
   "source": [
    "# Model list\n",
    "model_names = [\"DeepSeek-V3\", \"Meta-Llama-3.1-8B-Instruct-Turbo\", \"Qwen2.5-7B-Instruct-Turbo\", ]\n",
    "\n",
    "# Initialize tracking dictionaries\n",
    "result_stats = {model: {\"correct\": 0, \"total\": 0} for model in model_names}\n",
    "\n",
    "# Process preference_results\n",
    "for record in preference_results_3options_para_other_harmful:\n",
    "    model = record[\"evaluator\"]\n",
    "    if model in result_stats:\n",
    "        result_stats[model][\"total\"] += 1\n",
    "        if record[\"forward_comparison\"] == \"2\" and record[\"backward_comparison\"] == \"1\":\n",
    "            result_stats[model][\"correct\"] += 1\n",
    "\n",
    "# Process preference_results_other_wrong\n",
    "for record in preference_results_3options_para_other_harmful_other_wrong:\n",
    "    model = record[\"evaluator\"]\n",
    "    if model in result_stats:\n",
    "        result_stats[model][\"total\"] += 1\n",
    "        if record[\"forward_comparison\"] == \"1\" and record[\"backward_comparison\"] == \"2\":\n",
    "            result_stats[model][\"correct\"] += 1\n",
    "\n",
    "# Create DataFrame to display results\n",
    "results_df = pd.DataFrame([\n",
    "    {\n",
    "        \"Model\": model,\n",
    "        \"Correct\": stats[\"correct\"],\n",
    "        \"Total\": stats[\"total\"],\n",
    "        \"Accuracy (%)\": f\"{(stats['correct'] / stats['total'] * 100):.2f}%\" if stats[\"total\"] > 0 else \"N/A\"\n",
    "    }\n",
    "    for model, stats in result_stats.items()\n",
    "])\n",
    "\n",
    "print(\"\\nEvaluator Accuracy Results\")\n",
    "# Display the table\n",
    "print(tabulate(results_df, headers=\"keys\", tablefmt=\"grid\"))"
   ]
  },
  {
   "cell_type": "code",
   "execution_count": 70,
   "metadata": {},
   "outputs": [
    {
     "name": "stdout",
     "output_type": "stream",
     "text": [
      "\n",
      "Evaluator Accuracy Results - Harmful Self Pref Quadrant\n",
      "+----+----------------------------------+-----------+---------+----------------+\n",
      "|    | Model                            |   Correct |   Total | Accuracy (%)   |\n",
      "+====+==================================+===========+=========+================+\n",
      "|  0 | DeepSeek-V3                      |        93 |     299 | 31.10%         |\n",
      "+----+----------------------------------+-----------+---------+----------------+\n",
      "|  1 | Meta-Llama-3.1-8B-Instruct-Turbo |       356 |    1120 | 31.79%         |\n",
      "+----+----------------------------------+-----------+---------+----------------+\n",
      "|  2 | Qwen2.5-7B-Instruct-Turbo        |       190 |     934 | 20.34%         |\n",
      "+----+----------------------------------+-----------+---------+----------------+\n"
     ]
    }
   ],
   "source": [
    "# HARFUL SELF PREF QUADRANT\n",
    "model_names = [\"DeepSeek-V3\", \"Meta-Llama-3.1-8B-Instruct-Turbo\", \"Qwen2.5-7B-Instruct-Turbo\", ]\n",
    "\n",
    "# Initialize tracking dictionaries\n",
    "result_stats = {model: {\"correct\": 0, \"total\": 0} for model in model_names}\n",
    "\n",
    "# Process preference_results\n",
    "for record in preference_results_3options_para_other_harmful:\n",
    "    model = record[\"evaluator\"]\n",
    "    if model in result_stats:\n",
    "        result_stats[model][\"total\"] += 1\n",
    "        if record[\"forward_comparison\"] == \"2\" and record[\"backward_comparison\"] == \"1\":\n",
    "            result_stats[model][\"correct\"] += 1\n",
    "\n",
    "\n",
    "# Create DataFrame to display results\n",
    "results_df = pd.DataFrame([\n",
    "    {\n",
    "        \"Model\": model,\n",
    "        \"Correct\": stats[\"correct\"],\n",
    "        \"Total\": stats[\"total\"],\n",
    "        \"Accuracy (%)\": f\"{(stats['correct'] / stats['total'] * 100):.2f}%\" if stats[\"total\"] > 0 else \"N/A\"\n",
    "    }\n",
    "    for model, stats in result_stats.items()\n",
    "])\n",
    "\n",
    "print(\"\\nEvaluator Accuracy Results - Harmful Self Pref Quadrant\")\n",
    "# Display the table\n",
    "print(tabulate(results_df, headers=\"keys\", tablefmt=\"grid\"))"
   ]
  },
  {
   "cell_type": "code",
   "execution_count": 71,
   "metadata": {},
   "outputs": [
    {
     "name": "stdout",
     "output_type": "stream",
     "text": [
      "\n",
      "Evaluator Accuracy Results - Beneficial Self Pref Quadrant\n",
      "+----+----------------------------------+-----------+---------+----------------+\n",
      "|    | Model                            |   Correct |   Total | Accuracy (%)   |\n",
      "+====+==================================+===========+=========+================+\n",
      "|  0 | DeepSeek-V3                      |      1255 |    1330 | 94.36%         |\n",
      "+----+----------------------------------+-----------+---------+----------------+\n",
      "|  1 | Meta-Llama-3.1-8B-Instruct-Turbo |       150 |     471 | 31.85%         |\n",
      "+----+----------------------------------+-----------+---------+----------------+\n",
      "|  2 | Qwen2.5-7B-Instruct-Turbo        |       121 |     552 | 21.92%         |\n",
      "+----+----------------------------------+-----------+---------+----------------+\n"
     ]
    }
   ],
   "source": [
    "# Benificial SELF PREF QUADRANT\n",
    "\n",
    "model_names = [\"DeepSeek-V3\", \"Meta-Llama-3.1-8B-Instruct-Turbo\", \"Qwen2.5-7B-Instruct-Turbo\", ]\n",
    "\n",
    "# Initialize tracking dictionaries\n",
    "result_stats = {model: {\"correct\": 0, \"total\": 0} for model in model_names}\n",
    "\n",
    "for record in preference_results_3options_para_other_harmful_other_wrong:\n",
    "    model = record[\"evaluator\"]\n",
    "    if model in result_stats:\n",
    "        result_stats[model][\"total\"] += 1\n",
    "        if record[\"forward_comparison\"] == \"1\" and record[\"backward_comparison\"] == \"2\":\n",
    "            result_stats[model][\"correct\"] += 1\n",
    "\n",
    "\n",
    "results_df = pd.DataFrame([\n",
    "    {\n",
    "        \"Model\": model,\n",
    "        \"Correct\": stats[\"correct\"],\n",
    "        \"Total\": stats[\"total\"],\n",
    "        \"Accuracy (%)\": f\"{(stats['correct'] / stats['total'] * 100):.2f}%\" if stats[\"total\"] > 0 else \"N/A\"\n",
    "    }\n",
    "    for model, stats in result_stats.items()\n",
    "])\n",
    "\n",
    "print(\"\\nEvaluator Accuracy Results - Beneficial Self Pref Quadrant\")\n",
    "# Display the table\n",
    "print(tabulate(results_df, headers=\"keys\", tablefmt=\"grid\"))"
   ]
  },
  {
   "cell_type": "markdown",
   "metadata": {},
   "source": [
    "# Third Party Eval -------------------------------------------"
   ]
  },
  {
   "cell_type": "markdown",
   "metadata": {},
   "source": [
    "## Original"
   ]
  },
  {
   "cell_type": "code",
   "execution_count": null,
   "metadata": {},
   "outputs": [
    {
     "name": "stdout",
     "output_type": "stream",
     "text": [
      "\n",
      "Evaluator Accuracy Results\n",
      "+----+----------------------------------+-----------+---------+----------------+\n",
      "|    | Model                            |   Correct |   Total | Accuracy (%)   |\n",
      "+====+==================================+===========+=========+================+\n",
      "|  0 | DeepSeek-V3                      |       544 |     724 | 75.14%         |\n",
      "+----+----------------------------------+-----------+---------+----------------+\n",
      "|  1 | Meta-Llama-3.1-8B-Instruct-Turbo |       259 |     762 | 33.99%         |\n",
      "+----+----------------------------------+-----------+---------+----------------+\n",
      "|  2 | Qwen2.5-7B-Instruct-Turbo        |       548 |     867 | 63.21%         |\n",
      "+----+----------------------------------+-----------+---------+----------------+\n"
     ]
    }
   ],
   "source": [
    "# Load JSON file into a variable\n",
    "with open('.\\quality\\pref_results_third_party_eval_original.json', 'r') as file:\n",
    "    pref_results_third_party_eval_original_harmful = json.load(file)\n",
    "df = pd.DataFrame(pref_results_third_party_eval_original_harmful)\n",
    "\n",
    "\n",
    "# Model list\n",
    "model_names = [\"DeepSeek-V3\", \"Meta-Llama-3.1-8B-Instruct-Turbo\", \"Qwen2.5-7B-Instruct-Turbo\", ]\n",
    "\n",
    "# Initialize tracking dictionaries\n",
    "result_stats = {model: {\"correct\": 0, \"total\": 0} for model in model_names}\n",
    "\n",
    "# Process preference_results\n",
    "for record in pref_results_third_party_eval_original_harmful:\n",
    "    model = record[\"judge_model\"]\n",
    "    if model in result_stats:\n",
    "        result_stats[model][\"total\"] += 1\n",
    "        if record[\"forward_comparison\"] == \"2\" and record[\"backward_comparison\"] == \"1\":\n",
    "            result_stats[model][\"correct\"] += 1\n",
    "\n",
    "\n",
    "\n",
    "# Create DataFrame to display results\n",
    "results_df = pd.DataFrame([\n",
    "    {\n",
    "        \"Model\": model,\n",
    "        \"Correct\": stats[\"correct\"],\n",
    "        \"Total\": stats[\"total\"],\n",
    "        \"Accuracy (%)\": f\"{(stats['correct'] / stats['total'] * 100):.2f}%\" if stats[\"total\"] > 0 else \"N/A\"\n",
    "    }\n",
    "    for model, stats in result_stats.items()\n",
    "])\n",
    "\n",
    "print(\"\\nEvaluator Accuracy Results\")\n",
    "# Display the table\n",
    "print(tabulate(results_df, headers=\"keys\", tablefmt=\"grid\"))"
   ]
  },
  {
   "cell_type": "markdown",
   "metadata": {},
   "source": [
    "### Llama4.1 judge"
   ]
  },
  {
   "cell_type": "code",
   "execution_count": 3,
   "metadata": {},
   "outputs": [
    {
     "name": "stdout",
     "output_type": "stream",
     "text": [
      "\n",
      "Evaluator Accuracy Results\n",
      "+----+----------------------------------------+-----------+---------+----------------+\n",
      "|    | Model                                  |   Correct |   Total | Accuracy (%)   |\n",
      "+====+========================================+===========+=========+================+\n",
      "|  0 | Llama-4-Scout-17B-16E-Instruct         |      1732 |    2353 | 73.61%         |\n",
      "+----+----------------------------------------+-----------+---------+----------------+\n",
      "|  1 | Llama-4-Maverick-17B-128E-Instruct-FP8 |      1876 |    2353 | 79.73%         |\n",
      "+----+----------------------------------------+-----------+---------+----------------+\n"
     ]
    }
   ],
   "source": [
    "# Load JSON file into a variable\n",
    "with open('.\\quality\\pref_third_party_llamajudge_quality.json', 'r') as file:\n",
    "    pref_third_party_llamajudge_quality = json.load(file)\n",
    "df = pd.DataFrame(pref_third_party_llamajudge_quality)\n",
    "\n",
    "\n",
    "# Model list\n",
    "model_names = [\"Llama-4-Scout-17B-16E-Instruct\", \"Llama-4-Maverick-17B-128E-Instruct-FP8\"]\n",
    "\n",
    "# Initialize tracking dictionaries\n",
    "result_stats = {model: {\"correct\": 0, \"total\": 0} for model in model_names}\n",
    "\n",
    "# Process preference_results\n",
    "for record in pref_third_party_llamajudge_quality:\n",
    "    model = record[\"judge_model\"]\n",
    "    if model in result_stats:\n",
    "        result_stats[model][\"total\"] += 1\n",
    "        if record[\"forward_comparison\"] == \"2\" and record[\"backward_comparison\"] == \"1\":\n",
    "            result_stats[model][\"correct\"] += 1\n",
    "\n",
    "\n",
    "\n",
    "# Create DataFrame to display results\n",
    "results_df = pd.DataFrame([\n",
    "    {\n",
    "        \"Model\": model,\n",
    "        \"Correct\": stats[\"correct\"],\n",
    "        \"Total\": stats[\"total\"],\n",
    "        \"Accuracy (%)\": f\"{(stats['correct'] / stats['total'] * 100):.2f}%\" if stats[\"total\"] > 0 else \"N/A\"\n",
    "    }\n",
    "    for model, stats in result_stats.items()\n",
    "])\n",
    "\n",
    "print(\"\\nEvaluator Accuracy Results\")\n",
    "# Display the table\n",
    "print(tabulate(results_df, headers=\"keys\", tablefmt=\"grid\"))"
   ]
  },
  {
   "cell_type": "markdown",
   "metadata": {},
   "source": [
    "## Synonym"
   ]
  },
  {
   "cell_type": "markdown",
   "metadata": {},
   "source": [
    "### Only the wrong answer perturbed (Old Method)"
   ]
  },
  {
   "cell_type": "code",
   "execution_count": 8,
   "metadata": {},
   "outputs": [
    {
     "name": "stdout",
     "output_type": "stream",
     "text": [
      "\n",
      "Evaluator Accuracy Results\n",
      "+----+----------------------------------+-----------+---------+----------------+\n",
      "|    | Model                            |   Correct |   Total | Accuracy (%)   |\n",
      "+====+==================================+===========+=========+================+\n",
      "|  0 | DeepSeek-V3                      |       584 |     724 | 80.66%         |\n",
      "+----+----------------------------------+-----------+---------+----------------+\n",
      "|  1 | Meta-Llama-3.1-8B-Instruct-Turbo |       345 |     762 | 45.28%         |\n",
      "+----+----------------------------------+-----------+---------+----------------+\n",
      "|  2 | Qwen2.5-7B-Instruct-Turbo        |       660 |     867 | 76.12%         |\n",
      "+----+----------------------------------+-----------+---------+----------------+\n"
     ]
    }
   ],
   "source": [
    "# Load JSON file into a variable\n",
    "with open('.\\quality\\pref_results_third_party_eval_perturb2.json', 'r') as file:\n",
    "    pref_results_third_party_eval_perturb2 = json.load(file)\n",
    "df = pd.DataFrame(pref_results_third_party_eval_perturb2)\n",
    "\n",
    "\n",
    "# Model list\n",
    "model_names = [\"DeepSeek-V3\", \"Meta-Llama-3.1-8B-Instruct-Turbo\", \"Qwen2.5-7B-Instruct-Turbo\", ]\n",
    "\n",
    "# Initialize tracking dictionaries\n",
    "result_stats = {model: {\"correct\": 0, \"total\": 0} for model in model_names}\n",
    "\n",
    "# Process preference_results\n",
    "for record in pref_results_third_party_eval_perturb2:\n",
    "    model = record[\"judge_model\"]\n",
    "    if model in result_stats:\n",
    "        result_stats[model][\"total\"] += 1\n",
    "        if record[\"forward_comparison\"] == \"2\" and record[\"backward_comparison\"] == \"1\":\n",
    "            result_stats[model][\"correct\"] += 1\n",
    "\n",
    "\n",
    "\n",
    "# Create DataFrame to display results\n",
    "results_df = pd.DataFrame([\n",
    "    {\n",
    "        \"Model\": model,\n",
    "        \"Correct\": stats[\"correct\"],\n",
    "        \"Total\": stats[\"total\"],\n",
    "        \"Accuracy (%)\": f\"{(stats['correct'] / stats['total'] * 100):.2f}%\" if stats[\"total\"] > 0 else \"N/A\"\n",
    "    }\n",
    "    for model, stats in result_stats.items()\n",
    "])\n",
    "\n",
    "print(\"\\nEvaluator Accuracy Results\")\n",
    "# Display the table\n",
    "print(tabulate(results_df, headers=\"keys\", tablefmt=\"grid\"))"
   ]
  },
  {
   "cell_type": "markdown",
   "metadata": {},
   "source": [
    "### Only Wrong (new Auto LLM Perturb 2w)"
   ]
  },
  {
   "cell_type": "code",
   "execution_count": 19,
   "metadata": {},
   "outputs": [
    {
     "name": "stdout",
     "output_type": "stream",
     "text": [
      "\n",
      "Evaluator Accuracy Results\n",
      "+----+----------------------------------+-----------+---------+----------------+\n",
      "|    | Model                            |   Correct |   Total | Accuracy (%)   |\n",
      "+====+==================================+===========+=========+================+\n",
      "|  0 | DeepSeek-V3                      |       548 |     724 | 75.69%         |\n",
      "+----+----------------------------------+-----------+---------+----------------+\n",
      "|  1 | Meta-Llama-3.1-8B-Instruct-Turbo |       293 |     762 | 38.45%         |\n",
      "+----+----------------------------------+-----------+---------+----------------+\n",
      "|  2 | Qwen2.5-7B-Instruct-Turbo        |       577 |     867 | 66.55%         |\n",
      "+----+----------------------------------+-----------+---------+----------------+\n"
     ]
    }
   ],
   "source": [
    "# Load JSON file into a variable\n",
    "with open('.\\quality\\pref_third_party_synonym_auto_wrong_only_quality.json', 'r') as file:\n",
    "    pref_third_party_synonym_auto_wrong_only_quality = json.load(file)\n",
    "df = pd.DataFrame(pref_third_party_synonym_auto_wrong_only_quality)\n",
    "\n",
    "\n",
    "# Model list\n",
    "model_names = [\"DeepSeek-V3\", \"Meta-Llama-3.1-8B-Instruct-Turbo\", \"Qwen2.5-7B-Instruct-Turbo\", ]\n",
    "\n",
    "# Initialize tracking dictionaries\n",
    "result_stats = {model: {\"correct\": 0, \"total\": 0} for model in model_names}\n",
    "\n",
    "# Process preference_results\n",
    "for record in pref_third_party_synonym_auto_wrong_only_quality:\n",
    "    model = record[\"judge_model\"]\n",
    "    if model in result_stats:\n",
    "        result_stats[model][\"total\"] += 1\n",
    "        if record[\"forward_comparison\"] == \"2\" and record[\"backward_comparison\"] == \"1\":\n",
    "            result_stats[model][\"correct\"] += 1\n",
    "\n",
    "\n",
    "\n",
    "# Create DataFrame to display results\n",
    "results_df = pd.DataFrame([\n",
    "    {\n",
    "        \"Model\": model,\n",
    "        \"Correct\": stats[\"correct\"],\n",
    "        \"Total\": stats[\"total\"],\n",
    "        \"Accuracy (%)\": f\"{(stats['correct'] / stats['total'] * 100):.2f}%\" if stats[\"total\"] > 0 else \"N/A\"\n",
    "    }\n",
    "    for model, stats in result_stats.items()\n",
    "])\n",
    "\n",
    "print(\"\\nEvaluator Accuracy Results\")\n",
    "# Display the table\n",
    "print(tabulate(results_df, headers=\"keys\", tablefmt=\"grid\"))"
   ]
  },
  {
   "cell_type": "markdown",
   "metadata": {},
   "source": [
    "### Llama4.1 judge"
   ]
  },
  {
   "cell_type": "code",
   "execution_count": 4,
   "metadata": {},
   "outputs": [
    {
     "name": "stdout",
     "output_type": "stream",
     "text": [
      "\n",
      "Evaluator Accuracy Results\n",
      "+----+----------------------------------------+-----------+---------+----------------+\n",
      "|    | Model                                  |   Correct |   Total | Accuracy (%)   |\n",
      "+====+========================================+===========+=========+================+\n",
      "|  0 | Llama-4-Scout-17B-16E-Instruct         |      1745 |    2353 | 74.16%         |\n",
      "+----+----------------------------------------+-----------+---------+----------------+\n",
      "|  1 | Llama-4-Maverick-17B-128E-Instruct-FP8 |      1899 |    2353 | 80.71%         |\n",
      "+----+----------------------------------------+-----------+---------+----------------+\n"
     ]
    }
   ],
   "source": [
    "# Load JSON file into a variable\n",
    "with open('.\\quality\\pref_third_party_llamajudge_synonym_auto_wrong_quality.json', 'r') as file:\n",
    "    pref_third_party_llamajudge_synonym_auto_wrong_quality = json.load(file)\n",
    "df = pd.DataFrame(pref_third_party_llamajudge_synonym_auto_wrong_quality)\n",
    "\n",
    "\n",
    "# Model list\n",
    "model_names = [\"Llama-4-Scout-17B-16E-Instruct\", \"Llama-4-Maverick-17B-128E-Instruct-FP8\"]\n",
    "\n",
    "# Initialize tracking dictionaries\n",
    "result_stats = {model: {\"correct\": 0, \"total\": 0} for model in model_names}\n",
    "\n",
    "# Process preference_results\n",
    "for record in pref_third_party_llamajudge_synonym_auto_wrong_quality:\n",
    "    model = record[\"judge_model\"]\n",
    "    if model in result_stats:\n",
    "        result_stats[model][\"total\"] += 1\n",
    "        if record[\"forward_comparison\"] == \"2\" and record[\"backward_comparison\"] == \"1\":\n",
    "            result_stats[model][\"correct\"] += 1\n",
    "\n",
    "\n",
    "\n",
    "# Create DataFrame to display results\n",
    "results_df = pd.DataFrame([\n",
    "    {\n",
    "        \"Model\": model,\n",
    "        \"Correct\": stats[\"correct\"],\n",
    "        \"Total\": stats[\"total\"],\n",
    "        \"Accuracy (%)\": f\"{(stats['correct'] / stats['total'] * 100):.2f}%\" if stats[\"total\"] > 0 else \"N/A\"\n",
    "    }\n",
    "    for model, stats in result_stats.items()\n",
    "])\n",
    "\n",
    "print(\"\\nEvaluator Accuracy Results\")\n",
    "# Display the table\n",
    "print(tabulate(results_df, headers=\"keys\", tablefmt=\"grid\"))"
   ]
  },
  {
   "cell_type": "markdown",
   "metadata": {},
   "source": [
    "### both perturbed"
   ]
  },
  {
   "cell_type": "code",
   "execution_count": 4,
   "metadata": {},
   "outputs": [
    {
     "name": "stdout",
     "output_type": "stream",
     "text": [
      "\n",
      "Evaluator Accuracy Results\n",
      "+----+----------------------------------+-----------+---------+----------------+\n",
      "|    | Model                            |   Correct |   Total | Accuracy (%)   |\n",
      "+====+==================================+===========+=========+================+\n",
      "|  0 | Meta-Llama-3.1-8B-Instruct-Turbo |       258 |     761 | 33.90%         |\n",
      "+----+----------------------------------+-----------+---------+----------------+\n",
      "|  1 | Qwen2.5-7B-Instruct-Turbo        |       542 |     867 | 62.51%         |\n",
      "+----+----------------------------------+-----------+---------+----------------+\n",
      "|  2 | DeepSeek-V3                      |       530 |     723 | 73.31%         |\n",
      "+----+----------------------------------+-----------+---------+----------------+\n"
     ]
    }
   ],
   "source": [
    "# Load JSON file into a variable\n",
    "with open('.\\quality\\pref_results_third_party_eval_both_perturb.json', 'r') as file:\n",
    "    pref_results_third_party_eval_both_perturb = json.load(file)\n",
    "df = pd.DataFrame(pref_results_third_party_eval_both_perturb)\n",
    "\n",
    "\n",
    "# Model list\n",
    "#model_names = [\"DeepSeek-V3\", \"Meta-Llama-3.1-8B-Instruct-Turbo\", \"Qwen2.5-7B-Instruct-Turbo\", ]\n",
    "\n",
    "model_names = [ \"Meta-Llama-3.1-8B-Instruct-Turbo\", \"Qwen2.5-7B-Instruct-Turbo\", \"DeepSeek-V3\", ]\n",
    "\n",
    "# Initialize tracking dictionaries\n",
    "result_stats = {model: {\"correct\": 0, \"total\": 0} for model in model_names}\n",
    "\n",
    "# Process preference_results\n",
    "for record in pref_results_third_party_eval_both_perturb:\n",
    "    model = record[\"judge_model\"]\n",
    "    if model in result_stats:\n",
    "        result_stats[model][\"total\"] += 1\n",
    "        if record[\"forward_comparison\"] == \"2\" and record[\"backward_comparison\"] == \"1\":\n",
    "            result_stats[model][\"correct\"] += 1\n",
    "\n",
    "\n",
    "\n",
    "# Create DataFrame to display results\n",
    "results_df = pd.DataFrame([\n",
    "    {\n",
    "        \"Model\": model,\n",
    "        \"Correct\": stats[\"correct\"],\n",
    "        \"Total\": stats[\"total\"],\n",
    "        \"Accuracy (%)\": f\"{(stats['correct'] / stats['total'] * 100):.2f}%\" if stats[\"total\"] > 0 else \"N/A\"\n",
    "    }\n",
    "    for model, stats in result_stats.items()\n",
    "])\n",
    "\n",
    "print(\"\\nEvaluator Accuracy Results\")\n",
    "# Display the table\n",
    "print(tabulate(results_df, headers=\"keys\", tablefmt=\"grid\"))"
   ]
  },
  {
   "cell_type": "markdown",
   "metadata": {},
   "source": [
    "## Paraphrase"
   ]
  },
  {
   "cell_type": "markdown",
   "metadata": {},
   "source": [
    "### Smaller subset"
   ]
  },
  {
   "cell_type": "code",
   "execution_count": 9,
   "metadata": {},
   "outputs": [
    {
     "name": "stdout",
     "output_type": "stream",
     "text": [
      "\n",
      "Evaluator Accuracy Results\n",
      "+----+----------------------------------+-----------+---------+----------------+\n",
      "|    | Model                            |   Correct |   Total | Accuracy (%)   |\n",
      "+====+==================================+===========+=========+================+\n",
      "|  0 | DeepSeek-V3                      |       515 |     724 | 71.13%         |\n",
      "+----+----------------------------------+-----------+---------+----------------+\n",
      "|  1 | Meta-Llama-3.1-8B-Instruct-Turbo |       205 |     762 | 26.90%         |\n",
      "+----+----------------------------------+-----------+---------+----------------+\n",
      "|  2 | Qwen2.5-7B-Instruct-Turbo        |       435 |     867 | 50.17%         |\n",
      "+----+----------------------------------+-----------+---------+----------------+\n"
     ]
    }
   ],
   "source": [
    "# Load JSON file into a variable\n",
    "with open('.\\quality\\pref_results_third_party_eval_paraphrase.json', 'r') as file:\n",
    "    pref_results_third_party_eval_paraphrase = json.load(file)\n",
    "df = pd.DataFrame(pref_results_third_party_eval_paraphrase)\n",
    "\n",
    "\n",
    "# Model list\n",
    "model_names = [\"DeepSeek-V3\", \"Meta-Llama-3.1-8B-Instruct-Turbo\", \"Qwen2.5-7B-Instruct-Turbo\"]\n",
    "\n",
    "# Initialize tracking dictionaries\n",
    "result_stats = {model: {\"correct\": 0, \"total\": 0} for model in model_names}\n",
    "\n",
    "# Process preference_results\n",
    "for record in pref_results_third_party_eval_paraphrase:\n",
    "    model = record[\"judge_model\"]\n",
    "    if model in result_stats:\n",
    "        result_stats[model][\"total\"] += 1\n",
    "        if record[\"forward_comparison\"] == \"2\" and record[\"backward_comparison\"] == \"1\":\n",
    "            result_stats[model][\"correct\"] += 1\n",
    "\n",
    "\n",
    "\n",
    "# Create DataFrame to display results\n",
    "results_df = pd.DataFrame([\n",
    "    {\n",
    "        \"Model\": model,\n",
    "        \"Correct\": stats[\"correct\"],\n",
    "        \"Total\": stats[\"total\"],\n",
    "        \"Accuracy (%)\": f\"{(stats['correct'] / stats['total'] * 100):.2f}%\" if stats[\"total\"] > 0 else \"N/A\"\n",
    "    }\n",
    "    for model, stats in result_stats.items()\n",
    "])\n",
    "\n",
    "print(\"\\nEvaluator Accuracy Results\")\n",
    "# Display the table\n",
    "print(tabulate(results_df, headers=\"keys\", tablefmt=\"grid\"))"
   ]
  },
  {
   "cell_type": "markdown",
   "metadata": {},
   "source": [
    "### Llama4.1"
   ]
  },
  {
   "cell_type": "code",
   "execution_count": 5,
   "metadata": {},
   "outputs": [
    {
     "name": "stdout",
     "output_type": "stream",
     "text": [
      "\n",
      "Evaluator Accuracy Results\n",
      "+----+----------------------------------------+-----------+---------+----------------+\n",
      "|    | Model                                  |   Correct |   Total | Accuracy (%)   |\n",
      "+====+========================================+===========+=========+================+\n",
      "|  0 | Llama-4-Scout-17B-16E-Instruct         |      1619 |    2353 | 68.81%         |\n",
      "+----+----------------------------------------+-----------+---------+----------------+\n",
      "|  1 | Llama-4-Maverick-17B-128E-Instruct-FP8 |      1791 |    2353 | 76.12%         |\n",
      "+----+----------------------------------------+-----------+---------+----------------+\n"
     ]
    }
   ],
   "source": [
    "# Load JSON file into a variable\n",
    "with open('.\\quality\\pref_third_party_llamajudge_paraphrase_quality.json', 'r') as file:\n",
    "    pref_third_party_llamajudge_paraphrase_quality = json.load(file)\n",
    "df = pd.DataFrame(pref_third_party_llamajudge_paraphrase_quality)\n",
    "\n",
    "\n",
    "# Model list\n",
    "model_names = [\"Llama-4-Scout-17B-16E-Instruct\", \"Llama-4-Maverick-17B-128E-Instruct-FP8\"]\n",
    "\n",
    "# Initialize tracking dictionaries\n",
    "result_stats = {model: {\"correct\": 0, \"total\": 0} for model in model_names}\n",
    "\n",
    "# Process preference_results\n",
    "for record in pref_third_party_llamajudge_paraphrase_quality:\n",
    "    model = record[\"judge_model\"]\n",
    "    if model in result_stats:\n",
    "        result_stats[model][\"total\"] += 1\n",
    "        if record[\"forward_comparison\"] == \"2\" and record[\"backward_comparison\"] == \"1\":\n",
    "            result_stats[model][\"correct\"] += 1\n",
    "\n",
    "\n",
    "\n",
    "# Create DataFrame to display results\n",
    "results_df = pd.DataFrame([\n",
    "    {\n",
    "        \"Model\": model,\n",
    "        \"Correct\": stats[\"correct\"],\n",
    "        \"Total\": stats[\"total\"],\n",
    "        \"Accuracy (%)\": f\"{(stats['correct'] / stats['total'] * 100):.2f}%\" if stats[\"total\"] > 0 else \"N/A\"\n",
    "    }\n",
    "    for model, stats in result_stats.items()\n",
    "])\n",
    "\n",
    "print(\"\\nEvaluator Accuracy Results\")\n",
    "# Display the table\n",
    "print(tabulate(results_df, headers=\"keys\", tablefmt=\"grid\"))"
   ]
  },
  {
   "cell_type": "markdown",
   "metadata": {},
   "source": [
    "## In the Harmful Quadrant Only (for each model, lets sample the harmful quadrant first)"
   ]
  },
  {
   "cell_type": "markdown",
   "metadata": {},
   "source": [
    "### original"
   ]
  },
  {
   "cell_type": "code",
   "execution_count": 10,
   "metadata": {},
   "outputs": [],
   "source": [
    "with open('.\\quality\\self_pref_quality.json', 'r') as file:\n",
    "    preference_results = json.load(file)"
   ]
  },
  {
   "cell_type": "code",
   "execution_count": null,
   "metadata": {},
   "outputs": [],
   "source": [
    "# Define model names\n",
    "model_names = [\"DeepSeek-V3\", \"Meta-Llama-3.1-8B-Instruct-Turbo\", \"Qwen2.5-7B-Instruct-Turbo\"]\n",
    "\n",
    "# Create a set of (evaluator, pid) pairs from preference_results\n",
    "eval_pid_pairs = {(rec[\"evaluator\"], rec[\"pid\"]) for rec in preference_results}\n",
    "\n",
    "# Create model-specific lists\n",
    "model_filtered_results = {model: [] for model in model_names}\n",
    "\n",
    "# Filter records where judge_model and pid match those in preference_results\n",
    "for record in pref_results_third_party_eval_original_harmful:\n",
    "    key = (record[\"judge_model\"], record[\"pid\"])\n",
    "    if key in eval_pid_pairs:\n",
    "        model_filtered_results[record[\"judge_model\"]].append(record)\n",
    "\n",
    "model_filtered_results"
   ]
  },
  {
   "cell_type": "code",
   "execution_count": 17,
   "metadata": {},
   "outputs": [
    {
     "data": {
      "text/plain": [
       "190"
      ]
     },
     "execution_count": 17,
     "metadata": {},
     "output_type": "execute_result"
    }
   ],
   "source": [
    "len(model_filtered_results['DeepSeek-V3'])"
   ]
  },
  {
   "cell_type": "code",
   "execution_count": 18,
   "metadata": {},
   "outputs": [
    {
     "data": {
      "text/plain": [
       "488"
      ]
     },
     "execution_count": 18,
     "metadata": {},
     "output_type": "execute_result"
    }
   ],
   "source": [
    "len(model_filtered_results['Meta-Llama-3.1-8B-Instruct-Turbo'])"
   ]
  },
  {
   "cell_type": "code",
   "execution_count": 19,
   "metadata": {},
   "outputs": [
    {
     "data": {
      "text/plain": [
       "494"
      ]
     },
     "execution_count": 19,
     "metadata": {},
     "output_type": "execute_result"
    }
   ],
   "source": [
    "\n",
    "len(model_filtered_results['Qwen2.5-7B-Instruct-Turbo'])"
   ]
  },
  {
   "cell_type": "code",
   "execution_count": 22,
   "metadata": {},
   "outputs": [
    {
     "name": "stdout",
     "output_type": "stream",
     "text": [
      "\n",
      "Evaluator Accuracy Results\n",
      "+----+----------------------------------+-----------+---------+----------------+\n",
      "|    | Model                            |   Correct |   Total | Accuracy (%)   |\n",
      "+====+==================================+===========+=========+================+\n",
      "|  0 | DeepSeek-V3                      |       102 |     190 | 53.68%         |\n",
      "+----+----------------------------------+-----------+---------+----------------+\n",
      "|  1 | Meta-Llama-3.1-8B-Instruct-Turbo |       169 |     488 | 34.63%         |\n",
      "+----+----------------------------------+-----------+---------+----------------+\n",
      "|  2 | Qwen2.5-7B-Instruct-Turbo        |       298 |     494 | 60.32%         |\n",
      "+----+----------------------------------+-----------+---------+----------------+\n"
     ]
    }
   ],
   "source": [
    "# Define model names\n",
    "model_names = [\"DeepSeek-V3\", \"Meta-Llama-3.1-8B-Instruct-Turbo\", \"Qwen2.5-7B-Instruct-Turbo\"]\n",
    "\n",
    "# Initialize tracking dictionaries\n",
    "result_stats = {model: {\"correct\": 0, \"total\": 0} for model in model_names}\n",
    "\n",
    "# Loop through each model's filtered results and update stats\n",
    "for model in model_names:\n",
    "    for record in model_filtered_results[model]:\n",
    "        if record[\"forward_comparison\"] == \"2\" and record[\"backward_comparison\"] == \"1\":\n",
    "            result_stats[model][\"correct\"] += 1\n",
    "        result_stats[model][\"total\"] += 1\n",
    "\n",
    "\n",
    "# Create DataFrame to display results\n",
    "results_df = pd.DataFrame([\n",
    "    {\n",
    "        \"Model\": model,\n",
    "        \"Correct\": stats[\"correct\"],\n",
    "        \"Total\": stats[\"total\"],\n",
    "        \"Accuracy (%)\": f\"{(stats['correct'] / stats['total'] * 100):.2f}%\" if stats[\"total\"] > 0 else \"N/A\"\n",
    "    }\n",
    "    for model, stats in result_stats.items()\n",
    "])\n",
    "\n",
    "print(\"\\nEvaluator Accuracy Results\")\n",
    "# Display the table\n",
    "print(tabulate(results_df, headers=\"keys\", tablefmt=\"grid\"))"
   ]
  },
  {
   "cell_type": "markdown",
   "metadata": {},
   "source": [
    "### Synonym"
   ]
  },
  {
   "cell_type": "code",
   "execution_count": 23,
   "metadata": {},
   "outputs": [],
   "source": [
    "with open('.\\quality\\perturb2_meta_self_pref_quality.json', 'r') as file:\n",
    "    perturb2_meta_preference_results = json.load(file)"
   ]
  },
  {
   "cell_type": "code",
   "execution_count": null,
   "metadata": {},
   "outputs": [],
   "source": [
    "# Define model names\n",
    "model_names = [\"DeepSeek-V3\", \"Meta-Llama-3.1-8B-Instruct-Turbo\", \"Qwen2.5-7B-Instruct-Turbo\"]\n",
    "\n",
    "# Create a set of (evaluator, pid) pairs from preference_results\n",
    "eval_pid_pairs = {(rec[\"evaluator\"], rec[\"pid\"]) for rec in perturb2_meta_preference_results}\n",
    "\n",
    "# Create model-specific lists\n",
    "model_filtered_results = {model: [] for model in model_names}\n",
    "\n",
    "# Filter records where judge_model and pid match those in perturb2_meta_preference_results\n",
    "for record in pref_results_third_party_eval_perturb2:\n",
    "    key = (record[\"judge_model\"], record[\"pid\"])\n",
    "    if key in eval_pid_pairs:\n",
    "        model_filtered_results[record[\"judge_model\"]].append(record)\n",
    "\n",
    "model_filtered_results"
   ]
  },
  {
   "cell_type": "code",
   "execution_count": 28,
   "metadata": {},
   "outputs": [
    {
     "name": "stdout",
     "output_type": "stream",
     "text": [
      "\n",
      "Evaluator Accuracy Results\n",
      "+----+----------------------------------+-----------+---------+----------------+\n",
      "|    | Model                            |   Correct |   Total | Accuracy (%)   |\n",
      "+====+==================================+===========+=========+================+\n",
      "|  0 | DeepSeek-V3                      |       118 |     190 | 62.11%         |\n",
      "+----+----------------------------------+-----------+---------+----------------+\n",
      "|  1 | Meta-Llama-3.1-8B-Instruct-Turbo |       220 |     488 | 45.08%         |\n",
      "+----+----------------------------------+-----------+---------+----------------+\n",
      "|  2 | Qwen2.5-7B-Instruct-Turbo        |       364 |     494 | 73.68%         |\n",
      "+----+----------------------------------+-----------+---------+----------------+\n"
     ]
    }
   ],
   "source": [
    "# Define model names\n",
    "model_names = [\"DeepSeek-V3\", \"Meta-Llama-3.1-8B-Instruct-Turbo\", \"Qwen2.5-7B-Instruct-Turbo\"]\n",
    "\n",
    "# Initialize tracking dictionaries\n",
    "result_stats = {model: {\"correct\": 0, \"total\": 0} for model in model_names}\n",
    "\n",
    "# Loop through each model's filtered results and update stats\n",
    "for model in model_names:\n",
    "    for record in model_filtered_results[model]:\n",
    "        if record[\"forward_comparison\"] == \"2\" and record[\"backward_comparison\"] == \"1\":\n",
    "            result_stats[model][\"correct\"] += 1\n",
    "        result_stats[model][\"total\"] += 1\n",
    "\n",
    "\n",
    "# Create DataFrame to display results\n",
    "results_df = pd.DataFrame([\n",
    "    {\n",
    "        \"Model\": model,\n",
    "        \"Correct\": stats[\"correct\"],\n",
    "        \"Total\": stats[\"total\"],\n",
    "        \"Accuracy (%)\": f\"{(stats['correct'] / stats['total'] * 100):.2f}%\" if stats[\"total\"] > 0 else \"N/A\"\n",
    "    }\n",
    "    for model, stats in result_stats.items()\n",
    "])\n",
    "\n",
    "print(\"\\nEvaluator Accuracy Results\")\n",
    "# Display the table\n",
    "print(tabulate(results_df, headers=\"keys\", tablefmt=\"grid\"))"
   ]
  },
  {
   "cell_type": "markdown",
   "metadata": {},
   "source": [
    "### Paraphrasing"
   ]
  },
  {
   "cell_type": "code",
   "execution_count": null,
   "metadata": {},
   "outputs": [],
   "source": [
    "# Define model names\n",
    "model_names = [\"DeepSeek-V3\", \"Meta-Llama-3.1-8B-Instruct-Turbo\", \"Qwen2.5-7B-Instruct-Turbo\"]\n",
    "\n",
    "# Create a set of (evaluator, pid) pairs from preference_results\n",
    "eval_pid_pairs = {(rec[\"evaluator\"], rec[\"pid\"]) for rec in perturb2_meta_preference_results}\n",
    "\n",
    "# Create model-specific lists\n",
    "model_filtered_results = {model: [] for model in model_names}\n",
    "\n",
    "# Filter records where judge_model and pid match those in perturb2_meta_preference_results\n",
    "for record in pref_results_third_party_eval_paraphrase:\n",
    "    key = (record[\"judge_model\"], record[\"pid\"])\n",
    "    if key in eval_pid_pairs:\n",
    "        model_filtered_results[record[\"judge_model\"]].append(record)\n",
    "\n",
    "model_filtered_results"
   ]
  },
  {
   "cell_type": "code",
   "execution_count": 31,
   "metadata": {},
   "outputs": [
    {
     "name": "stdout",
     "output_type": "stream",
     "text": [
      "\n",
      "Evaluator Accuracy Results\n",
      "+----+----------------------------------+-----------+---------+----------------+\n",
      "|    | Model                            |   Correct |   Total | Accuracy (%)   |\n",
      "+====+==================================+===========+=========+================+\n",
      "|  0 | DeepSeek-V3                      |        98 |     190 | 51.58%         |\n",
      "+----+----------------------------------+-----------+---------+----------------+\n",
      "|  1 | Meta-Llama-3.1-8B-Instruct-Turbo |       136 |     488 | 27.87%         |\n",
      "+----+----------------------------------+-----------+---------+----------------+\n",
      "|  2 | Qwen2.5-7B-Instruct-Turbo        |       229 |     494 | 46.36%         |\n",
      "+----+----------------------------------+-----------+---------+----------------+\n"
     ]
    }
   ],
   "source": [
    "# Define model names\n",
    "model_names = [\"DeepSeek-V3\", \"Meta-Llama-3.1-8B-Instruct-Turbo\", \"Qwen2.5-7B-Instruct-Turbo\"]\n",
    "\n",
    "# Initialize tracking dictionaries\n",
    "result_stats = {model: {\"correct\": 0, \"total\": 0} for model in model_names}\n",
    "\n",
    "# Loop through each model's filtered results and update stats\n",
    "for model in model_names:\n",
    "    for record in model_filtered_results[model]:\n",
    "        if record[\"forward_comparison\"] == \"2\" and record[\"backward_comparison\"] == \"1\":\n",
    "            result_stats[model][\"correct\"] += 1\n",
    "        result_stats[model][\"total\"] += 1\n",
    "\n",
    "\n",
    "# Create DataFrame to display results\n",
    "results_df = pd.DataFrame([\n",
    "    {\n",
    "        \"Model\": model,\n",
    "        \"Correct\": stats[\"correct\"],\n",
    "        \"Total\": stats[\"total\"],\n",
    "        \"Accuracy (%)\": f\"{(stats['correct'] / stats['total'] * 100):.2f}%\" if stats[\"total\"] > 0 else \"N/A\"\n",
    "    }\n",
    "    for model, stats in result_stats.items()\n",
    "])\n",
    "\n",
    "print(\"\\nEvaluator Accuracy Results\")\n",
    "# Display the table\n",
    "print(tabulate(results_df, headers=\"keys\", tablefmt=\"grid\"))"
   ]
  },
  {
   "cell_type": "markdown",
   "metadata": {},
   "source": [
    "## Overall Global Judge Accuracy"
   ]
  },
  {
   "cell_type": "markdown",
   "metadata": {},
   "source": [
    "### Original"
   ]
  },
  {
   "cell_type": "code",
   "execution_count": 32,
   "metadata": {},
   "outputs": [],
   "source": [
    "# Load JSON file into a variable\n",
    "with open('.\\quality\\pref_results_third_party_eval_original_harmful.json', 'r') as file:\n",
    "    pref_results_third_party_eval_original_harmful = json.load(file)\n",
    "\n",
    "with open('.\\quality\\self_pref_quality.json', 'r') as file:\n",
    "    preference_results = json.load(file)\n",
    "\n",
    "with open('.\\quality\\pref_other_wrong_quality.json', 'r') as file:\n",
    "    preference_results_other_wrong = json.load(file)"
   ]
  },
  {
   "cell_type": "code",
   "execution_count": 33,
   "metadata": {},
   "outputs": [
    {
     "name": "stdout",
     "output_type": "stream",
     "text": [
      "\n",
      "Evaluator Accuracy Results\n",
      "+----+----------------------------------+-----------+---------+----------------+\n",
      "|    | Model                            |   Correct |   Total | Accuracy (%)   |\n",
      "+====+==================================+===========+=========+================+\n",
      "|  0 | Qwen2.5-7B-Instruct-Turbo        |      1358 |    2353 | 57.71%         |\n",
      "+----+----------------------------------+-----------+---------+----------------+\n",
      "|  1 | Meta-Llama-3.1-8B-Instruct-Turbo |       737 |    2353 | 31.32%         |\n",
      "+----+----------------------------------+-----------+---------+----------------+\n",
      "|  2 | DeepSeek-V3                      |      1936 |    2353 | 82.28%         |\n",
      "+----+----------------------------------+-----------+---------+----------------+\n"
     ]
    }
   ],
   "source": [
    "# Model list\n",
    "model_names = [\"Qwen2.5-7B-Instruct-Turbo\", \"Meta-Llama-3.1-8B-Instruct-Turbo\", \"DeepSeek-V3\"]\n",
    "\n",
    "# Initialize tracking dictionaries\n",
    "result_stats = {model: {\"correct\": 0, \"total\": 0} for model in model_names}\n",
    "\n",
    "# Process preference_results\n",
    "for record in preference_results:\n",
    "    model = record[\"evaluator\"]\n",
    "    if model in result_stats:\n",
    "        result_stats[model][\"total\"] += 1\n",
    "        if record[\"forward_comparison\"] == \"2\" and record[\"backward_comparison\"] == \"1\":\n",
    "            result_stats[model][\"correct\"] += 1\n",
    "\n",
    "# Process preference_results_other_wrong\n",
    "for record in preference_results_other_wrong:\n",
    "    model = record[\"evaluator\"]\n",
    "    if model in result_stats:\n",
    "        result_stats[model][\"total\"] += 1\n",
    "        if record[\"forward_comparison\"] == \"1\" and record[\"backward_comparison\"] == \"2\":\n",
    "            result_stats[model][\"correct\"] += 1\n",
    "\n",
    "\n",
    "# Process preference_results\n",
    "for record in pref_results_third_party_eval_original_harmful:\n",
    "    model = record[\"judge_model\"]\n",
    "    if model in result_stats:\n",
    "        result_stats[model][\"total\"] += 1\n",
    "        if record[\"forward_comparison\"] == \"2\" and record[\"backward_comparison\"] == \"1\":\n",
    "            result_stats[model][\"correct\"] += 1\n",
    "\n",
    "\n",
    "# Create DataFrame to display results\n",
    "results_df = pd.DataFrame([\n",
    "    {\n",
    "        \"Model\": model,\n",
    "        \"Correct\": stats[\"correct\"],\n",
    "        \"Total\": stats[\"total\"],\n",
    "        \"Accuracy (%)\": f\"{(stats['correct'] / stats['total'] * 100):.2f}%\" if stats[\"total\"] > 0 else \"N/A\"\n",
    "    }\n",
    "    for model, stats in result_stats.items()\n",
    "])\n",
    "\n",
    "print(\"\\nEvaluator Accuracy Results\")\n",
    "# Display the table\n",
    "print(tabulate(results_df, headers=\"keys\", tablefmt=\"grid\"))"
   ]
  },
  {
   "cell_type": "markdown",
   "metadata": {},
   "source": [
    "### Synonym"
   ]
  },
  {
   "cell_type": "code",
   "execution_count": 35,
   "metadata": {},
   "outputs": [],
   "source": [
    "# Load JSON file into a variable\n",
    "with open('.\\quality\\pref_results_third_party_eval_perturb2.json', 'r') as file:\n",
    "    pref_results_third_party_eval_perturb2 = json.load(file)\n",
    "    \n",
    "with open('.\\quality\\perturb2_meta_self_pref_quality.json', 'r') as file:\n",
    "    perturb2_meta_preference_results = json.load(file)\n",
    "\n",
    "with open('.\\quality\\perturb2_meta_self_pref_quality_other_wrong.json', 'r') as file:\n",
    "    perturb2_meta_preference_results_other_wrong = json.load(file)"
   ]
  },
  {
   "cell_type": "code",
   "execution_count": 37,
   "metadata": {},
   "outputs": [
    {
     "name": "stdout",
     "output_type": "stream",
     "text": [
      "\n",
      "Evaluator Accuracy Results Overall - 3rd Party Eval + Self Pref\n",
      "+----+----------------------------------+-----------+---------+----------------+\n",
      "|    | Model                            |   Correct |   Total | Accuracy (%)   |\n",
      "+====+==================================+===========+=========+================+\n",
      "|  0 | Qwen2.5-7B-Instruct-Turbo        |      1559 |    2353 | 66.26%         |\n",
      "+----+----------------------------------+-----------+---------+----------------+\n",
      "|  1 | Meta-Llama-3.1-8B-Instruct-Turbo |       938 |    2353 | 39.86%         |\n",
      "+----+----------------------------------+-----------+---------+----------------+\n",
      "|  2 | DeepSeek-V3                      |      1920 |    2353 | 81.60%         |\n",
      "+----+----------------------------------+-----------+---------+----------------+\n"
     ]
    }
   ],
   "source": [
    "# Model list\n",
    "model_names = [\"Qwen2.5-7B-Instruct-Turbo\", \"Meta-Llama-3.1-8B-Instruct-Turbo\", \"DeepSeek-V3\"]\n",
    "\n",
    "# Initialize tracking dictionaries\n",
    "result_stats = {model: {\"correct\": 0, \"total\": 0} for model in model_names}\n",
    "\n",
    "# Process preference_results\n",
    "for record in perturb2_meta_preference_results:\n",
    "    model = record[\"evaluator\"]\n",
    "    if model in result_stats:\n",
    "        result_stats[model][\"total\"] += 1\n",
    "        if record[\"forward_comparison\"] == \"2\" and record[\"backward_comparison\"] == \"1\":\n",
    "            result_stats[model][\"correct\"] += 1\n",
    "\n",
    "# Process preference_results_other_wrong\n",
    "for record in perturb2_meta_preference_results_other_wrong:\n",
    "    model = record[\"evaluator\"]\n",
    "    if model in result_stats:\n",
    "        result_stats[model][\"total\"] += 1\n",
    "        if record[\"forward_comparison\"] == \"1\" and record[\"backward_comparison\"] == \"2\":\n",
    "            result_stats[model][\"correct\"] += 1\n",
    "\n",
    "\n",
    "# Process 3rd party eval results\n",
    "for record in pref_results_third_party_eval_perturb2:\n",
    "    model = record[\"judge_model\"]\n",
    "    if model in result_stats:\n",
    "        result_stats[model][\"total\"] += 1\n",
    "        if record[\"forward_comparison\"] == \"2\" and record[\"backward_comparison\"] == \"1\":\n",
    "            result_stats[model][\"correct\"] += 1\n",
    "\n",
    "\n",
    "# Create DataFrame to display results\n",
    "results_df = pd.DataFrame([\n",
    "    {\n",
    "        \"Model\": model,\n",
    "        \"Correct\": stats[\"correct\"],\n",
    "        \"Total\": stats[\"total\"],\n",
    "        \"Accuracy (%)\": f\"{(stats['correct'] / stats['total'] * 100):.2f}%\" if stats[\"total\"] > 0 else \"N/A\"\n",
    "    }\n",
    "    for model, stats in result_stats.items()\n",
    "])\n",
    "\n",
    "print(\"\\nEvaluator Accuracy Results Overall - 3rd Party Eval + Self Pref\")\n",
    "# Display the table\n",
    "print(tabulate(results_df, headers=\"keys\", tablefmt=\"grid\"))"
   ]
  },
  {
   "cell_type": "markdown",
   "metadata": {},
   "source": [
    "### Paraphrase"
   ]
  },
  {
   "cell_type": "code",
   "execution_count": 38,
   "metadata": {},
   "outputs": [],
   "source": [
    "# Load JSON file into a variable\n",
    "with open('.\\quality\\pref_results_third_party_eval_paraphrase.json', 'r') as file:\n",
    "    pref_results_third_party_eval_paraphrase = json.load(file)\n",
    "# Load JSON file into a variable\n",
    "with open('.\\quality\\paraphrase_other_by_eval_preference_results.json', 'r') as file:\n",
    "    paraphrase_other_by_eval_preference_results = json.load(file)\n",
    "\n",
    "with open('.\\quality\\paraphrase_other_by_eval_preference_results_other_wrong.json', 'r') as file:\n",
    "    paraphrase_other_by_eval_preference_results_other_wrong = json.load(file)"
   ]
  },
  {
   "cell_type": "code",
   "execution_count": 39,
   "metadata": {},
   "outputs": [
    {
     "name": "stdout",
     "output_type": "stream",
     "text": [
      "\n",
      "Evaluator Accuracy Results Overall Paraphrasing- 3rd Party Eval + Self Pref\n",
      "+----+----------------------------------+-----------+---------+----------------+\n",
      "|    | Model                            |   Correct |   Total | Accuracy (%)   |\n",
      "+====+==================================+===========+=========+================+\n",
      "|  0 | Qwen2.5-7B-Instruct-Turbo        |      1198 |    2353 | 50.91%         |\n",
      "+----+----------------------------------+-----------+---------+----------------+\n",
      "|  1 | Meta-Llama-3.1-8B-Instruct-Turbo |       508 |    2353 | 21.59%         |\n",
      "+----+----------------------------------+-----------+---------+----------------+\n",
      "|  2 | DeepSeek-V3                      |      1907 |    2353 | 81.05%         |\n",
      "+----+----------------------------------+-----------+---------+----------------+\n"
     ]
    }
   ],
   "source": [
    "# Model list\n",
    "model_names = [\"Qwen2.5-7B-Instruct-Turbo\", \"Meta-Llama-3.1-8B-Instruct-Turbo\", \"DeepSeek-V3\"]\n",
    "\n",
    "# Initialize tracking dictionaries\n",
    "result_stats = {model: {\"correct\": 0, \"total\": 0} for model in model_names}\n",
    "\n",
    "# Process preference_results\n",
    "for record in paraphrase_other_by_eval_preference_results:\n",
    "    model = record[\"evaluator\"]\n",
    "    if model in result_stats:\n",
    "        result_stats[model][\"total\"] += 1\n",
    "        if record[\"forward_comparison\"] == \"2\" and record[\"backward_comparison\"] == \"1\":\n",
    "            result_stats[model][\"correct\"] += 1\n",
    "\n",
    "# Process preference_results_other_wrong\n",
    "for record in paraphrase_other_by_eval_preference_results_other_wrong:\n",
    "    model = record[\"evaluator\"]\n",
    "    if model in result_stats:\n",
    "        result_stats[model][\"total\"] += 1\n",
    "        if record[\"forward_comparison\"] == \"1\" and record[\"backward_comparison\"] == \"2\":\n",
    "            result_stats[model][\"correct\"] += 1\n",
    "\n",
    "\n",
    "# Process 3rd party eval results\n",
    "for record in pref_results_third_party_eval_paraphrase:\n",
    "    model = record[\"judge_model\"]\n",
    "    if model in result_stats:\n",
    "        result_stats[model][\"total\"] += 1\n",
    "        if record[\"forward_comparison\"] == \"2\" and record[\"backward_comparison\"] == \"1\":\n",
    "            result_stats[model][\"correct\"] += 1\n",
    "\n",
    "\n",
    "# Create DataFrame to display results\n",
    "results_df = pd.DataFrame([\n",
    "    {\n",
    "        \"Model\": model,\n",
    "        \"Correct\": stats[\"correct\"],\n",
    "        \"Total\": stats[\"total\"],\n",
    "        \"Accuracy (%)\": f\"{(stats['correct'] / stats['total'] * 100):.2f}%\" if stats[\"total\"] > 0 else \"N/A\"\n",
    "    }\n",
    "    for model, stats in result_stats.items()\n",
    "])\n",
    "\n",
    "print(\"\\nEvaluator Accuracy Results Overall Paraphrasing- 3rd Party Eval + Self Pref\")\n",
    "# Display the table\n",
    "print(tabulate(results_df, headers=\"keys\", tablefmt=\"grid\"))"
   ]
  },
  {
   "cell_type": "markdown",
   "metadata": {},
   "source": [
    "# Plots for MASC"
   ]
  },
  {
   "cell_type": "code",
   "execution_count": 113,
   "metadata": {},
   "outputs": [
    {
     "data": {
      "image/png": "[encoded data removed]",
      "text/plain": [
       "<Figure size 1000x600 with 1 Axes>"
      ]
     },
     "metadata": {},
     "output_type": "display_data"
    }
   ],
   "source": [
    "import matplotlib.pyplot as plt\n",
    "import numpy as np\n",
    "import pandas as pd\n",
    "\n",
    "# Data\n",
    "data = {\n",
    "    \"Evaluator Model\": [\n",
    "        \"Meta-Llama-3.1-8B\", \"Meta-Llama-3.1-8B\",\n",
    "        \"Qwen2.5-7B\", \"Qwen2.5-7B\",\n",
    "        \"DeepSeek-V3\", \"DeepSeek-V3\"\n",
    "    ],\n",
    "    \"Competitor Model\": [\n",
    "        \"DeepSeek-V3\", \"Qwen2.5-7B\",\n",
    "        \"DeepSeek-V3\", \"Meta-Llama-3.1-8B\",\n",
    "        \"Meta-Llama-3.1-8B\", \"Qwen2.5-7B\"\n",
    "    ],\n",
    "    \"Winning Percentage Ground Truth\": [14.70, 30.68, 14.05, 39.27, 68.72, 59.29],\n",
    "    \"Winning Percentage Evaluator\": [30.81, 46.46, 29.72, 53.54, 69.19, 70.28]\n",
    "}\n",
    "\n",
    "df = pd.DataFrame(data)\n",
    "\n",
    "# Define x-axis positions\n",
    "evaluators = df[\"Evaluator Model\"].unique()\n",
    "x_labels = [f\"{eval_model}\\n{comp_model}\" for eval_model, comp_model in zip(df[\"Evaluator Model\"], df[\"Competitor Model\"])]\n",
    "x_positions = np.arange(len(x_labels))\n",
    "\n",
    "# Bar width\n",
    "bar_width = 0.6\n",
    "\n",
    "# Create figure\n",
    "fig, ax = plt.subplots(figsize=(10, 6))\n",
    "\n",
    "# Plot ground truth percentages\n",
    "bars_ground = ax.bar(\n",
    "    x_positions, df[\"Winning Percentage Ground Truth\"], bar_width, label=\"Winning % Ground Truth\", color='forestgreen'\n",
    ")\n",
    "\n",
    "# Plot inflation as dashed-line bar (difference between Evaluator and Ground Truth)\n",
    "inflation = df[\"Winning Percentage Evaluator\"] - df[\"Winning Percentage Ground Truth\"]\n",
    "bars_eval = ax.bar(\n",
    "    x_positions, inflation, bar_width, bottom=df[\"Winning Percentage Ground Truth\"],\n",
    "    label=\"Inflation (Evaluator - Ground Truth)\", hatch='//', edgecolor='black', facecolor='none'\n",
    ")\n",
    "\n",
    "# Labels and formatting\n",
    "ax.set_xlabel(\"Evaluator & Competitor Model\", fontsize=12)\n",
    "ax.set_ylabel(\"Winning Percentage (%)\", fontsize=12)\n",
    "ax.set_title(\"Comparison of Winning Percentages Between Evaluator and Ground Truth\", fontsize=14, fontweight='bold')\n",
    "ax.set_xticks(x_positions)\n",
    "ax.set_xticklabels(x_labels, rotation=30, ha=\"right\")\n",
    "ax.legend()\n",
    "\n",
    "# Grid lines for readability\n",
    "ax.yaxis.grid(True, linestyle='--', alpha=0.7)\n",
    "\n",
    "# Show plot\n",
    "plt.tight_layout()\n",
    "plt.show()\n"
   ]
  },
  {
   "cell_type": "code",
   "execution_count": 114,
   "metadata": {},
   "outputs": [
    {
     "data": {
      "image/png": "[encoded data removed]",
      "text/plain": [
       "<Figure size 1200x600 with 2 Axes>"
      ]
     },
     "metadata": {},
     "output_type": "display_data"
    }
   ],
   "source": [
    "# Re-import necessary libraries since execution state was reset\n",
    "import matplotlib.pyplot as plt\n",
    "import numpy as np\n",
    "\n",
    "# Data for both subplots\n",
    "\n",
    "# Evaluator Correct, Competitors Wrong (Left subplot)\n",
    "data_correct = {\n",
    "    \"Model\": [\"DeepSeek-V3\", \"Meta-Llama-3.1-8B\", \"Qwen2.5-7B\"],\n",
    "    \"Original\": {\"Prefer Itself\": [95.71, 11.89, 49.82], \"Prefer Competitor\": [1.20, 11.46, 18.66]},\n",
    "    \"Token-Replacement\": {\"Prefer Itself\": [88.8, 10.62, 39.31], \"Prefer Competitor\": [3.68, 15.07, 31.16]},\n",
    "    \"Paraphrasing\": {\"Prefer Itself\": [96.92, 15.07, 59.06], \"Prefer Competitor\": [0.83, 3.61, 15.76]}\n",
    "}\n",
    "\n",
    "# Evaluator Wrong, Competitors Correct (Right subplot)\n",
    "data_wrong = {\n",
    "    \"Model\": [\"DeepSeek-V3\", \"Meta-Llama-3.1-8B\", \"Qwen2.5-7B\"],\n",
    "    \"Original\": {\"Prefer Itself\": [36.45, 3.39, 12.10], \"Prefer Competitor\": [39.80, 37.68, 57.28]},\n",
    "    \"Token-Replacement\": {\"Prefer Itself\": [25.42, 2.50, 7.17], \"Prefer Competitor\": [51.84, 48.48, 73.02]},\n",
    "    \"Paraphrasing\": {\"Prefer Itself\": [37.46, 5.36, 16.38], \"Prefer Competitor\": [34.45, 20.71, 46.79]}\n",
    "}\n",
    "\n",
    "# Setup figure and subplots\n",
    "fig, axes = plt.subplots(1, 2, figsize=(12, 6), sharey=True)\n",
    "\n",
    "# Common properties\n",
    "bar_width = 0.25\n",
    "x_labels = data_correct[\"Model\"]\n",
    "x_positions = np.arange(len(x_labels))\n",
    "\n",
    "# Function to plot grouped bars with above/below axis values\n",
    "def plot_bars(ax, data, title):\n",
    "    # Iterate over transformations (Original, Token-Replacement, Paraphrasing)\n",
    "    for i, (transformation, values) in enumerate(data.items()):\n",
    "        if transformation == \"Model\":\n",
    "            continue\n",
    "\n",
    "        # Plot positive (Prefer Itself)\n",
    "        ax.bar(\n",
    "            x_positions + i * bar_width - bar_width, values[\"Prefer Itself\"], \n",
    "            bar_width, label=f\"{transformation} - Prefer Itself\", alpha=0.8\n",
    "        )\n",
    "\n",
    "        # Plot negative (Prefer Competitor)\n",
    "        ax.bar(\n",
    "            x_positions + i * bar_width - bar_width, [-val for val in values[\"Prefer Competitor\"]], \n",
    "            bar_width, label=f\"{transformation} - Prefer Competitor\", alpha=0.8\n",
    "        )\n",
    "\n",
    "    # Labels and formatting\n",
    "    ax.set_xticks(x_positions)\n",
    "    ax.set_xticklabels(x_labels, rotation=20, ha=\"right\")\n",
    "    ax.axhline(0, color='black', linewidth=1)  # Add baseline at 0\n",
    "    ax.set_title(title, fontsize=12, fontweight='bold')\n",
    "\n",
    "# Plot both subplots\n",
    "plot_bars(axes[0], data_correct, \"Evaluator Correct, Competitors Wrong\")\n",
    "plot_bars(axes[1], data_wrong, \"Evaluator Wrong, Competitors Correct\")\n",
    "\n",
    "# General formatting\n",
    "fig.suptitle(\"Comparison of Preference Outcomes\", fontsize=14, fontweight='bold')\n",
    "axes[0].set_ylabel(\"Preference Percentage (%)\", fontsize=12)\n",
    "fig.legend(loc=\"upper center\", bbox_to_anchor=(0.5, -0.05), ncol=3)\n",
    "\n",
    "# Show plot\n",
    "plt.tight_layout(rect=[0, 0.1, 1, 0.95])\n",
    "plt.show()\n"
   ]
  },
  {
   "cell_type": "code",
   "execution_count": 122,
   "metadata": {},
   "outputs": [
    {
     "data": {
      "image/png": "[encoded data removed]",
      "text/plain": [
       "<Figure size 1200x600 with 2 Axes>"
      ]
     },
     "metadata": {},
     "output_type": "display_data"
    }
   ],
   "source": [
    "# Re-create the figure and subplots\n",
    "fig, axes = plt.subplots(1, 2, figsize=(12, 6), sharey=True)\n",
    "\n",
    "# Define colors for transformations\n",
    "colors = {\n",
    "    \"Original\": \"royalblue\",\n",
    "    \"Token-Replacement\": \"darkorange\",\n",
    "    \"Paraphrasing\": \"seagreen\"\n",
    "}\n",
    "\n",
    "# Function to plot grouped bars with above/below axis values (same color for each pair)\n",
    "def plot_bars(ax, data, title):\n",
    "    bars = []\n",
    "    labels = []\n",
    "\n",
    "    # Iterate over transformations (Original, Token-Replacement, Paraphrasing)\n",
    "    for i, (transformation, values) in enumerate(data.items()):\n",
    "        if transformation == \"Model\":\n",
    "            continue\n",
    "\n",
    "        color = colors[transformation]\n",
    "\n",
    "        # Plot positive (Prefer Itself)\n",
    "        bars.append(ax.bar(\n",
    "            x_positions + i * bar_width - bar_width, values[\"Prefer Itself\"], \n",
    "            bar_width, color=color\n",
    "        ))\n",
    "        labels.append(transformation)\n",
    "\n",
    "        # Plot negative (Prefer Competitor)\n",
    "        ax.bar(\n",
    "            x_positions + i * bar_width - bar_width, [-val for val in values[\"Prefer Competitor\"]], \n",
    "            bar_width, color=color\n",
    "        )\n",
    "\n",
    "    # Labels and formatting\n",
    "    ax.set_xticks(x_positions)\n",
    "    ax.set_xticklabels(x_labels, rotation=20, ha=\"right\")\n",
    "    ax.axhline(0, color='black', linewidth=1)  # Add baseline at 0\n",
    "    ax.set_title(title, fontsize=12, fontweight='bold')\n",
    "\n",
    "    return bars, labels\n",
    "\n",
    "# Plot both subplots\n",
    "bars_correct, labels_correct = plot_bars(axes[0], data_correct, \"Evaluator Correct, Competitors Wrong\")\n",
    "bars_wrong, labels_wrong = plot_bars(axes[1], data_wrong, \"Evaluator Wrong, Competitors Correct\")\n",
    "\n",
    "# General formatting\n",
    "fig.suptitle(\"Comparison of Preference Outcomes\", fontsize=14, fontweight='bold')\n",
    "axes[0].set_ylabel(\"Preference Percentage (%)\", fontsize=12)\n",
    "\n",
    "# Create a single legend\n",
    "fig.legend(bars_correct, labels_correct, loc=\"upper center\", bbox_to_anchor=(0.5, -0.05), ncol=3)\n",
    "\n",
    "# Show plot\n",
    "plt.tight_layout(rect=[0, 0.1, 1, 0.95])\n",
    "plt.show()\n"
   ]
  },
  {
   "cell_type": "code",
   "execution_count": 119,
   "metadata": {},
   "outputs": [
    {
     "data": {
      "image/png": "[encoded data removed]",
      "text/plain": [
       "<Figure size 1200x600 with 2 Axes>"
      ]
     },
     "metadata": {},
     "output_type": "display_data"
    }
   ],
   "source": [
    "# Re-create the figure and subplots\n",
    "fig, axes = plt.subplots(1, 2, figsize=(12, 6), sharey=True)\n",
    "\n",
    "# Define colors for transformations\n",
    "colors = {\n",
    "    \"Original\": \"royalblue\",\n",
    "    \"Token-Replacement\": \"darkorange\",\n",
    "    \"Paraphrasing\": \"seagreen\"\n",
    "}\n",
    "\n",
    "# Function to plot grouped bars with above/below axis values (same color for each pair)\n",
    "def plot_bars(ax, data, title, highlight_above=True):\n",
    "    bars = []\n",
    "    labels = []\n",
    "\n",
    "    # Apply background shading\n",
    "    ax.axhspan(0, 100, facecolor='lightgreen', alpha=0.2) if highlight_above else ax.axhspan(-100, 0, facecolor='lightgreen', alpha=0.2)\n",
    "\n",
    "    # Iterate over transformations (Original, Token-Replacement, Paraphrasing)\n",
    "    for i, (transformation, values) in enumerate(data.items()):\n",
    "        if transformation == \"Model\":\n",
    "            continue\n",
    "\n",
    "        color = colors[transformation]\n",
    "\n",
    "        # Plot positive (Prefer Itself)\n",
    "        bars.append(ax.bar(\n",
    "            x_positions + i * bar_width - bar_width, values[\"Prefer Itself\"], \n",
    "            bar_width, color=color\n",
    "        ))\n",
    "        labels.append(transformation)\n",
    "\n",
    "        # Plot negative (Prefer Competitor)\n",
    "        ax.bar(\n",
    "            x_positions + i * bar_width - bar_width, [-val for val in values[\"Prefer Competitor\"]], \n",
    "            bar_width, color=color\n",
    "        )\n",
    "\n",
    "    # Labels and formatting\n",
    "    ax.set_xticks(x_positions)\n",
    "    ax.set_xticklabels(x_labels, rotation=20, ha=\"right\")\n",
    "    ax.axhline(0, color='black', linewidth=1)  # Add baseline at 0\n",
    "    ax.set_title(title, fontsize=12, fontweight='bold')\n",
    "\n",
    "    return bars, labels\n",
    "\n",
    "# Plot both subplots with respective background shading\n",
    "bars_correct, labels_correct = plot_bars(axes[0], data_correct, \"Evaluator Correct, Competitors Wrong\", highlight_above=True)\n",
    "bars_wrong, labels_wrong = plot_bars(axes[1], data_wrong, \"Evaluator Wrong, Competitors Correct\", highlight_above=False)\n",
    "\n",
    "# General formatting\n",
    "fig.suptitle(\"Comparison of Preference Outcomes\", fontsize=14, fontweight='bold')\n",
    "axes[0].set_ylabel(\"Preference Percentage (%)\", fontsize=12)\n",
    "\n",
    "# Create a single legend\n",
    "fig.legend(bars_correct, labels_correct, loc=\"upper center\", bbox_to_anchor=(0.5, -0.05), ncol=3)\n",
    "\n",
    "# Show plot\n",
    "plt.tight_layout(rect=[0, 0.1, 1, 0.95])\n",
    "plt.show()\n"
   ]
  },
  {
   "cell_type": "code",
   "execution_count": 120,
   "metadata": {},
   "outputs": [
    {
     "data": {
      "image/png": "[encoded data removed]",
      "text/plain": [
       "<Figure size 1200x600 with 2 Axes>"
      ]
     },
     "metadata": {},
     "output_type": "display_data"
    }
   ],
   "source": [
    "# Data for Recognition\n",
    "\n",
    "# Evaluator Correct, Competitors Wrong (Left subplot)\n",
    "data_correct_recognition = {\n",
    "    \"Model\": [\"DeepSeek-V3\", \"Meta-Llama-3.1-8B\", \"Qwen2.5-7B\"],\n",
    "    \"Original\": {\"Recognize Itself\": [93.83, 12.53, 40.22], \"Recognize Competitor as Itself\": [1.43, 12.10, 17.39]},\n",
    "    \"Token-Replacement\": {\"Recognize Itself\": [82.26, 11.68, 24.64], \"Recognize Competitor as Itself\": [4.29, 19.32, 27.54]},\n",
    "    \"Paraphrasing\": {\"Recognize Itself\": [93.98, 15.92, 52.90], \"Recognize Competitor as Itself\": [1.13, 8.92, 10.51]}\n",
    "}\n",
    "\n",
    "# Evaluator Wrong, Competitors Correct (Right subplot)\n",
    "data_wrong_recognition = {\n",
    "    \"Model\": [\"DeepSeek-V3\", \"Meta-Llama-3.1-8B\", \"Qwen2.5-7B\"],\n",
    "    \"Original\": {\"Recognize Itself\": [31.44, 3.84, 10.28], \"Recognize Competitor as Itself\": [31.77, 31.79, 45.29]},\n",
    "    \"Token-Replacement\": {\"Recognize Itself\": [27.42, 4.20, 12.31], \"Recognize Competitor as Itself\": [37.12, 31.79, 39.72]},\n",
    "    \"Paraphrasing\": {\"Recognize Itself\": [35.45, 5.98, 19.49], \"Recognize Competitor as Itself\": [34.11, 25.27, 29.44]}\n",
    "}\n",
    "\n",
    "# Setup figure and subplots\n",
    "fig, axes = plt.subplots(1, 2, figsize=(12, 6), sharey=True)\n",
    "\n",
    "# Function to plot grouped bars with above/below axis values (without background shading)\n",
    "def plot_recognition_bars(ax, data, title):\n",
    "    bars = []\n",
    "    labels = []\n",
    "\n",
    "    # Iterate over transformations (Original, Token-Replacement, Paraphrasing)\n",
    "    for i, (transformation, values) in enumerate(data.items()):\n",
    "        if transformation == \"Model\":\n",
    "            continue\n",
    "\n",
    "        color = colors[transformation]\n",
    "\n",
    "        # Plot positive (Recognize Itself)\n",
    "        bars.append(ax.bar(\n",
    "            x_positions + i * bar_width - bar_width, values[\"Recognize Itself\"], \n",
    "            bar_width, color=color\n",
    "        ))\n",
    "        labels.append(transformation)\n",
    "\n",
    "        # Plot negative (Recognize Competitor as Itself)\n",
    "        ax.bar(\n",
    "            x_positions + i * bar_width - bar_width, [-val for val in values[\"Recognize Competitor as Itself\"]], \n",
    "            bar_width, color=color\n",
    "        )\n",
    "\n",
    "    # Labels and formatting\n",
    "    ax.set_xticks(x_positions)\n",
    "    ax.set_xticklabels(x_labels, rotation=20, ha=\"right\")\n",
    "    ax.axhline(0, color='black', linewidth=1)  # Add baseline at 0\n",
    "    ax.set_title(title, fontsize=12, fontweight='bold')\n",
    "\n",
    "    return bars, labels\n",
    "\n",
    "# Plot both subplots for recognition\n",
    "bars_correct_recognition, labels_correct_recognition = plot_recognition_bars(\n",
    "    axes[0], data_correct_recognition, \"Evaluator Correct, Competitors Wrong (Recognition)\"\n",
    ")\n",
    "bars_wrong_recognition, labels_wrong_recognition = plot_recognition_bars(\n",
    "    axes[1], data_wrong_recognition, \"Evaluator Wrong, Competitors Correct (Recognition)\"\n",
    ")\n",
    "\n",
    "# General formatting\n",
    "fig.suptitle(\"Comparison of Recognition Outcomes\", fontsize=14, fontweight='bold')\n",
    "axes[0].set_ylabel(\"Recognition Percentage (%)\", fontsize=12)\n",
    "\n",
    "# Create a single legend\n",
    "fig.legend(bars_correct_recognition, labels_correct_recognition, loc=\"upper center\", bbox_to_anchor=(0.5, -0.05), ncol=3)\n",
    "\n",
    "# Show plot\n",
    "plt.tight_layout(rect=[0, 0.1, 1, 0.95])\n",
    "plt.show()\n"
   ]
  },
  {
   "cell_type": "markdown",
   "metadata": {},
   "source": [
    "# No Context Plots"
   ]
  },
  {
   "cell_type": "code",
   "execution_count": 23,
   "metadata": {},
   "outputs": [
    {
     "data": {
      "image/png": "[encoded data removed]",
      "text/plain": [
       "<Figure size 1200x600 with 2 Axes>"
      ]
     },
     "metadata": {},
     "output_type": "display_data"
    }
   ],
   "source": [
    "# Re-import necessary libraries after environment reset\n",
    "import matplotlib.pyplot as plt\n",
    "import numpy as np\n",
    "\n",
    "# Re-define the dataset after reset\n",
    "data_correct_pref = {\n",
    "    \"Model\": [\"DeepSeek-V3\", \"Meta-Llama-3.1-8B\", \"Qwen2.5-7B\"],\n",
    "    \"Original\": {\"Prefer Itself\": [82.86, 24.42, 46.74], \"Prefer Competitor\": [7.29, 21.02, 22.64]},\n",
    "    \"Token-Replacement\": {\"Prefer Itself\": [66.17, 17.83, 32.79], \"Prefer Competitor\": [16.32, 31.42, 39.86]},\n",
    "    \"Paraphrasing\": {\"Prefer Itself\": [64.88, 20.18, 32.76], \"Prefer Competitor\": [15.72, 22.68, 33.62]}\n",
    "}\n",
    "\n",
    "data_wrong_pref = {\n",
    "    \"Model\": [\"DeepSeek-V3\", \"Meta-Llama-3.1-8B\", \"Qwen2.5-7B\"],\n",
    "    \"Original\": {\"Prefer Itself\": [64.88, 11.96, 25.70], \"Prefer Competitor\": [18.73, 34.46, 42.72]},\n",
    "    \"Token-Replacement\": {\"Prefer Itself\": [49.16, 7.05, 17.02], \"Prefer Competitor\": [29.43, 46.43, 56.53]},\n",
    "    \"Paraphrasing\": {\"Prefer Itself\": [65.55, 20, 32.76], \"Prefer Competitor\": [16.05, 22.68, 33.62]}\n",
    "}\n",
    "\n",
    "# Setup figure and subplots\n",
    "fig, axes = plt.subplots(1, 2, figsize=(12, 6), sharey=True)\n",
    "\n",
    "# Colors\n",
    "colors = {\n",
    "    \"Original\": \"royalblue\",\n",
    "    \"Token-Replacement\": \"darkorange\",\n",
    "    \"Paraphrasing\": \"seagreen\"\n",
    "}\n",
    "\n",
    "# Shared positions\n",
    "x_labels = data_correct_pref[\"Model\"]\n",
    "x_positions = np.arange(len(x_labels))\n",
    "bar_width = 0.25\n",
    "\n",
    "# Plot function with quadrant shading\n",
    "def plot_pref_bars(ax, data, title, highlight_above=True):\n",
    "    bars = []\n",
    "    labels = []\n",
    "\n",
    "    # Background shading\n",
    "    ax.axhspan(0, 100, facecolor='lightgreen', alpha=0.2) if highlight_above else ax.axhspan(-100, 0, facecolor='lightgreen', alpha=0.2)\n",
    "\n",
    "    # Plot grouped bars\n",
    "    for i, (transformation, values) in enumerate(data.items()):\n",
    "        if transformation == \"Model\":\n",
    "            continue\n",
    "        color = colors[transformation]\n",
    "\n",
    "        # Positive bar (Prefer Itself)\n",
    "        bars.append(ax.bar(\n",
    "            x_positions + i * bar_width - bar_width, values[\"Prefer Itself\"],\n",
    "            bar_width, color=color\n",
    "        ))\n",
    "        labels.append(transformation)\n",
    "\n",
    "        # Negative bar (Prefer Competitor)\n",
    "        ax.bar(\n",
    "            x_positions + i * bar_width - bar_width, [-val for val in values[\"Prefer Competitor\"]],\n",
    "            bar_width, color=color\n",
    "        )\n",
    "\n",
    "    ax.set_xticks(x_positions)\n",
    "    ax.set_xticklabels(x_labels, rotation=20, ha=\"right\")\n",
    "    ax.axhline(0, color='black', linewidth=1)\n",
    "    ax.set_title(title, fontsize=12, fontweight='bold')\n",
    "    return bars, labels\n",
    "\n",
    "# Plotting both subplots\n",
    "bars_correct_pref, labels_correct_pref = plot_pref_bars(\n",
    "    axes[0], data_correct_pref, \"Evaluator Correct, Competitors Wrong (Preference)\", highlight_above=True\n",
    ")\n",
    "bars_wrong_pref, labels_wrong_pref = plot_pref_bars(\n",
    "    axes[1], data_wrong_pref, \"Evaluator Wrong, Competitors Correct (Preference)\", highlight_above=False\n",
    ")\n",
    "\n",
    "# Formatting\n",
    "fig.suptitle(\"No Context - Comparison of Preference Outcomes with Highlighted Quadrants\", fontsize=14, fontweight='bold')\n",
    "axes[0].set_ylabel(\"Preference Percentage (%)\", fontsize=12)\n",
    "\n",
    "# Create clean legend\n",
    "fig.legend(bars_correct_pref, labels_correct_pref, loc=\"upper center\", bbox_to_anchor=(0.5, -0.05), ncol=3)\n",
    "\n",
    "plt.tight_layout(rect=[0, 0.1, 1, 0.95])\n",
    "plt.show()\n"
   ]
  },
  {
   "cell_type": "code",
   "execution_count": null,
   "metadata": {},
   "outputs": [],
   "source": []
  }
 ],
 "metadata": {
  "kernelspec": {
   "display_name": "venv",
   "language": "python",
   "name": "python3"
  },
  "language_info": {
   "codemirror_mode": {
    "name": "ipython",
    "version": 3
   },
   "file_extension": ".py",
   "mimetype": "text/x-python",
   "name": "python",
   "nbconvert_exporter": "python",
   "pygments_lexer": "ipython3",
   "version": "3.11.9"
  }
 },
 "nbformat": 4,
 "nbformat_minor": 2
}
