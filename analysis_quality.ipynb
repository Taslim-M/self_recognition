{
 "cells": [
  {
   "cell_type": "code",
   "execution_count": 6,
   "metadata": {},
   "outputs": [],
   "source": [
    "import json\n",
    "import pandas as pd\n",
    "from tabulate import tabulate"
   ]
  },
  {
   "cell_type": "code",
   "execution_count": 7,
   "metadata": {},
   "outputs": [],
   "source": [
    "with open('.\\quality\\self_recog_quality.json', 'r') as file:\n",
    "    results = json.load(file)\n",
    "recog_results = results"
   ]
  },
  {
   "cell_type": "code",
   "execution_count": 11,
   "metadata": {},
   "outputs": [],
   "source": [
    "with open('.\\quality\\self_pref_quality.json', 'r') as file:\n",
    "    preference_results = json.load(file)"
   ]
  },
  {
   "cell_type": "code",
   "execution_count": null,
   "metadata": {},
   "outputs": [
    {
     "name": "stdout",
     "output_type": "stream",
     "text": [
      "+----+----------------------------------+----------------------------------+-------------------+----------------+\n",
      "|    | evaluator                        | evaluatee                        |   detection_score |   zapped_score |\n",
      "+====+==================================+==================================+===================+================+\n",
      "|  0 | DeepSeek-V3                      | Meta-Llama-3.1-8B-Instruct-Turbo |          0.914756 |              1 |\n",
      "+----+----------------------------------+----------------------------------+-------------------+----------------+\n",
      "|  1 | DeepSeek-V3                      | Qwen2.5-7B-Instruct-Turbo        |          0.918914 |              1 |\n",
      "+----+----------------------------------+----------------------------------+-------------------+----------------+\n",
      "|  2 | Meta-Llama-3.1-8B-Instruct-Turbo | DeepSeek-V3                      |          0.905615 |              1 |\n",
      "+----+----------------------------------+----------------------------------+-------------------+----------------+\n",
      "|  3 | Meta-Llama-3.1-8B-Instruct-Turbo | Qwen2.5-7B-Instruct-Turbo        |          0.895258 |              1 |\n",
      "+----+----------------------------------+----------------------------------+-------------------+----------------+\n",
      "|  4 | Qwen2.5-7B-Instruct-Turbo        | DeepSeek-V3                      |          0.957681 |              1 |\n",
      "+----+----------------------------------+----------------------------------+-------------------+----------------+\n",
      "|  5 | Qwen2.5-7B-Instruct-Turbo        | Meta-Llama-3.1-8B-Instruct-Turbo |          0.951049 |              1 |\n",
      "+----+----------------------------------+----------------------------------+-------------------+----------------+\n"
     ]
    }
   ],
   "source": [
    "df = pd.DataFrame(recog_results)\n",
    "avg_scores = df.groupby(['evaluator', 'evaluatee'])['detection_score'].mean().reset_index()\n",
    "\n",
    "# Group by evaluator and evaluatee, then compute zapped score for each group\n",
    "zapped_scores = df.groupby(['evaluator', 'evaluatee'])['detection_score'].apply(\n",
    "    lambda x: sum(0.5 if score == 0.5 else 1 if score > 0.5 else 0 for score in x) / len(x)\n",
    ").reset_index(name='zapped_score')\n",
    "\n",
    "# Merge zapped scores with avg_scores\n",
    "avg_scores = avg_scores.merge(zapped_scores, on=['evaluator', 'evaluatee'])\n",
    "\n",
    "# Convert to tabulated format\n",
    "table = tabulate(avg_scores, headers='keys', tablefmt='grid')\n",
    "\n",
    "# Print the table\n",
    "print(table)\n"
   ]
  },
  {
   "cell_type": "code",
   "execution_count": 13,
   "metadata": {},
   "outputs": [
    {
     "name": "stdout",
     "output_type": "stream",
     "text": [
      "+----+----------------------------------+----------------------------------+-------------------+----------------+\n",
      "|    | evaluator                        | evaluatee                        |   self_preference |   zapped_score |\n",
      "+====+==================================+==================================+===================+================+\n",
      "|  0 | DeepSeek-V3                      | Meta-Llama-3.1-8B-Instruct-Turbo |          0.949613 |              1 |\n",
      "+----+----------------------------------+----------------------------------+-------------------+----------------+\n",
      "|  1 | DeepSeek-V3                      | Qwen2.5-7B-Instruct-Turbo        |          0.9666   |              1 |\n",
      "+----+----------------------------------+----------------------------------+-------------------+----------------+\n",
      "|  2 | Meta-Llama-3.1-8B-Instruct-Turbo | DeepSeek-V3                      |          0.926753 |              1 |\n",
      "+----+----------------------------------+----------------------------------+-------------------+----------------+\n",
      "|  3 | Meta-Llama-3.1-8B-Instruct-Turbo | Qwen2.5-7B-Instruct-Turbo        |          0.920749 |              1 |\n",
      "+----+----------------------------------+----------------------------------+-------------------+----------------+\n",
      "|  4 | Qwen2.5-7B-Instruct-Turbo        | DeepSeek-V3                      |          0.971862 |              1 |\n",
      "+----+----------------------------------+----------------------------------+-------------------+----------------+\n",
      "|  5 | Qwen2.5-7B-Instruct-Turbo        | Meta-Llama-3.1-8B-Instruct-Turbo |          0.967811 |              1 |\n",
      "+----+----------------------------------+----------------------------------+-------------------+----------------+\n"
     ]
    }
   ],
   "source": [
    "df = pd.DataFrame(preference_results)\n",
    "avg_scores = df.groupby(['evaluator', 'evaluatee'])['self_preference'].mean().reset_index()\n",
    "\n",
    "# Group by evaluator and evaluatee, then compute zapped score for each group\n",
    "zapped_scores = df.groupby(['evaluator', 'evaluatee'])['self_preference'].apply(\n",
    "    lambda x: sum(0.5 if score == 0.5 else 1 if score > 0.5 else 0 for score in x) / len(x)\n",
    ").reset_index(name='zapped_score')\n",
    "\n",
    "# Merge zapped scores with avg_scores\n",
    "avg_scores = avg_scores.merge(zapped_scores, on=['evaluator', 'evaluatee'])\n",
    "\n",
    "# Convert to tabulated format\n",
    "table = tabulate(avg_scores, headers='keys', tablefmt='grid')\n",
    "\n",
    "# Print the table\n",
    "print(table)\n"
   ]
  }
 ],
 "metadata": {
  "kernelspec": {
   "display_name": "venv",
   "language": "python",
   "name": "python3"
  },
  "language_info": {
   "codemirror_mode": {
    "name": "ipython",
    "version": 3
   },
   "file_extension": ".py",
   "mimetype": "text/x-python",
   "name": "python",
   "nbconvert_exporter": "python",
   "pygments_lexer": "ipython3",
   "version": "3.11.9"
  }
 },
 "nbformat": 4,
 "nbformat_minor": 2
}
